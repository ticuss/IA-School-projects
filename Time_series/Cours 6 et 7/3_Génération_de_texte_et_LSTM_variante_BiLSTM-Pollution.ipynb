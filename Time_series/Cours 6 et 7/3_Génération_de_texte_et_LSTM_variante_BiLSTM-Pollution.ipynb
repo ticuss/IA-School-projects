{
 "cells": [
  {
   "cell_type": "markdown",
   "metadata": {
    "id": "yu5fXz3NJmVp"
   },
   "source": [
    "TIMES series en ML\n",
    "\n",
    "\n",
    "1) Comment entrainer un model de prediction dans le temps == Time series ?\n",
    "\n",
    "    a) Toutes les variables sont elles inconnues au pas de temps suivant ?\n",
    "\n",
    "    b) Comment travailler son dataset pour le mettre en forme\n",
    "\n",
    "2) Quels sont les concepts usuels ?\n",
    "\n",
    "    a) Datastet avec prediction pas à pas\n",
    "    \n",
    "    b) Modele d'interpretation de tendance (ARIMA / SARIMA)\n",
    "    \n",
    "    c) Modele avec mémoire integrée (LSTM / GRU)"
   ]
  },
  {
   "cell_type": "markdown",
   "metadata": {
    "id": "0o-ItsZWJmVt"
   },
   "source": [
    "## Deep Learning et réseau RNN (Recurent Neural Network)\n",
    "\n",
    "L'objectif de cette manipulation est de vous montrer le potentiel du deep learning en NLP et plus particulirerment en NLG (Natural Language Generation)\n",
    "\n",
    "\n",
    "#### Définition\n",
    "Les réseaux de neurones récurrents, sont une classe de réseaux de neurones qui permettent aux prédictions antérieures d'être utilisées comme entrées, par le biais d'états cachés (en anglais hidden states)\n",
    "Un RNN a la particularité d'avoir une memoire sur les bonnes predictions de la sequence de sortie (en fonction de la sequence d'entrée).\n",
    "Les modèles RNN sont surtout utilisés dans les domaines du traitement automatique du langage naturel et de la reconnaissance vocale.\n",
    "\n",
    "\n",
    "![Title](https://www.i2tutorials.com/wp-content/media/2019/09/Neural-network-62-i2tutorials.png)\n",
    "\n",
    "\n",
    "![Title](https://miro.medium.com/max/600/1*pQ2tm6Mirdrf6hqwfYXb0g.gif)\n",
    "\n",
    "#### Variantes aux RNNs traditionnels,\n",
    "Les unités de porte récurrente (en anglais Gated Recurrent Unit) (GRU) et les unités de mémoire à long/court terme (en anglais Long Short-Term Memory units) (LSTM) où le LSTM peut être vu comme étant une généralisation du GRU. Ils apaisent le problème du \"gradient qui disparait\", rencontré par les RNNs traditionnels\n",
    "\n",
    "\n",
    "\n",
    "#### Sequence to Sequence \n",
    "\n",
    "La séquence à séquence (Seq2Seq) consiste à entraîner des modèles pour convertir des séquences d'un domaine (par exemple des phrases en anglais) en séquences d'un autre domaine (par exemple les mêmes phrases traduites en français).\n",
    "\n",
    "Cela peut être utilisé pour la traduction automatique ou pour la réponse aux questions sans réponse (générant une réponse en langage naturel à partir d'une question en langage naturel) - en général, il est applicable chaque fois que vous avez besoin de générer du texte.\n",
    "\n",
    "Il existe plusieurs façons de gérer cette tâche, dont celle utilisant des RNN.\n",
    "\n",
    "\n",
    "\n",
    "Dans le cas général, les séquences d'entrée et les séquences de sortie ont des longueurs différentes (par exemple, traduction automatique) et la séquence d'entrée entière est nécessaire pour commencer à prédire la cible. Cela nécessite une configuration plus avancée, ce à quoi les gens se réfèrent généralement lorsqu'ils mentionnent des «modèles de séquence à séquence» sans autre contexte. Voilà comment cela fonctionne:\n",
    "\n",
    "+ Une couche RNN (ou plusieurs couches) joue le rôle d'\"encodeur\": elle traite la séquence d'entrée et renvoie son propre état interne. Notez que nous rejetons les sorties de l'encodeur RNN, ne **récupérant que l'état**. Cet état servira de \"contexte\", ou \"conditionnement\", du décodeur à l'étape suivante.\n",
    "\n",
    "+ Une autre couche RNN (ou plusieurs couches) fait office de \"décodeur\": elle est entraînée pour prédire les caractères suivants de la séquence cible, étant donné les caractères précédents de la séquence cible. Plus précisément, il est formé pour transformer les séquences cibles en décalées d'un pas de temps dans le futur. Il est important de noter que l'encodeur utilise comme état initial les vecteurs d'état de l'encodeur, ce qui permet au décodeur d'obtenir des informations sur ce qu'il est censé générer. En effet, le décodeur apprend à générer des cibles [t + 1 ...] en fonction de [... t], conditionnées à la séquence d'entrée (hidden state).\n",
    "\n",
    "Nous allons aborder les model de type sequence to sequence et en particulier le Long Short Term Memory (LSTM) tres utilisé egalement en Time series.\n",
    "\n",
    "![ee](https://metalblog.ctif.com/wp-content/uploads/sites/3/2021/09/Les-differents-types-de-reseaux-de-neurones-RNN-LSTM-et-GRU-1024x307.jpg)\n",
    "\n",
    "![Title](https://upload.wikimedia.org/wikipedia/commons/6/63/Long_Short-Term_Memory.svg)"
   ]
  },
  {
   "cell_type": "markdown",
   "metadata": {
    "id": "s14_eLrPJmVu"
   },
   "source": [
    "Reprenons des analyses de pollution, celle de Pekin\n",
    "\n",
    "\"pollution.csv\""
   ]
  },
  {
   "cell_type": "code",
   "execution_count": null,
   "metadata": {},
   "outputs": [],
   "source": [
    "import pandas as pd\n",
    "import numpy as np\n",
    "import matplotlib.pyplot as plt \n",
    "\n",
    "from sklearn.preprocessing import MinMaxScaler, StandardScaler\n",
    "\n",
    "from tensorflow.keras.callbacks import EarlyStopping\n",
    "import warnings\n",
    "warnings.filterwarnings('ignore')\n",
    "\n",
    "from scipy import stats\n",
    "%matplotlib inline\n",
    "\n",
    "import tensorflow as tf\n",
    "from tensorflow import keras\n",
    "from tensorflow.keras import Sequential, layers, callbacks\n",
    "from tensorflow.keras.layers import Dense, LSTM, Dropout, GRU, Bidirectional"
   ]
  },
  {
   "cell_type": "markdown",
   "metadata": {},
   "source": [
    "#### Chargement du fichier"
   ]
  },
  {
   "cell_type": "code",
   "execution_count": 20,
   "metadata": {
    "colab": {
     "base_uri": "https://localhost:8080/",
     "height": 238
    },
    "id": "vq7SBAenJmVw",
    "outputId": "41f8d92e-1dee-465a-d3b7-3fcd3b332f53"
   },
   "outputs": [
    {
     "data": {
      "text/html": [
       "<div>\n",
       "<style scoped>\n",
       "    .dataframe tbody tr th:only-of-type {\n",
       "        vertical-align: middle;\n",
       "    }\n",
       "\n",
       "    .dataframe tbody tr th {\n",
       "        vertical-align: top;\n",
       "    }\n",
       "\n",
       "    .dataframe thead th {\n",
       "        text-align: right;\n",
       "    }\n",
       "</style>\n",
       "<table border=\"1\" class=\"dataframe\">\n",
       "  <thead>\n",
       "    <tr style=\"text-align: right;\">\n",
       "      <th></th>\n",
       "      <th>pollution</th>\n",
       "      <th>dew</th>\n",
       "      <th>temp</th>\n",
       "      <th>press</th>\n",
       "      <th>wnd_dir</th>\n",
       "      <th>wnd_spd</th>\n",
       "      <th>snow</th>\n",
       "      <th>rain</th>\n",
       "    </tr>\n",
       "    <tr>\n",
       "      <th>year_month_day_hour</th>\n",
       "      <th></th>\n",
       "      <th></th>\n",
       "      <th></th>\n",
       "      <th></th>\n",
       "      <th></th>\n",
       "      <th></th>\n",
       "      <th></th>\n",
       "      <th></th>\n",
       "    </tr>\n",
       "  </thead>\n",
       "  <tbody>\n",
       "    <tr>\n",
       "      <th>2010-01-02 00:00:00</th>\n",
       "      <td>129.0</td>\n",
       "      <td>-16</td>\n",
       "      <td>-4.0</td>\n",
       "      <td>1020.0</td>\n",
       "      <td>SE</td>\n",
       "      <td>1.79</td>\n",
       "      <td>0</td>\n",
       "      <td>0</td>\n",
       "    </tr>\n",
       "    <tr>\n",
       "      <th>2010-01-02 01:00:00</th>\n",
       "      <td>148.0</td>\n",
       "      <td>-15</td>\n",
       "      <td>-4.0</td>\n",
       "      <td>1020.0</td>\n",
       "      <td>SE</td>\n",
       "      <td>2.68</td>\n",
       "      <td>0</td>\n",
       "      <td>0</td>\n",
       "    </tr>\n",
       "    <tr>\n",
       "      <th>2010-01-02 02:00:00</th>\n",
       "      <td>159.0</td>\n",
       "      <td>-11</td>\n",
       "      <td>-5.0</td>\n",
       "      <td>1021.0</td>\n",
       "      <td>SE</td>\n",
       "      <td>3.57</td>\n",
       "      <td>0</td>\n",
       "      <td>0</td>\n",
       "    </tr>\n",
       "    <tr>\n",
       "      <th>2010-01-02 03:00:00</th>\n",
       "      <td>181.0</td>\n",
       "      <td>-7</td>\n",
       "      <td>-5.0</td>\n",
       "      <td>1022.0</td>\n",
       "      <td>SE</td>\n",
       "      <td>5.36</td>\n",
       "      <td>1</td>\n",
       "      <td>0</td>\n",
       "    </tr>\n",
       "    <tr>\n",
       "      <th>2010-01-02 04:00:00</th>\n",
       "      <td>138.0</td>\n",
       "      <td>-7</td>\n",
       "      <td>-5.0</td>\n",
       "      <td>1022.0</td>\n",
       "      <td>SE</td>\n",
       "      <td>6.25</td>\n",
       "      <td>2</td>\n",
       "      <td>0</td>\n",
       "    </tr>\n",
       "  </tbody>\n",
       "</table>\n",
       "</div>"
      ],
      "text/plain": [
       "                     pollution  dew  temp   press wnd_dir  wnd_spd  snow  rain\n",
       "year_month_day_hour                                                           \n",
       "2010-01-02 00:00:00      129.0  -16  -4.0  1020.0      SE     1.79     0     0\n",
       "2010-01-02 01:00:00      148.0  -15  -4.0  1020.0      SE     2.68     0     0\n",
       "2010-01-02 02:00:00      159.0  -11  -5.0  1021.0      SE     3.57     0     0\n",
       "2010-01-02 03:00:00      181.0   -7  -5.0  1022.0      SE     5.36     1     0\n",
       "2010-01-02 04:00:00      138.0   -7  -5.0  1022.0      SE     6.25     2     0"
      ]
     },
     "execution_count": 20,
     "metadata": {},
     "output_type": "execute_result"
    }
   ],
   "source": [
    "df=pd.read_csv('Data/pollution.csv',index_col=0,parse_dates=True)\n",
    "df.head()"
   ]
  },
  {
   "cell_type": "markdown",
   "metadata": {},
   "source": [
    "#### Decomposition serie temporelle"
   ]
  },
  {
   "cell_type": "code",
   "execution_count": 21,
   "metadata": {
    "scrolled": true
   },
   "outputs": [
    {
     "data": {
      "image/png": "[encoded data removed]",
      "text/plain": [
       "<Figure size 432x288 with 4 Axes>"
      ]
     },
     "metadata": {
      "needs_background": "light"
     },
     "output_type": "display_data"
    }
   ],
   "source": [
    "from statsmodels.tsa.seasonal import seasonal_decompose\n",
    "import matplotlib.pyplot as plt\n",
    "\n",
    "a=(df.resample('M')['pollution'].mean()).dropna()\n",
    "\n",
    "decomp_x = seasonal_decompose(a,  model='additive')\n",
    "decomp_x.plot()\n",
    "plt.show()"
   ]
  },
  {
   "cell_type": "markdown",
   "metadata": {
    "id": "jX7d74U6JmVx"
   },
   "source": [
    "#### Nettoyage Manipulation\n",
    "\n",
    "Ajoutons les jours de la semaine ainsi que le numero de la semaine dans l'année comme variables explicatives à notre problème"
   ]
  },
  {
   "cell_type": "code",
   "execution_count": 22,
   "metadata": {
    "colab": {
     "base_uri": "https://localhost:8080/"
    },
    "id": "XvF49_hzJmVx",
    "outputId": "4f07efe2-cd28-4ef5-8d4e-0ce06d618957"
   },
   "outputs": [],
   "source": [
    "df['jds']=df.index.weekday\n",
    "df['week']=df.index.week"
   ]
  },
  {
   "cell_type": "code",
   "execution_count": 23,
   "metadata": {
    "colab": {
     "base_uri": "https://localhost:8080/",
     "height": 238
    },
    "id": "KOdmfoKpJmVx",
    "outputId": "b55f7744-7e6e-4635-dc59-450fd36f4d7f"
   },
   "outputs": [
    {
     "data": {
      "text/html": [
       "<div>\n",
       "<style scoped>\n",
       "    .dataframe tbody tr th:only-of-type {\n",
       "        vertical-align: middle;\n",
       "    }\n",
       "\n",
       "    .dataframe tbody tr th {\n",
       "        vertical-align: top;\n",
       "    }\n",
       "\n",
       "    .dataframe thead th {\n",
       "        text-align: right;\n",
       "    }\n",
       "</style>\n",
       "<table border=\"1\" class=\"dataframe\">\n",
       "  <thead>\n",
       "    <tr style=\"text-align: right;\">\n",
       "      <th></th>\n",
       "      <th>pollution</th>\n",
       "      <th>dew</th>\n",
       "      <th>temp</th>\n",
       "      <th>press</th>\n",
       "      <th>wnd_dir</th>\n",
       "      <th>wnd_spd</th>\n",
       "      <th>snow</th>\n",
       "      <th>rain</th>\n",
       "      <th>jds</th>\n",
       "      <th>week</th>\n",
       "    </tr>\n",
       "    <tr>\n",
       "      <th>year_month_day_hour</th>\n",
       "      <th></th>\n",
       "      <th></th>\n",
       "      <th></th>\n",
       "      <th></th>\n",
       "      <th></th>\n",
       "      <th></th>\n",
       "      <th></th>\n",
       "      <th></th>\n",
       "      <th></th>\n",
       "      <th></th>\n",
       "    </tr>\n",
       "  </thead>\n",
       "  <tbody>\n",
       "    <tr>\n",
       "      <th>2010-01-02 00:00:00</th>\n",
       "      <td>129.0</td>\n",
       "      <td>-16</td>\n",
       "      <td>-4.0</td>\n",
       "      <td>1020.0</td>\n",
       "      <td>SE</td>\n",
       "      <td>1.79</td>\n",
       "      <td>0</td>\n",
       "      <td>0</td>\n",
       "      <td>5</td>\n",
       "      <td>53</td>\n",
       "    </tr>\n",
       "    <tr>\n",
       "      <th>2010-01-02 01:00:00</th>\n",
       "      <td>148.0</td>\n",
       "      <td>-15</td>\n",
       "      <td>-4.0</td>\n",
       "      <td>1020.0</td>\n",
       "      <td>SE</td>\n",
       "      <td>2.68</td>\n",
       "      <td>0</td>\n",
       "      <td>0</td>\n",
       "      <td>5</td>\n",
       "      <td>53</td>\n",
       "    </tr>\n",
       "    <tr>\n",
       "      <th>2010-01-02 02:00:00</th>\n",
       "      <td>159.0</td>\n",
       "      <td>-11</td>\n",
       "      <td>-5.0</td>\n",
       "      <td>1021.0</td>\n",
       "      <td>SE</td>\n",
       "      <td>3.57</td>\n",
       "      <td>0</td>\n",
       "      <td>0</td>\n",
       "      <td>5</td>\n",
       "      <td>53</td>\n",
       "    </tr>\n",
       "    <tr>\n",
       "      <th>2010-01-02 03:00:00</th>\n",
       "      <td>181.0</td>\n",
       "      <td>-7</td>\n",
       "      <td>-5.0</td>\n",
       "      <td>1022.0</td>\n",
       "      <td>SE</td>\n",
       "      <td>5.36</td>\n",
       "      <td>1</td>\n",
       "      <td>0</td>\n",
       "      <td>5</td>\n",
       "      <td>53</td>\n",
       "    </tr>\n",
       "    <tr>\n",
       "      <th>2010-01-02 04:00:00</th>\n",
       "      <td>138.0</td>\n",
       "      <td>-7</td>\n",
       "      <td>-5.0</td>\n",
       "      <td>1022.0</td>\n",
       "      <td>SE</td>\n",
       "      <td>6.25</td>\n",
       "      <td>2</td>\n",
       "      <td>0</td>\n",
       "      <td>5</td>\n",
       "      <td>53</td>\n",
       "    </tr>\n",
       "  </tbody>\n",
       "</table>\n",
       "</div>"
      ],
      "text/plain": [
       "                     pollution  dew  temp   press wnd_dir  wnd_spd  snow  \\\n",
       "year_month_day_hour                                                        \n",
       "2010-01-02 00:00:00      129.0  -16  -4.0  1020.0      SE     1.79     0   \n",
       "2010-01-02 01:00:00      148.0  -15  -4.0  1020.0      SE     2.68     0   \n",
       "2010-01-02 02:00:00      159.0  -11  -5.0  1021.0      SE     3.57     0   \n",
       "2010-01-02 03:00:00      181.0   -7  -5.0  1022.0      SE     5.36     1   \n",
       "2010-01-02 04:00:00      138.0   -7  -5.0  1022.0      SE     6.25     2   \n",
       "\n",
       "                     rain  jds  week  \n",
       "year_month_day_hour                   \n",
       "2010-01-02 00:00:00     0    5    53  \n",
       "2010-01-02 01:00:00     0    5    53  \n",
       "2010-01-02 02:00:00     0    5    53  \n",
       "2010-01-02 03:00:00     0    5    53  \n",
       "2010-01-02 04:00:00     0    5    53  "
      ]
     },
     "execution_count": 23,
     "metadata": {},
     "output_type": "execute_result"
    }
   ],
   "source": [
    "df.head()"
   ]
  },
  {
   "cell_type": "markdown",
   "metadata": {
    "id": "U2wjIgknJmVy"
   },
   "source": [
    "Mapping collone pollution'wnd_dir'"
   ]
  },
  {
   "cell_type": "code",
   "execution_count": 24,
   "metadata": {},
   "outputs": [],
   "source": [
    "d=dict(zip(df['wnd_dir'].unique(),range(len(df['wnd_dir'].unique()))))\n",
    "df['wnd_dir']=df['wnd_dir'].map(d)"
   ]
  },
  {
   "cell_type": "markdown",
   "metadata": {},
   "source": [
    "#### Choix de la frequence d'echantillonage\n",
    "\n",
    "ex: \n",
    "\n",
    "Je cherche à predire pour le mois suivant ==> resample('M')\n",
    "\n",
    "Je cherche à predire pour la semaine suivante ==> resample('w')"
   ]
  },
  {
   "cell_type": "code",
   "execution_count": 26,
   "metadata": {},
   "outputs": [],
   "source": [
    "df=df.resample('w').mean().dropna()"
   ]
  },
  {
   "cell_type": "markdown",
   "metadata": {
    "id": "Dd8fhymiJmV0"
   },
   "source": [
    "#### Creation des train test split"
   ]
  },
  {
   "cell_type": "code",
   "execution_count": 27,
   "metadata": {},
   "outputs": [],
   "source": [
    "# Proportion\n",
    "train_size = int(len(df)*0.8)\n",
    "\n",
    "# Repartition\n",
    "train_data = df.iloc[:train_size]\n",
    "test_data = df.iloc[train_size:]"
   ]
  },
  {
   "cell_type": "markdown",
   "metadata": {},
   "source": [
    "#### Normalisation"
   ]
  },
  {
   "cell_type": "code",
   "execution_count": 28,
   "metadata": {
    "scrolled": true
   },
   "outputs": [],
   "source": [
    "scaler = MinMaxScaler().fit(train_data)\n",
    "\n",
    "train_scaled = scaler.transform(train_data)\n",
    "test_scaled = scaler.transform(test_data)\n"
   ]
  },
  {
   "cell_type": "markdown",
   "metadata": {
    "id": "90Y-rkTdJmVy"
   },
   "source": [
    "#### Notion de sequence \n",
    "\n",
    "Construction d'une sequence d'observation \n",
    "\n",
    "Je créé un sequence de 6 observations chronologiques qui devront permettre de prédire la pollution de la 7eme"
   ]
  },
  {
   "cell_type": "code",
   "execution_count": 30,
   "metadata": {},
   "outputs": [
    {
     "name": "stdout",
     "output_type": "stream",
     "text": [
      "X_train.shape:  (206, 3, 10)\n",
      "y_train.shape:  (206, 1)\n",
      "X_test.shape:  (50, 3, 10)\n",
      "y_test.shape:  (50, 1)\n"
     ]
    }
   ],
   "source": [
    "\n",
    "def create_dataset (X, look_back = 1):\n",
    "    #output : X[samples, time steps, features], y[samples, features]\n",
    "    \n",
    "    Xs, ys = [], []\n",
    "    \n",
    "    for i in range(len(X)-look_back):\n",
    "        v = X[i:i+look_back]\n",
    "        Xs.append(v)\n",
    "        ys.append(X[i+look_back,0])\n",
    "        \n",
    "    return np.array(Xs), np.array(ys).reshape(-1,1)\n",
    "\n",
    "X_train, y_train = create_dataset(train_scaled,3)\n",
    "X_test, y_test = create_dataset(test_scaled,3)\n",
    "\n",
    "print('X_train.shape: ', X_train.shape)\n",
    "print('y_train.shape: ', y_train.shape)\n",
    "print('X_test.shape: ', X_test.shape) \n",
    "print('y_test.shape: ', y_test.shape)"
   ]
  },
  {
   "cell_type": "markdown",
   "metadata": {
    "id": "VDj7pFz0JmV5"
   },
   "source": [
    "#### Training "
   ]
  },
  {
   "cell_type": "code",
   "execution_count": 31,
   "metadata": {
    "scrolled": true
   },
   "outputs": [
    {
     "name": "stdout",
     "output_type": "stream",
     "text": [
      "Epoch 1/100\n",
      "13/13 [==============================] - 6s 106ms/step - loss: 0.0883 - val_loss: 0.0463\n",
      "Epoch 2/100\n",
      "13/13 [==============================] - 0s 24ms/step - loss: 0.0338 - val_loss: 0.0347\n",
      "Epoch 3/100\n",
      "13/13 [==============================] - 0s 32ms/step - loss: 0.0304 - val_loss: 0.0317\n",
      "Epoch 4/100\n",
      "13/13 [==============================] - 0s 25ms/step - loss: 0.0244 - val_loss: 0.0300\n",
      "Epoch 5/100\n",
      "13/13 [==============================] - 0s 28ms/step - loss: 0.0292 - val_loss: 0.0292\n",
      "Epoch 6/100\n",
      "13/13 [==============================] - 0s 30ms/step - loss: 0.0288 - val_loss: 0.0288\n",
      "Epoch 7/100\n",
      "13/13 [==============================] - 0s 39ms/step - loss: 0.0302 - val_loss: 0.0295\n",
      "Epoch 8/100\n",
      "13/13 [==============================] - 0s 32ms/step - loss: 0.0245 - val_loss: 0.0304\n",
      "Epoch 9/100\n",
      "13/13 [==============================] - 0s 30ms/step - loss: 0.0321 - val_loss: 0.0294\n",
      "Epoch 10/100\n",
      "13/13 [==============================] - 0s 24ms/step - loss: 0.0239 - val_loss: 0.0290\n"
     ]
    }
   ],
   "source": [
    "\n",
    "\n",
    "# Create BiLSTM model\n",
    "def create_bilstm(units):\n",
    "    model = Sequential()\n",
    "    # Input layer\n",
    "    model.add(Bidirectional(LSTM(units = units, return_sequences=True), \n",
    "                            input_shape=(X_train.shape[1], X_train.shape[2])))\n",
    "    # Hidden layer\n",
    "    model.add(Bidirectional(LSTM(units = units)))\n",
    "    model.add(Dense(1,activation='relu'))\n",
    "    #Compile model\n",
    "    model.compile(optimizer='adam',loss='mse')\n",
    "    return model\n",
    "\n",
    "model_bilstm = create_bilstm(32)\n",
    "\n",
    "def fit_model(model):\n",
    "    early_stop = keras.callbacks.EarlyStopping(monitor = 'val_loss',\n",
    "                                               patience = 4)\n",
    "    history = model.fit(X_train, y_train, epochs = 100, validation_data=(X_test,y_test),\n",
    "                    batch_size = 16, callbacks = [early_stop])\n",
    "    return history\n",
    "\n",
    "history_bilstm = fit_model(model_bilstm)"
   ]
  },
  {
   "cell_type": "markdown",
   "metadata": {
    "id": "h_ykAKMcJmV5"
   },
   "source": [
    "#### Evaluation du modèle\n",
    "Une fois le modèle ajusté, nous pouvons prévoir l'intégralité du jeu de données de test.\n",
    "\n",
    "Nous utiliserons le RMSE."
   ]
  },
  {
   "cell_type": "code",
   "execution_count": 32,
   "metadata": {},
   "outputs": [
    {
     "data": {
      "text/plain": [
       "<matplotlib.legend.Legend at 0x7f96b805e3d0>"
      ]
     },
     "execution_count": 32,
     "metadata": {},
     "output_type": "execute_result"
    },
    {
     "data": {
      "image/png": "[encoded data removed]",
      "text/plain": [
       "<Figure size 432x288 with 1 Axes>"
      ]
     },
     "metadata": {
      "needs_background": "light"
     },
     "output_type": "display_data"
    }
   ],
   "source": [
    "\n",
    "i=0\n",
    "maxi=i+100\n",
    "plt.plot(y_test[i:maxi],label=\"reel\")\n",
    "plt.plot(model_bilstm.predict(X_test)[i:maxi],label=\"prediction\")\n",
    "plt.legend()"
   ]
  },
  {
   "cell_type": "code",
   "execution_count": 33,
   "metadata": {},
   "outputs": [
    {
     "name": "stdout",
     "output_type": "stream",
     "text": [
      "Bidirectiona LSTM:\n",
      "Mean Absolute Error: 32.1724\n",
      "Root Mean Square Error: 41.1491\n",
      "\n"
     ]
    },
    {
     "data": {
      "image/png": "[encoded data removed]",
      "text/plain": [
       "<Figure size 720x432 with 1 Axes>"
      ]
     },
     "metadata": {
      "needs_background": "light"
     },
     "output_type": "display_data"
    }
   ],
   "source": [
    "\n",
    "\n",
    "def plot_loss (history, model_name):\n",
    "    plt.figure(figsize = (10, 6))\n",
    "    plt.plot(history.history['loss'])\n",
    "    plt.plot(history.history['val_loss'])\n",
    "    plt.title('Model Train vs Validation Loss for ' + model_name)\n",
    "    plt.ylabel('Loss')\n",
    "    plt.xlabel('epoch')\n",
    "    plt.legend(['Train loss', 'Validation loss'], loc='upper right')\n",
    "    plt.savefig('loss_'+model_name+'.jpg', format='jpg', dpi=1000)\n",
    "\n",
    "\n",
    "#plot_loss (history_bilstm, 'Bidirectional LSTM')\n",
    "\n",
    "# Denormalisation (retour aux données originelles)\n",
    "a_test=X_test[:,0,:]\n",
    "a_test[:,0]=y_test.reshape(1,-1)\n",
    "\n",
    "a_train=X_train[:,0,:]\n",
    "a_train[:,0]=y_train.reshape(1,-1)\n",
    "\n",
    "y_test = scaler.inverse_transform(a_test)[:,0]\n",
    "y_train = scaler.inverse_transform(a_train)[:,0]\n",
    "\n",
    "# Make prediction\n",
    "def prediction(model):\n",
    "    prediction = model.predict(X_test)\n",
    "    a_pred=X_test[:,0,:]\n",
    "    a_pred[:,0]=prediction.reshape(1,-1)\n",
    "    \n",
    "    prediction = scaler.inverse_transform(a_pred)[:,0]\n",
    "    return prediction\n",
    "\n",
    "\n",
    "prediction_bilstm = prediction(model_bilstm)\n",
    "\n",
    "\n",
    "def plot_future(prediction, model_name, y_test):\n",
    "    \n",
    "    plt.figure(figsize=(10, 6))\n",
    "    \n",
    "    range_future = len(prediction)\n",
    "\n",
    "    plt.plot(np.arange(range_future), np.array(y_test), label='Test data')\n",
    "    plt.plot(np.arange(range_future), np.array(prediction),label='Prediction')\n",
    "\n",
    "    plt.title('Test data vs prediction for ' + model_name)\n",
    "    plt.legend(loc='upper left')\n",
    "    plt.xlabel('Time (heure)')\n",
    "    plt.ylabel('Pollution horraire (Nm3/h)')\n",
    "       \n",
    "\n",
    "plot_future(prediction_bilstm[-1000:], 'Bidirectional LSTM', y_test[-1000:])\n",
    "\n",
    "\n",
    "# Calcule MAE et RMSE\n",
    "def evaluate_prediction(predictions, actual, model_name):\n",
    "    errors = predictions - actual\n",
    "    mse = np.square(errors).mean()\n",
    "    rmse = np.sqrt(mse)\n",
    "    mae = np.abs(errors).mean()\n",
    "\n",
    "    print(model_name + ':')\n",
    "    print('Mean Absolute Error: {:.4f}'.format(mae))\n",
    "    print('Root Mean Square Error: {:.4f}'.format(rmse))\n",
    "    print('')\n",
    "\n",
    "evaluate_prediction(prediction_bilstm, y_test, 'Bidirectiona LSTM')"
   ]
  },
  {
   "cell_type": "code",
   "execution_count": 34,
   "metadata": {},
   "outputs": [
    {
     "data": {
      "text/plain": [
       "41.14907058568761"
      ]
     },
     "execution_count": 34,
     "metadata": {},
     "output_type": "execute_result"
    }
   ],
   "source": [
    "\n",
    "from sklearn.metrics import mean_squared_error\n",
    "\n",
    "rms = mean_squared_error(prediction_bilstm, y_test, squared=False)\n",
    "rms"
   ]
  },
  {
   "cell_type": "markdown",
   "metadata": {},
   "source": [
    "#### Essayons de predire la pollution sur plusieurs pas de temps"
   ]
  },
  {
   "cell_type": "code",
   "execution_count": 35,
   "metadata": {},
   "outputs": [],
   "source": [
    "\n",
    "train_scaled = scaler.transform(train_data)\n",
    "test_scaled = scaler.transform(test_data)\n"
   ]
  },
  {
   "cell_type": "code",
   "execution_count": 36,
   "metadata": {},
   "outputs": [
    {
     "name": "stdout",
     "output_type": "stream",
     "text": [
      "X_train.shape:  (200, 6, 10)\n",
      "y_train.shape:  (200, 3)\n",
      "X_test.shape:  (44, 6, 10)\n",
      "y_test.shape:  (44, 3)\n"
     ]
    }
   ],
   "source": [
    "def create_dataset (X, look_back,steps):\n",
    "    #output : X[samples, time steps, features], y[samples, features]\n",
    "    \n",
    "    Xs, ys = [], []\n",
    "    \n",
    "    for i in range(len(X)-look_back-steps):\n",
    "        v = X[i:i+look_back]\n",
    "        Xs.append(v)\n",
    "        ys.append(X[i+look_back:i+look_back+steps,0])\n",
    "        \n",
    "    return np.array(Xs), np.array(ys)\n",
    "\n",
    "X_train, y_train = create_dataset(train_scaled,6,3)\n",
    "X_test, y_test = create_dataset(test_scaled,6,3)\n",
    "\n",
    "print('X_train.shape: ', X_train.shape)\n",
    "print('y_train.shape: ', y_train.shape)\n",
    "print('X_test.shape: ', X_test.shape) \n",
    "print('y_test.shape: ', y_test.shape)"
   ]
  },
  {
   "cell_type": "code",
   "execution_count": 37,
   "metadata": {
    "scrolled": true
   },
   "outputs": [
    {
     "name": "stdout",
     "output_type": "stream",
     "text": [
      "Epoch 1/100\n",
      "7/7 [==============================] - 6s 267ms/step - loss: 0.0850 - val_loss: 0.0499\n",
      "Epoch 2/100\n",
      "7/7 [==============================] - 1s 117ms/step - loss: 0.0386 - val_loss: 0.0352\n",
      "Epoch 3/100\n",
      "7/7 [==============================] - 0s 73ms/step - loss: 0.0367 - val_loss: 0.0296\n",
      "Epoch 4/100\n",
      "7/7 [==============================] - 1s 87ms/step - loss: 0.0284 - val_loss: 0.0303\n",
      "Epoch 5/100\n",
      "7/7 [==============================] - 2s 300ms/step - loss: 0.0304 - val_loss: 0.0300\n",
      "Epoch 6/100\n",
      "7/7 [==============================] - 1s 190ms/step - loss: 0.0270 - val_loss: 0.0309\n"
     ]
    }
   ],
   "source": [
    "# Create BiLSTM model\n",
    "def create_bilstm(units,out):\n",
    "    model = Sequential()\n",
    "    # Input layer\n",
    "    model.add(Bidirectional(LSTM(units = units, return_sequences=True), \n",
    "                            input_shape=(X_train.shape[1], X_train.shape[2])))\n",
    "    # Hidden layer\n",
    "    model.add(Bidirectional(LSTM(units = units)))\n",
    "    model.add(Dense(out))\n",
    "    #Compile model\n",
    "    model.compile(optimizer='adam',loss='mse')\n",
    "    return model\n",
    "\n",
    "model_bilstm = create_bilstm(96,y_test[0].shape[0])\n",
    "\n",
    "def fit_model(model):\n",
    "    early_stop = keras.callbacks.EarlyStopping(monitor = 'val_loss',\n",
    "                                               patience = 3)\n",
    "    history = model.fit(X_train, y_train, epochs = 100, validation_data=(X_test,y_test),\n",
    "                    batch_size = 32, shuffle = True, callbacks = [early_stop])\n",
    "    return history\n",
    "\n",
    "history_bilstm = fit_model(model_bilstm)"
   ]
  },
  {
   "cell_type": "code",
   "execution_count": 38,
   "metadata": {},
   "outputs": [
    {
     "data": {
      "text/plain": [
       "<matplotlib.legend.Legend at 0x7f96d0026b50>"
      ]
     },
     "execution_count": 38,
     "metadata": {},
     "output_type": "execute_result"
    },
    {
     "data": {
      "image/png": "[encoded data removed]",
      "text/plain": [
       "<Figure size 432x288 with 1 Axes>"
      ]
     },
     "metadata": {
      "needs_background": "light"
     },
     "output_type": "display_data"
    }
   ],
   "source": [
    "i=0\n",
    " \n",
    "predict= model_bilstm.predict(X_test)\n",
    "plt.plot(y_test[i,:],label=\"reel\")\n",
    "plt.plot(predict[i,:],label=\"sequence predite\")\n",
    "plt.legend()"
   ]
  },
  {
   "cell_type": "markdown",
   "metadata": {},
   "source": [
    "#### Refaite cette etude en echantillonnant par jour\n",
    "\n",
    "Vous predirez la pollution moyenne du jour suivant"
   ]
  },
  {
   "cell_type": "code",
   "execution_count": null,
   "metadata": {},
   "outputs": [],
   "source": [
    "df=pd.read_csv('pollution.csv',index_col=0,parse_dates=True)\n",
    "df['week']=df.index.week\n",
    "d=dict(zip(df['wnd_dir'].unique(),range(len(df['wnd_dir'].unique()))))\n",
    "df['wnd_dir']=df['wnd_dir'].map(d)\n",
    "\n",
    "\n",
    "df=df.resample('d').mean().dropna()\n",
    "\n",
    "# Proportion\n",
    "train_size = int(len(df)*0.8)\n",
    "\n",
    "# Repartition\n",
    "train_data = df.iloc[:train_size]\n",
    "test_data = df.iloc[train_size:]\n",
    "\n",
    "# Normalisation\n",
    "scaler = MinMaxScaler().fit(train_data)\n",
    "\n",
    "train_scaled = scaler.transform(train_data)\n",
    "test_scaled = scaler.transform(test_data)\n",
    "\n",
    "#scaler_y=MinMaxScaler().fit(y_train.values.reshape(-1, 1))\n",
    "#y_train=scaler_y.transform(y_train.values.reshape(-1, 1))\n",
    "#y_test=scaler_y.transform(y_test.values.reshape(-1, 1))\n",
    "\n",
    "\n",
    "def create_dataset (X, look_back = 1):\n",
    "    #output : X[samples, time steps, features], y[samples, features]\n",
    "    \n",
    "    Xs, ys = [], []\n",
    "    \n",
    "    for i in range(len(X)-look_back):\n",
    "        v = X[i:i+look_back]\n",
    "        Xs.append(v)\n",
    "        ys.append(X[i+look_back,0])\n",
    "        \n",
    "    return np.array(Xs), np.array(ys).reshape(-1,1)\n",
    "\n",
    "X_train, y_train = create_dataset(train_scaled,100)\n",
    "X_test, y_test = create_dataset(test_scaled,100)\n",
    "\n",
    "print('X_train.shape: ', X_train.shape)\n",
    "print('y_train.shape: ', y_train.shape)\n",
    "print('X_test.shape: ', X_test.shape) \n",
    "print('y_test.shape: ', y_test.shape)"
   ]
  },
  {
   "cell_type": "code",
   "execution_count": null,
   "metadata": {
    "scrolled": true
   },
   "outputs": [],
   "source": [
    "\n",
    "\n",
    "# Create BiLSTM model\n",
    "def create_bilstm(units):\n",
    "    model = Sequential()\n",
    "    # Input layer\n",
    "    model.add(Bidirectional(LSTM(units = units, return_sequences=True), \n",
    "                            input_shape=(X_train.shape[1], X_train.shape[2])))\n",
    "    # Hidden layer\n",
    "    model.add(Bidirectional(LSTM(units = units)))\n",
    "    model.add(Dense(1))\n",
    "    #Compile model\n",
    "    model.compile(optimizer='adam',loss='mse')\n",
    "    return model\n",
    "\n",
    "model_bilstm = create_bilstm(32)\n",
    "\n",
    "def fit_model(model):\n",
    "    early_stop = keras.callbacks.EarlyStopping(monitor = 'val_loss',\n",
    "                                               patience = 5)\n",
    "    history = model.fit(X_train, y_train, epochs = 100, validation_data=(X_test,y_test),\n",
    "                    batch_size = 16, shuffle = True, callbacks = [early_stop])\n",
    "    return history\n",
    "\n",
    "history_bilstm = fit_model(model_bilstm)"
   ]
  },
  {
   "cell_type": "code",
   "execution_count": null,
   "metadata": {},
   "outputs": [],
   "source": [
    "\n",
    "def plot_loss (history, model_name):\n",
    "    plt.figure(figsize = (10, 6))\n",
    "    plt.plot(history.history['loss'])\n",
    "    plt.plot(history.history['val_loss'])\n",
    "    plt.title('Model Train vs Validation Loss for ' + model_name)\n",
    "    plt.ylabel('Loss')\n",
    "    plt.xlabel('epoch')\n",
    "    plt.legend(['Train loss', 'Validation loss'], loc='upper right')\n",
    "    plt.savefig('loss_'+model_name+'.jpg', format='jpg', dpi=1000)\n",
    "\n",
    "\n",
    "#plot_loss (history_bilstm, 'Bidirectional LSTM')\n",
    "\n",
    "# Denormalisation (retour aux données originelles)\n",
    "a_test=X_test[:,0,:]\n",
    "a_test[:,0]=y_test.reshape(1,-1)\n",
    "\n",
    "a_train=X_train[:,0,:]\n",
    "a_train[:,0]=y_train.reshape(1,-1)\n",
    "\n",
    "y_test = scaler.inverse_transform(a_test)[:,0]\n",
    "y_train = scaler.inverse_transform(a_train)[:,0]\n",
    "\n",
    "# Make prediction\n",
    "def prediction(model):\n",
    "    prediction = model.predict(X_test)\n",
    "    a_pred=X_test[:,0,:]\n",
    "    a_pred[:,0]=prediction.reshape(1,-1)\n",
    "    \n",
    "    prediction = scaler.inverse_transform(a_pred)[:,0]\n",
    "    return prediction\n",
    "\n",
    "\n",
    "prediction_bilstm = prediction(model_bilstm)\n",
    "\n",
    "\n",
    "def plot_future(prediction, model_name, y_test):\n",
    "    \n",
    "    plt.figure(figsize=(10, 6))\n",
    "    \n",
    "    range_future = len(prediction)\n",
    "\n",
    "    plt.plot(np.arange(range_future), np.array(y_test), label='Test data')\n",
    "    plt.plot(np.arange(range_future), np.array(prediction),label='Prediction')\n",
    "\n",
    "    plt.title('Test data vs prediction for ' + model_name)\n",
    "    plt.legend(loc='upper left')\n",
    "    plt.xlabel('Time (semaine)')\n",
    "    plt.ylabel('Pollution moyenne (Nm3/h)')\n",
    "       \n",
    "\n",
    "plot_future(prediction_bilstm[:500], 'Bidirectional LSTM', y_test[:500])\n",
    "\n",
    "\n",
    "# Calcule MAE et RMSE\n",
    "def evaluate_prediction(predictions, actual, model_name):\n",
    "    errors = predictions - actual\n",
    "    mse = np.square(errors).mean()\n",
    "    rmse = np.sqrt(mse)\n",
    "    mae = np.abs(errors).mean()\n",
    "\n",
    "    print(model_name + ':')\n",
    "    print('Mean Absolute Error: {:.4f}'.format(mae))\n",
    "    print('Root Mean Square Error: {:.4f}'.format(rmse))\n",
    "    print('')\n",
    "\n",
    "evaluate_prediction(prediction_bilstm, y_test, 'Bidirectiona LSTM')"
   ]
  },
  {
   "cell_type": "markdown",
   "metadata": {},
   "source": [
    "#### Refaite cette etude en echantillonnant par semaine (puis par mois)\n",
    "\n",
    "Vous predirez la pollution moyenne de la semaine suivante et comparer vos resultats avec ceux du modele ARIMA"
   ]
  },
  {
   "cell_type": "code",
   "execution_count": null,
   "metadata": {},
   "outputs": [],
   "source": [
    "df=pd.read_csv('pollution.csv',index_col=0,parse_dates=True)\n",
    "df['week']=df.index.week\n",
    "d=dict(zip(df['wnd_dir'].unique(),range(len(df['wnd_dir'].unique()))))\n",
    "df['wnd_dir']=df['wnd_dir'].map(d)\n",
    "\n",
    "\n",
    "df=df.resample('M').mean().dropna()\n",
    "\n",
    "# Proportion\n",
    "train_size = int(len(df)*0.7)\n",
    "\n",
    "# Repartition\n",
    "train_data = df.iloc[:train_size]\n",
    "test_data = df.iloc[train_size:]\n",
    "\n",
    "# Normalisation\n",
    "scaler = MinMaxScaler().fit(train_data)\n",
    "\n",
    "train_scaled = scaler.transform(train_data)\n",
    "test_scaled = scaler.transform(test_data)\n",
    "\n",
    "#scaler_y=MinMaxScaler().fit(y_train.values.reshape(-1, 1))\n",
    "#y_train=scaler_y.transform(y_train.values.reshape(-1, 1))\n",
    "#y_test=scaler_y.transform(y_test.values.reshape(-1, 1))\n",
    "\n",
    "\n",
    "def create_dataset (X, look_back = 1):\n",
    "    #output : X[samples, time steps, features], y[samples, features]\n",
    "    \n",
    "    Xs, ys = [], []\n",
    "    \n",
    "    for i in range(len(X)-look_back):\n",
    "        v = X[i:i+look_back]\n",
    "        Xs.append(v)\n",
    "        ys.append(X[i+look_back,0])\n",
    "        \n",
    "    return np.array(Xs), np.array(ys).reshape(-1,1)\n",
    "\n",
    "X_train, y_train = create_dataset(train_scaled,12)\n",
    "X_test, y_test = create_dataset(test_scaled,12)\n",
    "\n",
    "print('X_train.shape: ', X_train.shape)\n",
    "print('y_train.shape: ', y_train.shape)\n",
    "print('X_test.shape: ', X_test.shape) \n",
    "print('y_test.shape: ', y_test.shape)"
   ]
  },
  {
   "cell_type": "code",
   "execution_count": null,
   "metadata": {
    "scrolled": true
   },
   "outputs": [],
   "source": [
    "\n",
    "# Create BiLSTM model\n",
    "def create_bilstm(units):\n",
    "    model = Sequential()\n",
    "    # Input layer\n",
    "    model.add(Bidirectional(LSTM(units = units, return_sequences=True), \n",
    "                            input_shape=(X_train.shape[1], X_train.shape[2])))\n",
    "    # Hidden layer\n",
    "    model.add(Bidirectional(LSTM(units = units)))\n",
    "    model.add(Dense(1))\n",
    "    #Compile model\n",
    "    model.compile(optimizer='adam',loss='mse')\n",
    "    return model\n",
    "\n",
    "model_bilstm = create_bilstm(32)\n",
    "\n",
    "def fit_model(model):\n",
    "    early_stop = keras.callbacks.EarlyStopping(monitor = 'val_loss',\n",
    "                                               patience = 10)\n",
    "    history = model.fit(X_train, y_train, epochs = 100, validation_data=(X_test,y_test),\n",
    "                    batch_size = 16, shuffle = True, callbacks = [early_stop])\n",
    "    return history\n",
    "\n",
    "history_bilstm = fit_model(model_bilstm)"
   ]
  },
  {
   "cell_type": "code",
   "execution_count": null,
   "metadata": {},
   "outputs": [],
   "source": [
    "\n",
    "i=0\n",
    "maxi=i+20\n",
    "plt.plot(y_test[i:maxi],label=\"reel\")\n",
    "plt.plot(model_bilstm.predict(X_test)[i:maxi],label=\"prediction\")\n",
    "plt.legend()"
   ]
  },
  {
   "cell_type": "code",
   "execution_count": null,
   "metadata": {},
   "outputs": [],
   "source": [
    "def plot_loss (history, model_name):\n",
    "    plt.figure(figsize = (10, 6))\n",
    "    plt.plot(history.history['loss'])\n",
    "    plt.plot(history.history['val_loss'])\n",
    "    plt.title('Model Train vs Validation Loss for ' + model_name)\n",
    "    plt.ylabel('Loss')\n",
    "    plt.xlabel('epoch')\n",
    "    plt.legend(['Train loss', 'Validation loss'], loc='upper right')\n",
    "    plt.savefig('loss_'+model_name+'.jpg', format='jpg', dpi=1000)\n",
    "\n",
    "\n",
    "#plot_loss (history_bilstm, 'Bidirectional LSTM')\n",
    "\n",
    "# Denormalisation (retour aux données originelles)\n",
    "a_test=X_test[:,0,:]\n",
    "a_test[:,0]=y_test.reshape(1,-1)\n",
    "\n",
    "a_train=X_train[:,0,:]\n",
    "a_train[:,0]=y_train.reshape(1,-1)\n",
    "\n",
    "y_test = scaler.inverse_transform(a_test)[:,0]\n",
    "y_train = scaler.inverse_transform(a_train)[:,0]\n",
    "\n",
    "# Make prediction\n",
    "def prediction(model):\n",
    "    prediction = model.predict(X_test)\n",
    "    a_pred=X_test[:,0,:]\n",
    "    a_pred[:,0]=prediction.reshape(1,-1)\n",
    "    \n",
    "    prediction = scaler.inverse_transform(a_pred)[:,0]\n",
    "    return prediction\n",
    "\n",
    "\n",
    "prediction_bilstm = prediction(model_bilstm)\n",
    "\n",
    "\n",
    "def plot_future(prediction, model_name, y_test):\n",
    "    \n",
    "    plt.figure(figsize=(10, 6))\n",
    "    \n",
    "    range_future = len(prediction)\n",
    "\n",
    "    plt.plot(np.arange(range_future), np.array(y_test), label='Test data')\n",
    "    plt.plot(np.arange(range_future), np.array(prediction),label='Prediction')\n",
    "\n",
    "    plt.title('Test data vs prediction for ' + model_name)\n",
    "    plt.legend(loc='upper left')\n",
    "    plt.xlabel('Time (heure)')\n",
    "    plt.ylabel('Pollution horraire (Nm3/h)')\n",
    "       \n",
    "\n",
    "plot_future(prediction_bilstm[-1000:], 'Bidirectional LSTM', y_test[-1000:])\n",
    "\n",
    "\n",
    "# Calcule MAE et RMSE\n",
    "def evaluate_prediction(predictions, actual, model_name):\n",
    "    errors = predictions - actual\n",
    "    mse = np.square(errors).mean()\n",
    "    rmse = np.sqrt(mse)\n",
    "    mae = np.abs(errors).mean()\n",
    "\n",
    "    print(model_name + ':')\n",
    "    print('Mean Absolute Error: {:.4f}'.format(mae))\n",
    "    print('Root Mean Square Error: {:.4f}'.format(rmse))\n",
    "    print('')\n",
    "\n",
    "evaluate_prediction(prediction_bilstm, y_test, 'Bidirectiona LSTM')"
   ]
  },
  {
   "cell_type": "markdown",
   "metadata": {
    "id": "gVKZJMBkJmV6"
   },
   "source": [
    "#### Amélioration / Analyse :\n",
    "\n",
    "- Introduisez des variables calendaires (jour de la semaine, numero de la semaine, ...)\n",
    "\n",
    "\n",
    "- Essayer de predire la journée suivante (j+1), puis j+2 et enfin j+3\n",
    "    - Extraire les rmse pour ces predictions \n",
    "    - Quelles conclusions ?\n",
    "\n",
    "- Vous pouvez travailler sur des resaux différents (toujours en LSTM)\n",
    "\n",
    "- Et les hypers parametres ?\n"
   ]
  },
  {
   "cell_type": "code",
   "execution_count": null,
   "metadata": {
    "id": "L_QDZ-NhJmWA"
   },
   "outputs": [],
   "source": []
  }
 ],
 "metadata": {
  "colab": {
   "collapsed_sections": [
    "gVKZJMBkJmV6",
    "5GlqQ0pjJmV7",
    "Wnie4d7wJmV7",
    "ozMz6hU3JmV8",
    "gglqEuQtJmV8",
    "dcUtwBSdJmV9",
    "Rwoqq_NnJmV9",
    "JSIzgk34JmV-",
    "mQqeaKU-JmV-",
    "io-e28ZMJmV_",
    "ZYylTpM5JmV_",
    "jUhS2s07JmWA"
   ],
   "name": "3-Génération de texte et LSTM_variante_BiLSTM.ipynb",
   "provenance": []
  },
  "kernelspec": {
   "display_name": "Python 3 (ipykernel)",
   "language": "python",
   "name": "python3"
  },
  "language_info": {
   "codemirror_mode": {
    "name": "ipython",
    "version": 3
   },
   "file_extension": ".py",
   "mimetype": "text/x-python",
   "name": "python",
   "nbconvert_exporter": "python",
   "pygments_lexer": "ipython3",
   "version": "3.9.7"
  }
 },
 "nbformat": 4,
 "nbformat_minor": 1
}
