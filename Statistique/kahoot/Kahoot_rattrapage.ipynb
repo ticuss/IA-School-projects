{
  "cells": [
    {
      "cell_type": "markdown",
      "metadata": {
        "id": "0z7FPXYzbycQ"
      },
      "source": [
        "#### Config"
      ]
    },
    {
      "cell_type": "code",
      "execution_count": 1,
      "metadata": {
        "id": "XGze_WEJbycR"
      },
      "outputs": [],
      "source": [
        "# Définition du nom d fichier\n",
        "filename <- \"nat2020.csv\" \n",
        "# Chargement du fichier\n",
        "dataset <- read.csv(filename, header=TRUE) \n"
      ]
    },
    {
      "cell_type": "code",
      "execution_count": 2,
      "metadata": {
        "colab": {
          "base_uri": "https://localhost:8080/",
          "height": 255
        },
        "id": "vXxsoreIMRmJ",
        "outputId": "ecbec820-f41e-49da-d1eb-e620e28f8ca3"
      },
      "outputs": [
        {
          "data": {
            "text/html": [
              "<table class=\"dataframe\">\n",
              "<caption>A data.frame: 5 × 4</caption>\n",
              "<thead>\n",
              "\t<tr><th></th><th scope=col>sexe</th><th scope=col>preusuel</th><th scope=col>annais</th><th scope=col>nombre</th></tr>\n",
              "\t<tr><th></th><th scope=col>&lt;int&gt;</th><th scope=col>&lt;chr&gt;</th><th scope=col>&lt;chr&gt;</th><th scope=col>&lt;int&gt;</th></tr>\n",
              "</thead>\n",
              "<tbody>\n",
              "\t<tr><th scope=row>1</th><td>1</td><td>_PRENOMS_RARES</td><td>1900</td><td>1250</td></tr>\n",
              "\t<tr><th scope=row>2</th><td>1</td><td>_PRENOMS_RARES</td><td>1901</td><td>1342</td></tr>\n",
              "\t<tr><th scope=row>3</th><td>1</td><td>_PRENOMS_RARES</td><td>1902</td><td>1330</td></tr>\n",
              "\t<tr><th scope=row>4</th><td>1</td><td>_PRENOMS_RARES</td><td>1903</td><td>1286</td></tr>\n",
              "\t<tr><th scope=row>5</th><td>1</td><td>_PRENOMS_RARES</td><td>1904</td><td>1430</td></tr>\n",
              "</tbody>\n",
              "</table>\n"
            ],
            "text/latex": [
              "A data.frame: 5 × 4\n",
              "\\begin{tabular}{r|llll}\n",
              "  & sexe & preusuel & annais & nombre\\\\\n",
              "  & <int> & <chr> & <chr> & <int>\\\\\n",
              "\\hline\n",
              "\t1 & 1 & \\_PRENOMS\\_RARES & 1900 & 1250\\\\\n",
              "\t2 & 1 & \\_PRENOMS\\_RARES & 1901 & 1342\\\\\n",
              "\t3 & 1 & \\_PRENOMS\\_RARES & 1902 & 1330\\\\\n",
              "\t4 & 1 & \\_PRENOMS\\_RARES & 1903 & 1286\\\\\n",
              "\t5 & 1 & \\_PRENOMS\\_RARES & 1904 & 1430\\\\\n",
              "\\end{tabular}\n"
            ],
            "text/markdown": [
              "\n",
              "A data.frame: 5 × 4\n",
              "\n",
              "| <!--/--> | sexe &lt;int&gt; | preusuel &lt;chr&gt; | annais &lt;chr&gt; | nombre &lt;int&gt; |\n",
              "|---|---|---|---|---|\n",
              "| 1 | 1 | _PRENOMS_RARES | 1900 | 1250 |\n",
              "| 2 | 1 | _PRENOMS_RARES | 1901 | 1342 |\n",
              "| 3 | 1 | _PRENOMS_RARES | 1902 | 1330 |\n",
              "| 4 | 1 | _PRENOMS_RARES | 1903 | 1286 |\n",
              "| 5 | 1 | _PRENOMS_RARES | 1904 | 1430 |\n",
              "\n"
            ],
            "text/plain": [
              "  sexe preusuel       annais nombre\n",
              "1 1    _PRENOMS_RARES 1900   1250  \n",
              "2 1    _PRENOMS_RARES 1901   1342  \n",
              "3 1    _PRENOMS_RARES 1902   1330  \n",
              "4 1    _PRENOMS_RARES 1903   1286  \n",
              "5 1    _PRENOMS_RARES 1904   1430  "
            ]
          },
          "metadata": {},
          "output_type": "display_data"
        }
      ],
      "source": [
        "data <- read.csv(\"nat2020.csv\", sep = \";\", stringsAsFactors = FALSE)\n",
        "head(data,5)"
      ]
    },
    {
      "cell_type": "code",
      "execution_count": 3,
      "metadata": {
        "colab": {
          "base_uri": "https://localhost:8080/",
          "height": 286
        },
        "id": "AnFjYkHHVofM",
        "outputId": "3427c09d-db4e-48af-d33d-361a2038caeb"
      },
      "outputs": [
        {
          "data": {
            "text/html": [
              "<table class=\"dataframe\">\n",
              "<caption>A data.frame: 6 × 4</caption>\n",
              "<thead>\n",
              "\t<tr><th></th><th scope=col>genre</th><th scope=col>prénom</th><th scope=col>année</th><th scope=col>naissance</th></tr>\n",
              "\t<tr><th></th><th scope=col>&lt;int&gt;</th><th scope=col>&lt;chr&gt;</th><th scope=col>&lt;chr&gt;</th><th scope=col>&lt;int&gt;</th></tr>\n",
              "</thead>\n",
              "<tbody>\n",
              "\t<tr><th scope=row>1</th><td>1</td><td>_PRENOMS_RARES</td><td>1900</td><td>1250</td></tr>\n",
              "\t<tr><th scope=row>2</th><td>1</td><td>_PRENOMS_RARES</td><td>1901</td><td>1342</td></tr>\n",
              "\t<tr><th scope=row>3</th><td>1</td><td>_PRENOMS_RARES</td><td>1902</td><td>1330</td></tr>\n",
              "\t<tr><th scope=row>4</th><td>1</td><td>_PRENOMS_RARES</td><td>1903</td><td>1286</td></tr>\n",
              "\t<tr><th scope=row>5</th><td>1</td><td>_PRENOMS_RARES</td><td>1904</td><td>1430</td></tr>\n",
              "\t<tr><th scope=row>6</th><td>1</td><td>_PRENOMS_RARES</td><td>1905</td><td>1472</td></tr>\n",
              "</tbody>\n",
              "</table>\n"
            ],
            "text/latex": [
              "A data.frame: 6 × 4\n",
              "\\begin{tabular}{r|llll}\n",
              "  & genre & prénom & année & naissance\\\\\n",
              "  & <int> & <chr> & <chr> & <int>\\\\\n",
              "\\hline\n",
              "\t1 & 1 & \\_PRENOMS\\_RARES & 1900 & 1250\\\\\n",
              "\t2 & 1 & \\_PRENOMS\\_RARES & 1901 & 1342\\\\\n",
              "\t3 & 1 & \\_PRENOMS\\_RARES & 1902 & 1330\\\\\n",
              "\t4 & 1 & \\_PRENOMS\\_RARES & 1903 & 1286\\\\\n",
              "\t5 & 1 & \\_PRENOMS\\_RARES & 1904 & 1430\\\\\n",
              "\t6 & 1 & \\_PRENOMS\\_RARES & 1905 & 1472\\\\\n",
              "\\end{tabular}\n"
            ],
            "text/markdown": [
              "\n",
              "A data.frame: 6 × 4\n",
              "\n",
              "| <!--/--> | genre &lt;int&gt; | prénom &lt;chr&gt; | année &lt;chr&gt; | naissance &lt;int&gt; |\n",
              "|---|---|---|---|---|\n",
              "| 1 | 1 | _PRENOMS_RARES | 1900 | 1250 |\n",
              "| 2 | 1 | _PRENOMS_RARES | 1901 | 1342 |\n",
              "| 3 | 1 | _PRENOMS_RARES | 1902 | 1330 |\n",
              "| 4 | 1 | _PRENOMS_RARES | 1903 | 1286 |\n",
              "| 5 | 1 | _PRENOMS_RARES | 1904 | 1430 |\n",
              "| 6 | 1 | _PRENOMS_RARES | 1905 | 1472 |\n",
              "\n"
            ],
            "text/plain": [
              "  genre prénom         année naissance\n",
              "1 1     _PRENOMS_RARES 1900  1250     \n",
              "2 1     _PRENOMS_RARES 1901  1342     \n",
              "3 1     _PRENOMS_RARES 1902  1330     \n",
              "4 1     _PRENOMS_RARES 1903  1286     \n",
              "5 1     _PRENOMS_RARES 1904  1430     \n",
              "6 1     _PRENOMS_RARES 1905  1472     "
            ]
          },
          "metadata": {},
          "output_type": "display_data"
        }
      ],
      "source": [
        "#### Changement du nom des colonnes\n",
        "names(data) <- c(\"genre\", \"prénom\",\"année\",\"naissance\")\n",
        "# Affichage des 5 premières lignes\n",
        "head(data)"
      ]
    },
    {
      "cell_type": "code",
      "execution_count": 4,
      "metadata": {
        "colab": {
          "base_uri": "https://localhost:8080/",
          "height": 286
        },
        "id": "vox-j5b4eFfy",
        "outputId": "3460372a-b9c8-4a6e-e11d-59810df20930"
      },
      "outputs": [
        {
          "data": {
            "text/html": [
              "<table class=\"dataframe\">\n",
              "<caption>A data.frame: 6 × 4</caption>\n",
              "<thead>\n",
              "\t<tr><th></th><th scope=col>genre</th><th scope=col>prénom</th><th scope=col>année</th><th scope=col>naissance</th></tr>\n",
              "\t<tr><th></th><th scope=col>&lt;int&gt;</th><th scope=col>&lt;chr&gt;</th><th scope=col>&lt;chr&gt;</th><th scope=col>&lt;int&gt;</th></tr>\n",
              "</thead>\n",
              "<tbody>\n",
              "\t<tr><th scope=row>667359</th><td>2</td><td>ZYNEB</td><td>2016</td><td> 6</td></tr>\n",
              "\t<tr><th scope=row>667360</th><td>2</td><td>ZYNEB</td><td>2017</td><td> 6</td></tr>\n",
              "\t<tr><th scope=row>667361</th><td>2</td><td>ZYNEB</td><td>2018</td><td> 5</td></tr>\n",
              "\t<tr><th scope=row>667362</th><td>2</td><td>ZYNEB</td><td>2019</td><td> 7</td></tr>\n",
              "\t<tr><th scope=row>667363</th><td>2</td><td>ZYNEB</td><td>2020</td><td> 8</td></tr>\n",
              "\t<tr><th scope=row>667364</th><td>2</td><td>ZYNEB</td><td>XXXX</td><td>19</td></tr>\n",
              "</tbody>\n",
              "</table>\n"
            ],
            "text/latex": [
              "A data.frame: 6 × 4\n",
              "\\begin{tabular}{r|llll}\n",
              "  & genre & prénom & année & naissance\\\\\n",
              "  & <int> & <chr> & <chr> & <int>\\\\\n",
              "\\hline\n",
              "\t667359 & 2 & ZYNEB & 2016 &  6\\\\\n",
              "\t667360 & 2 & ZYNEB & 2017 &  6\\\\\n",
              "\t667361 & 2 & ZYNEB & 2018 &  5\\\\\n",
              "\t667362 & 2 & ZYNEB & 2019 &  7\\\\\n",
              "\t667363 & 2 & ZYNEB & 2020 &  8\\\\\n",
              "\t667364 & 2 & ZYNEB & XXXX & 19\\\\\n",
              "\\end{tabular}\n"
            ],
            "text/markdown": [
              "\n",
              "A data.frame: 6 × 4\n",
              "\n",
              "| <!--/--> | genre &lt;int&gt; | prénom &lt;chr&gt; | année &lt;chr&gt; | naissance &lt;int&gt; |\n",
              "|---|---|---|---|---|\n",
              "| 667359 | 2 | ZYNEB | 2016 |  6 |\n",
              "| 667360 | 2 | ZYNEB | 2017 |  6 |\n",
              "| 667361 | 2 | ZYNEB | 2018 |  5 |\n",
              "| 667362 | 2 | ZYNEB | 2019 |  7 |\n",
              "| 667363 | 2 | ZYNEB | 2020 |  8 |\n",
              "| 667364 | 2 | ZYNEB | XXXX | 19 |\n",
              "\n"
            ],
            "text/plain": [
              "       genre prénom année naissance\n",
              "667359 2     ZYNEB  2016   6       \n",
              "667360 2     ZYNEB  2017   6       \n",
              "667361 2     ZYNEB  2018   5       \n",
              "667362 2     ZYNEB  2019   7       \n",
              "667363 2     ZYNEB  2020   8       \n",
              "667364 2     ZYNEB  XXXX  19       "
            ]
          },
          "metadata": {},
          "output_type": "display_data"
        }
      ],
      "source": [
        "tail(data)"
      ]
    },
    {
      "cell_type": "code",
      "execution_count": 5,
      "metadata": {
        "colab": {
          "base_uri": "https://localhost:8080/"
        },
        "id": "vRLStpUKbycS",
        "outputId": "755eee15-eb4e-41c2-a95f-2711cb4a4beb"
      },
      "outputs": [
        {
          "name": "stderr",
          "output_type": "stream",
          "text": [
            "\n",
            "Attachement du package : ‘dplyr’\n",
            "\n",
            "\n",
            "Les objets suivants sont masqués depuis ‘package:stats’:\n",
            "\n",
            "    filter, lag\n",
            "\n",
            "\n",
            "Les objets suivants sont masqués depuis ‘package:base’:\n",
            "\n",
            "    intersect, setdiff, setequal, union\n",
            "\n",
            "\n"
          ]
        }
      ],
      "source": [
        "library(\"dplyr\")"
      ]
    },
    {
      "cell_type": "markdown",
      "metadata": {
        "id": "XdgvNwyrXOkw"
      },
      "source": [
        "- Type de données"
      ]
    },
    {
      "cell_type": "code",
      "execution_count": 6,
      "metadata": {
        "colab": {
          "base_uri": "https://localhost:8080/",
          "height": 34
        },
        "id": "gPAlqTyvSmv8",
        "outputId": "5bc78ecc-bb94-4d6d-b543-c7c55cd21d39"
      },
      "outputs": [
        {
          "data": {
            "text/html": [
              "<style>\n",
              ".dl-inline {width: auto; margin:0; padding: 0}\n",
              ".dl-inline>dt, .dl-inline>dd {float: none; width: auto; display: inline-block}\n",
              ".dl-inline>dt::after {content: \":\\0020\"; padding-right: .5ex}\n",
              ".dl-inline>dt:not(:first-of-type) {padding-left: .5ex}\n",
              "</style><dl class=dl-inline><dt>genre</dt><dd>'integer'</dd><dt>prénom</dt><dd>'character'</dd><dt>année</dt><dd>'character'</dd><dt>naissance</dt><dd>'integer'</dd></dl>\n"
            ],
            "text/latex": [
              "\\begin{description*}\n",
              "\\item[genre] 'integer'\n",
              "\\item[prénom] 'character'\n",
              "\\item[année] 'character'\n",
              "\\item[naissance] 'integer'\n",
              "\\end{description*}\n"
            ],
            "text/markdown": [
              "genre\n",
              ":   'integer'prénom\n",
              ":   'character'année\n",
              ":   'character'naissance\n",
              ":   'integer'\n",
              "\n"
            ],
            "text/plain": [
              "      genre      prénom       année   naissance \n",
              "  \"integer\" \"character\" \"character\"   \"integer\" "
            ]
          },
          "metadata": {},
          "output_type": "display_data"
        }
      ],
      "source": [
        "sapply(data, class) #### Type de chaque variable"
      ]
    },
    {
      "cell_type": "markdown",
      "metadata": {
        "id": "u_wevvWXXTXq"
      },
      "source": [
        "- Modification du genre en H et F"
      ]
    },
    {
      "cell_type": "code",
      "execution_count": 21,
      "metadata": {
        "id": "JhnseKmkXfb9"
      },
      "outputs": [],
      "source": [
        "data$genre[data$genre ==1] <- \"H\" #### Tranformation des 1 en H"
      ]
    },
    {
      "cell_type": "code",
      "execution_count": 22,
      "metadata": {
        "id": "hTg7embZXswJ"
      },
      "outputs": [],
      "source": [
        "data$genre[data$genre ==2] <- \"F\" #### Tranformation des 2 en F"
      ]
    },
    {
      "cell_type": "code",
      "execution_count": 9,
      "metadata": {
        "colab": {
          "base_uri": "https://localhost:8080/",
          "height": 34
        },
        "id": "Pbx0brlDX2wl",
        "outputId": "57acb33e-12f2-450d-f509-08a8287dc870"
      },
      "outputs": [
        {
          "data": {
            "text/html": [
              "<style>\n",
              ".list-inline {list-style: none; margin:0; padding: 0}\n",
              ".list-inline>li {display: inline-block}\n",
              ".list-inline>li:not(:last-child)::after {content: \"\\00b7\"; padding: 0 .5ex}\n",
              "</style>\n",
              "<ol class=list-inline><li>'H'</li><li>'H'</li><li>'H'</li><li>'H'</li><li>'H'</li><li>'H'</li></ol>\n"
            ],
            "text/latex": [
              "\\begin{enumerate*}\n",
              "\\item 'H'\n",
              "\\item 'H'\n",
              "\\item 'H'\n",
              "\\item 'H'\n",
              "\\item 'H'\n",
              "\\item 'H'\n",
              "\\end{enumerate*}\n"
            ],
            "text/markdown": [
              "1. 'H'\n",
              "2. 'H'\n",
              "3. 'H'\n",
              "4. 'H'\n",
              "5. 'H'\n",
              "6. 'H'\n",
              "\n",
              "\n"
            ],
            "text/plain": [
              "[1] \"H\" \"H\" \"H\" \"H\" \"H\" \"H\""
            ]
          },
          "metadata": {},
          "output_type": "display_data"
        }
      ],
      "source": [
        "head(data$genre) #Vérification"
      ]
    },
    {
      "cell_type": "code",
      "execution_count": 25,
      "metadata": {},
      "outputs": [],
      "source": [
        "library(stringr)\n",
        "library(tools)\n",
        "data$prénom <- str_to_title(data$prénom)\n"
      ]
    },
    {
      "cell_type": "code",
      "execution_count": 24,
      "metadata": {},
      "outputs": [
        {
          "name": "stdout",
          "output_type": "stream",
          "text": [
            "'data.frame':\t667364 obs. of  4 variables:\n",
            " $ genre    : chr  \"H\" \"H\" \"H\" \"H\" ...\n",
            " $ prénom   : chr  \"_Prenoms_rares\" \"_Prenoms_rares\" \"_Prenoms_rares\" \"_Prenoms_rares\" ...\n",
            " $ année    : num  1900 1901 1902 1903 1904 ...\n",
            " $ naissance: int  1250 1342 1330 1286 1430 1472 1451 1514 1509 1526 ...\n"
          ]
        }
      ],
      "source": [
        "str(data)\n",
        "data$année <- as.numeric(as.character(data$année)) ##### Cas1:  Factor --> Character --> Numérique (Opérateur intermédiaire)"
      ]
    },
    {
      "cell_type": "code",
      "execution_count": 29,
      "metadata": {},
      "outputs": [
        {
          "data": {
            "text/html": [
              "<table class=\"dataframe\">\n",
              "<caption>A data.frame: 667364 × 4</caption>\n",
              "<thead>\n",
              "\t<tr><th scope=col>genre</th><th scope=col>prénom</th><th scope=col>année</th><th scope=col>naissance</th></tr>\n",
              "\t<tr><th scope=col>&lt;chr&gt;</th><th scope=col>&lt;chr&gt;</th><th scope=col>&lt;dbl&gt;</th><th scope=col>&lt;int&gt;</th></tr>\n",
              "</thead>\n",
              "<tbody>\n",
              "\t<tr><td>H</td><td>_Prenoms_rares</td><td>1900</td><td>1250</td></tr>\n",
              "\t<tr><td>H</td><td>_Prenoms_rares</td><td>1901</td><td>1342</td></tr>\n",
              "\t<tr><td>H</td><td>_Prenoms_rares</td><td>1902</td><td>1330</td></tr>\n",
              "\t<tr><td>H</td><td>_Prenoms_rares</td><td>1903</td><td>1286</td></tr>\n",
              "\t<tr><td>H</td><td>_Prenoms_rares</td><td>1904</td><td>1430</td></tr>\n",
              "\t<tr><td>H</td><td>_Prenoms_rares</td><td>1905</td><td>1472</td></tr>\n",
              "\t<tr><td>H</td><td>_Prenoms_rares</td><td>1906</td><td>1451</td></tr>\n",
              "\t<tr><td>H</td><td>_Prenoms_rares</td><td>1907</td><td>1514</td></tr>\n",
              "\t<tr><td>H</td><td>_Prenoms_rares</td><td>1908</td><td>1509</td></tr>\n",
              "\t<tr><td>H</td><td>_Prenoms_rares</td><td>1909</td><td>1526</td></tr>\n",
              "\t<tr><td>H</td><td>_Prenoms_rares</td><td>1910</td><td>1666</td></tr>\n",
              "\t<tr><td>H</td><td>_Prenoms_rares</td><td>1911</td><td>1572</td></tr>\n",
              "\t<tr><td>H</td><td>_Prenoms_rares</td><td>1912</td><td>1608</td></tr>\n",
              "\t<tr><td>H</td><td>_Prenoms_rares</td><td>1913</td><td>1604</td></tr>\n",
              "\t<tr><td>H</td><td>_Prenoms_rares</td><td>1914</td><td>1597</td></tr>\n",
              "\t<tr><td>H</td><td>_Prenoms_rares</td><td>1915</td><td>1208</td></tr>\n",
              "\t<tr><td>H</td><td>_Prenoms_rares</td><td>1916</td><td>1025</td></tr>\n",
              "\t<tr><td>H</td><td>_Prenoms_rares</td><td>1917</td><td>1148</td></tr>\n",
              "\t<tr><td>H</td><td>_Prenoms_rares</td><td>1918</td><td>1157</td></tr>\n",
              "\t<tr><td>H</td><td>_Prenoms_rares</td><td>1919</td><td>1030</td></tr>\n",
              "\t<tr><td>H</td><td>_Prenoms_rares</td><td>1920</td><td>1535</td></tr>\n",
              "\t<tr><td>H</td><td>_Prenoms_rares</td><td>1921</td><td>1617</td></tr>\n",
              "\t<tr><td>H</td><td>_Prenoms_rares</td><td>1922</td><td>1574</td></tr>\n",
              "\t<tr><td>H</td><td>_Prenoms_rares</td><td>1923</td><td>1931</td></tr>\n",
              "\t<tr><td>H</td><td>_Prenoms_rares</td><td>1924</td><td>2475</td></tr>\n",
              "\t<tr><td>H</td><td>_Prenoms_rares</td><td>1925</td><td>2844</td></tr>\n",
              "\t<tr><td>H</td><td>_Prenoms_rares</td><td>1926</td><td>2919</td></tr>\n",
              "\t<tr><td>H</td><td>_Prenoms_rares</td><td>1927</td><td>2711</td></tr>\n",
              "\t<tr><td>H</td><td>_Prenoms_rares</td><td>1928</td><td>2506</td></tr>\n",
              "\t<tr><td>H</td><td>_Prenoms_rares</td><td>1929</td><td>2445</td></tr>\n",
              "\t<tr><td>⋮</td><td>⋮</td><td>⋮</td><td>⋮</td></tr>\n",
              "\t<tr><td>F</td><td>Zya  </td><td>2019</td><td> 9</td></tr>\n",
              "\t<tr><td>F</td><td>Zya  </td><td>2020</td><td>12</td></tr>\n",
              "\t<tr><td>F</td><td>Zya  </td><td>  NA</td><td> 6</td></tr>\n",
              "\t<tr><td>F</td><td>Zyna </td><td>2008</td><td> 3</td></tr>\n",
              "\t<tr><td>F</td><td>Zyna </td><td>2010</td><td> 3</td></tr>\n",
              "\t<tr><td>F</td><td>Zyna </td><td>2011</td><td> 4</td></tr>\n",
              "\t<tr><td>F</td><td>Zyna </td><td>2012</td><td> 6</td></tr>\n",
              "\t<tr><td>F</td><td>Zyna </td><td>2013</td><td> 6</td></tr>\n",
              "\t<tr><td>F</td><td>Zyna </td><td>2015</td><td> 9</td></tr>\n",
              "\t<tr><td>F</td><td>Zyna </td><td>2016</td><td> 5</td></tr>\n",
              "\t<tr><td>F</td><td>Zyna </td><td>2017</td><td> 5</td></tr>\n",
              "\t<tr><td>F</td><td>Zyna </td><td>2020</td><td> 5</td></tr>\n",
              "\t<tr><td>F</td><td>Zyna </td><td>  NA</td><td>16</td></tr>\n",
              "\t<tr><td>F</td><td>Zyneb</td><td>1999</td><td> 3</td></tr>\n",
              "\t<tr><td>F</td><td>Zyneb</td><td>2004</td><td> 4</td></tr>\n",
              "\t<tr><td>F</td><td>Zyneb</td><td>2005</td><td> 5</td></tr>\n",
              "\t<tr><td>F</td><td>Zyneb</td><td>2006</td><td> 4</td></tr>\n",
              "\t<tr><td>F</td><td>Zyneb</td><td>2008</td><td>11</td></tr>\n",
              "\t<tr><td>F</td><td>Zyneb</td><td>2010</td><td> 7</td></tr>\n",
              "\t<tr><td>F</td><td>Zyneb</td><td>2011</td><td> 5</td></tr>\n",
              "\t<tr><td>F</td><td>Zyneb</td><td>2012</td><td> 8</td></tr>\n",
              "\t<tr><td>F</td><td>Zyneb</td><td>2013</td><td> 4</td></tr>\n",
              "\t<tr><td>F</td><td>Zyneb</td><td>2014</td><td>10</td></tr>\n",
              "\t<tr><td>F</td><td>Zyneb</td><td>2015</td><td> 7</td></tr>\n",
              "\t<tr><td>F</td><td>Zyneb</td><td>2016</td><td> 6</td></tr>\n",
              "\t<tr><td>F</td><td>Zyneb</td><td>2017</td><td> 6</td></tr>\n",
              "\t<tr><td>F</td><td>Zyneb</td><td>2018</td><td> 5</td></tr>\n",
              "\t<tr><td>F</td><td>Zyneb</td><td>2019</td><td> 7</td></tr>\n",
              "\t<tr><td>F</td><td>Zyneb</td><td>2020</td><td> 8</td></tr>\n",
              "\t<tr><td>F</td><td>Zyneb</td><td>  NA</td><td>19</td></tr>\n",
              "</tbody>\n",
              "</table>\n"
            ],
            "text/latex": [
              "A data.frame: 667364 × 4\n",
              "\\begin{tabular}{llll}\n",
              " genre & prénom & année & naissance\\\\\n",
              " <chr> & <chr> & <dbl> & <int>\\\\\n",
              "\\hline\n",
              "\t H & \\_Prenoms\\_rares & 1900 & 1250\\\\\n",
              "\t H & \\_Prenoms\\_rares & 1901 & 1342\\\\\n",
              "\t H & \\_Prenoms\\_rares & 1902 & 1330\\\\\n",
              "\t H & \\_Prenoms\\_rares & 1903 & 1286\\\\\n",
              "\t H & \\_Prenoms\\_rares & 1904 & 1430\\\\\n",
              "\t H & \\_Prenoms\\_rares & 1905 & 1472\\\\\n",
              "\t H & \\_Prenoms\\_rares & 1906 & 1451\\\\\n",
              "\t H & \\_Prenoms\\_rares & 1907 & 1514\\\\\n",
              "\t H & \\_Prenoms\\_rares & 1908 & 1509\\\\\n",
              "\t H & \\_Prenoms\\_rares & 1909 & 1526\\\\\n",
              "\t H & \\_Prenoms\\_rares & 1910 & 1666\\\\\n",
              "\t H & \\_Prenoms\\_rares & 1911 & 1572\\\\\n",
              "\t H & \\_Prenoms\\_rares & 1912 & 1608\\\\\n",
              "\t H & \\_Prenoms\\_rares & 1913 & 1604\\\\\n",
              "\t H & \\_Prenoms\\_rares & 1914 & 1597\\\\\n",
              "\t H & \\_Prenoms\\_rares & 1915 & 1208\\\\\n",
              "\t H & \\_Prenoms\\_rares & 1916 & 1025\\\\\n",
              "\t H & \\_Prenoms\\_rares & 1917 & 1148\\\\\n",
              "\t H & \\_Prenoms\\_rares & 1918 & 1157\\\\\n",
              "\t H & \\_Prenoms\\_rares & 1919 & 1030\\\\\n",
              "\t H & \\_Prenoms\\_rares & 1920 & 1535\\\\\n",
              "\t H & \\_Prenoms\\_rares & 1921 & 1617\\\\\n",
              "\t H & \\_Prenoms\\_rares & 1922 & 1574\\\\\n",
              "\t H & \\_Prenoms\\_rares & 1923 & 1931\\\\\n",
              "\t H & \\_Prenoms\\_rares & 1924 & 2475\\\\\n",
              "\t H & \\_Prenoms\\_rares & 1925 & 2844\\\\\n",
              "\t H & \\_Prenoms\\_rares & 1926 & 2919\\\\\n",
              "\t H & \\_Prenoms\\_rares & 1927 & 2711\\\\\n",
              "\t H & \\_Prenoms\\_rares & 1928 & 2506\\\\\n",
              "\t H & \\_Prenoms\\_rares & 1929 & 2445\\\\\n",
              "\t ⋮ & ⋮ & ⋮ & ⋮\\\\\n",
              "\t F & Zya   & 2019 &  9\\\\\n",
              "\t F & Zya   & 2020 & 12\\\\\n",
              "\t F & Zya   &   NA &  6\\\\\n",
              "\t F & Zyna  & 2008 &  3\\\\\n",
              "\t F & Zyna  & 2010 &  3\\\\\n",
              "\t F & Zyna  & 2011 &  4\\\\\n",
              "\t F & Zyna  & 2012 &  6\\\\\n",
              "\t F & Zyna  & 2013 &  6\\\\\n",
              "\t F & Zyna  & 2015 &  9\\\\\n",
              "\t F & Zyna  & 2016 &  5\\\\\n",
              "\t F & Zyna  & 2017 &  5\\\\\n",
              "\t F & Zyna  & 2020 &  5\\\\\n",
              "\t F & Zyna  &   NA & 16\\\\\n",
              "\t F & Zyneb & 1999 &  3\\\\\n",
              "\t F & Zyneb & 2004 &  4\\\\\n",
              "\t F & Zyneb & 2005 &  5\\\\\n",
              "\t F & Zyneb & 2006 &  4\\\\\n",
              "\t F & Zyneb & 2008 & 11\\\\\n",
              "\t F & Zyneb & 2010 &  7\\\\\n",
              "\t F & Zyneb & 2011 &  5\\\\\n",
              "\t F & Zyneb & 2012 &  8\\\\\n",
              "\t F & Zyneb & 2013 &  4\\\\\n",
              "\t F & Zyneb & 2014 & 10\\\\\n",
              "\t F & Zyneb & 2015 &  7\\\\\n",
              "\t F & Zyneb & 2016 &  6\\\\\n",
              "\t F & Zyneb & 2017 &  6\\\\\n",
              "\t F & Zyneb & 2018 &  5\\\\\n",
              "\t F & Zyneb & 2019 &  7\\\\\n",
              "\t F & Zyneb & 2020 &  8\\\\\n",
              "\t F & Zyneb &   NA & 19\\\\\n",
              "\\end{tabular}\n"
            ],
            "text/markdown": [
              "\n",
              "A data.frame: 667364 × 4\n",
              "\n",
              "| genre &lt;chr&gt; | prénom &lt;chr&gt; | année &lt;dbl&gt; | naissance &lt;int&gt; |\n",
              "|---|---|---|---|\n",
              "| H | _Prenoms_rares | 1900 | 1250 |\n",
              "| H | _Prenoms_rares | 1901 | 1342 |\n",
              "| H | _Prenoms_rares | 1902 | 1330 |\n",
              "| H | _Prenoms_rares | 1903 | 1286 |\n",
              "| H | _Prenoms_rares | 1904 | 1430 |\n",
              "| H | _Prenoms_rares | 1905 | 1472 |\n",
              "| H | _Prenoms_rares | 1906 | 1451 |\n",
              "| H | _Prenoms_rares | 1907 | 1514 |\n",
              "| H | _Prenoms_rares | 1908 | 1509 |\n",
              "| H | _Prenoms_rares | 1909 | 1526 |\n",
              "| H | _Prenoms_rares | 1910 | 1666 |\n",
              "| H | _Prenoms_rares | 1911 | 1572 |\n",
              "| H | _Prenoms_rares | 1912 | 1608 |\n",
              "| H | _Prenoms_rares | 1913 | 1604 |\n",
              "| H | _Prenoms_rares | 1914 | 1597 |\n",
              "| H | _Prenoms_rares | 1915 | 1208 |\n",
              "| H | _Prenoms_rares | 1916 | 1025 |\n",
              "| H | _Prenoms_rares | 1917 | 1148 |\n",
              "| H | _Prenoms_rares | 1918 | 1157 |\n",
              "| H | _Prenoms_rares | 1919 | 1030 |\n",
              "| H | _Prenoms_rares | 1920 | 1535 |\n",
              "| H | _Prenoms_rares | 1921 | 1617 |\n",
              "| H | _Prenoms_rares | 1922 | 1574 |\n",
              "| H | _Prenoms_rares | 1923 | 1931 |\n",
              "| H | _Prenoms_rares | 1924 | 2475 |\n",
              "| H | _Prenoms_rares | 1925 | 2844 |\n",
              "| H | _Prenoms_rares | 1926 | 2919 |\n",
              "| H | _Prenoms_rares | 1927 | 2711 |\n",
              "| H | _Prenoms_rares | 1928 | 2506 |\n",
              "| H | _Prenoms_rares | 1929 | 2445 |\n",
              "| ⋮ | ⋮ | ⋮ | ⋮ |\n",
              "| F | Zya   | 2019 |  9 |\n",
              "| F | Zya   | 2020 | 12 |\n",
              "| F | Zya   |   NA |  6 |\n",
              "| F | Zyna  | 2008 |  3 |\n",
              "| F | Zyna  | 2010 |  3 |\n",
              "| F | Zyna  | 2011 |  4 |\n",
              "| F | Zyna  | 2012 |  6 |\n",
              "| F | Zyna  | 2013 |  6 |\n",
              "| F | Zyna  | 2015 |  9 |\n",
              "| F | Zyna  | 2016 |  5 |\n",
              "| F | Zyna  | 2017 |  5 |\n",
              "| F | Zyna  | 2020 |  5 |\n",
              "| F | Zyna  |   NA | 16 |\n",
              "| F | Zyneb | 1999 |  3 |\n",
              "| F | Zyneb | 2004 |  4 |\n",
              "| F | Zyneb | 2005 |  5 |\n",
              "| F | Zyneb | 2006 |  4 |\n",
              "| F | Zyneb | 2008 | 11 |\n",
              "| F | Zyneb | 2010 |  7 |\n",
              "| F | Zyneb | 2011 |  5 |\n",
              "| F | Zyneb | 2012 |  8 |\n",
              "| F | Zyneb | 2013 |  4 |\n",
              "| F | Zyneb | 2014 | 10 |\n",
              "| F | Zyneb | 2015 |  7 |\n",
              "| F | Zyneb | 2016 |  6 |\n",
              "| F | Zyneb | 2017 |  6 |\n",
              "| F | Zyneb | 2018 |  5 |\n",
              "| F | Zyneb | 2019 |  7 |\n",
              "| F | Zyneb | 2020 |  8 |\n",
              "| F | Zyneb |   NA | 19 |\n",
              "\n"
            ],
            "text/plain": [
              "       genre prénom         année naissance\n",
              "1      H     _Prenoms_rares 1900  1250     \n",
              "2      H     _Prenoms_rares 1901  1342     \n",
              "3      H     _Prenoms_rares 1902  1330     \n",
              "4      H     _Prenoms_rares 1903  1286     \n",
              "5      H     _Prenoms_rares 1904  1430     \n",
              "6      H     _Prenoms_rares 1905  1472     \n",
              "7      H     _Prenoms_rares 1906  1451     \n",
              "8      H     _Prenoms_rares 1907  1514     \n",
              "9      H     _Prenoms_rares 1908  1509     \n",
              "10     H     _Prenoms_rares 1909  1526     \n",
              "11     H     _Prenoms_rares 1910  1666     \n",
              "12     H     _Prenoms_rares 1911  1572     \n",
              "13     H     _Prenoms_rares 1912  1608     \n",
              "14     H     _Prenoms_rares 1913  1604     \n",
              "15     H     _Prenoms_rares 1914  1597     \n",
              "16     H     _Prenoms_rares 1915  1208     \n",
              "17     H     _Prenoms_rares 1916  1025     \n",
              "18     H     _Prenoms_rares 1917  1148     \n",
              "19     H     _Prenoms_rares 1918  1157     \n",
              "20     H     _Prenoms_rares 1919  1030     \n",
              "21     H     _Prenoms_rares 1920  1535     \n",
              "22     H     _Prenoms_rares 1921  1617     \n",
              "23     H     _Prenoms_rares 1922  1574     \n",
              "24     H     _Prenoms_rares 1923  1931     \n",
              "25     H     _Prenoms_rares 1924  2475     \n",
              "26     H     _Prenoms_rares 1925  2844     \n",
              "27     H     _Prenoms_rares 1926  2919     \n",
              "28     H     _Prenoms_rares 1927  2711     \n",
              "29     H     _Prenoms_rares 1928  2506     \n",
              "30     H     _Prenoms_rares 1929  2445     \n",
              "⋮      ⋮     ⋮              ⋮     ⋮        \n",
              "667335 F     Zya            2019   9       \n",
              "667336 F     Zya            2020  12       \n",
              "667337 F     Zya              NA   6       \n",
              "667338 F     Zyna           2008   3       \n",
              "667339 F     Zyna           2010   3       \n",
              "667340 F     Zyna           2011   4       \n",
              "667341 F     Zyna           2012   6       \n",
              "667342 F     Zyna           2013   6       \n",
              "667343 F     Zyna           2015   9       \n",
              "667344 F     Zyna           2016   5       \n",
              "667345 F     Zyna           2017   5       \n",
              "667346 F     Zyna           2020   5       \n",
              "667347 F     Zyna             NA  16       \n",
              "667348 F     Zyneb          1999   3       \n",
              "667349 F     Zyneb          2004   4       \n",
              "667350 F     Zyneb          2005   5       \n",
              "667351 F     Zyneb          2006   4       \n",
              "667352 F     Zyneb          2008  11       \n",
              "667353 F     Zyneb          2010   7       \n",
              "667354 F     Zyneb          2011   5       \n",
              "667355 F     Zyneb          2012   8       \n",
              "667356 F     Zyneb          2013   4       \n",
              "667357 F     Zyneb          2014  10       \n",
              "667358 F     Zyneb          2015   7       \n",
              "667359 F     Zyneb          2016   6       \n",
              "667360 F     Zyneb          2017   6       \n",
              "667361 F     Zyneb          2018   5       \n",
              "667362 F     Zyneb          2019   7       \n",
              "667363 F     Zyneb          2020   8       \n",
              "667364 F     Zyneb            NA  19       "
            ]
          },
          "metadata": {},
          "output_type": "display_data"
        }
      ],
      "source": [
        "library(\"dplyr\")\n",
        "data"
      ]
    },
    {
      "cell_type": "markdown",
      "metadata": {
        "id": "GvZ-w5WUbycS"
      },
      "source": [
        "## Correction question 2: Liste de prénom mixte"
      ]
    },
    {
      "cell_type": "markdown",
      "metadata": {
        "id": "MhCehv3vc0IC"
      },
      "source": [
        "**Prenom mixte**: Prénom qui va être porté par des hommes et des femmes ---> limite absence de proportion sur ces prénoms: A quel point sont -ils portés par les hommes et par les femmes"
      ]
    },
    {
      "cell_type": "markdown",
      "metadata": {
        "id": "dg2URrhAbycS"
      },
      "source": [
        "#### Etape 1: Compter le nombre de prénom par année pour chaque genre"
      ]
    },
    {
      "cell_type": "code",
      "execution_count": 45,
      "metadata": {
        "colab": {
          "base_uri": "https://localhost:8080/",
          "height": 1000
        },
        "id": "4vVXIORBePYr",
        "outputId": "ec9ce21a-a667-4dbe-920f-b3ded59868bb"
      },
      "outputs": [
        {
          "name": "stderr",
          "output_type": "stream",
          "text": [
            "`summarise()` has grouped output by 'prénom'. You can override using the `.groups` argument.\n",
            "\n"
          ]
        },
        {
          "data": {
            "text/html": [
              "<table class=\"dataframe\">\n",
              "<caption>A grouped_df: 6 × 3</caption>\n",
              "<thead>\n",
              "\t<tr><th scope=col>prénom</th><th scope=col>genre</th><th scope=col>somme</th></tr>\n",
              "\t<tr><th scope=col>&lt;chr&gt;</th><th scope=col>&lt;chr&gt;</th><th scope=col>&lt;int&gt;</th></tr>\n",
              "</thead>\n",
              "<tbody>\n",
              "\t<tr><td>Jean          </td><td>H</td><td>1914060</td></tr>\n",
              "\t<tr><td>Pierre        </td><td>H</td><td> 891611</td></tr>\n",
              "\t<tr><td>Michel        </td><td>H</td><td> 820353</td></tr>\n",
              "\t<tr><td>_Prenoms_rares</td><td>H</td><td> 799188</td></tr>\n",
              "\t<tr><td>André         </td><td>H</td><td> 711950</td></tr>\n",
              "\t<tr><td>Philippe      </td><td>H</td><td> 538519</td></tr>\n",
              "</tbody>\n",
              "</table>\n"
            ],
            "text/latex": [
              "A grouped\\_df: 6 × 3\n",
              "\\begin{tabular}{lll}\n",
              " prénom & genre & somme\\\\\n",
              " <chr> & <chr> & <int>\\\\\n",
              "\\hline\n",
              "\t Jean           & H & 1914060\\\\\n",
              "\t Pierre         & H &  891611\\\\\n",
              "\t Michel         & H &  820353\\\\\n",
              "\t \\_Prenoms\\_rares & H &  799188\\\\\n",
              "\t André          & H &  711950\\\\\n",
              "\t Philippe       & H &  538519\\\\\n",
              "\\end{tabular}\n"
            ],
            "text/markdown": [
              "\n",
              "A grouped_df: 6 × 3\n",
              "\n",
              "| prénom &lt;chr&gt; | genre &lt;chr&gt; | somme &lt;int&gt; |\n",
              "|---|---|---|\n",
              "| Jean           | H | 1914060 |\n",
              "| Pierre         | H |  891611 |\n",
              "| Michel         | H |  820353 |\n",
              "| _Prenoms_rares | H |  799188 |\n",
              "| André          | H |  711950 |\n",
              "| Philippe       | H |  538519 |\n",
              "\n"
            ],
            "text/plain": [
              "  prénom         genre somme  \n",
              "1 Jean           H     1914060\n",
              "2 Pierre         H      891611\n",
              "3 Michel         H      820353\n",
              "4 _Prenoms_rares H      799188\n",
              "5 André          H      711950\n",
              "6 Philippe       H      538519"
            ]
          },
          "metadata": {},
          "output_type": "display_data"
        }
      ],
      "source": [
        "data %>% filter(genre ==\"H\") %>% group_by(prénom, genre) %>% summarise(somme = sum(naissance)) %>% arrange(desc(somme)) %>% head()"
      ]
    },
    {
      "cell_type": "code",
      "execution_count": 46,
      "metadata": {
        "colab": {
          "base_uri": "https://localhost:8080/",
          "height": 238
        },
        "id": "5rXygb_3bycS",
        "outputId": "c2739131-ec5f-4eed-ff2b-73af606d9856"
      },
      "outputs": [
        {
          "name": "stderr",
          "output_type": "stream",
          "text": [
            "`summarise()` has grouped output by 'prénom'. You can override using the `.groups` argument.\n",
            "\n"
          ]
        },
        {
          "data": {
            "text/html": [
              "<table class=\"dataframe\">\n",
              "<caption>A grouped_df: 6 × 4</caption>\n",
              "<thead>\n",
              "\t<tr><th scope=col>prénom</th><th scope=col>genre</th><th scope=col>somme</th><th scope=col>na.rm</th></tr>\n",
              "\t<tr><th scope=col>&lt;chr&gt;</th><th scope=col>&lt;chr&gt;</th><th scope=col>&lt;int&gt;</th><th scope=col>&lt;lgl&gt;</th></tr>\n",
              "</thead>\n",
              "<tbody>\n",
              "\t<tr><td>Jean          </td><td>H</td><td>1914060</td><td>TRUE</td></tr>\n",
              "\t<tr><td>Pierre        </td><td>H</td><td> 891611</td><td>TRUE</td></tr>\n",
              "\t<tr><td>Michel        </td><td>H</td><td> 820353</td><td>TRUE</td></tr>\n",
              "\t<tr><td>_Prenoms_rares</td><td>H</td><td> 799188</td><td>TRUE</td></tr>\n",
              "\t<tr><td>André         </td><td>H</td><td> 711950</td><td>TRUE</td></tr>\n",
              "\t<tr><td>Philippe      </td><td>H</td><td> 538519</td><td>TRUE</td></tr>\n",
              "</tbody>\n",
              "</table>\n"
            ],
            "text/latex": [
              "A grouped\\_df: 6 × 4\n",
              "\\begin{tabular}{llll}\n",
              " prénom & genre & somme & na.rm\\\\\n",
              " <chr> & <chr> & <int> & <lgl>\\\\\n",
              "\\hline\n",
              "\t Jean           & H & 1914060 & TRUE\\\\\n",
              "\t Pierre         & H &  891611 & TRUE\\\\\n",
              "\t Michel         & H &  820353 & TRUE\\\\\n",
              "\t \\_Prenoms\\_rares & H &  799188 & TRUE\\\\\n",
              "\t André          & H &  711950 & TRUE\\\\\n",
              "\t Philippe       & H &  538519 & TRUE\\\\\n",
              "\\end{tabular}\n"
            ],
            "text/markdown": [
              "\n",
              "A grouped_df: 6 × 4\n",
              "\n",
              "| prénom &lt;chr&gt; | genre &lt;chr&gt; | somme &lt;int&gt; | na.rm &lt;lgl&gt; |\n",
              "|---|---|---|---|\n",
              "| Jean           | H | 1914060 | TRUE |\n",
              "| Pierre         | H |  891611 | TRUE |\n",
              "| Michel         | H |  820353 | TRUE |\n",
              "| _Prenoms_rares | H |  799188 | TRUE |\n",
              "| André          | H |  711950 | TRUE |\n",
              "| Philippe       | H |  538519 | TRUE |\n",
              "\n"
            ],
            "text/plain": [
              "  prénom         genre somme   na.rm\n",
              "1 Jean           H     1914060 TRUE \n",
              "2 Pierre         H      891611 TRUE \n",
              "3 Michel         H      820353 TRUE \n",
              "4 _Prenoms_rares H      799188 TRUE \n",
              "5 André          H      711950 TRUE \n",
              "6 Philippe       H      538519 TRUE "
            ]
          },
          "metadata": {},
          "output_type": "display_data"
        }
      ],
      "source": [
        "data %>% filter(genre ==\"H\") %>% group_by(prénom,genre) %>% summarise(somme = sum(naissance), na.rm = TRUE) %>% arrange(desc(somme)) %>% head()"
      ]
    },
    {
      "cell_type": "code",
      "execution_count": 47,
      "metadata": {
        "colab": {
          "base_uri": "https://localhost:8080/",
          "height": 133
        },
        "id": "RimawLavfyB_",
        "outputId": "8a53b783-dc1d-48b9-f85a-063f9977f233"
      },
      "outputs": [
        {
          "name": "stderr",
          "output_type": "stream",
          "text": [
            "`summarise()` has grouped output by 'prénom'. You can override using the `.groups` argument.\n",
            "\n"
          ]
        },
        {
          "data": {
            "text/html": [
              "<table class=\"dataframe\">\n",
              "<caption>A grouped_df: 1 × 4</caption>\n",
              "<thead>\n",
              "\t<tr><th scope=col>prénom</th><th scope=col>genre</th><th scope=col>somme</th><th scope=col>na.rm</th></tr>\n",
              "\t<tr><th scope=col>&lt;chr&gt;</th><th scope=col>&lt;chr&gt;</th><th scope=col>&lt;int&gt;</th><th scope=col>&lt;lgl&gt;</th></tr>\n",
              "</thead>\n",
              "<tbody>\n",
              "\t<tr><td>Marie</td><td>F</td><td>2232238</td><td>TRUE</td></tr>\n",
              "</tbody>\n",
              "</table>\n"
            ],
            "text/latex": [
              "A grouped\\_df: 1 × 4\n",
              "\\begin{tabular}{llll}\n",
              " prénom & genre & somme & na.rm\\\\\n",
              " <chr> & <chr> & <int> & <lgl>\\\\\n",
              "\\hline\n",
              "\t Marie & F & 2232238 & TRUE\\\\\n",
              "\\end{tabular}\n"
            ],
            "text/markdown": [
              "\n",
              "A grouped_df: 1 × 4\n",
              "\n",
              "| prénom &lt;chr&gt; | genre &lt;chr&gt; | somme &lt;int&gt; | na.rm &lt;lgl&gt; |\n",
              "|---|---|---|---|\n",
              "| Marie | F | 2232238 | TRUE |\n",
              "\n"
            ],
            "text/plain": [
              "  prénom genre somme   na.rm\n",
              "1 Marie  F     2232238 TRUE "
            ]
          },
          "metadata": {},
          "output_type": "display_data"
        }
      ],
      "source": [
        "data %>% filter(genre ==\"F\") %>% group_by(prénom, genre) %>% summarise(somme = sum(naissance), na.rm = TRUE) %>% arrange(desc(somme)) -> prenom_f\n",
        "\n",
        "#### Présence de Marie dans prénom_f ?\n",
        "prenom_f %>% filter(prénom ==\"Marie\")"
      ]
    },
    {
      "cell_type": "code",
      "execution_count": 54,
      "metadata": {
        "colab": {
          "base_uri": "https://localhost:8080/"
        },
        "id": "LeoBvDSpbycS",
        "outputId": "dcdc3cf9-4aba-481a-ea5f-f7e08c6910e6"
      },
      "outputs": [
        {
          "data": {
            "text/html": [
              "<table class=\"dataframe\">\n",
              "<caption>A tibble: 6 × 3</caption>\n",
              "<thead>\n",
              "\t<tr><th scope=col>prénom</th><th scope=col>somme</th><th scope=col>na.rm</th></tr>\n",
              "\t<tr><th scope=col>&lt;chr&gt;</th><th scope=col>&lt;int&gt;</th><th scope=col>&lt;lgl&gt;</th></tr>\n",
              "</thead>\n",
              "<tbody>\n",
              "\t<tr><td>Jean          </td><td>1914060</td><td>TRUE</td></tr>\n",
              "\t<tr><td>Pierre        </td><td> 891611</td><td>TRUE</td></tr>\n",
              "\t<tr><td>Michel        </td><td> 820353</td><td>TRUE</td></tr>\n",
              "\t<tr><td>_Prenoms_rares</td><td> 799188</td><td>TRUE</td></tr>\n",
              "\t<tr><td>André         </td><td> 711950</td><td>TRUE</td></tr>\n",
              "\t<tr><td>Philippe      </td><td> 538519</td><td>TRUE</td></tr>\n",
              "</tbody>\n",
              "</table>\n"
            ],
            "text/latex": [
              "A tibble: 6 × 3\n",
              "\\begin{tabular}{lll}\n",
              " prénom & somme & na.rm\\\\\n",
              " <chr> & <int> & <lgl>\\\\\n",
              "\\hline\n",
              "\t Jean           & 1914060 & TRUE\\\\\n",
              "\t Pierre         &  891611 & TRUE\\\\\n",
              "\t Michel         &  820353 & TRUE\\\\\n",
              "\t \\_Prenoms\\_rares &  799188 & TRUE\\\\\n",
              "\t André          &  711950 & TRUE\\\\\n",
              "\t Philippe       &  538519 & TRUE\\\\\n",
              "\\end{tabular}\n"
            ],
            "text/markdown": [
              "\n",
              "A tibble: 6 × 3\n",
              "\n",
              "| prénom &lt;chr&gt; | somme &lt;int&gt; | na.rm &lt;lgl&gt; |\n",
              "|---|---|---|\n",
              "| Jean           | 1914060 | TRUE |\n",
              "| Pierre         |  891611 | TRUE |\n",
              "| Michel         |  820353 | TRUE |\n",
              "| _Prenoms_rares |  799188 | TRUE |\n",
              "| André          |  711950 | TRUE |\n",
              "| Philippe       |  538519 | TRUE |\n",
              "\n"
            ],
            "text/plain": [
              "  prénom         somme   na.rm\n",
              "1 Jean           1914060 TRUE \n",
              "2 Pierre          891611 TRUE \n",
              "3 Michel          820353 TRUE \n",
              "4 _Prenoms_rares  799188 TRUE \n",
              "5 André           711950 TRUE \n",
              "6 Philippe        538519 TRUE "
            ]
          },
          "metadata": {},
          "output_type": "display_data"
        }
      ],
      "source": [
        "prenom_H <- data %>% filter(genre ==\"H\") %>% group_by(prénom) %>% summarise(somme = sum(naissance), na.rm = TRUE) %>% arrange(desc(somme)) \n",
        "head(prenom_H)"
      ]
    },
    {
      "cell_type": "code",
      "execution_count": 55,
      "metadata": {
        "colab": {
          "base_uri": "https://localhost:8080/"
        },
        "id": "HLeTGffZbycS",
        "outputId": "381f0d26-e64b-4357-a3cb-e3b0c3e1e2cb"
      },
      "outputs": [
        {
          "data": {
            "text/html": [
              "<table class=\"dataframe\">\n",
              "<caption>A tibble: 6 × 3</caption>\n",
              "<thead>\n",
              "\t<tr><th scope=col>prénom</th><th scope=col>somme</th><th scope=col>na.rm</th></tr>\n",
              "\t<tr><th scope=col>&lt;chr&gt;</th><th scope=col>&lt;int&gt;</th><th scope=col>&lt;lgl&gt;</th></tr>\n",
              "</thead>\n",
              "<tbody>\n",
              "\t<tr><td>Marie         </td><td>2232238</td><td>TRUE</td></tr>\n",
              "\t<tr><td>_Prenoms_rares</td><td> 854078</td><td>TRUE</td></tr>\n",
              "\t<tr><td>Jeanne        </td><td> 559349</td><td>TRUE</td></tr>\n",
              "\t<tr><td>Françoise     </td><td> 401487</td><td>TRUE</td></tr>\n",
              "\t<tr><td>Monique       </td><td> 399762</td><td>TRUE</td></tr>\n",
              "\t<tr><td>Catherine     </td><td> 394674</td><td>TRUE</td></tr>\n",
              "</tbody>\n",
              "</table>\n"
            ],
            "text/latex": [
              "A tibble: 6 × 3\n",
              "\\begin{tabular}{lll}\n",
              " prénom & somme & na.rm\\\\\n",
              " <chr> & <int> & <lgl>\\\\\n",
              "\\hline\n",
              "\t Marie          & 2232238 & TRUE\\\\\n",
              "\t \\_Prenoms\\_rares &  854078 & TRUE\\\\\n",
              "\t Jeanne         &  559349 & TRUE\\\\\n",
              "\t Françoise      &  401487 & TRUE\\\\\n",
              "\t Monique        &  399762 & TRUE\\\\\n",
              "\t Catherine      &  394674 & TRUE\\\\\n",
              "\\end{tabular}\n"
            ],
            "text/markdown": [
              "\n",
              "A tibble: 6 × 3\n",
              "\n",
              "| prénom &lt;chr&gt; | somme &lt;int&gt; | na.rm &lt;lgl&gt; |\n",
              "|---|---|---|\n",
              "| Marie          | 2232238 | TRUE |\n",
              "| _Prenoms_rares |  854078 | TRUE |\n",
              "| Jeanne         |  559349 | TRUE |\n",
              "| Françoise      |  401487 | TRUE |\n",
              "| Monique        |  399762 | TRUE |\n",
              "| Catherine      |  394674 | TRUE |\n",
              "\n"
            ],
            "text/plain": [
              "  prénom         somme   na.rm\n",
              "1 Marie          2232238 TRUE \n",
              "2 _Prenoms_rares  854078 TRUE \n",
              "3 Jeanne          559349 TRUE \n",
              "4 Françoise       401487 TRUE \n",
              "5 Monique         399762 TRUE \n",
              "6 Catherine       394674 TRUE "
            ]
          },
          "metadata": {},
          "output_type": "display_data"
        }
      ],
      "source": [
        "prenom_F <- data %>% filter(genre ==\"F\") %>% group_by(prénom) %>% summarise(somme = sum(naissance), na.rm = TRUE) %>% arrange(desc(somme))\n",
        "head(prenom_F)"
      ]
    },
    {
      "cell_type": "markdown",
      "metadata": {
        "id": "FXFt37JCbycS"
      },
      "source": [
        "#### Etape 2: Joindre les deux tables"
      ]
    },
    {
      "cell_type": "markdown",
      "metadata": {
        "id": "jUBoogv9bycS"
      },
      "source": [
        "https://dplyr.tidyverse.org/reference/mutate-joins.html?q=join%20inner"
      ]
    },
    {
      "cell_type": "markdown",
      "metadata": {
        "id": "GsohupoIbycS"
      },
      "source": [
        "![image.png](attachment:image.png)"
      ]
    },
    {
      "cell_type": "code",
      "execution_count": 56,
      "metadata": {
        "colab": {
          "base_uri": "https://localhost:8080/",
          "height": 99
        },
        "id": "HKRw0LT8bycT",
        "outputId": "4394e780-7fde-488e-a2cf-e13040643047"
      },
      "outputs": [
        {
          "data": {
            "text/html": [
              "<table class=\"dataframe\">\n",
              "<caption>A tibble: 1 × 3</caption>\n",
              "<thead>\n",
              "\t<tr><th scope=col>prénom</th><th scope=col>somme</th><th scope=col>na.rm</th></tr>\n",
              "\t<tr><th scope=col>&lt;chr&gt;</th><th scope=col>&lt;int&gt;</th><th scope=col>&lt;lgl&gt;</th></tr>\n",
              "</thead>\n",
              "<tbody>\n",
              "\t<tr><td>Kim</td><td>1231</td><td>TRUE</td></tr>\n",
              "</tbody>\n",
              "</table>\n"
            ],
            "text/latex": [
              "A tibble: 1 × 3\n",
              "\\begin{tabular}{lll}\n",
              " prénom & somme & na.rm\\\\\n",
              " <chr> & <int> & <lgl>\\\\\n",
              "\\hline\n",
              "\t Kim & 1231 & TRUE\\\\\n",
              "\\end{tabular}\n"
            ],
            "text/markdown": [
              "\n",
              "A tibble: 1 × 3\n",
              "\n",
              "| prénom &lt;chr&gt; | somme &lt;int&gt; | na.rm &lt;lgl&gt; |\n",
              "|---|---|---|\n",
              "| Kim | 1231 | TRUE |\n",
              "\n"
            ],
            "text/plain": [
              "  prénom somme na.rm\n",
              "1 Kim    1231  TRUE "
            ]
          },
          "metadata": {},
          "output_type": "display_data"
        }
      ],
      "source": [
        "prenom_H %>% filter(prénom ==\"Kim\")"
      ]
    },
    {
      "cell_type": "code",
      "execution_count": 58,
      "metadata": {
        "colab": {
          "base_uri": "https://localhost:8080/",
          "height": 1000
        },
        "id": "ikmWhfuqbycT",
        "outputId": "0255be14-ad0f-4154-eba9-da5bd4c3f39e"
      },
      "outputs": [
        {
          "data": {
            "text/html": [
              "<table class=\"dataframe\">\n",
              "<caption>A tibble: 6 × 5</caption>\n",
              "<thead>\n",
              "\t<tr><th scope=col>prénom</th><th scope=col>somme.x</th><th scope=col>na.rm.x</th><th scope=col>somme.y</th><th scope=col>na.rm.y</th></tr>\n",
              "\t<tr><th scope=col>&lt;chr&gt;</th><th scope=col>&lt;int&gt;</th><th scope=col>&lt;lgl&gt;</th><th scope=col>&lt;int&gt;</th><th scope=col>&lt;lgl&gt;</th></tr>\n",
              "</thead>\n",
              "<tbody>\n",
              "\t<tr><td>Marie         </td><td>2232238</td><td>TRUE</td><td> 26897</td><td>TRUE</td></tr>\n",
              "\t<tr><td>_Prenoms_rares</td><td> 854078</td><td>TRUE</td><td>799188</td><td>TRUE</td></tr>\n",
              "\t<tr><td>Jeanne        </td><td> 559349</td><td>TRUE</td><td>    88</td><td>TRUE</td></tr>\n",
              "\t<tr><td>Françoise     </td><td> 401487</td><td>TRUE</td><td>    34</td><td>TRUE</td></tr>\n",
              "\t<tr><td>Monique       </td><td> 399762</td><td>TRUE</td><td>   440</td><td>TRUE</td></tr>\n",
              "\t<tr><td>Catherine     </td><td> 394674</td><td>TRUE</td><td>   229</td><td>TRUE</td></tr>\n",
              "</tbody>\n",
              "</table>\n"
            ],
            "text/latex": [
              "A tibble: 6 × 5\n",
              "\\begin{tabular}{lllll}\n",
              " prénom & somme.x & na.rm.x & somme.y & na.rm.y\\\\\n",
              " <chr> & <int> & <lgl> & <int> & <lgl>\\\\\n",
              "\\hline\n",
              "\t Marie          & 2232238 & TRUE &  26897 & TRUE\\\\\n",
              "\t \\_Prenoms\\_rares &  854078 & TRUE & 799188 & TRUE\\\\\n",
              "\t Jeanne         &  559349 & TRUE &     88 & TRUE\\\\\n",
              "\t Françoise      &  401487 & TRUE &     34 & TRUE\\\\\n",
              "\t Monique        &  399762 & TRUE &    440 & TRUE\\\\\n",
              "\t Catherine      &  394674 & TRUE &    229 & TRUE\\\\\n",
              "\\end{tabular}\n"
            ],
            "text/markdown": [
              "\n",
              "A tibble: 6 × 5\n",
              "\n",
              "| prénom &lt;chr&gt; | somme.x &lt;int&gt; | na.rm.x &lt;lgl&gt; | somme.y &lt;int&gt; | na.rm.y &lt;lgl&gt; |\n",
              "|---|---|---|---|---|\n",
              "| Marie          | 2232238 | TRUE |  26897 | TRUE |\n",
              "| _Prenoms_rares |  854078 | TRUE | 799188 | TRUE |\n",
              "| Jeanne         |  559349 | TRUE |     88 | TRUE |\n",
              "| Françoise      |  401487 | TRUE |     34 | TRUE |\n",
              "| Monique        |  399762 | TRUE |    440 | TRUE |\n",
              "| Catherine      |  394674 | TRUE |    229 | TRUE |\n",
              "\n"
            ],
            "text/plain": [
              "  prénom         somme.x na.rm.x somme.y na.rm.y\n",
              "1 Marie          2232238 TRUE     26897  TRUE   \n",
              "2 _Prenoms_rares  854078 TRUE    799188  TRUE   \n",
              "3 Jeanne          559349 TRUE        88  TRUE   \n",
              "4 Françoise       401487 TRUE        34  TRUE   \n",
              "5 Monique         399762 TRUE       440  TRUE   \n",
              "6 Catherine       394674 TRUE       229  TRUE   "
            ]
          },
          "metadata": {},
          "output_type": "display_data"
        }
      ],
      "source": [
        "join_prenoms  <- inner_join(prenom_F, prenom_H, by = \"prénom\") \n",
        "head(join_prenoms)"
      ]
    },
    {
      "cell_type": "code",
      "execution_count": 61,
      "metadata": {
        "colab": {
          "base_uri": "https://localhost:8080/",
          "height": 204
        },
        "id": "n4WNUGlrjeWs",
        "outputId": "ac08fc83-d129-4524-a281-e94b3021f569"
      },
      "outputs": [
        {
          "data": {
            "text/html": [
              "<table class=\"dataframe\">\n",
              "<caption>A tibble: 6 × 3</caption>\n",
              "<thead>\n",
              "\t<tr><th scope=col>prénom</th><th scope=col>nb_femme</th><th scope=col>nb_homme</th></tr>\n",
              "\t<tr><th scope=col>&lt;chr&gt;</th><th scope=col>&lt;int&gt;</th><th scope=col>&lt;int&gt;</th></tr>\n",
              "</thead>\n",
              "<tbody>\n",
              "\t<tr><td>Marie         </td><td>2232238</td><td> 26897</td></tr>\n",
              "\t<tr><td>_Prenoms_rares</td><td> 854078</td><td>799188</td></tr>\n",
              "\t<tr><td>Jeanne        </td><td> 559349</td><td>    88</td></tr>\n",
              "\t<tr><td>Françoise     </td><td> 401487</td><td>    34</td></tr>\n",
              "\t<tr><td>Monique       </td><td> 399762</td><td>   440</td></tr>\n",
              "\t<tr><td>Catherine     </td><td> 394674</td><td>   229</td></tr>\n",
              "</tbody>\n",
              "</table>\n"
            ],
            "text/latex": [
              "A tibble: 6 × 3\n",
              "\\begin{tabular}{lll}\n",
              " prénom & nb\\_femme & nb\\_homme\\\\\n",
              " <chr> & <int> & <int>\\\\\n",
              "\\hline\n",
              "\t Marie          & 2232238 &  26897\\\\\n",
              "\t \\_Prenoms\\_rares &  854078 & 799188\\\\\n",
              "\t Jeanne         &  559349 &     88\\\\\n",
              "\t Françoise      &  401487 &     34\\\\\n",
              "\t Monique        &  399762 &    440\\\\\n",
              "\t Catherine      &  394674 &    229\\\\\n",
              "\\end{tabular}\n"
            ],
            "text/markdown": [
              "\n",
              "A tibble: 6 × 3\n",
              "\n",
              "| prénom &lt;chr&gt; | nb_femme &lt;int&gt; | nb_homme &lt;int&gt; |\n",
              "|---|---|---|\n",
              "| Marie          | 2232238 |  26897 |\n",
              "| _Prenoms_rares |  854078 | 799188 |\n",
              "| Jeanne         |  559349 |     88 |\n",
              "| Françoise      |  401487 |     34 |\n",
              "| Monique        |  399762 |    440 |\n",
              "| Catherine      |  394674 |    229 |\n",
              "\n"
            ],
            "text/plain": [
              "  prénom         nb_femme nb_homme\n",
              "1 Marie          2232238   26897  \n",
              "2 _Prenoms_rares  854078  799188  \n",
              "3 Jeanne          559349      88  \n",
              "4 Françoise       401487      34  \n",
              "5 Monique         399762     440  \n",
              "6 Catherine       394674     229  "
            ]
          },
          "metadata": {},
          "output_type": "display_data"
        }
      ],
      "source": [
        "rename(join, nb_femme = somme.x, nb_homme = somme.y ) %>% select(prénom, nb_femme, nb_homme) -> prenom_mixte\n",
        "\n",
        "prenom_mixte %>% head()"
      ]
    },
    {
      "cell_type": "markdown",
      "metadata": {
        "id": "LI3Jf-AibycT"
      },
      "source": [
        "#### Etape 3: Calculer le ratio"
      ]
    },
    {
      "cell_type": "code",
      "execution_count": 62,
      "metadata": {
        "colab": {
          "base_uri": "https://localhost:8080/",
          "height": 204
        },
        "id": "23iDcAydlCQ_",
        "outputId": "1273818e-6ff0-4257-f417-67a2c514d28d"
      },
      "outputs": [
        {
          "data": {
            "text/html": [
              "<table class=\"dataframe\">\n",
              "<caption>A tibble: 6 × 4</caption>\n",
              "<thead>\n",
              "\t<tr><th scope=col>prénom</th><th scope=col>nb_femme</th><th scope=col>nb_homme</th><th scope=col>ratio</th></tr>\n",
              "\t<tr><th scope=col>&lt;chr&gt;</th><th scope=col>&lt;int&gt;</th><th scope=col>&lt;int&gt;</th><th scope=col>&lt;dbl&gt;</th></tr>\n",
              "</thead>\n",
              "<tbody>\n",
              "\t<tr><td>Marie         </td><td>2232238</td><td> 26897</td><td>   82.992081</td></tr>\n",
              "\t<tr><td>_Prenoms_rares</td><td> 854078</td><td>799188</td><td>    1.068682</td></tr>\n",
              "\t<tr><td>Jeanne        </td><td> 559349</td><td>    88</td><td> 6356.238636</td></tr>\n",
              "\t<tr><td>Françoise     </td><td> 401487</td><td>    34</td><td>11808.441176</td></tr>\n",
              "\t<tr><td>Monique       </td><td> 399762</td><td>   440</td><td>  908.550000</td></tr>\n",
              "\t<tr><td>Catherine     </td><td> 394674</td><td>   229</td><td> 1723.467249</td></tr>\n",
              "</tbody>\n",
              "</table>\n"
            ],
            "text/latex": [
              "A tibble: 6 × 4\n",
              "\\begin{tabular}{llll}\n",
              " prénom & nb\\_femme & nb\\_homme & ratio\\\\\n",
              " <chr> & <int> & <int> & <dbl>\\\\\n",
              "\\hline\n",
              "\t Marie          & 2232238 &  26897 &    82.992081\\\\\n",
              "\t \\_Prenoms\\_rares &  854078 & 799188 &     1.068682\\\\\n",
              "\t Jeanne         &  559349 &     88 &  6356.238636\\\\\n",
              "\t Françoise      &  401487 &     34 & 11808.441176\\\\\n",
              "\t Monique        &  399762 &    440 &   908.550000\\\\\n",
              "\t Catherine      &  394674 &    229 &  1723.467249\\\\\n",
              "\\end{tabular}\n"
            ],
            "text/markdown": [
              "\n",
              "A tibble: 6 × 4\n",
              "\n",
              "| prénom &lt;chr&gt; | nb_femme &lt;int&gt; | nb_homme &lt;int&gt; | ratio &lt;dbl&gt; |\n",
              "|---|---|---|---|\n",
              "| Marie          | 2232238 |  26897 |    82.992081 |\n",
              "| _Prenoms_rares |  854078 | 799188 |     1.068682 |\n",
              "| Jeanne         |  559349 |     88 |  6356.238636 |\n",
              "| Françoise      |  401487 |     34 | 11808.441176 |\n",
              "| Monique        |  399762 |    440 |   908.550000 |\n",
              "| Catherine      |  394674 |    229 |  1723.467249 |\n",
              "\n"
            ],
            "text/plain": [
              "  prénom         nb_femme nb_homme ratio       \n",
              "1 Marie          2232238   26897      82.992081\n",
              "2 _Prenoms_rares  854078  799188       1.068682\n",
              "3 Jeanne          559349      88    6356.238636\n",
              "4 Françoise       401487      34   11808.441176\n",
              "5 Monique         399762     440     908.550000\n",
              "6 Catherine       394674     229    1723.467249"
            ]
          },
          "metadata": {},
          "output_type": "display_data"
        }
      ],
      "source": [
        "prenom_mixte %>% mutate(ratio = nb_femme/nb_homme) %>% head()"
      ]
    },
    {
      "cell_type": "code",
      "execution_count": 68,
      "metadata": {
        "colab": {
          "base_uri": "https://localhost:8080/",
          "height": 1000
        },
        "id": "lqxtl2MJlbFR",
        "outputId": "568cc00f-1492-45f5-8815-45de6802cb96"
      },
      "outputs": [
        {
          "data": {
            "text/html": [
              "<table class=\"dataframe\">\n",
              "<caption>A tibble: 6 × 4</caption>\n",
              "<thead>\n",
              "\t<tr><th scope=col>prénom</th><th scope=col>nb_femme</th><th scope=col>nb_homme</th><th scope=col>ratio</th></tr>\n",
              "\t<tr><th scope=col>&lt;chr&gt;</th><th scope=col>&lt;int&gt;</th><th scope=col>&lt;int&gt;</th><th scope=col>&lt;dbl&gt;</th></tr>\n",
              "</thead>\n",
              "<tbody>\n",
              "\t<tr><td>Jean          </td><td>   546</td><td>1914060</td><td>0.0002852575</td></tr>\n",
              "\t<tr><td>Pierre        </td><td>   920</td><td> 891611</td><td>0.0010318401</td></tr>\n",
              "\t<tr><td>Michel        </td><td>   181</td><td> 820353</td><td>0.0002206367</td></tr>\n",
              "\t<tr><td>_Prenoms_rares</td><td>854078</td><td> 799188</td><td>1.0686822124</td></tr>\n",
              "\t<tr><td>André         </td><td>   628</td><td> 711950</td><td>0.0008820844</td></tr>\n",
              "\t<tr><td>Philippe      </td><td>   287</td><td> 538519</td><td>0.0005329431</td></tr>\n",
              "</tbody>\n",
              "</table>\n"
            ],
            "text/latex": [
              "A tibble: 6 × 4\n",
              "\\begin{tabular}{llll}\n",
              " prénom & nb\\_femme & nb\\_homme & ratio\\\\\n",
              " <chr> & <int> & <int> & <dbl>\\\\\n",
              "\\hline\n",
              "\t Jean           &    546 & 1914060 & 0.0002852575\\\\\n",
              "\t Pierre         &    920 &  891611 & 0.0010318401\\\\\n",
              "\t Michel         &    181 &  820353 & 0.0002206367\\\\\n",
              "\t \\_Prenoms\\_rares & 854078 &  799188 & 1.0686822124\\\\\n",
              "\t André          &    628 &  711950 & 0.0008820844\\\\\n",
              "\t Philippe       &    287 &  538519 & 0.0005329431\\\\\n",
              "\\end{tabular}\n"
            ],
            "text/markdown": [
              "\n",
              "A tibble: 6 × 4\n",
              "\n",
              "| prénom &lt;chr&gt; | nb_femme &lt;int&gt; | nb_homme &lt;int&gt; | ratio &lt;dbl&gt; |\n",
              "|---|---|---|---|\n",
              "| Jean           |    546 | 1914060 | 0.0002852575 |\n",
              "| Pierre         |    920 |  891611 | 0.0010318401 |\n",
              "| Michel         |    181 |  820353 | 0.0002206367 |\n",
              "| _Prenoms_rares | 854078 |  799188 | 1.0686822124 |\n",
              "| André          |    628 |  711950 | 0.0008820844 |\n",
              "| Philippe       |    287 |  538519 | 0.0005329431 |\n",
              "\n"
            ],
            "text/plain": [
              "  prénom         nb_femme nb_homme ratio       \n",
              "1 Jean              546   1914060  0.0002852575\n",
              "2 Pierre            920    891611  0.0010318401\n",
              "3 Michel            181    820353  0.0002206367\n",
              "4 _Prenoms_rares 854078    799188  1.0686822124\n",
              "5 André             628    711950  0.0008820844\n",
              "6 Philippe          287    538519  0.0005329431"
            ]
          },
          "metadata": {},
          "output_type": "display_data"
        }
      ],
      "source": [
        "ratio <- prenom_mixte %>% mutate(ratio = nb_femme/nb_homme) %>% arrange(desc(nb_homme))\n",
        "head(ratio)\n"
      ]
    },
    {
      "cell_type": "markdown",
      "metadata": {
        "id": "-QVSVMTtcfOp"
      },
      "source": [
        "A/B : Premiere approche\n",
        "A/ (A +B)"
      ]
    },
    {
      "cell_type": "code",
      "execution_count": 84,
      "metadata": {
        "colab": {
          "base_uri": "https://localhost:8080/",
          "height": 1000
        },
        "id": "H7uvgM3amuSC",
        "outputId": "0d681417-1fbe-432b-8b96-8a49270b69ce"
      },
      "outputs": [
        {
          "data": {
            "text/html": [
              "<table class=\"dataframe\">\n",
              "<caption>A tibble: 6 × 4</caption>\n",
              "<thead>\n",
              "\t<tr><th scope=col>prénom</th><th scope=col>nb_femme</th><th scope=col>nb_homme</th><th scope=col>ratio</th></tr>\n",
              "\t<tr><th scope=col>&lt;chr&gt;</th><th scope=col>&lt;int&gt;</th><th scope=col>&lt;int&gt;</th><th scope=col>&lt;dbl&gt;</th></tr>\n",
              "</thead>\n",
              "<tbody>\n",
              "\t<tr><td>Marie         </td><td>2232238</td><td> 26897</td><td>0.9880941</td></tr>\n",
              "\t<tr><td>_Prenoms_rares</td><td> 854078</td><td>799188</td><td>0.5166005</td></tr>\n",
              "\t<tr><td>Jeanne        </td><td> 559349</td><td>    88</td><td>0.9998427</td></tr>\n",
              "\t<tr><td>Françoise     </td><td> 401487</td><td>    34</td><td>0.9999153</td></tr>\n",
              "\t<tr><td>Monique       </td><td> 399762</td><td>   440</td><td>0.9989006</td></tr>\n",
              "\t<tr><td>Catherine     </td><td> 394674</td><td>   229</td><td>0.9994201</td></tr>\n",
              "</tbody>\n",
              "</table>\n"
            ],
            "text/latex": [
              "A tibble: 6 × 4\n",
              "\\begin{tabular}{llll}\n",
              " prénom & nb\\_femme & nb\\_homme & ratio\\\\\n",
              " <chr> & <int> & <int> & <dbl>\\\\\n",
              "\\hline\n",
              "\t Marie          & 2232238 &  26897 & 0.9880941\\\\\n",
              "\t \\_Prenoms\\_rares &  854078 & 799188 & 0.5166005\\\\\n",
              "\t Jeanne         &  559349 &     88 & 0.9998427\\\\\n",
              "\t Françoise      &  401487 &     34 & 0.9999153\\\\\n",
              "\t Monique        &  399762 &    440 & 0.9989006\\\\\n",
              "\t Catherine      &  394674 &    229 & 0.9994201\\\\\n",
              "\\end{tabular}\n"
            ],
            "text/markdown": [
              "\n",
              "A tibble: 6 × 4\n",
              "\n",
              "| prénom &lt;chr&gt; | nb_femme &lt;int&gt; | nb_homme &lt;int&gt; | ratio &lt;dbl&gt; |\n",
              "|---|---|---|---|\n",
              "| Marie          | 2232238 |  26897 | 0.9880941 |\n",
              "| _Prenoms_rares |  854078 | 799188 | 0.5166005 |\n",
              "| Jeanne         |  559349 |     88 | 0.9998427 |\n",
              "| Françoise      |  401487 |     34 | 0.9999153 |\n",
              "| Monique        |  399762 |    440 | 0.9989006 |\n",
              "| Catherine      |  394674 |    229 | 0.9994201 |\n",
              "\n"
            ],
            "text/plain": [
              "  prénom         nb_femme nb_homme ratio    \n",
              "1 Marie          2232238   26897   0.9880941\n",
              "2 _Prenoms_rares  854078  799188   0.5166005\n",
              "3 Jeanne          559349      88   0.9998427\n",
              "4 Françoise       401487      34   0.9999153\n",
              "5 Monique         399762     440   0.9989006\n",
              "6 Catherine       394674     229   0.9994201"
            ]
          },
          "metadata": {},
          "output_type": "display_data"
        }
      ],
      "source": [
        "data_h_f  <- prenom_mixte %>% mutate(ratio = nb_femme/(nb_homme + nb_femme ))\n",
        "head(data_h_f)"
      ]
    },
    {
      "cell_type": "code",
      "execution_count": 75,
      "metadata": {
        "id": "83E98p_AbycT",
        "outputId": "54630b8b-bb52-44a5-f42c-807fa71bb326"
      },
      "outputs": [
        {
          "data": {
            "text/html": [
              "<table class=\"dataframe\">\n",
              "<caption>A tibble: 6 × 4</caption>\n",
              "<thead>\n",
              "\t<tr><th scope=col>prénom</th><th scope=col>somme.x</th><th scope=col>somme.y</th><th scope=col>ratio</th></tr>\n",
              "\t<tr><th scope=col>&lt;chr&gt;</th><th scope=col>&lt;int&gt;</th><th scope=col>&lt;int&gt;</th><th scope=col>&lt;dbl&gt;</th></tr>\n",
              "</thead>\n",
              "<tbody>\n",
              "\t<tr><td>Marie         </td><td>2232238</td><td> 26897</td><td>   82.992081</td></tr>\n",
              "\t<tr><td>_Prenoms_rares</td><td> 854078</td><td>799188</td><td>    1.068682</td></tr>\n",
              "\t<tr><td>Jeanne        </td><td> 559349</td><td>    88</td><td> 6356.238636</td></tr>\n",
              "\t<tr><td>Françoise     </td><td> 401487</td><td>    34</td><td>11808.441176</td></tr>\n",
              "\t<tr><td>Monique       </td><td> 399762</td><td>   440</td><td>  908.550000</td></tr>\n",
              "\t<tr><td>Catherine     </td><td> 394674</td><td>   229</td><td> 1723.467249</td></tr>\n",
              "</tbody>\n",
              "</table>\n"
            ],
            "text/latex": [
              "A tibble: 6 × 4\n",
              "\\begin{tabular}{llll}\n",
              " prénom & somme.x & somme.y & ratio\\\\\n",
              " <chr> & <int> & <int> & <dbl>\\\\\n",
              "\\hline\n",
              "\t Marie          & 2232238 &  26897 &    82.992081\\\\\n",
              "\t \\_Prenoms\\_rares &  854078 & 799188 &     1.068682\\\\\n",
              "\t Jeanne         &  559349 &     88 &  6356.238636\\\\\n",
              "\t Françoise      &  401487 &     34 & 11808.441176\\\\\n",
              "\t Monique        &  399762 &    440 &   908.550000\\\\\n",
              "\t Catherine      &  394674 &    229 &  1723.467249\\\\\n",
              "\\end{tabular}\n"
            ],
            "text/markdown": [
              "\n",
              "A tibble: 6 × 4\n",
              "\n",
              "| prénom &lt;chr&gt; | somme.x &lt;int&gt; | somme.y &lt;int&gt; | ratio &lt;dbl&gt; |\n",
              "|---|---|---|---|\n",
              "| Marie          | 2232238 |  26897 |    82.992081 |\n",
              "| _Prenoms_rares |  854078 | 799188 |     1.068682 |\n",
              "| Jeanne         |  559349 |     88 |  6356.238636 |\n",
              "| Françoise      |  401487 |     34 | 11808.441176 |\n",
              "| Monique        |  399762 |    440 |   908.550000 |\n",
              "| Catherine      |  394674 |    229 |  1723.467249 |\n",
              "\n"
            ],
            "text/plain": [
              "  prénom         somme.x somme.y ratio       \n",
              "1 Marie          2232238  26897     82.992081\n",
              "2 _Prenoms_rares  854078 799188      1.068682\n",
              "3 Jeanne          559349     88   6356.238636\n",
              "4 Françoise       401487     34  11808.441176\n",
              "5 Monique         399762    440    908.550000\n",
              "6 Catherine       394674    229   1723.467249"
            ]
          },
          "metadata": {},
          "output_type": "display_data"
        }
      ],
      "source": [
        "inner_join(prenom_F, prenom_H, by = \"prénom\") %>% select(prénom, somme.x, somme.y) %>% mutate(ratio =somme.x/somme.y) %>% head()"
      ]
    },
    {
      "cell_type": "code",
      "execution_count": 79,
      "metadata": {
        "id": "Von5hwCZbycT"
      },
      "outputs": [
        {
          "data": {
            "text/html": [
              "<table class=\"dataframe\">\n",
              "<caption>A tibble: 6 × 4</caption>\n",
              "<thead>\n",
              "\t<tr><th scope=col>prénom</th><th scope=col>somme.x</th><th scope=col>somme.y</th><th scope=col>ratio</th></tr>\n",
              "\t<tr><th scope=col>&lt;chr&gt;</th><th scope=col>&lt;int&gt;</th><th scope=col>&lt;int&gt;</th><th scope=col>&lt;dbl&gt;</th></tr>\n",
              "</thead>\n",
              "<tbody>\n",
              "\t<tr><td>Marie         </td><td>2232238</td><td> 26897</td><td>   82.992081</td></tr>\n",
              "\t<tr><td>_Prenoms_rares</td><td> 854078</td><td>799188</td><td>    1.068682</td></tr>\n",
              "\t<tr><td>Jeanne        </td><td> 559349</td><td>    88</td><td> 6356.238636</td></tr>\n",
              "\t<tr><td>Françoise     </td><td> 401487</td><td>    34</td><td>11808.441176</td></tr>\n",
              "\t<tr><td>Monique       </td><td> 399762</td><td>   440</td><td>  908.550000</td></tr>\n",
              "\t<tr><td>Catherine     </td><td> 394674</td><td>   229</td><td> 1723.467249</td></tr>\n",
              "</tbody>\n",
              "</table>\n"
            ],
            "text/latex": [
              "A tibble: 6 × 4\n",
              "\\begin{tabular}{llll}\n",
              " prénom & somme.x & somme.y & ratio\\\\\n",
              " <chr> & <int> & <int> & <dbl>\\\\\n",
              "\\hline\n",
              "\t Marie          & 2232238 &  26897 &    82.992081\\\\\n",
              "\t \\_Prenoms\\_rares &  854078 & 799188 &     1.068682\\\\\n",
              "\t Jeanne         &  559349 &     88 &  6356.238636\\\\\n",
              "\t Françoise      &  401487 &     34 & 11808.441176\\\\\n",
              "\t Monique        &  399762 &    440 &   908.550000\\\\\n",
              "\t Catherine      &  394674 &    229 &  1723.467249\\\\\n",
              "\\end{tabular}\n"
            ],
            "text/markdown": [
              "\n",
              "A tibble: 6 × 4\n",
              "\n",
              "| prénom &lt;chr&gt; | somme.x &lt;int&gt; | somme.y &lt;int&gt; | ratio &lt;dbl&gt; |\n",
              "|---|---|---|---|\n",
              "| Marie          | 2232238 |  26897 |    82.992081 |\n",
              "| _Prenoms_rares |  854078 | 799188 |     1.068682 |\n",
              "| Jeanne         |  559349 |     88 |  6356.238636 |\n",
              "| Françoise      |  401487 |     34 | 11808.441176 |\n",
              "| Monique        |  399762 |    440 |   908.550000 |\n",
              "| Catherine      |  394674 |    229 |  1723.467249 |\n",
              "\n"
            ],
            "text/plain": [
              "  prénom         somme.x somme.y ratio       \n",
              "1 Marie          2232238  26897     82.992081\n",
              "2 _Prenoms_rares  854078 799188      1.068682\n",
              "3 Jeanne          559349     88   6356.238636\n",
              "4 Françoise       401487     34  11808.441176\n",
              "5 Monique         399762    440    908.550000\n",
              "6 Catherine       394674    229   1723.467249"
            ]
          },
          "metadata": {},
          "output_type": "display_data"
        }
      ],
      "source": [
        "dataHF <- inner_join(prenom_F, prenom_H, by = \"prénom\") %>% select(prénom, somme.x, somme.y) %>% mutate(ratio =somme.x/somme.y)\n",
        "head(dataHF)"
      ]
    },
    {
      "cell_type": "markdown",
      "metadata": {
        "id": "fkkZ_4RUbycT"
      },
      "source": [
        "#### Etape 4: Filtrer"
      ]
    },
    {
      "cell_type": "code",
      "execution_count": 90,
      "metadata": {
        "colab": {
          "base_uri": "https://localhost:8080/",
          "height": 183
        },
        "id": "slc9vW6jm19E",
        "outputId": "46f10408-4708-426e-c5ae-9caf09400bfd"
      },
      "outputs": [
        {
          "data": {
            "text/html": [
              "<table class=\"dataframe\">\n",
              "<caption>A tibble: 5 × 4</caption>\n",
              "<thead>\n",
              "\t<tr><th scope=col>prénom</th><th scope=col>nb_femme</th><th scope=col>nb_homme</th><th scope=col>ratio</th></tr>\n",
              "\t<tr><th scope=col>&lt;chr&gt;</th><th scope=col>&lt;int&gt;</th><th scope=col>&lt;int&gt;</th><th scope=col>&lt;dbl&gt;</th></tr>\n",
              "</thead>\n",
              "<tbody>\n",
              "\t<tr><td>Marie    </td><td>2232238</td><td>26897</td><td>0.9880941</td></tr>\n",
              "\t<tr><td>Jeanne   </td><td> 559349</td><td>   88</td><td>0.9998427</td></tr>\n",
              "\t<tr><td>Françoise</td><td> 401487</td><td>   34</td><td>0.9999153</td></tr>\n",
              "\t<tr><td>Monique  </td><td> 399762</td><td>  440</td><td>0.9989006</td></tr>\n",
              "\t<tr><td>Catherine</td><td> 394674</td><td>  229</td><td>0.9994201</td></tr>\n",
              "</tbody>\n",
              "</table>\n"
            ],
            "text/latex": [
              "A tibble: 5 × 4\n",
              "\\begin{tabular}{llll}\n",
              " prénom & nb\\_femme & nb\\_homme & ratio\\\\\n",
              " <chr> & <int> & <int> & <dbl>\\\\\n",
              "\\hline\n",
              "\t Marie     & 2232238 & 26897 & 0.9880941\\\\\n",
              "\t Jeanne    &  559349 &    88 & 0.9998427\\\\\n",
              "\t Françoise &  401487 &    34 & 0.9999153\\\\\n",
              "\t Monique   &  399762 &   440 & 0.9989006\\\\\n",
              "\t Catherine &  394674 &   229 & 0.9994201\\\\\n",
              "\\end{tabular}\n"
            ],
            "text/markdown": [
              "\n",
              "A tibble: 5 × 4\n",
              "\n",
              "| prénom &lt;chr&gt; | nb_femme &lt;int&gt; | nb_homme &lt;int&gt; | ratio &lt;dbl&gt; |\n",
              "|---|---|---|---|\n",
              "| Marie     | 2232238 | 26897 | 0.9880941 |\n",
              "| Jeanne    |  559349 |    88 | 0.9998427 |\n",
              "| Françoise |  401487 |    34 | 0.9999153 |\n",
              "| Monique   |  399762 |   440 | 0.9989006 |\n",
              "| Catherine |  394674 |   229 | 0.9994201 |\n",
              "\n"
            ],
            "text/plain": [
              "  prénom    nb_femme nb_homme ratio    \n",
              "1 Marie     2232238  26897    0.9880941\n",
              "2 Jeanne     559349     88    0.9998427\n",
              "3 Françoise  401487     34    0.9999153\n",
              "4 Monique    399762    440    0.9989006\n",
              "5 Catherine  394674    229    0.9994201"
            ]
          },
          "metadata": {},
          "output_type": "display_data"
        }
      ],
      "source": [
        "data_h_f %>% filter(ratio > 0.97) %>% head(5)\n"
      ]
    },
    {
      "cell_type": "code",
      "execution_count": 95,
      "metadata": {
        "colab": {
          "base_uri": "https://localhost:8080/",
          "height": 183
        },
        "id": "Ib8S8J32bycT",
        "outputId": "60060a71-23da-47bd-9762-a10ae509fdd3"
      },
      "outputs": [
        {
          "data": {
            "text/html": [
              "<table class=\"dataframe\">\n",
              "<caption>A tibble: 10 × 4</caption>\n",
              "<thead>\n",
              "\t<tr><th scope=col>prénom</th><th scope=col>somme.x</th><th scope=col>somme.y</th><th scope=col>ratio</th></tr>\n",
              "\t<tr><th scope=col>&lt;chr&gt;</th><th scope=col>&lt;int&gt;</th><th scope=col>&lt;int&gt;</th><th scope=col>&lt;dbl&gt;</th></tr>\n",
              "</thead>\n",
              "<tbody>\n",
              "\t<tr><td>_Prenoms_rares</td><td>854078</td><td>799188</td><td>1.0686822</td></tr>\n",
              "\t<tr><td>Charlie       </td><td> 11846</td><td> 13086</td><td>0.9052422</td></tr>\n",
              "\t<tr><td>Yael          </td><td>  3002</td><td>  3080</td><td>0.9746753</td></tr>\n",
              "\t<tr><td>Gaby          </td><td>  2327</td><td>  2089</td><td>1.1139301</td></tr>\n",
              "\t<tr><td>Yaël          </td><td>  1344</td><td>  1571</td><td>0.8555060</td></tr>\n",
              "\t<tr><td>Mady          </td><td>  1046</td><td>   972</td><td>1.0761317</td></tr>\n",
              "\t<tr><td>Rosario       </td><td>   782</td><td>   755</td><td>1.0357616</td></tr>\n",
              "\t<tr><td>Medine        </td><td>   627</td><td>   630</td><td>0.9952381</td></tr>\n",
              "\t<tr><td>Paris         </td><td>   343</td><td>   299</td><td>1.1471572</td></tr>\n",
              "\t<tr><td>Milane        </td><td>   285</td><td>   301</td><td>0.9468439</td></tr>\n",
              "</tbody>\n",
              "</table>\n"
            ],
            "text/latex": [
              "A tibble: 10 × 4\n",
              "\\begin{tabular}{llll}\n",
              " prénom & somme.x & somme.y & ratio\\\\\n",
              " <chr> & <int> & <int> & <dbl>\\\\\n",
              "\\hline\n",
              "\t \\_Prenoms\\_rares & 854078 & 799188 & 1.0686822\\\\\n",
              "\t Charlie        &  11846 &  13086 & 0.9052422\\\\\n",
              "\t Yael           &   3002 &   3080 & 0.9746753\\\\\n",
              "\t Gaby           &   2327 &   2089 & 1.1139301\\\\\n",
              "\t Yaël           &   1344 &   1571 & 0.8555060\\\\\n",
              "\t Mady           &   1046 &    972 & 1.0761317\\\\\n",
              "\t Rosario        &    782 &    755 & 1.0357616\\\\\n",
              "\t Medine         &    627 &    630 & 0.9952381\\\\\n",
              "\t Paris          &    343 &    299 & 1.1471572\\\\\n",
              "\t Milane         &    285 &    301 & 0.9468439\\\\\n",
              "\\end{tabular}\n"
            ],
            "text/markdown": [
              "\n",
              "A tibble: 10 × 4\n",
              "\n",
              "| prénom &lt;chr&gt; | somme.x &lt;int&gt; | somme.y &lt;int&gt; | ratio &lt;dbl&gt; |\n",
              "|---|---|---|---|\n",
              "| _Prenoms_rares | 854078 | 799188 | 1.0686822 |\n",
              "| Charlie        |  11846 |  13086 | 0.9052422 |\n",
              "| Yael           |   3002 |   3080 | 0.9746753 |\n",
              "| Gaby           |   2327 |   2089 | 1.1139301 |\n",
              "| Yaël           |   1344 |   1571 | 0.8555060 |\n",
              "| Mady           |   1046 |    972 | 1.0761317 |\n",
              "| Rosario        |    782 |    755 | 1.0357616 |\n",
              "| Medine         |    627 |    630 | 0.9952381 |\n",
              "| Paris          |    343 |    299 | 1.1471572 |\n",
              "| Milane         |    285 |    301 | 0.9468439 |\n",
              "\n"
            ],
            "text/plain": [
              "   prénom         somme.x somme.y ratio    \n",
              "1  _Prenoms_rares 854078  799188  1.0686822\n",
              "2  Charlie         11846   13086  0.9052422\n",
              "3  Yael             3002    3080  0.9746753\n",
              "4  Gaby             2327    2089  1.1139301\n",
              "5  Yaël             1344    1571  0.8555060\n",
              "6  Mady             1046     972  1.0761317\n",
              "7  Rosario           782     755  1.0357616\n",
              "8  Medine            627     630  0.9952381\n",
              "9  Paris             343     299  1.1471572\n",
              "10 Milane            285     301  0.9468439"
            ]
          },
          "metadata": {},
          "output_type": "display_data"
        }
      ],
      "source": [
        "dataHF %>% filter((ratio > 0.85) & (ratio < 1.15 )) %>% head(10) #%>% select(prénom) "
      ]
    }
  ],
  "metadata": {
    "colab": {
      "collapsed_sections": [],
      "name": "Correction Question 2 (1).ipynb",
      "provenance": []
    },
    "kernelspec": {
      "display_name": "R",
      "language": "R",
      "name": "ir"
    },
    "language_info": {
      "codemirror_mode": "r",
      "file_extension": ".r",
      "mimetype": "text/x-r-source",
      "name": "R",
      "pygments_lexer": "r",
      "version": "4.1.1"
    }
  },
  "nbformat": 4,
  "nbformat_minor": 0
}
