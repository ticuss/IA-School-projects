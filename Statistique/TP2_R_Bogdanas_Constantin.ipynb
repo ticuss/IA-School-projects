{
 "cells": [
  {
   "cell_type": "markdown",
   "id": "40317ff3",
   "metadata": {},
   "source": [
    "# TP2_R\n"
   ]
  },
  {
   "cell_type": "markdown",
   "id": "236afcaf",
   "metadata": {},
   "source": [
    "## 3. Exercices d'application"
   ]
  },
  {
   "cell_type": "markdown",
   "id": "66920a04",
   "metadata": {},
   "source": [
    "1. En utilisant une boucle for, calculer les 12 premiers termes de la suite de Fibonacci.\n",
    "2. Changez les deux premiers termes de la suite en 2 et 2 et calculer les 12 premiers termes de\n",
    "la nouvelle suite.\n",
    "3. En utilisant une boucle while, listez tous les termes de la suite de Fibonacci inférieurs à 300.\n",
    "5\n",
    "4. Ecrire une fonction calculant les n pemiers termes de la suite de Fibonacci."
   ]
  },
  {
   "cell_type": "code",
   "execution_count": 1,
   "id": "e9397514",
   "metadata": {
    "scrolled": false
   },
   "outputs": [],
   "source": [
    "fibonacci <- function(terms){\n",
    "# How many fibanacci terms do you want \n",
    "# first two terms\n",
    "sequence <- c()\n",
    "first = 1\n",
    "second = 1\n",
    "count = 2\n",
    "# if the terms = 1 the code will print the first term if terms = 2 it will print \"first and second\"\n",
    "if(terms == 1) {\n",
    "print(\"Fibonacci sequence:\")\n",
    "print(first) # First term\n",
    "} else {\n",
    "print(\"Fibonacci sequence:\")\n",
    "#print(first) # First term\n",
    "sequence <- c(sequence, first)\n",
    "#print(second) # Second term\n",
    "sequence <- c(sequence, second)\n",
    "\n",
    "while(count < terms) {\n",
    "nth = first + second\n",
    "sequence <- c(sequence, nth)\n",
    "#print(sequence)\n",
    "# update values\n",
    "first = second\n",
    "second = nth\n",
    "count = count + 1\n",
    "\n",
    "}\n",
    "}\n",
    "return (sequence)\n",
    "}\n"
   ]
  },
  {
   "cell_type": "markdown",
   "id": "4c5d21ef",
   "metadata": {},
   "source": [
    " 5. Calculer les 30 premiers termes de la suite de terme général yn = xn/xn−1, n = 2, . . . ∞.\n",
    "y2 = x2/x1 \n",
    "y2 = x3/x2 \n",
    "y30 = x30/X29 \n",
    "\n",
    " ...\n",
    " \n",
    " \n",
    " "
   ]
  },
  {
   "cell_type": "code",
   "execution_count": 2,
   "id": "4b4eb964",
   "metadata": {},
   "outputs": [
    {
     "name": "stdout",
     "output_type": "stream",
     "text": [
      "[1] \"Fibonacci sequence:\"\n",
      "[1] 1.618034\n",
      "[1] 1.618034\n",
      "[1] 1.618034\n",
      "[1] 1.618034\n",
      "[1] 1.618034\n",
      "[1] 1.618034\n",
      "[1] 1.618034\n",
      "[1] 1.618034\n",
      "[1] 1.618034\n",
      "[1] 1.618034\n",
      "[1] 1.618034\n",
      "[1] 1.618034\n",
      "[1] 1.618034\n",
      "[1] 1.618034\n",
      "[1] 1.618034\n",
      "[1] 1.618034\n",
      "[1] 1.618034\n",
      "[1] 1.618033\n",
      "[1] 1.618037\n",
      "[1] 1.618026\n",
      "[1] 1.618056\n",
      "[1] 1.617978\n",
      "[1] 1.618182\n",
      "[1] 1.617647\n",
      "[1] 1.619048\n",
      "[1] 1.615385\n",
      "[1] 1.625\n",
      "[1] 1.6\n",
      "[1] 1.666667\n",
      "[1] 1.5\n",
      "[1] 2\n"
     ]
    }
   ],
   "source": [
    "yFunction <- function() {\n",
    "iterations = 33\n",
    "sequence = fibonacci(iterations)\n",
    "for (i in length(sequence):1) {\n",
    "   if(i <= 2 ){break}\n",
    "yValue = sequence[i]/ sequence[i-1]\n",
    "print(yValue)\n",
    "   }\n",
    "}\n",
    "\n",
    "yFunction()"
   ]
  },
  {
   "cell_type": "markdown",
   "id": "2d18663e",
   "metadata": {},
   "source": [
    "Oui, la suite est convergente car on voit bien que la suite a pas une limite unique et non infini"
   ]
  },
  {
   "cell_type": "code",
   "execution_count": 3,
   "id": "5fed9021",
   "metadata": {},
   "outputs": [
    {
     "data": {
      "text/html": [
       "1.61803398874989"
      ],
      "text/latex": [
       "1.61803398874989"
      ],
      "text/markdown": [
       "1.61803398874989"
      ],
      "text/plain": [
       "[1] 1.618034"
      ]
     },
     "metadata": {},
     "output_type": "display_data"
    }
   ],
   "source": [
    "(1+sqrt(5))/2"
   ]
  },
  {
   "cell_type": "markdown",
   "id": "a2d9622f",
   "metadata": {},
   "source": [
    "## Calcul d'interêts\n",
    "1) Ecrire une fonction calculant le montant des intérêts simples produit par un capital P placé pendant n années au taux d'intérêt annuel i."
   ]
  },
  {
   "cell_type": "code",
   "execution_count": 4,
   "id": "2454eaac",
   "metadata": {},
   "outputs": [
    {
     "data": {
      "text/html": [
       "120"
      ],
      "text/latex": [
       "120"
      ],
      "text/markdown": [
       "120"
      ],
      "text/plain": [
       "[1] 120"
      ]
     },
     "metadata": {},
     "output_type": "display_data"
    }
   ],
   "source": [
    "# Choose your capital, how many years, interest rate \n",
    "P <- 1000 # Change your capital \n",
    "n <- 12 # Change this value for how many years you want \n",
    "i <- 1 # Change this value to increase the annual interest. The value is in percentages\n",
    "simpleInterest <- function(P , n , i) {\n",
    "prin = P * (1+i/100)\n",
    "    int = prin - P\n",
    "    totalInterest <- int * n\n",
    "totalInterest    \n",
    "\n",
    "}\n",
    "simpleInterest(P , n , i )\n"
   ]
  },
  {
   "cell_type": "markdown",
   "id": "1b393aae",
   "metadata": {},
   "source": [
    "2. Quel est le montant des intérêts simples produit par 100 euros placés pendant 3 ans à un taux d'intérêt de 4% ?"
   ]
  },
  {
   "cell_type": "code",
   "execution_count": 5,
   "id": "20883005",
   "metadata": {},
   "outputs": [
    {
     "data": {
      "text/html": [
       "12"
      ],
      "text/latex": [
       "12"
      ],
      "text/markdown": [
       "12"
      ],
      "text/plain": [
       "[1] 12"
      ]
     },
     "metadata": {},
     "output_type": "display_data"
    }
   ],
   "source": [
    "simpleInterest(100 , 3 , 4 )\n"
   ]
  },
  {
   "cell_type": "markdown",
   "id": "5b736cfa",
   "metadata": {},
   "source": [
    "3. Ecrire une fonction calculant le montant des intérêts composés produit par un capital P placé pendant n années au taux d'intérêt annuel i."
   ]
  },
  {
   "cell_type": "code",
   "execution_count": 6,
   "id": "89ff95c2",
   "metadata": {},
   "outputs": [
    {
     "data": {
      "text/html": [
       "1046.22125411205"
      ],
      "text/latex": [
       "1046.22125411205"
      ],
      "text/markdown": [
       "1046.22125411205"
      ],
      "text/plain": [
       "[1] 1046.221"
      ]
     },
     "metadata": {},
     "output_type": "display_data"
    }
   ],
   "source": [
    "# Choose your capital, how many years, interest rate \n",
    "P <- 10000 # Change your capital \n",
    "n <- 10 # Change this value for how many years you want \n",
    "i <- 1 # Change this value to increase the annual interest. The value is in percentages\n",
    "\n",
    "compoundInterest <- function(P , n , i){\n",
    "    prin <- P * (1+i/100)^(0:(n-1))\n",
    "    int  <- prin * i/100\n",
    "    totalInterest <- sum(int)\n",
    "    totalInterest\n",
    "}\n",
    "\n",
    "compoundInterest(P, n, i)"
   ]
  },
  {
   "cell_type": "markdown",
   "id": "8704e438",
   "metadata": {},
   "source": [
    "4.Quel est le montant des intérêts composés produit par 100 euros placés pendant 3 ans à un taux d'intérêt de 4% ?"
   ]
  },
  {
   "cell_type": "code",
   "execution_count": 7,
   "id": "e409df93",
   "metadata": {},
   "outputs": [
    {
     "data": {
      "text/html": [
       "12.4864"
      ],
      "text/latex": [
       "12.4864"
      ],
      "text/markdown": [
       "12.4864"
      ],
      "text/plain": [
       "[1] 12.4864"
      ]
     },
     "metadata": {},
     "output_type": "display_data"
    }
   ],
   "source": [
    "compoundInterest(100,3,4)"
   ]
  }
 ],
 "metadata": {
  "kernelspec": {
   "display_name": "R",
   "language": "R",
   "name": "ir"
  },
  "language_info": {
   "codemirror_mode": "r",
   "file_extension": ".r",
   "mimetype": "text/x-r-source",
   "name": "R",
   "pygments_lexer": "r",
   "version": "4.1.1"
  }
 },
 "nbformat": 4,
 "nbformat_minor": 5
}
