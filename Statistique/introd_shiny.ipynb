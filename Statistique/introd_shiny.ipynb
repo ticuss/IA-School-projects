{
 "cells": [
  {
   "cell_type": "code",
   "execution_count": 4,
   "metadata": {},
   "outputs": [
    {
     "name": "stderr",
     "output_type": "stream",
     "text": [
      "\n",
      "Listening on http://127.0.0.1:3548\n",
      "\n"
     ]
    }
   ],
   "source": [
    "library(shiny)\n",
    "runExample(\"01_hello\")\n"
   ]
  },
  {
   "cell_type": "code",
   "execution_count": null,
   "metadata": {},
   "outputs": [],
   "source": [
    "library(shiny)\n",
    "ui <- fluidPage()\n",
    "server <- function(input, output) {\n",
    "    htmlOutput(\"summary\")\n",
    "}\n",
    "\n",
    "shinyApp(ui = ui, server = server)"
   ]
  },
  {
   "cell_type": "code",
   "execution_count": null,
   "metadata": {},
   "outputs": [],
   "source": []
  }
 ],
 "metadata": {
  "kernelspec": {
   "display_name": "R",
   "language": "R",
   "name": "ir"
  },
  "language_info": {
   "codemirror_mode": "r",
   "file_extension": ".r",
   "mimetype": "text/x-r-source",
   "name": "R",
   "pygments_lexer": "r",
   "version": "4.1.1"
  },
  "orig_nbformat": 4
 },
 "nbformat": 4,
 "nbformat_minor": 2
}
