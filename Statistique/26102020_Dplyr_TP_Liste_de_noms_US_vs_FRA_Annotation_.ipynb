{
  "nbformat": 4,
  "nbformat_minor": 0,
  "metadata": {
    "kernelspec": {
      "display_name": "R",
      "language": "R",
      "name": "ir"
    },
    "language_info": {
      "codemirror_mode": "r",
      "file_extension": ".r",
      "mimetype": "text/x-r-source",
      "name": "R",
      "pygments_lexer": "r",
      "version": "3.6.1"
    },
    "colab": {
      "name": "26102020_Dplyr_TP_Liste_de_noms_US_vs_FRA_Annotation_.ipynb",
      "provenance": [],
      "toc_visible": true
    }
  },
  "cells": [
    {
      "cell_type": "markdown",
      "metadata": {
        "id": "r9o2W0vYBm6-"
      },
      "source": [
        "### Analyse statistique et manipulation de données\n"
      ]
    },
    {
      "cell_type": "markdown",
      "metadata": {
        "id": "43mcjD72Bm6_"
      },
      "source": [
        "![image.png](attachment:image.png)"
      ]
    },
    {
      "cell_type": "markdown",
      "metadata": {
        "id": "WhSXaMOtBm7A"
      },
      "source": [
        "Plan:\n",
        "\n",
        "1. Chargement des données\n",
        "2. Statistique descriptive\n",
        "3. Manipulation des données avec dplyr\n"
      ]
    },
    {
      "cell_type": "code",
      "metadata": {
        "id": "yxcp3EOPBm7A",
        "colab": {
          "base_uri": "https://localhost:8080/",
          "height": 218
        },
        "outputId": "2a3b1a78-2304-421c-ea8e-a65086b76a05"
      },
      "source": [
        "# Définition du nom d fichier\n",
        "filename <- \"data_prenom_US.csv\" \n",
        "# Chargement du fichier\n",
        "dataset <- read.csv(filename, header=TRUE) "
      ],
      "execution_count": null,
      "outputs": [
        {
          "output_type": "stream",
          "text": [
            "Warning message in file(file, \"rt\"):\n",
            "“cannot open file 'data_prenom_US.csv': No such file or directory”\n"
          ],
          "name": "stderr"
        },
        {
          "output_type": "error",
          "ename": "ERROR",
          "evalue": "ignored",
          "traceback": [
            "Error in file(file, \"rt\"): cannot open the connection\nTraceback:\n",
            "1. read.csv(filename, header = TRUE)",
            "2. read.table(file = file, header = header, sep = sep, quote = quote, \n .     dec = dec, fill = fill, comment.char = comment.char, ...)",
            "3. file(file, \"rt\")"
          ]
        }
      ]
    },
    {
      "cell_type": "code",
      "metadata": {
        "id": "CIJqVtV7Bm7D",
        "colab": {
          "base_uri": "https://localhost:8080/",
          "height": 97
        },
        "outputId": "ab1de6ef-7886-4941-97e5-7021cfad0c7d"
      },
      "source": [
        "#### Chanement du nom des colonnes\n",
        "names(dataset) <- c(\"X\", \"année\", \"prénom\", \"genre\", \"naissance\")\n",
        "# Affichage des 5 premières lignes\n",
        "head(dataset)"
      ],
      "execution_count": null,
      "outputs": [
        {
          "output_type": "error",
          "ename": "ERROR",
          "evalue": "ignored",
          "traceback": [
            "Error in names(dataset) <- c(\"X\", \"année\", \"prénom\", \"genre\", \"naissance\"): object 'dataset' not found\nTraceback:\n"
          ]
        }
      ]
    },
    {
      "cell_type": "code",
      "metadata": {
        "id": "bF0QR2KzBm7G",
        "outputId": "c064b125-9fe9-4e58-b9d6-7135f620dbc0"
      },
      "source": [
        "tail(dataset)"
      ],
      "execution_count": null,
      "outputs": [
        {
          "output_type": "display_data",
          "data": {
            "text/html": [
              "<table>\n",
              "<thead><tr><th></th><th scope=col>X</th><th scope=col>année</th><th scope=col>prénom</th><th scope=col>genre</th><th scope=col>naissance</th></tr></thead>\n",
              "<tbody>\n",
              "\t<tr><th scope=row>1891889</th><td>1891888</td><td>2016   </td><td>Zoel   </td><td>M      </td><td>5      </td></tr>\n",
              "\t<tr><th scope=row>1891890</th><td>1891889</td><td>2016   </td><td>Zolton </td><td>M      </td><td>5      </td></tr>\n",
              "\t<tr><th scope=row>1891891</th><td>1891890</td><td>2016   </td><td>Zurich </td><td>M      </td><td>5      </td></tr>\n",
              "\t<tr><th scope=row>1891892</th><td>1891891</td><td>2016   </td><td>Zyahir </td><td>M      </td><td>5      </td></tr>\n",
              "\t<tr><th scope=row>1891893</th><td>1891892</td><td>2016   </td><td>Zyel   </td><td>M      </td><td>5      </td></tr>\n",
              "\t<tr><th scope=row>1891894</th><td>1891893</td><td>2016   </td><td>Zylyn  </td><td>M      </td><td>5      </td></tr>\n",
              "</tbody>\n",
              "</table>\n"
            ],
            "text/latex": "\\begin{tabular}{r|lllll}\n  & X & année & prénom & genre & naissance\\\\\n\\hline\n\t1891889 & 1891888 & 2016    & Zoel    & M       & 5      \\\\\n\t1891890 & 1891889 & 2016    & Zolton  & M       & 5      \\\\\n\t1891891 & 1891890 & 2016    & Zurich  & M       & 5      \\\\\n\t1891892 & 1891891 & 2016    & Zyahir  & M       & 5      \\\\\n\t1891893 & 1891892 & 2016    & Zyel    & M       & 5      \\\\\n\t1891894 & 1891893 & 2016    & Zylyn   & M       & 5      \\\\\n\\end{tabular}\n",
            "text/markdown": "\n| <!--/--> | X | année | prénom | genre | naissance |\n|---|---|---|---|---|---|\n| 1891889 | 1891888 | 2016    | Zoel    | M       | 5       |\n| 1891890 | 1891889 | 2016    | Zolton  | M       | 5       |\n| 1891891 | 1891890 | 2016    | Zurich  | M       | 5       |\n| 1891892 | 1891891 | 2016    | Zyahir  | M       | 5       |\n| 1891893 | 1891892 | 2016    | Zyel    | M       | 5       |\n| 1891894 | 1891893 | 2016    | Zylyn   | M       | 5       |\n\n",
            "text/plain": [
              "        X       année prénom genre naissance\n",
              "1891889 1891888 2016  Zoel   M     5        \n",
              "1891890 1891889 2016  Zolton M     5        \n",
              "1891891 1891890 2016  Zurich M     5        \n",
              "1891892 1891891 2016  Zyahir M     5        \n",
              "1891893 1891892 2016  Zyel   M     5        \n",
              "1891894 1891893 2016  Zylyn  M     5        "
            ]
          },
          "metadata": {
            "tags": []
          }
        }
      ]
    },
    {
      "cell_type": "code",
      "metadata": {
        "id": "8Z0gdb0hBm7I",
        "outputId": "7325fa64-a550-466a-b78c-e12aa956b955"
      },
      "source": [
        "### Dimension des données\n",
        "\n",
        "dim(dataset)"
      ],
      "execution_count": null,
      "outputs": [
        {
          "output_type": "display_data",
          "data": {
            "text/html": [
              "<ol class=list-inline>\n",
              "\t<li>1891894</li>\n",
              "\t<li>5</li>\n",
              "</ol>\n"
            ],
            "text/latex": "\\begin{enumerate*}\n\\item 1891894\n\\item 5\n\\end{enumerate*}\n",
            "text/markdown": "1. 1891894\n2. 5\n\n\n",
            "text/plain": [
              "[1] 1891894       5"
            ]
          },
          "metadata": {
            "tags": []
          }
        }
      ]
    },
    {
      "cell_type": "code",
      "metadata": {
        "id": "CdFej-_BBm7L",
        "outputId": "e2053920-9404-43c9-b4e1-4c2250879d7e"
      },
      "source": [
        "#### Type de données pour chaque variable\n",
        "sapply(dataset, class)"
      ],
      "execution_count": null,
      "outputs": [
        {
          "output_type": "display_data",
          "data": {
            "text/html": [
              "<dl class=dl-horizontal>\n",
              "\t<dt>X</dt>\n",
              "\t\t<dd>'integer'</dd>\n",
              "\t<dt>année</dt>\n",
              "\t\t<dd>'integer'</dd>\n",
              "\t<dt>prénom</dt>\n",
              "\t\t<dd>'factor'</dd>\n",
              "\t<dt>genre</dt>\n",
              "\t\t<dd>'factor'</dd>\n",
              "\t<dt>naissance</dt>\n",
              "\t\t<dd>'integer'</dd>\n",
              "</dl>\n"
            ],
            "text/latex": "\\begin{description*}\n\\item[X] 'integer'\n\\item[année] 'integer'\n\\item[prénom] 'factor'\n\\item[genre] 'factor'\n\\item[naissance] 'integer'\n\\end{description*}\n",
            "text/markdown": "X\n:   'integer'année\n:   'integer'prénom\n:   'factor'genre\n:   'factor'naissance\n:   'integer'\n\n",
            "text/plain": [
              "        X     année    prénom     genre naissance \n",
              "\"integer\" \"integer\"  \"factor\"  \"factor\" \"integer\" "
            ]
          },
          "metadata": {
            "tags": []
          }
        }
      ]
    },
    {
      "cell_type": "code",
      "metadata": {
        "id": "Y8reGYcRBm7N",
        "outputId": "027ff1f9-f158-4aa4-8f77-331d1875175f"
      },
      "source": [
        "head(dataset$X,20) ### Sélectionner une colonne dans un dataframe"
      ],
      "execution_count": null,
      "outputs": [
        {
          "output_type": "display_data",
          "data": {
            "text/html": [
              "<ol class=list-inline>\n",
              "\t<li>0</li>\n",
              "\t<li>1</li>\n",
              "\t<li>2</li>\n",
              "\t<li>3</li>\n",
              "\t<li>4</li>\n",
              "\t<li>5</li>\n",
              "\t<li>6</li>\n",
              "\t<li>7</li>\n",
              "\t<li>8</li>\n",
              "\t<li>9</li>\n",
              "\t<li>10</li>\n",
              "\t<li>11</li>\n",
              "\t<li>12</li>\n",
              "\t<li>13</li>\n",
              "\t<li>14</li>\n",
              "\t<li>15</li>\n",
              "\t<li>16</li>\n",
              "\t<li>17</li>\n",
              "\t<li>18</li>\n",
              "\t<li>19</li>\n",
              "</ol>\n"
            ],
            "text/latex": "\\begin{enumerate*}\n\\item 0\n\\item 1\n\\item 2\n\\item 3\n\\item 4\n\\item 5\n\\item 6\n\\item 7\n\\item 8\n\\item 9\n\\item 10\n\\item 11\n\\item 12\n\\item 13\n\\item 14\n\\item 15\n\\item 16\n\\item 17\n\\item 18\n\\item 19\n\\end{enumerate*}\n",
            "text/markdown": "1. 0\n2. 1\n3. 2\n4. 3\n5. 4\n6. 5\n7. 6\n8. 7\n9. 8\n10. 9\n11. 10\n12. 11\n13. 12\n14. 13\n15. 14\n16. 15\n17. 16\n18. 17\n19. 18\n20. 19\n\n\n",
            "text/plain": [
              " [1]  0  1  2  3  4  5  6  7  8  9 10 11 12 13 14 15 16 17 18 19"
            ]
          },
          "metadata": {
            "tags": []
          }
        }
      ]
    },
    {
      "cell_type": "code",
      "metadata": {
        "id": "wtjUmfRVBm7Q",
        "outputId": "5bc3f6be-7377-4f69-a655-48c3c838df8e"
      },
      "source": [
        "head(as.character(dataset$X),5) #### Chaine de caractère"
      ],
      "execution_count": null,
      "outputs": [
        {
          "output_type": "display_data",
          "data": {
            "text/html": [
              "<ol class=list-inline>\n",
              "\t<li>'0'</li>\n",
              "\t<li>'1'</li>\n",
              "\t<li>'2'</li>\n",
              "\t<li>'3'</li>\n",
              "\t<li>'4'</li>\n",
              "</ol>\n"
            ],
            "text/latex": "\\begin{enumerate*}\n\\item '0'\n\\item '1'\n\\item '2'\n\\item '3'\n\\item '4'\n\\end{enumerate*}\n",
            "text/markdown": "1. '0'\n2. '1'\n3. '2'\n4. '3'\n5. '4'\n\n\n",
            "text/plain": [
              "[1] \"0\" \"1\" \"2\" \"3\" \"4\""
            ]
          },
          "metadata": {
            "tags": []
          }
        }
      ]
    },
    {
      "cell_type": "code",
      "metadata": {
        "id": "-WTpTDb5Bm7U"
      },
      "source": [
        "dataset$X <- as.character(dataset$X) #### On transforme la colonne X en chaines de caractères"
      ],
      "execution_count": null,
      "outputs": []
    },
    {
      "cell_type": "code",
      "metadata": {
        "id": "o5WVqPU9Bm7W",
        "outputId": "5f37a5d4-85cd-41b3-ed9d-23f519b3fcb7"
      },
      "source": [
        "#### Type de données pour chaque variable\n",
        "sapply(dataset, class)"
      ],
      "execution_count": null,
      "outputs": [
        {
          "output_type": "display_data",
          "data": {
            "text/html": [
              "<dl class=dl-horizontal>\n",
              "\t<dt>X</dt>\n",
              "\t\t<dd>'character'</dd>\n",
              "\t<dt>année</dt>\n",
              "\t\t<dd>'integer'</dd>\n",
              "\t<dt>prénom</dt>\n",
              "\t\t<dd>'factor'</dd>\n",
              "\t<dt>genre</dt>\n",
              "\t\t<dd>'factor'</dd>\n",
              "\t<dt>naissance</dt>\n",
              "\t\t<dd>'integer'</dd>\n",
              "</dl>\n"
            ],
            "text/latex": "\\begin{description*}\n\\item[X] 'character'\n\\item[année] 'integer'\n\\item[prénom] 'factor'\n\\item[genre] 'factor'\n\\item[naissance] 'integer'\n\\end{description*}\n",
            "text/markdown": "X\n:   'character'année\n:   'integer'prénom\n:   'factor'genre\n:   'factor'naissance\n:   'integer'\n\n",
            "text/plain": [
              "          X       année      prénom       genre   naissance \n",
              "\"character\"   \"integer\"    \"factor\"    \"factor\"   \"integer\" "
            ]
          },
          "metadata": {
            "tags": []
          }
        }
      ]
    },
    {
      "cell_type": "code",
      "metadata": {
        "id": "TuugsZSTBm7Y",
        "outputId": "a74ca5cd-5c0e-4390-a4c4-0f0f3cd7e12d"
      },
      "source": [
        "#### Summury des données\n",
        "\n",
        "summary(dataset)"
      ],
      "execution_count": null,
      "outputs": [
        {
          "output_type": "display_data",
          "data": {
            "text/plain": [
              "      X                 année          prénom        genre      \n",
              " Length:1891894     Min.   :1880   Francis:    274   F:1119824  \n",
              " Class :character   1st Qu.:1951   James  :    274   M: 772070  \n",
              " Mode  :character   Median :1984   Jean   :    274              \n",
              "                    Mean   :1974   Jesse  :    274              \n",
              "                    3rd Qu.:2002   Jessie :    274              \n",
              "                    Max.   :2016   John   :    274              \n",
              "                                   (Other):1890250              \n",
              "   naissance      \n",
              " Min.   :    5.0  \n",
              " 1st Qu.:    7.0  \n",
              " Median :   12.0  \n",
              " Mean   :  182.1  \n",
              " 3rd Qu.:   32.0  \n",
              " Max.   :99685.0  \n",
              "                  "
            ]
          },
          "metadata": {
            "tags": []
          }
        }
      ]
    },
    {
      "cell_type": "code",
      "metadata": {
        "id": "XlNNIAbsBm7b",
        "outputId": "24b0492b-645c-493b-eaaf-7f0b65a66200"
      },
      "source": [
        "#### Standard Deviations\n",
        "\n",
        "sapply(dataset, sd)"
      ],
      "execution_count": null,
      "outputs": [
        {
          "output_type": "error",
          "ename": "ERROR",
          "evalue": "Error in var(if (is.vector(x) || is.factor(x)) x else as.double(x), na.rm = na.rm): Calling var(x) on a factor x is defunct.\n  Use something like 'all(duplicated(x)[-1L])' to test for a constant vector.\n",
          "traceback": [
            "Error in var(if (is.vector(x) || is.factor(x)) x else as.double(x), na.rm = na.rm): Calling var(x) on a factor x is defunct.\n  Use something like 'all(duplicated(x)[-1L])' to test for a constant vector.\nTraceback:\n",
            "1. sapply(dataset, sd)",
            "2. lapply(X = X, FUN = FUN, ...)",
            "3. FUN(X[[i]], ...)",
            "4. var(if (is.vector(x) || is.factor(x)) x else as.double(x), na.rm = na.rm)"
          ]
        }
      ]
    },
    {
      "cell_type": "code",
      "metadata": {
        "id": "w4Z0CWcpCHBd",
        "colab": {
          "base_uri": "https://localhost:8080/"
        },
        "outputId": "326567d5-4072-4337-f828-506cc26a0f15"
      },
      "source": [
        "library(\"dplyr\")"
      ],
      "execution_count": null,
      "outputs": [
        {
          "output_type": "stream",
          "text": [
            "\n",
            "Attaching package: ‘dplyr’\n",
            "\n",
            "\n",
            "The following objects are masked from ‘package:stats’:\n",
            "\n",
            "    filter, lag\n",
            "\n",
            "\n",
            "The following objects are masked from ‘package:base’:\n",
            "\n",
            "    intersect, setdiff, setequal, union\n",
            "\n",
            "\n"
          ],
          "name": "stderr"
        }
      ]
    },
    {
      "cell_type": "code",
      "metadata": {
        "id": "quPCeoX6Bm7i",
        "colab": {
          "base_uri": "https://localhost:8080/",
          "height": 202
        },
        "outputId": "4a7d9a01-a610-4b3c-af47-7fa5cdad0593"
      },
      "source": [
        "#### Visualisation des données\n",
        "data(iris)\n",
        "\n",
        "head(iris)"
      ],
      "execution_count": null,
      "outputs": [
        {
          "output_type": "display_data",
          "data": {
            "text/plain": [
              "  Sepal.Length Sepal.Width Petal.Length Petal.Width Species\n",
              "1 5.1          3.5         1.4          0.2         setosa \n",
              "2 4.9          3.0         1.4          0.2         setosa \n",
              "3 4.7          3.2         1.3          0.2         setosa \n",
              "4 4.6          3.1         1.5          0.2         setosa \n",
              "5 5.0          3.6         1.4          0.2         setosa \n",
              "6 5.4          3.9         1.7          0.4         setosa "
            ],
            "text/latex": "A data.frame: 6 × 5\n\\begin{tabular}{r|lllll}\n  & Sepal.Length & Sepal.Width & Petal.Length & Petal.Width & Species\\\\\n  & <dbl> & <dbl> & <dbl> & <dbl> & <fct>\\\\\n\\hline\n\t1 & 5.1 & 3.5 & 1.4 & 0.2 & setosa\\\\\n\t2 & 4.9 & 3.0 & 1.4 & 0.2 & setosa\\\\\n\t3 & 4.7 & 3.2 & 1.3 & 0.2 & setosa\\\\\n\t4 & 4.6 & 3.1 & 1.5 & 0.2 & setosa\\\\\n\t5 & 5.0 & 3.6 & 1.4 & 0.2 & setosa\\\\\n\t6 & 5.4 & 3.9 & 1.7 & 0.4 & setosa\\\\\n\\end{tabular}\n",
            "text/markdown": "\nA data.frame: 6 × 5\n\n| <!--/--> | Sepal.Length &lt;dbl&gt; | Sepal.Width &lt;dbl&gt; | Petal.Length &lt;dbl&gt; | Petal.Width &lt;dbl&gt; | Species &lt;fct&gt; |\n|---|---|---|---|---|---|\n| 1 | 5.1 | 3.5 | 1.4 | 0.2 | setosa |\n| 2 | 4.9 | 3.0 | 1.4 | 0.2 | setosa |\n| 3 | 4.7 | 3.2 | 1.3 | 0.2 | setosa |\n| 4 | 4.6 | 3.1 | 1.5 | 0.2 | setosa |\n| 5 | 5.0 | 3.6 | 1.4 | 0.2 | setosa |\n| 6 | 5.4 | 3.9 | 1.7 | 0.4 | setosa |\n\n",
            "text/html": [
              "<table>\n",
              "<caption>A data.frame: 6 × 5</caption>\n",
              "<thead>\n",
              "\t<tr><th></th><th scope=col>Sepal.Length</th><th scope=col>Sepal.Width</th><th scope=col>Petal.Length</th><th scope=col>Petal.Width</th><th scope=col>Species</th></tr>\n",
              "\t<tr><th></th><th scope=col>&lt;dbl&gt;</th><th scope=col>&lt;dbl&gt;</th><th scope=col>&lt;dbl&gt;</th><th scope=col>&lt;dbl&gt;</th><th scope=col>&lt;fct&gt;</th></tr>\n",
              "</thead>\n",
              "<tbody>\n",
              "\t<tr><th scope=row>1</th><td>5.1</td><td>3.5</td><td>1.4</td><td>0.2</td><td>setosa</td></tr>\n",
              "\t<tr><th scope=row>2</th><td>4.9</td><td>3.0</td><td>1.4</td><td>0.2</td><td>setosa</td></tr>\n",
              "\t<tr><th scope=row>3</th><td>4.7</td><td>3.2</td><td>1.3</td><td>0.2</td><td>setosa</td></tr>\n",
              "\t<tr><th scope=row>4</th><td>4.6</td><td>3.1</td><td>1.5</td><td>0.2</td><td>setosa</td></tr>\n",
              "\t<tr><th scope=row>5</th><td>5.0</td><td>3.6</td><td>1.4</td><td>0.2</td><td>setosa</td></tr>\n",
              "\t<tr><th scope=row>6</th><td>5.4</td><td>3.9</td><td>1.7</td><td>0.4</td><td>setosa</td></tr>\n",
              "</tbody>\n",
              "</table>\n"
            ]
          },
          "metadata": {
            "tags": []
          }
        }
      ]
    },
    {
      "cell_type": "code",
      "metadata": {
        "id": "KEUvExtaByr5",
        "colab": {
          "base_uri": "https://localhost:8080/",
          "height": 1000
        },
        "outputId": "ff429c87-7f79-4f6a-beb3-cb55c165ed27"
      },
      "source": [
        "iris %>% filter(grepl('ver', Species))"
      ],
      "execution_count": null,
      "outputs": [
        {
          "output_type": "display_data",
          "data": {
            "text/plain": [
              "   Sepal.Length Sepal.Width Petal.Length Petal.Width Species   \n",
              "1  7.0          3.2         4.7          1.4         versicolor\n",
              "2  6.4          3.2         4.5          1.5         versicolor\n",
              "3  6.9          3.1         4.9          1.5         versicolor\n",
              "4  5.5          2.3         4.0          1.3         versicolor\n",
              "5  6.5          2.8         4.6          1.5         versicolor\n",
              "6  5.7          2.8         4.5          1.3         versicolor\n",
              "7  6.3          3.3         4.7          1.6         versicolor\n",
              "8  4.9          2.4         3.3          1.0         versicolor\n",
              "9  6.6          2.9         4.6          1.3         versicolor\n",
              "10 5.2          2.7         3.9          1.4         versicolor\n",
              "11 5.0          2.0         3.5          1.0         versicolor\n",
              "12 5.9          3.0         4.2          1.5         versicolor\n",
              "13 6.0          2.2         4.0          1.0         versicolor\n",
              "14 6.1          2.9         4.7          1.4         versicolor\n",
              "15 5.6          2.9         3.6          1.3         versicolor\n",
              "16 6.7          3.1         4.4          1.4         versicolor\n",
              "17 5.6          3.0         4.5          1.5         versicolor\n",
              "18 5.8          2.7         4.1          1.0         versicolor\n",
              "19 6.2          2.2         4.5          1.5         versicolor\n",
              "20 5.6          2.5         3.9          1.1         versicolor\n",
              "21 5.9          3.2         4.8          1.8         versicolor\n",
              "22 6.1          2.8         4.0          1.3         versicolor\n",
              "23 6.3          2.5         4.9          1.5         versicolor\n",
              "24 6.1          2.8         4.7          1.2         versicolor\n",
              "25 6.4          2.9         4.3          1.3         versicolor\n",
              "26 6.6          3.0         4.4          1.4         versicolor\n",
              "27 6.8          2.8         4.8          1.4         versicolor\n",
              "28 6.7          3.0         5.0          1.7         versicolor\n",
              "29 6.0          2.9         4.5          1.5         versicolor\n",
              "30 5.7          2.6         3.5          1.0         versicolor\n",
              "31 5.5          2.4         3.8          1.1         versicolor\n",
              "32 5.5          2.4         3.7          1.0         versicolor\n",
              "33 5.8          2.7         3.9          1.2         versicolor\n",
              "34 6.0          2.7         5.1          1.6         versicolor\n",
              "35 5.4          3.0         4.5          1.5         versicolor\n",
              "36 6.0          3.4         4.5          1.6         versicolor\n",
              "37 6.7          3.1         4.7          1.5         versicolor\n",
              "38 6.3          2.3         4.4          1.3         versicolor\n",
              "39 5.6          3.0         4.1          1.3         versicolor\n",
              "40 5.5          2.5         4.0          1.3         versicolor\n",
              "41 5.5          2.6         4.4          1.2         versicolor\n",
              "42 6.1          3.0         4.6          1.4         versicolor\n",
              "43 5.8          2.6         4.0          1.2         versicolor\n",
              "44 5.0          2.3         3.3          1.0         versicolor\n",
              "45 5.6          2.7         4.2          1.3         versicolor\n",
              "46 5.7          3.0         4.2          1.2         versicolor\n",
              "47 5.7          2.9         4.2          1.3         versicolor\n",
              "48 6.2          2.9         4.3          1.3         versicolor\n",
              "49 5.1          2.5         3.0          1.1         versicolor\n",
              "50 5.7          2.8         4.1          1.3         versicolor"
            ],
            "text/latex": "A data.frame: 50 × 5\n\\begin{tabular}{lllll}\n Sepal.Length & Sepal.Width & Petal.Length & Petal.Width & Species\\\\\n <dbl> & <dbl> & <dbl> & <dbl> & <fct>\\\\\n\\hline\n\t 7.0 & 3.2 & 4.7 & 1.4 & versicolor\\\\\n\t 6.4 & 3.2 & 4.5 & 1.5 & versicolor\\\\\n\t 6.9 & 3.1 & 4.9 & 1.5 & versicolor\\\\\n\t 5.5 & 2.3 & 4.0 & 1.3 & versicolor\\\\\n\t 6.5 & 2.8 & 4.6 & 1.5 & versicolor\\\\\n\t 5.7 & 2.8 & 4.5 & 1.3 & versicolor\\\\\n\t 6.3 & 3.3 & 4.7 & 1.6 & versicolor\\\\\n\t 4.9 & 2.4 & 3.3 & 1.0 & versicolor\\\\\n\t 6.6 & 2.9 & 4.6 & 1.3 & versicolor\\\\\n\t 5.2 & 2.7 & 3.9 & 1.4 & versicolor\\\\\n\t 5.0 & 2.0 & 3.5 & 1.0 & versicolor\\\\\n\t 5.9 & 3.0 & 4.2 & 1.5 & versicolor\\\\\n\t 6.0 & 2.2 & 4.0 & 1.0 & versicolor\\\\\n\t 6.1 & 2.9 & 4.7 & 1.4 & versicolor\\\\\n\t 5.6 & 2.9 & 3.6 & 1.3 & versicolor\\\\\n\t 6.7 & 3.1 & 4.4 & 1.4 & versicolor\\\\\n\t 5.6 & 3.0 & 4.5 & 1.5 & versicolor\\\\\n\t 5.8 & 2.7 & 4.1 & 1.0 & versicolor\\\\\n\t 6.2 & 2.2 & 4.5 & 1.5 & versicolor\\\\\n\t 5.6 & 2.5 & 3.9 & 1.1 & versicolor\\\\\n\t 5.9 & 3.2 & 4.8 & 1.8 & versicolor\\\\\n\t 6.1 & 2.8 & 4.0 & 1.3 & versicolor\\\\\n\t 6.3 & 2.5 & 4.9 & 1.5 & versicolor\\\\\n\t 6.1 & 2.8 & 4.7 & 1.2 & versicolor\\\\\n\t 6.4 & 2.9 & 4.3 & 1.3 & versicolor\\\\\n\t 6.6 & 3.0 & 4.4 & 1.4 & versicolor\\\\\n\t 6.8 & 2.8 & 4.8 & 1.4 & versicolor\\\\\n\t 6.7 & 3.0 & 5.0 & 1.7 & versicolor\\\\\n\t 6.0 & 2.9 & 4.5 & 1.5 & versicolor\\\\\n\t 5.7 & 2.6 & 3.5 & 1.0 & versicolor\\\\\n\t 5.5 & 2.4 & 3.8 & 1.1 & versicolor\\\\\n\t 5.5 & 2.4 & 3.7 & 1.0 & versicolor\\\\\n\t 5.8 & 2.7 & 3.9 & 1.2 & versicolor\\\\\n\t 6.0 & 2.7 & 5.1 & 1.6 & versicolor\\\\\n\t 5.4 & 3.0 & 4.5 & 1.5 & versicolor\\\\\n\t 6.0 & 3.4 & 4.5 & 1.6 & versicolor\\\\\n\t 6.7 & 3.1 & 4.7 & 1.5 & versicolor\\\\\n\t 6.3 & 2.3 & 4.4 & 1.3 & versicolor\\\\\n\t 5.6 & 3.0 & 4.1 & 1.3 & versicolor\\\\\n\t 5.5 & 2.5 & 4.0 & 1.3 & versicolor\\\\\n\t 5.5 & 2.6 & 4.4 & 1.2 & versicolor\\\\\n\t 6.1 & 3.0 & 4.6 & 1.4 & versicolor\\\\\n\t 5.8 & 2.6 & 4.0 & 1.2 & versicolor\\\\\n\t 5.0 & 2.3 & 3.3 & 1.0 & versicolor\\\\\n\t 5.6 & 2.7 & 4.2 & 1.3 & versicolor\\\\\n\t 5.7 & 3.0 & 4.2 & 1.2 & versicolor\\\\\n\t 5.7 & 2.9 & 4.2 & 1.3 & versicolor\\\\\n\t 6.2 & 2.9 & 4.3 & 1.3 & versicolor\\\\\n\t 5.1 & 2.5 & 3.0 & 1.1 & versicolor\\\\\n\t 5.7 & 2.8 & 4.1 & 1.3 & versicolor\\\\\n\\end{tabular}\n",
            "text/markdown": "\nA data.frame: 50 × 5\n\n| Sepal.Length &lt;dbl&gt; | Sepal.Width &lt;dbl&gt; | Petal.Length &lt;dbl&gt; | Petal.Width &lt;dbl&gt; | Species &lt;fct&gt; |\n|---|---|---|---|---|\n| 7.0 | 3.2 | 4.7 | 1.4 | versicolor |\n| 6.4 | 3.2 | 4.5 | 1.5 | versicolor |\n| 6.9 | 3.1 | 4.9 | 1.5 | versicolor |\n| 5.5 | 2.3 | 4.0 | 1.3 | versicolor |\n| 6.5 | 2.8 | 4.6 | 1.5 | versicolor |\n| 5.7 | 2.8 | 4.5 | 1.3 | versicolor |\n| 6.3 | 3.3 | 4.7 | 1.6 | versicolor |\n| 4.9 | 2.4 | 3.3 | 1.0 | versicolor |\n| 6.6 | 2.9 | 4.6 | 1.3 | versicolor |\n| 5.2 | 2.7 | 3.9 | 1.4 | versicolor |\n| 5.0 | 2.0 | 3.5 | 1.0 | versicolor |\n| 5.9 | 3.0 | 4.2 | 1.5 | versicolor |\n| 6.0 | 2.2 | 4.0 | 1.0 | versicolor |\n| 6.1 | 2.9 | 4.7 | 1.4 | versicolor |\n| 5.6 | 2.9 | 3.6 | 1.3 | versicolor |\n| 6.7 | 3.1 | 4.4 | 1.4 | versicolor |\n| 5.6 | 3.0 | 4.5 | 1.5 | versicolor |\n| 5.8 | 2.7 | 4.1 | 1.0 | versicolor |\n| 6.2 | 2.2 | 4.5 | 1.5 | versicolor |\n| 5.6 | 2.5 | 3.9 | 1.1 | versicolor |\n| 5.9 | 3.2 | 4.8 | 1.8 | versicolor |\n| 6.1 | 2.8 | 4.0 | 1.3 | versicolor |\n| 6.3 | 2.5 | 4.9 | 1.5 | versicolor |\n| 6.1 | 2.8 | 4.7 | 1.2 | versicolor |\n| 6.4 | 2.9 | 4.3 | 1.3 | versicolor |\n| 6.6 | 3.0 | 4.4 | 1.4 | versicolor |\n| 6.8 | 2.8 | 4.8 | 1.4 | versicolor |\n| 6.7 | 3.0 | 5.0 | 1.7 | versicolor |\n| 6.0 | 2.9 | 4.5 | 1.5 | versicolor |\n| 5.7 | 2.6 | 3.5 | 1.0 | versicolor |\n| 5.5 | 2.4 | 3.8 | 1.1 | versicolor |\n| 5.5 | 2.4 | 3.7 | 1.0 | versicolor |\n| 5.8 | 2.7 | 3.9 | 1.2 | versicolor |\n| 6.0 | 2.7 | 5.1 | 1.6 | versicolor |\n| 5.4 | 3.0 | 4.5 | 1.5 | versicolor |\n| 6.0 | 3.4 | 4.5 | 1.6 | versicolor |\n| 6.7 | 3.1 | 4.7 | 1.5 | versicolor |\n| 6.3 | 2.3 | 4.4 | 1.3 | versicolor |\n| 5.6 | 3.0 | 4.1 | 1.3 | versicolor |\n| 5.5 | 2.5 | 4.0 | 1.3 | versicolor |\n| 5.5 | 2.6 | 4.4 | 1.2 | versicolor |\n| 6.1 | 3.0 | 4.6 | 1.4 | versicolor |\n| 5.8 | 2.6 | 4.0 | 1.2 | versicolor |\n| 5.0 | 2.3 | 3.3 | 1.0 | versicolor |\n| 5.6 | 2.7 | 4.2 | 1.3 | versicolor |\n| 5.7 | 3.0 | 4.2 | 1.2 | versicolor |\n| 5.7 | 2.9 | 4.2 | 1.3 | versicolor |\n| 6.2 | 2.9 | 4.3 | 1.3 | versicolor |\n| 5.1 | 2.5 | 3.0 | 1.1 | versicolor |\n| 5.7 | 2.8 | 4.1 | 1.3 | versicolor |\n\n",
            "text/html": [
              "<table>\n",
              "<caption>A data.frame: 50 × 5</caption>\n",
              "<thead>\n",
              "\t<tr><th scope=col>Sepal.Length</th><th scope=col>Sepal.Width</th><th scope=col>Petal.Length</th><th scope=col>Petal.Width</th><th scope=col>Species</th></tr>\n",
              "\t<tr><th scope=col>&lt;dbl&gt;</th><th scope=col>&lt;dbl&gt;</th><th scope=col>&lt;dbl&gt;</th><th scope=col>&lt;dbl&gt;</th><th scope=col>&lt;fct&gt;</th></tr>\n",
              "</thead>\n",
              "<tbody>\n",
              "\t<tr><td>7.0</td><td>3.2</td><td>4.7</td><td>1.4</td><td>versicolor</td></tr>\n",
              "\t<tr><td>6.4</td><td>3.2</td><td>4.5</td><td>1.5</td><td>versicolor</td></tr>\n",
              "\t<tr><td>6.9</td><td>3.1</td><td>4.9</td><td>1.5</td><td>versicolor</td></tr>\n",
              "\t<tr><td>5.5</td><td>2.3</td><td>4.0</td><td>1.3</td><td>versicolor</td></tr>\n",
              "\t<tr><td>6.5</td><td>2.8</td><td>4.6</td><td>1.5</td><td>versicolor</td></tr>\n",
              "\t<tr><td>5.7</td><td>2.8</td><td>4.5</td><td>1.3</td><td>versicolor</td></tr>\n",
              "\t<tr><td>6.3</td><td>3.3</td><td>4.7</td><td>1.6</td><td>versicolor</td></tr>\n",
              "\t<tr><td>4.9</td><td>2.4</td><td>3.3</td><td>1.0</td><td>versicolor</td></tr>\n",
              "\t<tr><td>6.6</td><td>2.9</td><td>4.6</td><td>1.3</td><td>versicolor</td></tr>\n",
              "\t<tr><td>5.2</td><td>2.7</td><td>3.9</td><td>1.4</td><td>versicolor</td></tr>\n",
              "\t<tr><td>5.0</td><td>2.0</td><td>3.5</td><td>1.0</td><td>versicolor</td></tr>\n",
              "\t<tr><td>5.9</td><td>3.0</td><td>4.2</td><td>1.5</td><td>versicolor</td></tr>\n",
              "\t<tr><td>6.0</td><td>2.2</td><td>4.0</td><td>1.0</td><td>versicolor</td></tr>\n",
              "\t<tr><td>6.1</td><td>2.9</td><td>4.7</td><td>1.4</td><td>versicolor</td></tr>\n",
              "\t<tr><td>5.6</td><td>2.9</td><td>3.6</td><td>1.3</td><td>versicolor</td></tr>\n",
              "\t<tr><td>6.7</td><td>3.1</td><td>4.4</td><td>1.4</td><td>versicolor</td></tr>\n",
              "\t<tr><td>5.6</td><td>3.0</td><td>4.5</td><td>1.5</td><td>versicolor</td></tr>\n",
              "\t<tr><td>5.8</td><td>2.7</td><td>4.1</td><td>1.0</td><td>versicolor</td></tr>\n",
              "\t<tr><td>6.2</td><td>2.2</td><td>4.5</td><td>1.5</td><td>versicolor</td></tr>\n",
              "\t<tr><td>5.6</td><td>2.5</td><td>3.9</td><td>1.1</td><td>versicolor</td></tr>\n",
              "\t<tr><td>5.9</td><td>3.2</td><td>4.8</td><td>1.8</td><td>versicolor</td></tr>\n",
              "\t<tr><td>6.1</td><td>2.8</td><td>4.0</td><td>1.3</td><td>versicolor</td></tr>\n",
              "\t<tr><td>6.3</td><td>2.5</td><td>4.9</td><td>1.5</td><td>versicolor</td></tr>\n",
              "\t<tr><td>6.1</td><td>2.8</td><td>4.7</td><td>1.2</td><td>versicolor</td></tr>\n",
              "\t<tr><td>6.4</td><td>2.9</td><td>4.3</td><td>1.3</td><td>versicolor</td></tr>\n",
              "\t<tr><td>6.6</td><td>3.0</td><td>4.4</td><td>1.4</td><td>versicolor</td></tr>\n",
              "\t<tr><td>6.8</td><td>2.8</td><td>4.8</td><td>1.4</td><td>versicolor</td></tr>\n",
              "\t<tr><td>6.7</td><td>3.0</td><td>5.0</td><td>1.7</td><td>versicolor</td></tr>\n",
              "\t<tr><td>6.0</td><td>2.9</td><td>4.5</td><td>1.5</td><td>versicolor</td></tr>\n",
              "\t<tr><td>5.7</td><td>2.6</td><td>3.5</td><td>1.0</td><td>versicolor</td></tr>\n",
              "\t<tr><td>5.5</td><td>2.4</td><td>3.8</td><td>1.1</td><td>versicolor</td></tr>\n",
              "\t<tr><td>5.5</td><td>2.4</td><td>3.7</td><td>1.0</td><td>versicolor</td></tr>\n",
              "\t<tr><td>5.8</td><td>2.7</td><td>3.9</td><td>1.2</td><td>versicolor</td></tr>\n",
              "\t<tr><td>6.0</td><td>2.7</td><td>5.1</td><td>1.6</td><td>versicolor</td></tr>\n",
              "\t<tr><td>5.4</td><td>3.0</td><td>4.5</td><td>1.5</td><td>versicolor</td></tr>\n",
              "\t<tr><td>6.0</td><td>3.4</td><td>4.5</td><td>1.6</td><td>versicolor</td></tr>\n",
              "\t<tr><td>6.7</td><td>3.1</td><td>4.7</td><td>1.5</td><td>versicolor</td></tr>\n",
              "\t<tr><td>6.3</td><td>2.3</td><td>4.4</td><td>1.3</td><td>versicolor</td></tr>\n",
              "\t<tr><td>5.6</td><td>3.0</td><td>4.1</td><td>1.3</td><td>versicolor</td></tr>\n",
              "\t<tr><td>5.5</td><td>2.5</td><td>4.0</td><td>1.3</td><td>versicolor</td></tr>\n",
              "\t<tr><td>5.5</td><td>2.6</td><td>4.4</td><td>1.2</td><td>versicolor</td></tr>\n",
              "\t<tr><td>6.1</td><td>3.0</td><td>4.6</td><td>1.4</td><td>versicolor</td></tr>\n",
              "\t<tr><td>5.8</td><td>2.6</td><td>4.0</td><td>1.2</td><td>versicolor</td></tr>\n",
              "\t<tr><td>5.0</td><td>2.3</td><td>3.3</td><td>1.0</td><td>versicolor</td></tr>\n",
              "\t<tr><td>5.6</td><td>2.7</td><td>4.2</td><td>1.3</td><td>versicolor</td></tr>\n",
              "\t<tr><td>5.7</td><td>3.0</td><td>4.2</td><td>1.2</td><td>versicolor</td></tr>\n",
              "\t<tr><td>5.7</td><td>2.9</td><td>4.2</td><td>1.3</td><td>versicolor</td></tr>\n",
              "\t<tr><td>6.2</td><td>2.9</td><td>4.3</td><td>1.3</td><td>versicolor</td></tr>\n",
              "\t<tr><td>5.1</td><td>2.5</td><td>3.0</td><td>1.1</td><td>versicolor</td></tr>\n",
              "\t<tr><td>5.7</td><td>2.8</td><td>4.1</td><td>1.3</td><td>versicolor</td></tr>\n",
              "</tbody>\n",
              "</table>\n"
            ]
          },
          "metadata": {
            "tags": []
          }
        }
      ]
    },
    {
      "cell_type": "code",
      "metadata": {
        "id": "YI-d2pVsBm7k",
        "outputId": "21fb7703-8012-4b47-d914-176aae130f9d"
      },
      "source": [
        "hist(iris$Petal.Length)"
      ],
      "execution_count": null,
      "outputs": [
        {
          "output_type": "display_data",
          "data": {
            "image/png": "[encoded data removed]",
            "text/plain": [
              "Plot with title \"Histogram of iris$Petal.Length\""
            ]
          },
          "metadata": {
            "tags": []
          }
        }
      ]
    },
    {
      "cell_type": "code",
      "metadata": {
        "id": "Buxk_mM0Bm7n",
        "outputId": "b5296883-fe48-452e-c0de-f7ec85111159"
      },
      "source": [
        "hist(iris$Sepal.Length)"
      ],
      "execution_count": null,
      "outputs": [
        {
          "output_type": "display_data",
          "data": {
            "image/png": "[encoded data removed]",
            "text/plain": [
              "Plot with title \"Histogram of iris$Sepal.Length\""
            ]
          },
          "metadata": {
            "tags": []
          }
        }
      ]
    },
    {
      "cell_type": "code",
      "metadata": {
        "id": "K62r-IOiBm7p",
        "outputId": "f2de1457-5ae3-43c0-bbba-01a3b12bb91b"
      },
      "source": [
        "#### Correlations\n",
        "\n",
        "correlation <- cor(iris[,1:4])\n",
        "correlation"
      ],
      "execution_count": null,
      "outputs": [
        {
          "output_type": "display_data",
          "data": {
            "text/html": [
              "<table>\n",
              "<thead><tr><th></th><th scope=col>Sepal.Length</th><th scope=col>Sepal.Width</th><th scope=col>Petal.Length</th><th scope=col>Petal.Width</th></tr></thead>\n",
              "<tbody>\n",
              "\t<tr><th scope=row>Sepal.Length</th><td> 1.0000000</td><td>-0.1175698</td><td> 0.8717538</td><td> 0.8179411</td></tr>\n",
              "\t<tr><th scope=row>Sepal.Width</th><td>-0.1175698</td><td> 1.0000000</td><td>-0.4284401</td><td>-0.3661259</td></tr>\n",
              "\t<tr><th scope=row>Petal.Length</th><td> 0.8717538</td><td>-0.4284401</td><td> 1.0000000</td><td> 0.9628654</td></tr>\n",
              "\t<tr><th scope=row>Petal.Width</th><td> 0.8179411</td><td>-0.3661259</td><td> 0.9628654</td><td> 1.0000000</td></tr>\n",
              "</tbody>\n",
              "</table>\n"
            ],
            "text/latex": "\\begin{tabular}{r|llll}\n  & Sepal.Length & Sepal.Width & Petal.Length & Petal.Width\\\\\n\\hline\n\tSepal.Length &  1.0000000 & -0.1175698 &  0.8717538 &  0.8179411\\\\\n\tSepal.Width & -0.1175698 &  1.0000000 & -0.4284401 & -0.3661259\\\\\n\tPetal.Length &  0.8717538 & -0.4284401 &  1.0000000 &  0.9628654\\\\\n\tPetal.Width &  0.8179411 & -0.3661259 &  0.9628654 &  1.0000000\\\\\n\\end{tabular}\n",
            "text/markdown": "\n| <!--/--> | Sepal.Length | Sepal.Width | Petal.Length | Petal.Width |\n|---|---|---|---|---|\n| Sepal.Length |  1.0000000 | -0.1175698 |  0.8717538 |  0.8179411 |\n| Sepal.Width | -0.1175698 |  1.0000000 | -0.4284401 | -0.3661259 |\n| Petal.Length |  0.8717538 | -0.4284401 |  1.0000000 |  0.9628654 |\n| Petal.Width |  0.8179411 | -0.3661259 |  0.9628654 |  1.0000000 |\n\n",
            "text/plain": [
              "             Sepal.Length Sepal.Width Petal.Length Petal.Width\n",
              "Sepal.Length  1.0000000   -0.1175698   0.8717538    0.8179411 \n",
              "Sepal.Width  -0.1175698    1.0000000  -0.4284401   -0.3661259 \n",
              "Petal.Length  0.8717538   -0.4284401   1.0000000    0.9628654 \n",
              "Petal.Width   0.8179411   -0.3661259   0.9628654    1.0000000 "
            ]
          },
          "metadata": {
            "tags": []
          }
        }
      ]
    },
    {
      "cell_type": "markdown",
      "metadata": {
        "id": "eZNSi5pFBm7r"
      },
      "source": [
        "#### Manipulation de données avec dplyr"
      ]
    },
    {
      "cell_type": "markdown",
      "metadata": {
        "id": "rMXwamaxBm7s"
      },
      "source": [
        "Il ya 5 fonctions à connaitre dans le package dplyr.\n",
        "* **select** : Sélection de colonnes\n",
        "* **filter** : Filtre sur les données\n",
        "* **mutate** : Création d'une nouvel colonne\n",
        "* **arrange** : Trie des données\n",
        "* **summarise** : Aggrege les données en un résumé"
      ]
    },
    {
      "cell_type": "code",
      "metadata": {
        "id": "hxb_wR2CBm7s",
        "outputId": "9c9a2ae4-fa8c-42fc-c9aa-ac3fc6430b45"
      },
      "source": [
        "#### Chargement dplyr\n",
        "\n",
        "library(\"dplyr\")"
      ],
      "execution_count": null,
      "outputs": [
        {
          "output_type": "stream",
          "text": [
            "Warning message:\n",
            "\"package 'dplyr' was built under R version 3.6.3\"\n",
            "Attaching package: 'dplyr'\n",
            "\n",
            "The following objects are masked from 'package:stats':\n",
            "\n",
            "    filter, lag\n",
            "\n",
            "The following objects are masked from 'package:base':\n",
            "\n",
            "    intersect, setdiff, setequal, union\n",
            "\n"
          ],
          "name": "stderr"
        }
      ]
    },
    {
      "cell_type": "code",
      "metadata": {
        "id": "_BQjt0NeBm7v",
        "outputId": "f1523e59-0a20-4062-88fa-f78757dee8f2"
      },
      "source": [
        "head(dataset[,1:3],5)"
      ],
      "execution_count": null,
      "outputs": [
        {
          "output_type": "display_data",
          "data": {
            "text/html": [
              "<table>\n",
              "<thead><tr><th scope=col>X</th><th scope=col>année</th><th scope=col>prénom</th></tr></thead>\n",
              "<tbody>\n",
              "\t<tr><td>0        </td><td>1880     </td><td>Mary     </td></tr>\n",
              "\t<tr><td>1        </td><td>1880     </td><td>Anna     </td></tr>\n",
              "\t<tr><td>2        </td><td>1880     </td><td>Emma     </td></tr>\n",
              "\t<tr><td>3        </td><td>1880     </td><td>Elizabeth</td></tr>\n",
              "\t<tr><td>4        </td><td>1880     </td><td>Minnie   </td></tr>\n",
              "</tbody>\n",
              "</table>\n"
            ],
            "text/latex": "\\begin{tabular}{r|lll}\n X & année & prénom\\\\\n\\hline\n\t 0         & 1880      & Mary     \\\\\n\t 1         & 1880      & Anna     \\\\\n\t 2         & 1880      & Emma     \\\\\n\t 3         & 1880      & Elizabeth\\\\\n\t 4         & 1880      & Minnie   \\\\\n\\end{tabular}\n",
            "text/markdown": "\n| X | année | prénom |\n|---|---|---|\n| 0         | 1880      | Mary      |\n| 1         | 1880      | Anna      |\n| 2         | 1880      | Emma      |\n| 3         | 1880      | Elizabeth |\n| 4         | 1880      | Minnie    |\n\n",
            "text/plain": [
              "  X année prénom   \n",
              "1 0 1880  Mary     \n",
              "2 1 1880  Anna     \n",
              "3 2 1880  Emma     \n",
              "4 3 1880  Elizabeth\n",
              "5 4 1880  Minnie   "
            ]
          },
          "metadata": {
            "tags": []
          }
        }
      ]
    },
    {
      "cell_type": "code",
      "metadata": {
        "id": "x2Wb9YGeBm7x",
        "outputId": "3123af0f-1f1b-4003-9d09-1afaec9500c6"
      },
      "source": [
        "head(select(dataset, année, naissance, prénom),5) #### Sélectionner les colonnes année et naissance dans mon dataset + affichage des 5 lignes"
      ],
      "execution_count": null,
      "outputs": [
        {
          "output_type": "display_data",
          "data": {
            "text/html": [
              "<table>\n",
              "<thead><tr><th scope=col>année</th><th scope=col>naissance</th><th scope=col>prénom</th></tr></thead>\n",
              "<tbody>\n",
              "\t<tr><td>1880     </td><td>7065     </td><td>Mary     </td></tr>\n",
              "\t<tr><td>1880     </td><td>2604     </td><td>Anna     </td></tr>\n",
              "\t<tr><td>1880     </td><td>2003     </td><td>Emma     </td></tr>\n",
              "\t<tr><td>1880     </td><td>1939     </td><td>Elizabeth</td></tr>\n",
              "\t<tr><td>1880     </td><td>1746     </td><td>Minnie   </td></tr>\n",
              "</tbody>\n",
              "</table>\n"
            ],
            "text/latex": "\\begin{tabular}{r|lll}\n année & naissance & prénom\\\\\n\\hline\n\t 1880      & 7065      & Mary     \\\\\n\t 1880      & 2604      & Anna     \\\\\n\t 1880      & 2003      & Emma     \\\\\n\t 1880      & 1939      & Elizabeth\\\\\n\t 1880      & 1746      & Minnie   \\\\\n\\end{tabular}\n",
            "text/markdown": "\n| année | naissance | prénom |\n|---|---|---|\n| 1880      | 7065      | Mary      |\n| 1880      | 2604      | Anna      |\n| 1880      | 2003      | Emma      |\n| 1880      | 1939      | Elizabeth |\n| 1880      | 1746      | Minnie    |\n\n",
            "text/plain": [
              "  année naissance prénom   \n",
              "1 1880  7065      Mary     \n",
              "2 1880  2604      Anna     \n",
              "3 1880  2003      Emma     \n",
              "4 1880  1939      Elizabeth\n",
              "5 1880  1746      Minnie   "
            ]
          },
          "metadata": {
            "tags": []
          }
        }
      ]
    },
    {
      "cell_type": "code",
      "metadata": {
        "id": "qo8enndbBm7z",
        "outputId": "9eea2f5e-783a-42cb-a4c6-e4a324462da4"
      },
      "source": [
        "#### Sélection des colonnes année et naissance\n",
        "head(select(dataset, année, naissance),5)"
      ],
      "execution_count": null,
      "outputs": [
        {
          "output_type": "display_data",
          "data": {
            "text/html": [
              "<table>\n",
              "<thead><tr><th scope=col>année</th><th scope=col>naissance</th></tr></thead>\n",
              "<tbody>\n",
              "\t<tr><td>1880</td><td>7065</td></tr>\n",
              "\t<tr><td>1880</td><td>2604</td></tr>\n",
              "\t<tr><td>1880</td><td>2003</td></tr>\n",
              "\t<tr><td>1880</td><td>1939</td></tr>\n",
              "\t<tr><td>1880</td><td>1746</td></tr>\n",
              "</tbody>\n",
              "</table>\n"
            ],
            "text/latex": "\\begin{tabular}{r|ll}\n année & naissance\\\\\n\\hline\n\t 1880 & 7065\\\\\n\t 1880 & 2604\\\\\n\t 1880 & 2003\\\\\n\t 1880 & 1939\\\\\n\t 1880 & 1746\\\\\n\\end{tabular}\n",
            "text/markdown": "\n| année | naissance |\n|---|---|\n| 1880 | 7065 |\n| 1880 | 2604 |\n| 1880 | 2003 |\n| 1880 | 1939 |\n| 1880 | 1746 |\n\n",
            "text/plain": [
              "  année naissance\n",
              "1 1880  7065     \n",
              "2 1880  2604     \n",
              "3 1880  2003     \n",
              "4 1880  1939     \n",
              "5 1880  1746     "
            ]
          },
          "metadata": {
            "tags": []
          }
        }
      ]
    },
    {
      "cell_type": "code",
      "metadata": {
        "id": "ohk8dp7lBm71",
        "outputId": "7d5b75df-ed4e-47fd-80ed-3b80e2adb73c"
      },
      "source": [
        "#### Autrement, on peut écrire cette fonction avec le pipe\n",
        "#### Equivalent du point en python\n",
        "select(dataset, année, naissance ) %>% head(5)"
      ],
      "execution_count": null,
      "outputs": [
        {
          "output_type": "display_data",
          "data": {
            "text/html": [
              "<table>\n",
              "<thead><tr><th scope=col>année</th><th scope=col>naissance</th></tr></thead>\n",
              "<tbody>\n",
              "\t<tr><td>1880</td><td>7065</td></tr>\n",
              "\t<tr><td>1880</td><td>2604</td></tr>\n",
              "\t<tr><td>1880</td><td>2003</td></tr>\n",
              "\t<tr><td>1880</td><td>1939</td></tr>\n",
              "\t<tr><td>1880</td><td>1746</td></tr>\n",
              "</tbody>\n",
              "</table>\n"
            ],
            "text/latex": "\\begin{tabular}{r|ll}\n année & naissance\\\\\n\\hline\n\t 1880 & 7065\\\\\n\t 1880 & 2604\\\\\n\t 1880 & 2003\\\\\n\t 1880 & 1939\\\\\n\t 1880 & 1746\\\\\n\\end{tabular}\n",
            "text/markdown": "\n| année | naissance |\n|---|---|\n| 1880 | 7065 |\n| 1880 | 2604 |\n| 1880 | 2003 |\n| 1880 | 1939 |\n| 1880 | 1746 |\n\n",
            "text/plain": [
              "  année naissance\n",
              "1 1880  7065     \n",
              "2 1880  2604     \n",
              "3 1880  2003     \n",
              "4 1880  1939     \n",
              "5 1880  1746     "
            ]
          },
          "metadata": {
            "tags": []
          }
        }
      ]
    },
    {
      "cell_type": "code",
      "metadata": {
        "id": "LNqEUoVXBm73",
        "outputId": "a769156d-b5e4-4ade-9b6e-ddefb61df63a"
      },
      "source": [
        "#### Ou encore(méthode que je recommande)\n",
        "#### Opération 1: Chargement du dataset %>%\n",
        "#### Opération 2: Sélection des colonnes année et naissance %>%\n",
        "### Opération 3: Afficher les 5 premières lignes thanks to head()\n",
        "\n",
        "dataset %>% select(année, naissance) %>% head(5)"
      ],
      "execution_count": null,
      "outputs": [
        {
          "output_type": "display_data",
          "data": {
            "text/html": [
              "<table>\n",
              "<thead><tr><th scope=col>X</th><th scope=col>prénom</th><th scope=col>genre</th></tr></thead>\n",
              "<tbody>\n",
              "\t<tr><td>0        </td><td>Mary     </td><td>F        </td></tr>\n",
              "\t<tr><td>1        </td><td>Anna     </td><td>F        </td></tr>\n",
              "\t<tr><td>2        </td><td>Emma     </td><td>F        </td></tr>\n",
              "\t<tr><td>3        </td><td>Elizabeth</td><td>F        </td></tr>\n",
              "\t<tr><td>4        </td><td>Minnie   </td><td>F        </td></tr>\n",
              "</tbody>\n",
              "</table>\n"
            ],
            "text/latex": "\\begin{tabular}{r|lll}\n X & prénom & genre\\\\\n\\hline\n\t 0         & Mary      & F        \\\\\n\t 1         & Anna      & F        \\\\\n\t 2         & Emma      & F        \\\\\n\t 3         & Elizabeth & F        \\\\\n\t 4         & Minnie    & F        \\\\\n\\end{tabular}\n",
            "text/markdown": "\n| X | prénom | genre |\n|---|---|---|\n| 0         | Mary      | F         |\n| 1         | Anna      | F         |\n| 2         | Emma      | F         |\n| 3         | Elizabeth | F         |\n| 4         | Minnie    | F         |\n\n",
            "text/plain": [
              "  X prénom    genre\n",
              "1 0 Mary      F    \n",
              "2 1 Anna      F    \n",
              "3 2 Emma      F    \n",
              "4 3 Elizabeth F    \n",
              "5 4 Minnie    F    "
            ]
          },
          "metadata": {
            "tags": []
          }
        }
      ]
    },
    {
      "cell_type": "markdown",
      "metadata": {
        "id": "S-rh6b5wBm75"
      },
      "source": [
        "#### Filter"
      ]
    },
    {
      "cell_type": "code",
      "metadata": {
        "id": "cZJGFH7TBm76",
        "outputId": "e0849765-0313-43b3-96e5-bf75a9311a51"
      },
      "source": [
        "#### Filtre sur l'année 1990\n",
        "\n",
        "head(filter(dataset, année == 1990),5)"
      ],
      "execution_count": null,
      "outputs": [
        {
          "output_type": "display_data",
          "data": {
            "text/html": [
              "<table>\n",
              "<thead><tr><th scope=col>X</th><th scope=col>année</th><th scope=col>prénom</th><th scope=col>genre</th><th scope=col>naissance</th></tr></thead>\n",
              "<tbody>\n",
              "\t<tr><td>1069569 </td><td>1990    </td><td>Jessica </td><td>F       </td><td>46473   </td></tr>\n",
              "\t<tr><td>1069570 </td><td>1990    </td><td>Ashley  </td><td>F       </td><td>45558   </td></tr>\n",
              "\t<tr><td>1069571 </td><td>1990    </td><td>Brittany</td><td>F       </td><td>36537   </td></tr>\n",
              "\t<tr><td>1069572 </td><td>1990    </td><td>Amanda  </td><td>F       </td><td>34407   </td></tr>\n",
              "\t<tr><td>1069573 </td><td>1990    </td><td>Samantha</td><td>F       </td><td>25866   </td></tr>\n",
              "</tbody>\n",
              "</table>\n"
            ],
            "text/latex": "\\begin{tabular}{r|lllll}\n X & année & prénom & genre & naissance\\\\\n\\hline\n\t 1069569  & 1990     & Jessica  & F        & 46473   \\\\\n\t 1069570  & 1990     & Ashley   & F        & 45558   \\\\\n\t 1069571  & 1990     & Brittany & F        & 36537   \\\\\n\t 1069572  & 1990     & Amanda   & F        & 34407   \\\\\n\t 1069573  & 1990     & Samantha & F        & 25866   \\\\\n\\end{tabular}\n",
            "text/markdown": "\n| X | année | prénom | genre | naissance |\n|---|---|---|---|---|\n| 1069569  | 1990     | Jessica  | F        | 46473    |\n| 1069570  | 1990     | Ashley   | F        | 45558    |\n| 1069571  | 1990     | Brittany | F        | 36537    |\n| 1069572  | 1990     | Amanda   | F        | 34407    |\n| 1069573  | 1990     | Samantha | F        | 25866    |\n\n",
            "text/plain": [
              "  X       année prénom   genre naissance\n",
              "1 1069569 1990  Jessica  F     46473    \n",
              "2 1069570 1990  Ashley   F     45558    \n",
              "3 1069571 1990  Brittany F     36537    \n",
              "4 1069572 1990  Amanda   F     34407    \n",
              "5 1069573 1990  Samantha F     25866    "
            ]
          },
          "metadata": {
            "tags": []
          }
        }
      ]
    },
    {
      "cell_type": "markdown",
      "metadata": {
        "id": "j_yE-JiPBm77"
      },
      "source": [
        "Attention à bien mettre le == au lieu dusigne ="
      ]
    },
    {
      "cell_type": "code",
      "metadata": {
        "id": "HoeT96c-Bm78",
        "outputId": "f2012e5f-1ca6-4772-92c2-dae220765fd7"
      },
      "source": [
        "#### Autrement\n",
        "\n",
        "dataset %>% filter(année== \"2015\") %>% head(5)"
      ],
      "execution_count": null,
      "outputs": [
        {
          "output_type": "display_data",
          "data": {
            "text/html": [
              "<table>\n",
              "<thead><tr><th scope=col>X</th><th scope=col>année</th><th scope=col>prénom</th><th scope=col>genre</th><th scope=col>naissance</th></tr></thead>\n",
              "<tbody>\n",
              "\t<tr><td>1825963 </td><td>2015    </td><td>Emma    </td><td>F       </td><td>20415   </td></tr>\n",
              "\t<tr><td>1825964 </td><td>2015    </td><td>Olivia  </td><td>F       </td><td>19638   </td></tr>\n",
              "\t<tr><td>1825965 </td><td>2015    </td><td>Sophia  </td><td>F       </td><td>17381   </td></tr>\n",
              "\t<tr><td>1825966 </td><td>2015    </td><td>Ava     </td><td>F       </td><td>16340   </td></tr>\n",
              "\t<tr><td>1825967 </td><td>2015    </td><td>Isabella</td><td>F       </td><td>15574   </td></tr>\n",
              "</tbody>\n",
              "</table>\n"
            ],
            "text/latex": "\\begin{tabular}{r|lllll}\n X & année & prénom & genre & naissance\\\\\n\\hline\n\t 1825963  & 2015     & Emma     & F        & 20415   \\\\\n\t 1825964  & 2015     & Olivia   & F        & 19638   \\\\\n\t 1825965  & 2015     & Sophia   & F        & 17381   \\\\\n\t 1825966  & 2015     & Ava      & F        & 16340   \\\\\n\t 1825967  & 2015     & Isabella & F        & 15574   \\\\\n\\end{tabular}\n",
            "text/markdown": "\n| X | année | prénom | genre | naissance |\n|---|---|---|---|---|\n| 1825963  | 2015     | Emma     | F        | 20415    |\n| 1825964  | 2015     | Olivia   | F        | 19638    |\n| 1825965  | 2015     | Sophia   | F        | 17381    |\n| 1825966  | 2015     | Ava      | F        | 16340    |\n| 1825967  | 2015     | Isabella | F        | 15574    |\n\n",
            "text/plain": [
              "  X       année prénom   genre naissance\n",
              "1 1825963 2015  Emma     F     20415    \n",
              "2 1825964 2015  Olivia   F     19638    \n",
              "3 1825965 2015  Sophia   F     17381    \n",
              "4 1825966 2015  Ava      F     16340    \n",
              "5 1825967 2015  Isabella F     15574    "
            ]
          },
          "metadata": {
            "tags": []
          }
        }
      ]
    },
    {
      "cell_type": "code",
      "metadata": {
        "id": "UWT_Cq2BBm7-",
        "outputId": "e197ad5a-fd5d-4cba-a943-10e129df95a2"
      },
      "source": [
        "dataset %>% filter((année == 2000)&(genre == \"M\")) %>% head(10) "
      ],
      "execution_count": null,
      "outputs": [
        {
          "output_type": "display_data",
          "data": {
            "text/html": [
              "<table>\n",
              "<thead><tr><th scope=col>X</th><th scope=col>année</th><th scope=col>prénom</th><th scope=col>genre</th><th scope=col>naissance</th></tr></thead>\n",
              "<tbody>\n",
              "\t<tr><td>1350341    </td><td>2000       </td><td>Jacob      </td><td>M          </td><td>34470      </td></tr>\n",
              "\t<tr><td>1350342    </td><td>2000       </td><td>Michael    </td><td>M          </td><td>32033      </td></tr>\n",
              "\t<tr><td>1350343    </td><td>2000       </td><td>Matthew    </td><td>M          </td><td>28572      </td></tr>\n",
              "\t<tr><td>1350344    </td><td>2000       </td><td>Joshua     </td><td>M          </td><td>27536      </td></tr>\n",
              "\t<tr><td>1350345    </td><td>2000       </td><td>Christopher</td><td>M          </td><td>24928      </td></tr>\n",
              "\t<tr><td>1350346    </td><td>2000       </td><td>Nicholas   </td><td>M          </td><td>24650      </td></tr>\n",
              "\t<tr><td>1350347    </td><td>2000       </td><td>Andrew     </td><td>M          </td><td>23635      </td></tr>\n",
              "\t<tr><td>1350348    </td><td>2000       </td><td>Joseph     </td><td>M          </td><td>22823      </td></tr>\n",
              "\t<tr><td>1350349    </td><td>2000       </td><td>Daniel     </td><td>M          </td><td>22310      </td></tr>\n",
              "\t<tr><td>1350350    </td><td>2000       </td><td>Tyler      </td><td>M          </td><td>21502      </td></tr>\n",
              "</tbody>\n",
              "</table>\n"
            ],
            "text/latex": "\\begin{tabular}{r|lllll}\n X & année & prénom & genre & naissance\\\\\n\\hline\n\t 1350341     & 2000        & Jacob       & M           & 34470      \\\\\n\t 1350342     & 2000        & Michael     & M           & 32033      \\\\\n\t 1350343     & 2000        & Matthew     & M           & 28572      \\\\\n\t 1350344     & 2000        & Joshua      & M           & 27536      \\\\\n\t 1350345     & 2000        & Christopher & M           & 24928      \\\\\n\t 1350346     & 2000        & Nicholas    & M           & 24650      \\\\\n\t 1350347     & 2000        & Andrew      & M           & 23635      \\\\\n\t 1350348     & 2000        & Joseph      & M           & 22823      \\\\\n\t 1350349     & 2000        & Daniel      & M           & 22310      \\\\\n\t 1350350     & 2000        & Tyler       & M           & 21502      \\\\\n\\end{tabular}\n",
            "text/markdown": "\n| X | année | prénom | genre | naissance |\n|---|---|---|---|---|\n| 1350341     | 2000        | Jacob       | M           | 34470       |\n| 1350342     | 2000        | Michael     | M           | 32033       |\n| 1350343     | 2000        | Matthew     | M           | 28572       |\n| 1350344     | 2000        | Joshua      | M           | 27536       |\n| 1350345     | 2000        | Christopher | M           | 24928       |\n| 1350346     | 2000        | Nicholas    | M           | 24650       |\n| 1350347     | 2000        | Andrew      | M           | 23635       |\n| 1350348     | 2000        | Joseph      | M           | 22823       |\n| 1350349     | 2000        | Daniel      | M           | 22310       |\n| 1350350     | 2000        | Tyler       | M           | 21502       |\n\n",
            "text/plain": [
              "   X       année prénom      genre naissance\n",
              "1  1350341 2000  Jacob       M     34470    \n",
              "2  1350342 2000  Michael     M     32033    \n",
              "3  1350343 2000  Matthew     M     28572    \n",
              "4  1350344 2000  Joshua      M     27536    \n",
              "5  1350345 2000  Christopher M     24928    \n",
              "6  1350346 2000  Nicholas    M     24650    \n",
              "7  1350347 2000  Andrew      M     23635    \n",
              "8  1350348 2000  Joseph      M     22823    \n",
              "9  1350349 2000  Daniel      M     22310    \n",
              "10 1350350 2000  Tyler       M     21502    "
            ]
          },
          "metadata": {
            "tags": []
          }
        }
      ]
    },
    {
      "cell_type": "code",
      "metadata": {
        "id": "h7OTrE9LBm8A",
        "outputId": "c6390277-8131-443b-9ff7-723dcff1ee5a"
      },
      "source": [
        "dataset %>% filter((année == 2000)|(genre ==\"F\")) %>% tail() #%>% arrange(desc(genre)) %>% tail()"
      ],
      "execution_count": null,
      "outputs": [
        {
          "output_type": "display_data",
          "data": {
            "text/html": [
              "<table>\n",
              "<thead><tr><th></th><th scope=col>X</th><th scope=col>année</th><th scope=col>prénom</th><th scope=col>genre</th><th scope=col>naissance</th></tr></thead>\n",
              "<tbody>\n",
              "\t<tr><th scope=row>1131930</th><td>1877777</td><td>2016   </td><td>Zyaria </td><td>F      </td><td>5      </td></tr>\n",
              "\t<tr><th scope=row>1131931</th><td>1877778</td><td>2016   </td><td>Zyliyah</td><td>F      </td><td>5      </td></tr>\n",
              "\t<tr><th scope=row>1131932</th><td>1877779</td><td>2016   </td><td>Zymiah </td><td>F      </td><td>5      </td></tr>\n",
              "\t<tr><th scope=row>1131933</th><td>1877780</td><td>2016   </td><td>Zynae  </td><td>F      </td><td>5      </td></tr>\n",
              "\t<tr><th scope=row>1131934</th><td>1877781</td><td>2016   </td><td>Zyndaya</td><td>F      </td><td>5      </td></tr>\n",
              "\t<tr><th scope=row>1131935</th><td>1877782</td><td>2016   </td><td>Zyriyah</td><td>F      </td><td>5      </td></tr>\n",
              "</tbody>\n",
              "</table>\n"
            ],
            "text/latex": "\\begin{tabular}{r|lllll}\n  & X & année & prénom & genre & naissance\\\\\n\\hline\n\t1131930 & 1877777 & 2016    & Zyaria  & F       & 5      \\\\\n\t1131931 & 1877778 & 2016    & Zyliyah & F       & 5      \\\\\n\t1131932 & 1877779 & 2016    & Zymiah  & F       & 5      \\\\\n\t1131933 & 1877780 & 2016    & Zynae   & F       & 5      \\\\\n\t1131934 & 1877781 & 2016    & Zyndaya & F       & 5      \\\\\n\t1131935 & 1877782 & 2016    & Zyriyah & F       & 5      \\\\\n\\end{tabular}\n",
            "text/markdown": "\n| <!--/--> | X | année | prénom | genre | naissance |\n|---|---|---|---|---|---|\n| 1131930 | 1877777 | 2016    | Zyaria  | F       | 5       |\n| 1131931 | 1877778 | 2016    | Zyliyah | F       | 5       |\n| 1131932 | 1877779 | 2016    | Zymiah  | F       | 5       |\n| 1131933 | 1877780 | 2016    | Zynae   | F       | 5       |\n| 1131934 | 1877781 | 2016    | Zyndaya | F       | 5       |\n| 1131935 | 1877782 | 2016    | Zyriyah | F       | 5       |\n\n",
            "text/plain": [
              "        X       année prénom  genre naissance\n",
              "1131930 1877777 2016  Zyaria  F     5        \n",
              "1131931 1877778 2016  Zyliyah F     5        \n",
              "1131932 1877779 2016  Zymiah  F     5        \n",
              "1131933 1877780 2016  Zynae   F     5        \n",
              "1131934 1877781 2016  Zyndaya F     5        \n",
              "1131935 1877782 2016  Zyriyah F     5        "
            ]
          },
          "metadata": {
            "tags": []
          }
        }
      ]
    },
    {
      "cell_type": "code",
      "metadata": {
        "id": "jlEOjo94Bm8C",
        "outputId": "293f08e1-545d-455e-dc79-6ef2a6e35fb6"
      },
      "source": [
        "dataset %>% filter(grepl('D',dataset$prénom)) %>% head(10) #### Afficher les prénoms qui commencent par ..."
      ],
      "execution_count": null,
      "outputs": [
        {
          "output_type": "display_data",
          "data": {
            "text/html": [
              "<table>\n",
              "<thead><tr><th scope=col>X</th><th scope=col>année</th><th scope=col>prénom</th><th scope=col>genre</th><th scope=col>naissance</th></tr></thead>\n",
              "<tbody>\n",
              "\t<tr><td>47     </td><td>1880   </td><td>Daisy  </td><td>F      </td><td>564    </td></tr>\n",
              "\t<tr><td>50     </td><td>1880   </td><td>Dora   </td><td>F      </td><td>524    </td></tr>\n",
              "\t<tr><td>65     </td><td>1880   </td><td>Della  </td><td>F      </td><td>391    </td></tr>\n",
              "\t<tr><td>125    </td><td>1880   </td><td>Delia  </td><td>F      </td><td>129    </td></tr>\n",
              "\t<tr><td>138    </td><td>1880   </td><td>Dorothy</td><td>F      </td><td>112    </td></tr>\n",
              "\t<tr><td>179    </td><td>1880   </td><td>Dollie </td><td>F      </td><td> 69    </td></tr>\n",
              "\t<tr><td>254    </td><td>1880   </td><td>Dessie </td><td>F      </td><td> 36    </td></tr>\n",
              "\t<tr><td>281    </td><td>1880   </td><td>Dovie  </td><td>F      </td><td> 30    </td></tr>\n",
              "\t<tr><td>317    </td><td>1880   </td><td>Docia  </td><td>F      </td><td> 25    </td></tr>\n",
              "\t<tr><td>354    </td><td>1880   </td><td>Dolly  </td><td>F      </td><td> 21    </td></tr>\n",
              "</tbody>\n",
              "</table>\n"
            ],
            "text/latex": "\\begin{tabular}{r|lllll}\n X & année & prénom & genre & naissance\\\\\n\\hline\n\t 47      & 1880    & Daisy   & F       & 564    \\\\\n\t 50      & 1880    & Dora    & F       & 524    \\\\\n\t 65      & 1880    & Della   & F       & 391    \\\\\n\t 125     & 1880    & Delia   & F       & 129    \\\\\n\t 138     & 1880    & Dorothy & F       & 112    \\\\\n\t 179     & 1880    & Dollie  & F       &  69    \\\\\n\t 254     & 1880    & Dessie  & F       &  36    \\\\\n\t 281     & 1880    & Dovie   & F       &  30    \\\\\n\t 317     & 1880    & Docia   & F       &  25    \\\\\n\t 354     & 1880    & Dolly   & F       &  21    \\\\\n\\end{tabular}\n",
            "text/markdown": "\n| X | année | prénom | genre | naissance |\n|---|---|---|---|---|\n| 47      | 1880    | Daisy   | F       | 564     |\n| 50      | 1880    | Dora    | F       | 524     |\n| 65      | 1880    | Della   | F       | 391     |\n| 125     | 1880    | Delia   | F       | 129     |\n| 138     | 1880    | Dorothy | F       | 112     |\n| 179     | 1880    | Dollie  | F       |  69     |\n| 254     | 1880    | Dessie  | F       |  36     |\n| 281     | 1880    | Dovie   | F       |  30     |\n| 317     | 1880    | Docia   | F       |  25     |\n| 354     | 1880    | Dolly   | F       |  21     |\n\n",
            "text/plain": [
              "   X   année prénom  genre naissance\n",
              "1  47  1880  Daisy   F     564      \n",
              "2  50  1880  Dora    F     524      \n",
              "3  65  1880  Della   F     391      \n",
              "4  125 1880  Delia   F     129      \n",
              "5  138 1880  Dorothy F     112      \n",
              "6  179 1880  Dollie  F      69      \n",
              "7  254 1880  Dessie  F      36      \n",
              "8  281 1880  Dovie   F      30      \n",
              "9  317 1880  Docia   F      25      \n",
              "10 354 1880  Dolly   F      21      "
            ]
          },
          "metadata": {
            "tags": []
          }
        }
      ]
    },
    {
      "cell_type": "markdown",
      "metadata": {
        "id": "tgzgChmpBm8F"
      },
      "source": [
        "#### Arrange"
      ]
    },
    {
      "cell_type": "code",
      "metadata": {
        "id": "1-fcj0hzBm8F",
        "outputId": "16c72112-6522-4e1d-baf2-ac045a21926d"
      },
      "source": [
        "#### Trie des données par naissance et année par ordre croissant\n",
        "\n",
        "head(arrange(dataset, naissance,année), 5)"
      ],
      "execution_count": null,
      "outputs": [
        {
          "output_type": "display_data",
          "data": {
            "text/html": [
              "<table>\n",
              "<thead><tr><th scope=col>X</th><th scope=col>année</th><th scope=col>prénom</th><th scope=col>genre</th><th scope=col>naissance</th></tr></thead>\n",
              "<tbody>\n",
              "\t<tr><td>835      </td><td>1880     </td><td>Adelle   </td><td>F        </td><td>5        </td></tr>\n",
              "\t<tr><td>836      </td><td>1880     </td><td>Adina    </td><td>F        </td><td>5        </td></tr>\n",
              "\t<tr><td>837      </td><td>1880     </td><td>Adrienne </td><td>F        </td><td>5        </td></tr>\n",
              "\t<tr><td>838      </td><td>1880     </td><td>Albertine</td><td>F        </td><td>5        </td></tr>\n",
              "\t<tr><td>839      </td><td>1880     </td><td>Alys     </td><td>F        </td><td>5        </td></tr>\n",
              "</tbody>\n",
              "</table>\n"
            ],
            "text/latex": "\\begin{tabular}{r|lllll}\n X & année & prénom & genre & naissance\\\\\n\\hline\n\t 835       & 1880      & Adelle    & F         & 5        \\\\\n\t 836       & 1880      & Adina     & F         & 5        \\\\\n\t 837       & 1880      & Adrienne  & F         & 5        \\\\\n\t 838       & 1880      & Albertine & F         & 5        \\\\\n\t 839       & 1880      & Alys      & F         & 5        \\\\\n\\end{tabular}\n",
            "text/markdown": "\n| X | année | prénom | genre | naissance |\n|---|---|---|---|---|\n| 835       | 1880      | Adelle    | F         | 5         |\n| 836       | 1880      | Adina     | F         | 5         |\n| 837       | 1880      | Adrienne  | F         | 5         |\n| 838       | 1880      | Albertine | F         | 5         |\n| 839       | 1880      | Alys      | F         | 5         |\n\n",
            "text/plain": [
              "  X   année prénom    genre naissance\n",
              "1 835 1880  Adelle    F     5        \n",
              "2 836 1880  Adina     F     5        \n",
              "3 837 1880  Adrienne  F     5        \n",
              "4 838 1880  Albertine F     5        \n",
              "5 839 1880  Alys      F     5        "
            ]
          },
          "metadata": {
            "tags": []
          }
        }
      ]
    },
    {
      "cell_type": "code",
      "metadata": {
        "id": "Fve1AAF7Bm8H",
        "outputId": "af098eba-64a1-4709-fe9e-1bd2fcfe627a"
      },
      "source": [
        "dataset %>% arrange(desc(année), naissance) %>% tail(15)  #### trier par ordre (dé)croissant , unen ou pluieurs variables"
      ],
      "execution_count": null,
      "outputs": [
        {
          "output_type": "display_data",
          "data": {
            "text/html": [
              "<table>\n",
              "<thead><tr><th></th><th scope=col>X</th><th scope=col>année</th><th scope=col>prénom</th><th scope=col>genre</th><th scope=col>naissance</th></tr></thead>\n",
              "<tbody>\n",
              "\t<tr><th scope=row>1891880</th><td>2      </td><td>1880   </td><td>Emma   </td><td>F      </td><td>2003   </td></tr>\n",
              "\t<tr><th scope=row>1891881</th><td>953    </td><td>1880   </td><td>Harry  </td><td>M      </td><td>2152   </td></tr>\n",
              "\t<tr><th scope=row>1891882</th><td>952    </td><td>1880   </td><td>Edward </td><td>M      </td><td>2364   </td></tr>\n",
              "\t<tr><th scope=row>1891883</th><td>951    </td><td>1880   </td><td>Robert </td><td>M      </td><td>2415   </td></tr>\n",
              "\t<tr><th scope=row>1891884</th><td>950    </td><td>1880   </td><td>Henry  </td><td>M      </td><td>2444   </td></tr>\n",
              "\t<tr><th scope=row>1891885</th><td>949    </td><td>1880   </td><td>Thomas </td><td>M      </td><td>2534   </td></tr>\n",
              "\t<tr><th scope=row>1891886</th><td>1      </td><td>1880   </td><td>Anna   </td><td>F      </td><td>2604   </td></tr>\n",
              "\t<tr><th scope=row>1891887</th><td>948    </td><td>1880   </td><td>Joseph </td><td>M      </td><td>2632   </td></tr>\n",
              "\t<tr><th scope=row>1891888</th><td>947    </td><td>1880   </td><td>Frank  </td><td>M      </td><td>3242   </td></tr>\n",
              "\t<tr><th scope=row>1891889</th><td>946    </td><td>1880   </td><td>George </td><td>M      </td><td>5126   </td></tr>\n",
              "\t<tr><th scope=row>1891890</th><td>945    </td><td>1880   </td><td>Charles</td><td>M      </td><td>5348   </td></tr>\n",
              "\t<tr><th scope=row>1891891</th><td>944    </td><td>1880   </td><td>James  </td><td>M      </td><td>5927   </td></tr>\n",
              "\t<tr><th scope=row>1891892</th><td>0      </td><td>1880   </td><td>Mary   </td><td>F      </td><td>7065   </td></tr>\n",
              "\t<tr><th scope=row>1891893</th><td>943    </td><td>1880   </td><td>William</td><td>M      </td><td>9532   </td></tr>\n",
              "\t<tr><th scope=row>1891894</th><td>942    </td><td>1880   </td><td>John   </td><td>M      </td><td>9655   </td></tr>\n",
              "</tbody>\n",
              "</table>\n"
            ],
            "text/latex": "\\begin{tabular}{r|lllll}\n  & X & année & prénom & genre & naissance\\\\\n\\hline\n\t1891880 & 2       & 1880    & Emma    & F       & 2003   \\\\\n\t1891881 & 953     & 1880    & Harry   & M       & 2152   \\\\\n\t1891882 & 952     & 1880    & Edward  & M       & 2364   \\\\\n\t1891883 & 951     & 1880    & Robert  & M       & 2415   \\\\\n\t1891884 & 950     & 1880    & Henry   & M       & 2444   \\\\\n\t1891885 & 949     & 1880    & Thomas  & M       & 2534   \\\\\n\t1891886 & 1       & 1880    & Anna    & F       & 2604   \\\\\n\t1891887 & 948     & 1880    & Joseph  & M       & 2632   \\\\\n\t1891888 & 947     & 1880    & Frank   & M       & 3242   \\\\\n\t1891889 & 946     & 1880    & George  & M       & 5126   \\\\\n\t1891890 & 945     & 1880    & Charles & M       & 5348   \\\\\n\t1891891 & 944     & 1880    & James   & M       & 5927   \\\\\n\t1891892 & 0       & 1880    & Mary    & F       & 7065   \\\\\n\t1891893 & 943     & 1880    & William & M       & 9532   \\\\\n\t1891894 & 942     & 1880    & John    & M       & 9655   \\\\\n\\end{tabular}\n",
            "text/markdown": "\n| <!--/--> | X | année | prénom | genre | naissance |\n|---|---|---|---|---|---|\n| 1891880 | 2       | 1880    | Emma    | F       | 2003    |\n| 1891881 | 953     | 1880    | Harry   | M       | 2152    |\n| 1891882 | 952     | 1880    | Edward  | M       | 2364    |\n| 1891883 | 951     | 1880    | Robert  | M       | 2415    |\n| 1891884 | 950     | 1880    | Henry   | M       | 2444    |\n| 1891885 | 949     | 1880    | Thomas  | M       | 2534    |\n| 1891886 | 1       | 1880    | Anna    | F       | 2604    |\n| 1891887 | 948     | 1880    | Joseph  | M       | 2632    |\n| 1891888 | 947     | 1880    | Frank   | M       | 3242    |\n| 1891889 | 946     | 1880    | George  | M       | 5126    |\n| 1891890 | 945     | 1880    | Charles | M       | 5348    |\n| 1891891 | 944     | 1880    | James   | M       | 5927    |\n| 1891892 | 0       | 1880    | Mary    | F       | 7065    |\n| 1891893 | 943     | 1880    | William | M       | 9532    |\n| 1891894 | 942     | 1880    | John    | M       | 9655    |\n\n",
            "text/plain": [
              "        X   année prénom  genre naissance\n",
              "1891880 2   1880  Emma    F     2003     \n",
              "1891881 953 1880  Harry   M     2152     \n",
              "1891882 952 1880  Edward  M     2364     \n",
              "1891883 951 1880  Robert  M     2415     \n",
              "1891884 950 1880  Henry   M     2444     \n",
              "1891885 949 1880  Thomas  M     2534     \n",
              "1891886 1   1880  Anna    F     2604     \n",
              "1891887 948 1880  Joseph  M     2632     \n",
              "1891888 947 1880  Frank   M     3242     \n",
              "1891889 946 1880  George  M     5126     \n",
              "1891890 945 1880  Charles M     5348     \n",
              "1891891 944 1880  James   M     5927     \n",
              "1891892 0   1880  Mary    F     7065     \n",
              "1891893 943 1880  William M     9532     \n",
              "1891894 942 1880  John    M     9655     "
            ]
          },
          "metadata": {
            "tags": []
          }
        }
      ]
    },
    {
      "cell_type": "code",
      "metadata": {
        "id": "vPHsS_9IBm8J",
        "outputId": "44d55eb0-34cc-4698-b140-9218caf26f61"
      },
      "source": [
        "#### Trie des données par ordre décroissant\n",
        "\n",
        "head(arrange(dataset, desc(naissance), desc(année)), 2)"
      ],
      "execution_count": null,
      "outputs": [
        {
          "output_type": "display_data",
          "data": {
            "text/html": [
              "<table>\n",
              "<thead><tr><th scope=col>X</th><th scope=col>année</th><th scope=col>prénom</th><th scope=col>genre</th><th scope=col>naissance</th></tr></thead>\n",
              "<tbody>\n",
              "\t<tr><td>431059</td><td>1947  </td><td>Linda </td><td>F     </td><td>99685 </td></tr>\n",
              "\t<tr><td>441430</td><td>1948  </td><td>Linda </td><td>F     </td><td>96210 </td></tr>\n",
              "</tbody>\n",
              "</table>\n"
            ],
            "text/latex": "\\begin{tabular}{r|lllll}\n X & année & prénom & genre & naissance\\\\\n\\hline\n\t 431059 & 1947   & Linda  & F      & 99685 \\\\\n\t 441430 & 1948   & Linda  & F      & 96210 \\\\\n\\end{tabular}\n",
            "text/markdown": "\n| X | année | prénom | genre | naissance |\n|---|---|---|---|---|\n| 431059 | 1947   | Linda  | F      | 99685  |\n| 441430 | 1948   | Linda  | F      | 96210  |\n\n",
            "text/plain": [
              "  X      année prénom genre naissance\n",
              "1 431059 1947  Linda  F     99685    \n",
              "2 441430 1948  Linda  F     96210    "
            ]
          },
          "metadata": {
            "tags": []
          }
        }
      ]
    },
    {
      "cell_type": "markdown",
      "metadata": {
        "id": "jex8esDJBm8L"
      },
      "source": [
        "#### Mutate"
      ]
    },
    {
      "cell_type": "code",
      "metadata": {
        "id": "ugA_GKzbBm8L",
        "outputId": "85336edf-35e1-49b2-a093-80eb86db667e"
      },
      "source": [
        "#### Ajout d'une nouvelle variable year_start qui définie l'année 1880 comme l'année 0\n",
        "\n",
        "mutate(dataset, year_start = année - 1880) %>% head()"
      ],
      "execution_count": null,
      "outputs": [
        {
          "output_type": "display_data",
          "data": {
            "text/html": [
              "<table>\n",
              "<thead><tr><th scope=col>X</th><th scope=col>année</th><th scope=col>prénom</th><th scope=col>genre</th><th scope=col>naissance</th><th scope=col>year_start</th></tr></thead>\n",
              "<tbody>\n",
              "\t<tr><td>0        </td><td>1880     </td><td>Mary     </td><td>F        </td><td>7065     </td><td>0        </td></tr>\n",
              "\t<tr><td>1        </td><td>1880     </td><td>Anna     </td><td>F        </td><td>2604     </td><td>0        </td></tr>\n",
              "\t<tr><td>2        </td><td>1880     </td><td>Emma     </td><td>F        </td><td>2003     </td><td>0        </td></tr>\n",
              "\t<tr><td>3        </td><td>1880     </td><td>Elizabeth</td><td>F        </td><td>1939     </td><td>0        </td></tr>\n",
              "\t<tr><td>4        </td><td>1880     </td><td>Minnie   </td><td>F        </td><td>1746     </td><td>0        </td></tr>\n",
              "\t<tr><td>5        </td><td>1880     </td><td>Margaret </td><td>F        </td><td>1578     </td><td>0        </td></tr>\n",
              "</tbody>\n",
              "</table>\n"
            ],
            "text/latex": "\\begin{tabular}{r|llllll}\n X & année & prénom & genre & naissance & year\\_start\\\\\n\\hline\n\t 0         & 1880      & Mary      & F         & 7065      & 0        \\\\\n\t 1         & 1880      & Anna      & F         & 2604      & 0        \\\\\n\t 2         & 1880      & Emma      & F         & 2003      & 0        \\\\\n\t 3         & 1880      & Elizabeth & F         & 1939      & 0        \\\\\n\t 4         & 1880      & Minnie    & F         & 1746      & 0        \\\\\n\t 5         & 1880      & Margaret  & F         & 1578      & 0        \\\\\n\\end{tabular}\n",
            "text/markdown": "\n| X | année | prénom | genre | naissance | year_start |\n|---|---|---|---|---|---|\n| 0         | 1880      | Mary      | F         | 7065      | 0         |\n| 1         | 1880      | Anna      | F         | 2604      | 0         |\n| 2         | 1880      | Emma      | F         | 2003      | 0         |\n| 3         | 1880      | Elizabeth | F         | 1939      | 0         |\n| 4         | 1880      | Minnie    | F         | 1746      | 0         |\n| 5         | 1880      | Margaret  | F         | 1578      | 0         |\n\n",
            "text/plain": [
              "  X année prénom    genre naissance year_start\n",
              "1 0 1880  Mary      F     7065      0         \n",
              "2 1 1880  Anna      F     2604      0         \n",
              "3 2 1880  Emma      F     2003      0         \n",
              "4 3 1880  Elizabeth F     1939      0         \n",
              "5 4 1880  Minnie    F     1746      0         \n",
              "6 5 1880  Margaret  F     1578      0         "
            ]
          },
          "metadata": {
            "tags": []
          }
        }
      ]
    },
    {
      "cell_type": "code",
      "metadata": {
        "id": "56elyhQPBm8N",
        "outputId": "c48522d2-5c83-43d5-ec2a-fb1b271bb46f"
      },
      "source": [
        "dataset %>% mutate(year_start = année - 1880) %>% tail(10)  #### Créer de nouvelle colonne ici une colonne début de dataset"
      ],
      "execution_count": null,
      "outputs": [
        {
          "output_type": "display_data",
          "data": {
            "text/html": [
              "<table>\n",
              "<thead><tr><th></th><th scope=col>X</th><th scope=col>année</th><th scope=col>prénom</th><th scope=col>genre</th><th scope=col>naissance</th><th scope=col>year_start</th></tr></thead>\n",
              "<tbody>\n",
              "\t<tr><th scope=row>1891885</th><td>1891884</td><td>2016   </td><td>Zinn   </td><td>M      </td><td>5      </td><td>136    </td></tr>\n",
              "\t<tr><th scope=row>1891886</th><td>1891885</td><td>2016   </td><td>Zirui  </td><td>M      </td><td>5      </td><td>136    </td></tr>\n",
              "\t<tr><th scope=row>1891887</th><td>1891886</td><td>2016   </td><td>Ziya   </td><td>M      </td><td>5      </td><td>136    </td></tr>\n",
              "\t<tr><th scope=row>1891888</th><td>1891887</td><td>2016   </td><td>Ziyang </td><td>M      </td><td>5      </td><td>136    </td></tr>\n",
              "\t<tr><th scope=row>1891889</th><td>1891888</td><td>2016   </td><td>Zoel   </td><td>M      </td><td>5      </td><td>136    </td></tr>\n",
              "\t<tr><th scope=row>1891890</th><td>1891889</td><td>2016   </td><td>Zolton </td><td>M      </td><td>5      </td><td>136    </td></tr>\n",
              "\t<tr><th scope=row>1891891</th><td>1891890</td><td>2016   </td><td>Zurich </td><td>M      </td><td>5      </td><td>136    </td></tr>\n",
              "\t<tr><th scope=row>1891892</th><td>1891891</td><td>2016   </td><td>Zyahir </td><td>M      </td><td>5      </td><td>136    </td></tr>\n",
              "\t<tr><th scope=row>1891893</th><td>1891892</td><td>2016   </td><td>Zyel   </td><td>M      </td><td>5      </td><td>136    </td></tr>\n",
              "\t<tr><th scope=row>1891894</th><td>1891893</td><td>2016   </td><td>Zylyn  </td><td>M      </td><td>5      </td><td>136    </td></tr>\n",
              "</tbody>\n",
              "</table>\n"
            ],
            "text/latex": "\\begin{tabular}{r|llllll}\n  & X & année & prénom & genre & naissance & year\\_start\\\\\n\\hline\n\t1891885 & 1891884 & 2016    & Zinn    & M       & 5       & 136    \\\\\n\t1891886 & 1891885 & 2016    & Zirui   & M       & 5       & 136    \\\\\n\t1891887 & 1891886 & 2016    & Ziya    & M       & 5       & 136    \\\\\n\t1891888 & 1891887 & 2016    & Ziyang  & M       & 5       & 136    \\\\\n\t1891889 & 1891888 & 2016    & Zoel    & M       & 5       & 136    \\\\\n\t1891890 & 1891889 & 2016    & Zolton  & M       & 5       & 136    \\\\\n\t1891891 & 1891890 & 2016    & Zurich  & M       & 5       & 136    \\\\\n\t1891892 & 1891891 & 2016    & Zyahir  & M       & 5       & 136    \\\\\n\t1891893 & 1891892 & 2016    & Zyel    & M       & 5       & 136    \\\\\n\t1891894 & 1891893 & 2016    & Zylyn   & M       & 5       & 136    \\\\\n\\end{tabular}\n",
            "text/markdown": "\n| <!--/--> | X | année | prénom | genre | naissance | year_start |\n|---|---|---|---|---|---|---|\n| 1891885 | 1891884 | 2016    | Zinn    | M       | 5       | 136     |\n| 1891886 | 1891885 | 2016    | Zirui   | M       | 5       | 136     |\n| 1891887 | 1891886 | 2016    | Ziya    | M       | 5       | 136     |\n| 1891888 | 1891887 | 2016    | Ziyang  | M       | 5       | 136     |\n| 1891889 | 1891888 | 2016    | Zoel    | M       | 5       | 136     |\n| 1891890 | 1891889 | 2016    | Zolton  | M       | 5       | 136     |\n| 1891891 | 1891890 | 2016    | Zurich  | M       | 5       | 136     |\n| 1891892 | 1891891 | 2016    | Zyahir  | M       | 5       | 136     |\n| 1891893 | 1891892 | 2016    | Zyel    | M       | 5       | 136     |\n| 1891894 | 1891893 | 2016    | Zylyn   | M       | 5       | 136     |\n\n",
            "text/plain": [
              "        X       année prénom genre naissance year_start\n",
              "1891885 1891884 2016  Zinn   M     5         136       \n",
              "1891886 1891885 2016  Zirui  M     5         136       \n",
              "1891887 1891886 2016  Ziya   M     5         136       \n",
              "1891888 1891887 2016  Ziyang M     5         136       \n",
              "1891889 1891888 2016  Zoel   M     5         136       \n",
              "1891890 1891889 2016  Zolton M     5         136       \n",
              "1891891 1891890 2016  Zurich M     5         136       \n",
              "1891892 1891891 2016  Zyahir M     5         136       \n",
              "1891893 1891892 2016  Zyel   M     5         136       \n",
              "1891894 1891893 2016  Zylyn  M     5         136       "
            ]
          },
          "metadata": {
            "tags": []
          }
        }
      ]
    },
    {
      "cell_type": "markdown",
      "metadata": {
        "id": "zJGtROXfBm8P"
      },
      "source": [
        "#### Summarise"
      ]
    },
    {
      "cell_type": "code",
      "metadata": {
        "id": "yNQ61BkDBm8Q",
        "outputId": "5eb7299e-6e6e-4d62-e5da-39edb05a0223"
      },
      "source": [
        "summary(dataset)"
      ],
      "execution_count": null,
      "outputs": [
        {
          "output_type": "display_data",
          "data": {
            "text/plain": [
              "      X                 année          prénom        genre      \n",
              " Length:1891894     Min.   :1880   Francis:    274   F:1119824  \n",
              " Class :character   1st Qu.:1951   James  :    274   M: 772070  \n",
              " Mode  :character   Median :1984   Jean   :    274              \n",
              "                    Mean   :1974   Jesse  :    274              \n",
              "                    3rd Qu.:2002   Jessie :    274              \n",
              "                    Max.   :2016   John   :    274              \n",
              "                                   (Other):1890250              \n",
              "   naissance      \n",
              " Min.   :    5.0  \n",
              " 1st Qu.:    7.0  \n",
              " Median :   12.0  \n",
              " Mean   :  182.1  \n",
              " 3rd Qu.:   32.0  \n",
              " Max.   :99685.0  \n",
              "                  "
            ]
          },
          "metadata": {
            "tags": []
          }
        }
      ]
    },
    {
      "cell_type": "code",
      "metadata": {
        "id": "kFMo2Xe6Bm8R",
        "outputId": "f3b5bc62-a639-4510-a9de-ad41c98a14a6"
      },
      "source": [
        "head(dataset,5)"
      ],
      "execution_count": null,
      "outputs": [
        {
          "output_type": "display_data",
          "data": {
            "text/html": [
              "<table>\n",
              "<thead><tr><th scope=col>X</th><th scope=col>année</th><th scope=col>prénom</th><th scope=col>genre</th><th scope=col>naissance</th></tr></thead>\n",
              "<tbody>\n",
              "\t<tr><td>0        </td><td>1880     </td><td>Mary     </td><td>F        </td><td>7065     </td></tr>\n",
              "\t<tr><td>1        </td><td>1880     </td><td>Anna     </td><td>F        </td><td>2604     </td></tr>\n",
              "\t<tr><td>2        </td><td>1880     </td><td>Emma     </td><td>F        </td><td>2003     </td></tr>\n",
              "\t<tr><td>3        </td><td>1880     </td><td>Elizabeth</td><td>F        </td><td>1939     </td></tr>\n",
              "\t<tr><td>4        </td><td>1880     </td><td>Minnie   </td><td>F        </td><td>1746     </td></tr>\n",
              "</tbody>\n",
              "</table>\n"
            ],
            "text/latex": "\\begin{tabular}{r|lllll}\n X & année & prénom & genre & naissance\\\\\n\\hline\n\t 0         & 1880      & Mary      & F         & 7065     \\\\\n\t 1         & 1880      & Anna      & F         & 2604     \\\\\n\t 2         & 1880      & Emma      & F         & 2003     \\\\\n\t 3         & 1880      & Elizabeth & F         & 1939     \\\\\n\t 4         & 1880      & Minnie    & F         & 1746     \\\\\n\\end{tabular}\n",
            "text/markdown": "\n| X | année | prénom | genre | naissance |\n|---|---|---|---|---|\n| 0         | 1880      | Mary      | F         | 7065      |\n| 1         | 1880      | Anna      | F         | 2604      |\n| 2         | 1880      | Emma      | F         | 2003      |\n| 3         | 1880      | Elizabeth | F         | 1939      |\n| 4         | 1880      | Minnie    | F         | 1746      |\n\n",
            "text/plain": [
              "  X année prénom    genre naissance\n",
              "1 0 1880  Mary      F     7065     \n",
              "2 1 1880  Anna      F     2604     \n",
              "3 2 1880  Emma      F     2003     \n",
              "4 3 1880  Elizabeth F     1939     \n",
              "5 4 1880  Minnie    F     1746     "
            ]
          },
          "metadata": {
            "tags": []
          }
        }
      ]
    },
    {
      "cell_type": "code",
      "metadata": {
        "id": "bm7TOrCtBm8U",
        "outputId": "0faac2a7-893f-4337-eeb4-289f8aa66a50"
      },
      "source": [
        "#### Résumé des données à l'aide de summaryse\n",
        "#### Somme totale des prénoms\n",
        "summarise(dataset, somme = sum(naissance))"
      ],
      "execution_count": null,
      "outputs": [
        {
          "output_type": "display_data",
          "data": {
            "text/html": [
              "<table>\n",
              "<thead><tr><th scope=col>somme</th></tr></thead>\n",
              "<tbody>\n",
              "\t<tr><td>344533897</td></tr>\n",
              "</tbody>\n",
              "</table>\n"
            ],
            "text/latex": "\\begin{tabular}{r|l}\n somme\\\\\n\\hline\n\t 344533897\\\\\n\\end{tabular}\n",
            "text/markdown": "\n| somme |\n|---|\n| 344533897 |\n\n",
            "text/plain": [
              "  somme    \n",
              "1 344533897"
            ]
          },
          "metadata": {
            "tags": []
          }
        }
      ]
    },
    {
      "cell_type": "code",
      "metadata": {
        "id": "gHLMglDsBm8W",
        "outputId": "33172f99-7e38-47e0-c14d-4c42a9db288c"
      },
      "source": [
        "344533897 /136"
      ],
      "execution_count": null,
      "outputs": [
        {
          "output_type": "display_data",
          "data": {
            "text/html": [
              "2533337.47794118"
            ],
            "text/latex": "2533337.47794118",
            "text/markdown": "2533337.47794118",
            "text/plain": [
              "[1] 2533337"
            ]
          },
          "metadata": {
            "tags": []
          }
        }
      ]
    },
    {
      "cell_type": "code",
      "metadata": {
        "id": "kwIWXzqlBm8Z",
        "outputId": "401803f2-0fa8-4b53-ca85-6a4f04acf9c1"
      },
      "source": [
        "#### Grouper par annéee le nombre de prénom\n",
        "\n",
        "by_annee <- group_by(dataset, année) ### La varibale de split \n",
        "summarise(by_annee, somme = sum(naissance)) %>% head(40)  #### La fonction d'aggrégation"
      ],
      "execution_count": null,
      "outputs": [
        {
          "output_type": "stream",
          "text": [
            "`summarise()` ungrouping output (override with `.groups` argument)\n"
          ],
          "name": "stderr"
        },
        {
          "output_type": "display_data",
          "data": {
            "text/html": [
              "<table>\n",
              "<thead><tr><th scope=col>année</th><th scope=col>somme</th></tr></thead>\n",
              "<tbody>\n",
              "\t<tr><td>1880   </td><td> 201483</td></tr>\n",
              "\t<tr><td>1881   </td><td> 192696</td></tr>\n",
              "\t<tr><td>1882   </td><td> 221533</td></tr>\n",
              "\t<tr><td>1883   </td><td> 216945</td></tr>\n",
              "\t<tr><td>1884   </td><td> 243463</td></tr>\n",
              "\t<tr><td>1885   </td><td> 240854</td></tr>\n",
              "\t<tr><td>1886   </td><td> 255317</td></tr>\n",
              "\t<tr><td>1887   </td><td> 247396</td></tr>\n",
              "\t<tr><td>1888   </td><td> 299475</td></tr>\n",
              "\t<tr><td>1889   </td><td> 288947</td></tr>\n",
              "\t<tr><td>1890   </td><td> 301401</td></tr>\n",
              "\t<tr><td>1891   </td><td> 286673</td></tr>\n",
              "\t<tr><td>1892   </td><td> 334375</td></tr>\n",
              "\t<tr><td>1893   </td><td> 325222</td></tr>\n",
              "\t<tr><td>1894   </td><td> 338691</td></tr>\n",
              "\t<tr><td>1895   </td><td> 351023</td></tr>\n",
              "\t<tr><td>1896   </td><td> 357485</td></tr>\n",
              "\t<tr><td>1897   </td><td> 346958</td></tr>\n",
              "\t<tr><td>1898   </td><td> 381459</td></tr>\n",
              "\t<tr><td>1899   </td><td> 339234</td></tr>\n",
              "\t<tr><td>1900   </td><td> 450296</td></tr>\n",
              "\t<tr><td>1901   </td><td> 345817</td></tr>\n",
              "\t<tr><td>1902   </td><td> 386735</td></tr>\n",
              "\t<tr><td>1903   </td><td> 381205</td></tr>\n",
              "\t<tr><td>1904   </td><td> 403489</td></tr>\n",
              "\t<tr><td>1905   </td><td> 423937</td></tr>\n",
              "\t<tr><td>1906   </td><td> 428462</td></tr>\n",
              "\t<tr><td>1907   </td><td> 465395</td></tr>\n",
              "\t<tr><td>1908   </td><td> 488652</td></tr>\n",
              "\t<tr><td>1909   </td><td> 511230</td></tr>\n",
              "\t<tr><td>1910   </td><td> 590717</td></tr>\n",
              "\t<tr><td>1911   </td><td> 644279</td></tr>\n",
              "\t<tr><td>1912   </td><td> 988064</td></tr>\n",
              "\t<tr><td>1913   </td><td>1137108</td></tr>\n",
              "\t<tr><td>1914   </td><td>1416331</td></tr>\n",
              "\t<tr><td>1915   </td><td>1832472</td></tr>\n",
              "\t<tr><td>1916   </td><td>1934435</td></tr>\n",
              "\t<tr><td>1917   </td><td>2006787</td></tr>\n",
              "\t<tr><td>1918   </td><td>2171171</td></tr>\n",
              "\t<tr><td>1919   </td><td>2110264</td></tr>\n",
              "</tbody>\n",
              "</table>\n"
            ],
            "text/latex": "\\begin{tabular}{r|ll}\n année & somme\\\\\n\\hline\n\t 1880    &  201483\\\\\n\t 1881    &  192696\\\\\n\t 1882    &  221533\\\\\n\t 1883    &  216945\\\\\n\t 1884    &  243463\\\\\n\t 1885    &  240854\\\\\n\t 1886    &  255317\\\\\n\t 1887    &  247396\\\\\n\t 1888    &  299475\\\\\n\t 1889    &  288947\\\\\n\t 1890    &  301401\\\\\n\t 1891    &  286673\\\\\n\t 1892    &  334375\\\\\n\t 1893    &  325222\\\\\n\t 1894    &  338691\\\\\n\t 1895    &  351023\\\\\n\t 1896    &  357485\\\\\n\t 1897    &  346958\\\\\n\t 1898    &  381459\\\\\n\t 1899    &  339234\\\\\n\t 1900    &  450296\\\\\n\t 1901    &  345817\\\\\n\t 1902    &  386735\\\\\n\t 1903    &  381205\\\\\n\t 1904    &  403489\\\\\n\t 1905    &  423937\\\\\n\t 1906    &  428462\\\\\n\t 1907    &  465395\\\\\n\t 1908    &  488652\\\\\n\t 1909    &  511230\\\\\n\t 1910    &  590717\\\\\n\t 1911    &  644279\\\\\n\t 1912    &  988064\\\\\n\t 1913    & 1137108\\\\\n\t 1914    & 1416331\\\\\n\t 1915    & 1832472\\\\\n\t 1916    & 1934435\\\\\n\t 1917    & 2006787\\\\\n\t 1918    & 2171171\\\\\n\t 1919    & 2110264\\\\\n\\end{tabular}\n",
            "text/markdown": "\n| année | somme |\n|---|---|\n| 1880    |  201483 |\n| 1881    |  192696 |\n| 1882    |  221533 |\n| 1883    |  216945 |\n| 1884    |  243463 |\n| 1885    |  240854 |\n| 1886    |  255317 |\n| 1887    |  247396 |\n| 1888    |  299475 |\n| 1889    |  288947 |\n| 1890    |  301401 |\n| 1891    |  286673 |\n| 1892    |  334375 |\n| 1893    |  325222 |\n| 1894    |  338691 |\n| 1895    |  351023 |\n| 1896    |  357485 |\n| 1897    |  346958 |\n| 1898    |  381459 |\n| 1899    |  339234 |\n| 1900    |  450296 |\n| 1901    |  345817 |\n| 1902    |  386735 |\n| 1903    |  381205 |\n| 1904    |  403489 |\n| 1905    |  423937 |\n| 1906    |  428462 |\n| 1907    |  465395 |\n| 1908    |  488652 |\n| 1909    |  511230 |\n| 1910    |  590717 |\n| 1911    |  644279 |\n| 1912    |  988064 |\n| 1913    | 1137108 |\n| 1914    | 1416331 |\n| 1915    | 1832472 |\n| 1916    | 1934435 |\n| 1917    | 2006787 |\n| 1918    | 2171171 |\n| 1919    | 2110264 |\n\n",
            "text/plain": [
              "   année somme  \n",
              "1  1880   201483\n",
              "2  1881   192696\n",
              "3  1882   221533\n",
              "4  1883   216945\n",
              "5  1884   243463\n",
              "6  1885   240854\n",
              "7  1886   255317\n",
              "8  1887   247396\n",
              "9  1888   299475\n",
              "10 1889   288947\n",
              "11 1890   301401\n",
              "12 1891   286673\n",
              "13 1892   334375\n",
              "14 1893   325222\n",
              "15 1894   338691\n",
              "16 1895   351023\n",
              "17 1896   357485\n",
              "18 1897   346958\n",
              "19 1898   381459\n",
              "20 1899   339234\n",
              "21 1900   450296\n",
              "22 1901   345817\n",
              "23 1902   386735\n",
              "24 1903   381205\n",
              "25 1904   403489\n",
              "26 1905   423937\n",
              "27 1906   428462\n",
              "28 1907   465395\n",
              "29 1908   488652\n",
              "30 1909   511230\n",
              "31 1910   590717\n",
              "32 1911   644279\n",
              "33 1912   988064\n",
              "34 1913  1137108\n",
              "35 1914  1416331\n",
              "36 1915  1832472\n",
              "37 1916  1934435\n",
              "38 1917  2006787\n",
              "39 1918  2171171\n",
              "40 1919  2110264"
            ]
          },
          "metadata": {
            "tags": []
          }
        }
      ]
    },
    {
      "cell_type": "code",
      "metadata": {
        "id": "fOuBzxrPBm8a",
        "outputId": "c1d669f0-652f-40e7-f22e-205ef1c442d8"
      },
      "source": [
        "summarise(by_annee, somme = sum(naissance)) %>% tail(90)"
      ],
      "execution_count": null,
      "outputs": [
        {
          "output_type": "stream",
          "text": [
            "`summarise()` ungrouping output (override with `.groups` argument)\n"
          ],
          "name": "stderr"
        },
        {
          "output_type": "display_data",
          "data": {
            "text/html": [
              "<table>\n",
              "<thead><tr><th scope=col>année</th><th scope=col>somme</th></tr></thead>\n",
              "<tbody>\n",
              "\t<tr><td>1927   </td><td>2319230</td></tr>\n",
              "\t<tr><td>1928   </td><td>2260773</td></tr>\n",
              "\t<tr><td>1929   </td><td>2191954</td></tr>\n",
              "\t<tr><td>1930   </td><td>2223111</td></tr>\n",
              "\t<tr><td>1931   </td><td>2103958</td></tr>\n",
              "\t<tr><td>1932   </td><td>2110985</td></tr>\n",
              "\t<tr><td>1933   </td><td>1999042</td></tr>\n",
              "\t<tr><td>1934   </td><td>2076448</td></tr>\n",
              "\t<tr><td>1935   </td><td>2089571</td></tr>\n",
              "\t<tr><td>1936   </td><td>2077311</td></tr>\n",
              "\t<tr><td>1937   </td><td>2130323</td></tr>\n",
              "\t<tr><td>1938   </td><td>2212260</td></tr>\n",
              "\t<tr><td>1939   </td><td>2203241</td></tr>\n",
              "\t<tr><td>1940   </td><td>2302361</td></tr>\n",
              "\t<tr><td>1941   </td><td>2436023</td></tr>\n",
              "\t<tr><td>1942   </td><td>2731426</td></tr>\n",
              "\t<tr><td>1943   </td><td>2822095</td></tr>\n",
              "\t<tr><td>1944   </td><td>2689804</td></tr>\n",
              "\t<tr><td>1945   </td><td>2652673</td></tr>\n",
              "\t<tr><td>1946   </td><td>3195038</td></tr>\n",
              "\t<tr><td>1947   </td><td>3602002</td></tr>\n",
              "\t<tr><td>1948   </td><td>3452269</td></tr>\n",
              "\t<tr><td>1949   </td><td>3484543</td></tr>\n",
              "\t<tr><td>1950   </td><td>3504130</td></tr>\n",
              "\t<tr><td>1951   </td><td>3684164</td></tr>\n",
              "\t<tr><td>1952   </td><td>3798049</td></tr>\n",
              "\t<tr><td>1953   </td><td>3851855</td></tr>\n",
              "\t<tr><td>1954   </td><td>3980407</td></tr>\n",
              "\t<tr><td>1955   </td><td>4012933</td></tr>\n",
              "\t<tr><td>1956   </td><td>4121130</td></tr>\n",
              "\t<tr><td>...</td><td>...</td></tr>\n",
              "\t<tr><td>1987   </td><td>3604086</td></tr>\n",
              "\t<tr><td>1988   </td><td>3693102</td></tr>\n",
              "\t<tr><td>1989   </td><td>3843384</td></tr>\n",
              "\t<tr><td>1990   </td><td>3950720</td></tr>\n",
              "\t<tr><td>1991   </td><td>3894143</td></tr>\n",
              "\t<tr><td>1992   </td><td>3840017</td></tr>\n",
              "\t<tr><td>1993   </td><td>3769139</td></tr>\n",
              "\t<tr><td>1994   </td><td>3716629</td></tr>\n",
              "\t<tr><td>1995   </td><td>3661216</td></tr>\n",
              "\t<tr><td>1996   </td><td>3646119</td></tr>\n",
              "\t<tr><td>1997   </td><td>3624565</td></tr>\n",
              "\t<tr><td>1998   </td><td>3676838</td></tr>\n",
              "\t<tr><td>1999   </td><td>3692153</td></tr>\n",
              "\t<tr><td>2000   </td><td>3777666</td></tr>\n",
              "\t<tr><td>2001   </td><td>3741011</td></tr>\n",
              "\t<tr><td>2002   </td><td>3735651</td></tr>\n",
              "\t<tr><td>2003   </td><td>3799547</td></tr>\n",
              "\t<tr><td>2004   </td><td>3817903</td></tr>\n",
              "\t<tr><td>2005   </td><td>3841440</td></tr>\n",
              "\t<tr><td>2006   </td><td>3952231</td></tr>\n",
              "\t<tr><td>2007   </td><td>3993206</td></tr>\n",
              "\t<tr><td>2008   </td><td>3925486</td></tr>\n",
              "\t<tr><td>2009   </td><td>3814539</td></tr>\n",
              "\t<tr><td>2010   </td><td>3689517</td></tr>\n",
              "\t<tr><td>2011   </td><td>3650434</td></tr>\n",
              "\t<tr><td>2012   </td><td>3648441</td></tr>\n",
              "\t<tr><td>2013   </td><td>3634744</td></tr>\n",
              "\t<tr><td>2014   </td><td>3692930</td></tr>\n",
              "\t<tr><td>2015   </td><td>3683749</td></tr>\n",
              "\t<tr><td>2016   </td><td>3637321</td></tr>\n",
              "</tbody>\n",
              "</table>\n"
            ],
            "text/latex": "\\begin{tabular}{r|ll}\n année & somme\\\\\n\\hline\n\t 1927    & 2319230\\\\\n\t 1928    & 2260773\\\\\n\t 1929    & 2191954\\\\\n\t 1930    & 2223111\\\\\n\t 1931    & 2103958\\\\\n\t 1932    & 2110985\\\\\n\t 1933    & 1999042\\\\\n\t 1934    & 2076448\\\\\n\t 1935    & 2089571\\\\\n\t 1936    & 2077311\\\\\n\t 1937    & 2130323\\\\\n\t 1938    & 2212260\\\\\n\t 1939    & 2203241\\\\\n\t 1940    & 2302361\\\\\n\t 1941    & 2436023\\\\\n\t 1942    & 2731426\\\\\n\t 1943    & 2822095\\\\\n\t 1944    & 2689804\\\\\n\t 1945    & 2652673\\\\\n\t 1946    & 3195038\\\\\n\t 1947    & 3602002\\\\\n\t 1948    & 3452269\\\\\n\t 1949    & 3484543\\\\\n\t 1950    & 3504130\\\\\n\t 1951    & 3684164\\\\\n\t 1952    & 3798049\\\\\n\t 1953    & 3851855\\\\\n\t 1954    & 3980407\\\\\n\t 1955    & 4012933\\\\\n\t 1956    & 4121130\\\\\n\t ... & ...\\\\\n\t 1987    & 3604086\\\\\n\t 1988    & 3693102\\\\\n\t 1989    & 3843384\\\\\n\t 1990    & 3950720\\\\\n\t 1991    & 3894143\\\\\n\t 1992    & 3840017\\\\\n\t 1993    & 3769139\\\\\n\t 1994    & 3716629\\\\\n\t 1995    & 3661216\\\\\n\t 1996    & 3646119\\\\\n\t 1997    & 3624565\\\\\n\t 1998    & 3676838\\\\\n\t 1999    & 3692153\\\\\n\t 2000    & 3777666\\\\\n\t 2001    & 3741011\\\\\n\t 2002    & 3735651\\\\\n\t 2003    & 3799547\\\\\n\t 2004    & 3817903\\\\\n\t 2005    & 3841440\\\\\n\t 2006    & 3952231\\\\\n\t 2007    & 3993206\\\\\n\t 2008    & 3925486\\\\\n\t 2009    & 3814539\\\\\n\t 2010    & 3689517\\\\\n\t 2011    & 3650434\\\\\n\t 2012    & 3648441\\\\\n\t 2013    & 3634744\\\\\n\t 2014    & 3692930\\\\\n\t 2015    & 3683749\\\\\n\t 2016    & 3637321\\\\\n\\end{tabular}\n",
            "text/markdown": "\n| année | somme |\n|---|---|\n| 1927    | 2319230 |\n| 1928    | 2260773 |\n| 1929    | 2191954 |\n| 1930    | 2223111 |\n| 1931    | 2103958 |\n| 1932    | 2110985 |\n| 1933    | 1999042 |\n| 1934    | 2076448 |\n| 1935    | 2089571 |\n| 1936    | 2077311 |\n| 1937    | 2130323 |\n| 1938    | 2212260 |\n| 1939    | 2203241 |\n| 1940    | 2302361 |\n| 1941    | 2436023 |\n| 1942    | 2731426 |\n| 1943    | 2822095 |\n| 1944    | 2689804 |\n| 1945    | 2652673 |\n| 1946    | 3195038 |\n| 1947    | 3602002 |\n| 1948    | 3452269 |\n| 1949    | 3484543 |\n| 1950    | 3504130 |\n| 1951    | 3684164 |\n| 1952    | 3798049 |\n| 1953    | 3851855 |\n| 1954    | 3980407 |\n| 1955    | 4012933 |\n| 1956    | 4121130 |\n| ... | ... |\n| 1987    | 3604086 |\n| 1988    | 3693102 |\n| 1989    | 3843384 |\n| 1990    | 3950720 |\n| 1991    | 3894143 |\n| 1992    | 3840017 |\n| 1993    | 3769139 |\n| 1994    | 3716629 |\n| 1995    | 3661216 |\n| 1996    | 3646119 |\n| 1997    | 3624565 |\n| 1998    | 3676838 |\n| 1999    | 3692153 |\n| 2000    | 3777666 |\n| 2001    | 3741011 |\n| 2002    | 3735651 |\n| 2003    | 3799547 |\n| 2004    | 3817903 |\n| 2005    | 3841440 |\n| 2006    | 3952231 |\n| 2007    | 3993206 |\n| 2008    | 3925486 |\n| 2009    | 3814539 |\n| 2010    | 3689517 |\n| 2011    | 3650434 |\n| 2012    | 3648441 |\n| 2013    | 3634744 |\n| 2014    | 3692930 |\n| 2015    | 3683749 |\n| 2016    | 3637321 |\n\n",
            "text/plain": [
              "    année somme  \n",
              "1   1927  2319230\n",
              "2   1928  2260773\n",
              "3   1929  2191954\n",
              "4   1930  2223111\n",
              "5   1931  2103958\n",
              "6   1932  2110985\n",
              "7   1933  1999042\n",
              "8   1934  2076448\n",
              "9   1935  2089571\n",
              "10  1936  2077311\n",
              "11  1937  2130323\n",
              "12  1938  2212260\n",
              "13  1939  2203241\n",
              "14  1940  2302361\n",
              "15  1941  2436023\n",
              "16  1942  2731426\n",
              "17  1943  2822095\n",
              "18  1944  2689804\n",
              "19  1945  2652673\n",
              "20  1946  3195038\n",
              "21  1947  3602002\n",
              "22  1948  3452269\n",
              "23  1949  3484543\n",
              "24  1950  3504130\n",
              "25  1951  3684164\n",
              "26  1952  3798049\n",
              "27  1953  3851855\n",
              "28  1954  3980407\n",
              "29  1955  4012933\n",
              "30  1956  4121130\n",
              "... ...   ...    \n",
              "61  1987  3604086\n",
              "62  1988  3693102\n",
              "63  1989  3843384\n",
              "64  1990  3950720\n",
              "65  1991  3894143\n",
              "66  1992  3840017\n",
              "67  1993  3769139\n",
              "68  1994  3716629\n",
              "69  1995  3661216\n",
              "70  1996  3646119\n",
              "71  1997  3624565\n",
              "72  1998  3676838\n",
              "73  1999  3692153\n",
              "74  2000  3777666\n",
              "75  2001  3741011\n",
              "76  2002  3735651\n",
              "77  2003  3799547\n",
              "78  2004  3817903\n",
              "79  2005  3841440\n",
              "80  2006  3952231\n",
              "81  2007  3993206\n",
              "82  2008  3925486\n",
              "83  2009  3814539\n",
              "84  2010  3689517\n",
              "85  2011  3650434\n",
              "86  2012  3648441\n",
              "87  2013  3634744\n",
              "88  2014  3692930\n",
              "89  2015  3683749\n",
              "90  2016  3637321"
            ]
          },
          "metadata": {
            "tags": []
          }
        }
      ]
    },
    {
      "cell_type": "code",
      "metadata": {
        "id": "POIBYozpBm8c",
        "outputId": "ed02d0ff-e090-41ee-ee0a-6f5d77dcef71"
      },
      "source": [
        "2533337.47794118 / 201483"
      ],
      "execution_count": null,
      "outputs": [
        {
          "output_type": "display_data",
          "data": {
            "text/html": [
              "12.5734552192551"
            ],
            "text/latex": "12.5734552192551",
            "text/markdown": "12.5734552192551",
            "text/plain": [
              "[1] 12.57346"
            ]
          },
          "metadata": {
            "tags": []
          }
        }
      ]
    },
    {
      "cell_type": "code",
      "metadata": {
        "id": "w3n1KyYwBm8e",
        "outputId": "7431ad79-3e88-4e9c-b8cd-e922c6e9e172"
      },
      "source": [
        "3637321 / 2533337.47794118 "
      ],
      "execution_count": null,
      "outputs": [
        {
          "output_type": "display_data",
          "data": {
            "text/html": [
              "1.43578225628116"
            ],
            "text/latex": "1.43578225628116",
            "text/markdown": "1.43578225628116",
            "text/plain": [
              "[1] 1.435782"
            ]
          },
          "metadata": {
            "tags": []
          }
        }
      ]
    },
    {
      "cell_type": "markdown",
      "metadata": {
        "id": "HorPvcPwBm8i"
      },
      "source": [
        "#### Exercice\n"
      ]
    },
    {
      "cell_type": "markdown",
      "metadata": {
        "id": "pCZkVGdJBm8i"
      },
      "source": [
        "<div class=\"alert alert-success\">\n",
        "\n",
        "<b>EXERCICE</b>:\n",
        "\n",
        " <ul>\n",
        "  <li>Nombre de femmes s'appelant Charlotte entre 1970 et 1990) ?</li>\n",
        " <li> Trouver 5 exemples de prénoms mixtes et comparer les</li>\n",
        "  <li> Etudier l'évolution de votre prénom depuis 1880 </li>  \n",
        "</ul>\n",
        "</div>"
      ]
    },
    {
      "cell_type": "markdown",
      "metadata": {
        "id": "vaaAMgvIBm8j"
      },
      "source": [
        "<div class=\"alert alert-success\">\n",
        "\n",
        "<b>Exercice swirl dplyr</b>:\n",
        "\n",
        " <ul>\n",
        "   <li>1: Manipulating Data with dplyr</li>\n",
        "   <li>2: Grouping and Chaining with dplyr</li>\n",
        "   <li>3: Tidying Data with tidyr</li>\n",
        "   <li>4: Dates and Times with lubridate</li>  \n",
        "</ul>\n",
        "</div>"
      ]
    }
  ]
}