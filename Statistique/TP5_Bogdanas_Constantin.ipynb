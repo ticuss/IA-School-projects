{
 "cells": [
  {
   "cell_type": "markdown",
   "metadata": {},
   "source": [
    "# TP 5: Importation de données et variables qualitatives: \n",
    "\n",
    "### Exercice 1 \n",
    "#### 1.Créer et manipuler les facteurs suivants (levels, tableaux d’effectifs)."
   ]
  },
  {
   "cell_type": "code",
   "execution_count": 7,
   "metadata": {},
   "outputs": [
    {
     "data": {
      "text/html": [
       "<style>\n",
       ".list-inline {list-style: none; margin:0; padding: 0}\n",
       ".list-inline>li {display: inline-block}\n",
       ".list-inline>li:not(:last-child)::after {content: \"\\00b7\"; padding: 0 .5ex}\n",
       "</style>\n",
       "<ol class=list-inline><li>'1'</li><li>'2'</li><li>'22'</li></ol>\n"
      ],
      "text/latex": [
       "\\begin{enumerate*}\n",
       "\\item '1'\n",
       "\\item '2'\n",
       "\\item '22'\n",
       "\\end{enumerate*}\n"
      ],
      "text/markdown": [
       "1. '1'\n",
       "2. '2'\n",
       "3. '22'\n",
       "\n",
       "\n"
      ],
      "text/plain": [
       "[1] \"1\"  \"2\"  \"22\""
      ]
     },
     "metadata": {},
     "output_type": "display_data"
    },
    {
     "data": {
      "text/plain": [
       "f1\n",
       " 1  2 22 \n",
       " 3  2  1 "
      ]
     },
     "metadata": {},
     "output_type": "display_data"
    },
    {
     "data": {
      "text/html": [
       "<style>\n",
       ".list-inline {list-style: none; margin:0; padding: 0}\n",
       ".list-inline>li {display: inline-block}\n",
       ".list-inline>li:not(:last-child)::after {content: \"\\00b7\"; padding: 0 .5ex}\n",
       "</style>\n",
       "<ol class=list-inline><li>'f'</li><li>'m'</li></ol>\n"
      ],
      "text/latex": [
       "\\begin{enumerate*}\n",
       "\\item 'f'\n",
       "\\item 'm'\n",
       "\\end{enumerate*}\n"
      ],
      "text/markdown": [
       "1. 'f'\n",
       "2. 'm'\n",
       "\n",
       "\n"
      ],
      "text/plain": [
       "[1] \"f\" \"m\""
      ]
     },
     "metadata": {},
     "output_type": "display_data"
    },
    {
     "data": {
      "text/plain": [
       "f2\n",
       "f m \n",
       "4 3 "
      ]
     },
     "metadata": {},
     "output_type": "display_data"
    }
   ],
   "source": [
    "\n",
    "f1 <- factor(c(1, 22, 1, 1, 2, 2))\n",
    "levels(f1)\n",
    "table(f1)\n",
    "\n",
    "f2 <- factor(c(\"m\", \"f\", \"f\", \"m\", \"m\", NA, \"f\", \"f\"))\n",
    "levels(f2)\n",
    "table(f2)"
   ]
  },
  {
   "cell_type": "markdown",
   "metadata": {},
   "source": [
    "#### 2. On collecte l’information sur la couleur des yeux de 12 personnes.\n",
    "\n",
    "##### Créer un facteur couleurs regroupant les 12 valeurs obtenues : bleu, marron,vert, marron, marron, bleu, marron, marron, vert, vert, marron, vert."
   ]
  },
  {
   "cell_type": "code",
   "execution_count": 8,
   "metadata": {},
   "outputs": [
    {
     "data": {
      "text/html": [
       "<style>\n",
       ".list-inline {list-style: none; margin:0; padding: 0}\n",
       ".list-inline>li {display: inline-block}\n",
       ".list-inline>li:not(:last-child)::after {content: \"\\00b7\"; padding: 0 .5ex}\n",
       "</style>\n",
       "<ol class=list-inline><li>'bleu'</li><li>'marron'</li><li>'vert'</li></ol>\n"
      ],
      "text/latex": [
       "\\begin{enumerate*}\n",
       "\\item 'bleu'\n",
       "\\item 'marron'\n",
       "\\item 'vert'\n",
       "\\end{enumerate*}\n"
      ],
      "text/markdown": [
       "1. 'bleu'\n",
       "2. 'marron'\n",
       "3. 'vert'\n",
       "\n",
       "\n"
      ],
      "text/plain": [
       "[1] \"bleu\"   \"marron\" \"vert\"  "
      ]
     },
     "metadata": {},
     "output_type": "display_data"
    },
    {
     "data": {
      "text/plain": [
       "couleurs\n",
       "  bleu marron   vert    Sum \n",
       "     2      6      4     12 "
      ]
     },
     "metadata": {},
     "output_type": "display_data"
    },
    {
     "data": {
      "text/plain": [
       "couleurs\n",
       "  bleu marron   vert \n",
       "  0.17   0.50   0.33 "
      ]
     },
     "metadata": {},
     "output_type": "display_data"
    }
   ],
   "source": [
    "\n",
    "\n",
    "couleurs <- factor(c(\"bleu\",\"marron\",\"vert\",\"marron\",\"marron\",\"bleu\",\"marron\",\"marron\",\"vert\",\"vert\",\"marron\",\"vert\"))\n",
    "\n",
    "#Donner les commandes renvoyant le nombre de modalités de la variable étudiée et l’effectif total.\n",
    "levels(couleurs)\n",
    "addmargins(table(couleurs))\n",
    "\n",
    "#Construire le tableau des fréquences arrondies au centième.\n",
    "\n",
    "coul <- table(couleurs)\n",
    "round(prop.table(coul),2)"
   ]
  },
  {
   "cell_type": "markdown",
   "metadata": {},
   "source": [
    "### Exercice 2 (importa)\n",
    "\n",
    "#### 1. Télécharger le fichier csv à l’adresse suivante : egallic.fr/Enseignement/R/Exercices/donnees/notes.csv et le placer dans le répertoire courant du projet. Importer son contenu dans R ;\n"
   ]
  },
  {
   "cell_type": "code",
   "execution_count": 9,
   "metadata": {},
   "outputs": [
    {
     "name": "stderr",
     "output_type": "stream",
     "text": [
      "Warning message:\n",
      "“le package ‘read_csv’ n'est pas disponible for this version of R\n",
      "\n",
      "Une version de ce package pour votre version de R est peut-être disponible ailleurs,\n",
      "Voyez des idées à\n",
      "https://cran.r-project.org/doc/manuals/r-patched/R-admin.html#Installing-packages”\n"
     ]
    },
    {
     "ename": "ERROR",
     "evalue": "Error in library(readr): aucun package nommé ‘readr’ n'est trouvé\n",
     "output_type": "error",
     "traceback": [
      "Error in library(readr): aucun package nommé ‘readr’ n'est trouvé\nTraceback:\n",
      "1. library(readr)"
     ]
    }
   ],
   "source": [
    "install.packages(\"read_csv\")\n",
    "chemin <- \"http://egallic.fr/Enseignement/R/Exercices/donnees/notes.csv\" \n",
    "download.file(chemin, destfile = \"./notes.csv\")\n",
    "df <- read.csv(\"notes.csv\")\n",
    "library(readr)\n",
    "df <- read_csv(\"notes.csv\")"
   ]
  },
  {
   "cell_type": "markdown",
   "metadata": {},
   "source": [
    "#### 2. Importer à nouveau les données dans R, mais en utilisant fournissant cette fois le l’url directement à la fonction d’importation ;\n"
   ]
  },
  {
   "cell_type": "code",
   "execution_count": null,
   "metadata": {},
   "outputs": [],
   "source": [
    "chemin <- \"http://egallic.fr/Enseignement/R/Exercices/donnees/notes.csv\" \n",
    "df <- read_csv(chemin)"
   ]
  },
  {
   "cell_type": "markdown",
   "metadata": {},
   "source": [
    "#### 3. Àprésent,importerlecontenudufichieregallic.fr/Enseignement/R/Exercices/donnees/notes_ decim.csv. Le séparateur de champs est un point virgule et le séparateur décimal est une virgule ;\n"
   ]
  },
  {
   "cell_type": "code",
   "execution_count": null,
   "metadata": {},
   "outputs": [],
   "source": [
    "chemin <- \"http://egallic.fr/Enseignement/R/Exercices/donnees/notes_decim.csv\" \n",
    "df <- read_csv2(chemin)"
   ]
  },
  {
   "cell_type": "markdown",
   "metadata": {},
   "source": [
    "#### 4.Importer le contenu du fichier egallic.fr/Enseignement/R/Exercices/donnees/notes_h.csv. Le nom des colonnes n’est pas présent ;\n"
   ]
  },
  {
   "cell_type": "code",
   "execution_count": null,
   "metadata": {},
   "outputs": [],
   "source": [
    "chemin <- \"http://egallic.fr/Enseignement/R/Exercices/donnees/notes_h.csv\" \n",
    "df <- read_csv(chemin, col_names=FALSE)"
   ]
  },
  {
   "cell_type": "markdown",
   "metadata": {},
   "source": [
    "#### 5. Importer le contenu du fichier egallic.fr/Enseignement/R/Exercices/donnees/notes_h_s. csv. La première ligne n’est pas à importer ;\n"
   ]
  },
  {
   "cell_type": "code",
   "execution_count": null,
   "metadata": {},
   "outputs": [],
   "source": [
    "chemin <- \"http://egallic.fr/Enseignement/R/Exercices/donnees/notes_h_s.csv\"\n",
    "df <- read_csv(chemin, skip=1)"
   ]
  },
  {
   "cell_type": "markdown",
   "metadata": {},
   "source": [
    "#### 6. Importer le contenu de la première feuille du fichier Excel egallic.fr/Enseignement/R/Exercices/donnees/notes.xlsx ;\n"
   ]
  },
  {
   "cell_type": "code",
   "execution_count": null,
   "metadata": {},
   "outputs": [],
   "source": [
    "chemin <- \"http://egallic.fr/Enseignement/R/Exercices/donnees/notes.xlsx\" \n",
    "download.file(chemin, destfile = \"./notes.xlsx\", mode = \"wb\") \n",
    "library(readxl)\n",
    "df <- read_excel(\"notes.xlsx\")"
   ]
  },
  {
   "cell_type": "markdown",
   "metadata": {},
   "source": [
    "#### 7. Importer le contenu de la seconde feuille (notes_h_s) du fichier Excel egallic.fr/Enseignement/ R/Exercices/donnees/notes.xlsx. La première ligne est un commentaire à ne pas considérer durant l’importaiton ;\n"
   ]
  },
  {
   "cell_type": "code",
   "execution_count": null,
   "metadata": {},
   "outputs": [],
   "source": [
    "df <- read_excel(\"notes.xlsx\", sheet = \"notes_h_s\", skip=1) \n"
   ]
  },
  {
   "cell_type": "markdown",
   "metadata": {},
   "source": [
    "#### 8. Importer le fichier egallic.fr/Enseignement/R/Exercices/donnees/notes.rda dans R ;\n"
   ]
  },
  {
   "cell_type": "code",
   "execution_count": null,
   "metadata": {},
   "outputs": [],
   "source": [
    "chemin <- \"http://egallic.fr/Enseignement/R/Exercices/donnees/notes.rda\" \n",
    "load(url(chemin))\n",
    "head(notes)"
   ]
  },
  {
   "cell_type": "markdown",
   "metadata": {},
   "source": [
    "#### 9. Exporter le contenu de l’objet notes de la question précédente au format csv (virgule en séparateur de champs, point en séparateur décimal, ne pas conserver le numéro des lignes).\n"
   ]
  },
  {
   "cell_type": "code",
   "execution_count": null,
   "metadata": {},
   "outputs": [],
   "source": [
    "\n",
    "write.csv(notes, file = \"notes_2.csv\", row.names = FALSE) \n",
    "write_csv(notes, path = \"notes_3.csv\")"
   ]
  },
  {
   "cell_type": "markdown",
   "metadata": {},
   "source": [
    "#### 10. Importer le contenu du fichier notes_2012.csv contenu dans l’archive disponible à l’adresse suivante : http://egallic.fr/Enseignement/R/Exercices/donnees/notes.zip\n"
   ]
  },
  {
   "cell_type": "code",
   "execution_count": null,
   "metadata": {},
   "outputs": [
    {
     "ename": "ERROR",
     "evalue": "Error in download.file(chemin, tf): objet 'chemin' introuvable\n",
     "output_type": "error",
     "traceback": [
      "Error in download.file(chemin, tf): objet 'chemin' introuvable\nTraceback:\n",
      "1. download.file(chemin, tf)"
     ]
    }
   ],
   "source": [
    "td <- tempdir()\n",
    "tf <- tempfile(tmpdir=td, fileext=\".zip\") \n",
    "download.file(chemin, tf)\n",
    "unzip(tf, list=TRUE)$Name\n",
    "\n",
    "file_name <- unzip(tf, list=TRUE)$Name[1]\n",
    "df <-unz(description = tf, filename = file_name) %>% \n",
    "read_csv2()"
   ]
  }
 ],
 "metadata": {
  "kernelspec": {
   "display_name": "R",
   "language": "R",
   "name": "ir"
  },
  "language_info": {
   "codemirror_mode": "r",
   "file_extension": ".r",
   "mimetype": "text/x-r-source",
   "name": "R",
   "pygments_lexer": "r",
   "version": "4.1.1"
  },
  "orig_nbformat": 4
 },
 "nbformat": 4,
 "nbformat_minor": 2
}
