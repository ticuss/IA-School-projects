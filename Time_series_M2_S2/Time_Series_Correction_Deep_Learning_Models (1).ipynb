{
  "cells": [
    {
      "cell_type": "markdown",
      "metadata": {
        "id": "4FMp9gtS-2LO"
      },
      "source": [
        "*This Notebook has been created by PALISSON Antoine.*<br>\n"
      ]
    },
    {
      "cell_type": "code",
      "execution_count": null,
      "metadata": {
        "id": "XxHArnZntSDY"
      },
      "outputs": [],
      "source": [
        "# Base packages import\n",
        "import pandas as pd\n",
        "import numpy as np\n",
        "import matplotlib.pyplot as plt"
      ]
    },
    {
      "cell_type": "markdown",
      "metadata": {
        "id": "zjfXAJIpvwSf"
      },
      "source": [
        "### Datasets"
      ]
    },
    {
      "cell_type": "markdown",
      "metadata": {
        "id": "zdGfFjkJiR6l"
      },
      "source": [
        "pmdarima datasets [Documentation](https://alkaline-ml.com/pmdarima/modules/classes.html#pmdarima-datasets-toy-timeseries-datasets)<br>"
      ]
    },
    {
      "cell_type": "code",
      "execution_count": null,
      "metadata": {
        "colab": {
          "base_uri": "https://localhost:8080/"
        },
        "id": "pOX30lfGk5Qj",
        "outputId": "c2ab17d2-c976-46d6-a377-3e5e67c22ec0"
      },
      "outputs": [
        {
          "name": "stdout",
          "output_type": "stream",
          "text": [
            "\u001b[2K     \u001b[90m━━━━━━━━━━━━━━━━━━━━━━━━━━━━━━━━━━━━━━━━\u001b[0m \u001b[32m1.9/1.9 MB\u001b[0m \u001b[31m72.4 MB/s\u001b[0m eta \u001b[36m0:00:00\u001b[0m\n",
            "\u001b[2K     \u001b[90m━━━━━━━━━━━━━━━━━━━━━━━━━━━━━━━━━━━━━━━━\u001b[0m \u001b[32m9.9/9.9 MB\u001b[0m \u001b[31m93.9 MB/s\u001b[0m eta \u001b[36m0:00:00\u001b[0m\n",
            "\u001b[?25h"
          ]
        }
      ],
      "source": [
        "# You need to re-install statsmodel before installing pmdarima on google colab\n",
        "# On your local machine, be careful on the versions you are using\n",
        "!pip install -q statsmodels\n",
        "!pip install -q pmdarima\n",
        "from pmdarima.datasets import load_airpassengers, load_msft, load_ausbeer, load_austres"
      ]
    },
    {
      "cell_type": "code",
      "execution_count": null,
      "metadata": {
        "id": "rXEWvL4cdn7j"
      },
      "outputs": [],
      "source": [
        "airp_df = load_airpassengers(as_series=True)\n",
        "airp_df.index = pd.to_datetime(pd.date_range(start='01/01/1949', periods=len(airp_df), freq='M'))\n",
        "airp_df.name = 'Air Passenger'\n",
        "\n",
        "msft_df = load_msft()\n",
        "msft_df = pd.Series(msft_df['Close'].to_numpy(), index=msft_df['Date'])\n",
        "msft_df.index = pd.to_datetime(msft_df.index)"
      ]
    },
    {
      "cell_type": "markdown",
      "metadata": {
        "id": "QSVh2_GEXm4I"
      },
      "source": [
        "# Simple RNN"
      ]
    },
    {
      "cell_type": "markdown",
      "metadata": {
        "id": "j2nPeouXgQdX"
      },
      "source": [
        "Simple RNN layers can be used whenever a Time Series does not require the model to remember information from long ago.\n",
        "\n",
        "In TensorFlow Keras, the SimpleRNN layer has several important parameters that you can use to configure the behavior of the layer. Some of the most important parameters include:\n",
        "\n",
        "* **units**: This parameter specifies the number of hidden units in the SimpleRNN layer. The number of hidden units determines the size of the internal representation of the input data, and can affect the model's ability to capture complex patterns in the data. High values may harm the performances for simple datasets whereas low values may harm the performances for complex datasets.\n",
        "\n",
        "* **activation**: This parameter specifies the activation function to use for the output of the SimpleRNN layer. Common activation functions include \"relu\", \"tanh\", and \"sigmoid\". In general, it's a good idea to try different activation functions and compare the performance of the model to see which one works best.\n",
        "\n",
        "* **return_sequences**: This parameter determines whether the output of the SimpleRNN layer should be returned for every timestep or just the last timestep. If set to True, the output will be returned for every timestep, and can be used as input to another RNN layer. If set to False, the output will only be returned for the last timestep, and is typically used as input to a dense layer.\n",
        "\n",
        "* **return_state**: This parameter determines whether the hidden state of the SimpleRNN layer should be returned. If set to True, the hidden state will be returned in addition to the output, and can be used to initialize the state of another RNN layer. If set to False, the hidden state will not be returned.\n",
        "\n",
        "* **input_shape**: This parameter specifies the shape of the input data, in the form of (batch_size, timesteps, input_dim). It is only required when creating the first layer of the model.\n",
        "\n",
        "* **kernel_initializer** and recurrent_initializer : These parameters are used to initialize the weight matrices of the SimpleRNN layer. You can use different initializers to change the behavior of the model and to improve the training performance.\n",
        "\n",
        "* **kernel_regularizer** and **recurrent_regularizer**: These parameters are used to apply weight regularization to the SimpleRNN layer. Regularization can help prevent overfitting by adding a penalty term to the loss function based on the magnitude of the weights.\n",
        "\n",
        "* **dropout**: This parameter applies dropout regularization to the output of the SimpleRNN layer. Dropout randomly sets a fraction of the input units to 0 at each update during training time, which helps prevent overfitting by reducing the number of parameters that can be updated.\n",
        "\n",
        "In general, a deeper model (more layers) can potentially capture more complex patterns in the data, but it can also increase the risk of overfitting. On the other hand, a shallower model (fewer layers) may not be able to capture as many complex patterns, but it may be less prone to overfitting.\n",
        "\n",
        "A good way to decide the number of layers is to start with a small number of layers and gradually increase the number while monitoring the performance of the model on a validation set. You can also try to use early stopping, which is a technique that can help you decide when to stop training by monitoring the performance on a validation set.\n",
        "\n",
        "SimpleRNN\n",
        "\n",
        "```\n",
        "# Ce texte est au format code\n",
        "```\n",
        "\n",
        " [Documentation](https://www.tensorflow.org/api_docs/python/tf/keras/layers/SimpleRNN)"
      ]
    },
    {
      "cell_type": "markdown",
      "metadata": {
        "id": "j5UO1dbYXpL_"
      },
      "source": [
        "## One step at a time"
      ]
    },
    {
      "cell_type": "markdown",
      "metadata": {
        "id": "dLaZip4QiYBY"
      },
      "source": [
        "In this exercise, we will predict the next value based and the previous ones.\n",
        "\n",
        "**1. Split the airp_df time series into a train and a test set without shuffling.**\n",
        "\n",
        "*Tips: We will create the validation set later on.*"
      ]
    },
    {
      "cell_type": "code",
      "execution_count": null,
      "metadata": {
        "id": "IYmsP9Ts5H5y"
      },
      "outputs": [],
      "source": [
        "from sklearn.model_selection import train_test_split\n",
        "airp_train, airp_test = train_test_split(airp_df, test_size=0.2, shuffle=False)"
      ]
    },
    {
      "cell_type": "markdown",
      "metadata": {
        "id": "DhEbkLjEim9O"
      },
      "source": [
        "The input shape of a SimpleRNN model in TensorFlow Keras is a tuple of three integers that specify the dimensions of the input data, in the form of (batch_size, timesteps, input_dim).\n",
        "\n",
        "* **batch_size**: This is the number of samples per gradient update. It corresponds to the number of samples in a batch. For example, if you have 1000 samples and a batch size of 32, it will take 32 gradient updates to process all of the samples.\n",
        "\n",
        "* **timesteps**: This is the number of time steps in the input data. In the case of time series data, the timesteps represent the number of observations of the time series at a specific time interval. The number of time steps is also related to the length of the sequence you want to process.\n",
        "\n",
        "* **input_dim**: This is the number of features in the input data. It corresponds to the number of input dimensions in the input data. For example, if you are processing text data, it corresponds to the number of unique words in the vocabulary.\n",
        "\n",
        "For example, if you are working with a window size of 12 for a Time Series without any exogenous variable, the shape of the X dataset should be set to (Batch Size, 12, 1). Additionally, if you want to predict the next value, the Y dataset should be set to (Batch Size, 1).\n",
        "\n",
        "`[____XXXXXY______]`<br>\n",
        "`[_____XXXXXY_____]`<br>\n",
        "`[______XXXXXY____]`<br>\n",
        "`[_______XXXXXY___]`<br>\n",
        "\n",
        "**2. Create the feature (X) set by using a sliding windows of size 12, with a step of 1 for both train and test sets. Create the label (Y) set by using the next value i.e. the one after the window.**"
      ]
    },
    {
      "cell_type": "code",
      "execution_count": null,
      "metadata": {
        "id": "FOsVgHCZFMNa"
      },
      "outputs": [],
      "source": [
        "def create_windows(data, win_length,win_offset,target_length):\n",
        "    X = []\n",
        "    y = []\n",
        "\n",
        "    max_length = len(data) - win_length - target_length  + 1\n",
        "    for i in range(0, max_length, win_offset):\n",
        "        X.append(data[i:i+win_length])\n",
        "        y.append(data[i+win_length:i+win_length+target_length])\n",
        "    \n",
        "    return np.array(X)[..., np.newaxis], np.array(y)"
      ]
    },
    {
      "cell_type": "code",
      "execution_count": null,
      "metadata": {
        "id": "UhRaRHfW5Zyz"
      },
      "outputs": [],
      "source": [
        "win_length = 12\n",
        "win_offset = 1\n",
        "target_length = 1\n",
        "\n",
        "X_train, y_train = create_windows(airp_train, \n",
        "                                  win_length = win_length,\n",
        "                                  win_offset = win_offset,\n",
        "                                  target_length = target_length)\n",
        "\n",
        "X_test, y_test = create_windows(airp_test, \n",
        "                                win_length = win_length,\n",
        "                                win_offset = win_offset,\n",
        "                                target_length = target_length)"
      ]
    },
    {
      "cell_type": "markdown",
      "metadata": {
        "id": "BWcsuZJflAmw"
      },
      "source": [
        "**3. Standardize the values of the Time Series.**\n",
        "\n",
        "*Tips: Don't forget to only compute the calculations on the Train set but apply the standardization to every set.*"
      ]
    },
    {
      "cell_type": "code",
      "execution_count": null,
      "metadata": {
        "id": "wAdDkXzUQTRM"
      },
      "outputs": [],
      "source": [
        "mu = X_train.mean()\n",
        "si = X_train.std()"
      ]
    },
    {
      "cell_type": "code",
      "execution_count": null,
      "metadata": {
        "id": "WD3iVMesSF-j"
      },
      "outputs": [],
      "source": [
        "X_train_std = (X_train - mu)/si\n",
        "y_train_std = (y_train - mu)/si\n",
        "\n",
        "X_test_std = (X_test - mu)/si\n",
        "y_test_std = (y_test - mu)/si"
      ]
    },
    {
      "cell_type": "markdown",
      "metadata": {
        "id": "lYVjhoijm_Cs"
      },
      "source": [
        "There are many ways to create a simple RNN Deep Learning model architecture using **`Tensorflow Keras`**. Here is one of the simplest method:\n",
        "\n",
        "\n",
        "\n",
        "1.   Start by creating the model with the `tf.keras.Sequential()` class\n",
        "2.   Add the `Input()` layer to the model with the `model.add()` method. The input layer should contain the shape of the training data (window_length, number of features)\n",
        "3.   Add one `SimpleRNN()`. Don't forget to specify its hyperparameters.\n",
        "4.   Add more layers. If you are stacking SimpleRNN layers, don't forget to turn the `return_sequences` parameter to True unless it is the last SimpleRNN before the output layer.\n",
        "5.   Add the output layer. For a Time Series, it is generally a `Dense()` layers that does not have any activation. The number of units depends on the number of outputs needed.\n",
        "\n",
        "Sequential [Documentation](https://www.tensorflow.org/api_docs/python/tf/keras/Sequential)<br>\n",
        "Dense [Documentation](https://www.tensorflow.org/api_docs/python/tf/keras/layers/Dense)\n",
        "\n",
        "\n",
        "**4.a. Define a sequential deep learning model architecture that contains one input layer, some SimpleRNN layers and one output layer.<br> 4.b. Show the architecture and the parameters of the model using the `model.summary()` method.**"
      ]
    },
    {
      "cell_type": "code",
      "execution_count": null,
      "metadata": {
        "colab": {
          "base_uri": "https://localhost:8080/"
        },
        "id": "G_r6idM4H0kB",
        "outputId": "2d2de690-f29d-4bb6-d73c-d33073975e36"
      },
      "outputs": [
        {
          "name": "stdout",
          "output_type": "stream",
          "text": [
            "Model: \"sequential\"\n",
            "_________________________________________________________________\n",
            " Layer (type)                Output Shape              Param #   \n",
            "=================================================================\n",
            " simple_rnn (SimpleRNN)      (None, 12, 20)            440       \n",
            "                                                                 \n",
            " simple_rnn_1 (SimpleRNN)    (None, 12, 20)            820       \n",
            "                                                                 \n",
            " simple_rnn_2 (SimpleRNN)    (None, 20)                820       \n",
            "                                                                 \n",
            " dense (Dense)               (None, 1)                 21        \n",
            "                                                                 \n",
            "=================================================================\n",
            "Total params: 2,101\n",
            "Trainable params: 2,101\n",
            "Non-trainable params: 0\n",
            "_________________________________________________________________\n"
          ]
        }
      ],
      "source": [
        "import tensorflow as tf\n",
        "tf.keras.backend.clear_session()\n",
        "tf.random.set_seed(42)\n",
        "\n",
        "# Create a sequential model\n",
        "model = tf.keras.models.Sequential()\n",
        "\n",
        "# Add the input layer\n",
        "model.add(tf.keras.layers.Input(shape=(win_length, 1)))\n",
        "\n",
        "# Add the recurrent layer\n",
        "model.add(tf.keras.layers.SimpleRNN(units=20, activation ='tanh', return_sequences=True))\n",
        "model.add(tf.keras.layers.SimpleRNN(units=20, activation ='tanh', return_sequences=True))\n",
        "model.add(tf.keras.layers.SimpleRNN(units=20))\n",
        "\n",
        "# Output layer\n",
        "model.add(tf.keras.layers.Dense(units=1, activation=None))\n",
        "\n",
        "# Print the model architecture\n",
        "model.summary()"
      ]
    },
    {
      "cell_type": "markdown",
      "metadata": {
        "id": "NSGQTujopX5Y"
      },
      "source": [
        "In TensorFlow, the `compile()` method is used to configure the learning process before training a model. It is typically called after the model architecture has been defined and the model has been compiled with the optimizer, loss function, and metrics to be used during training. The `compile()` method takes several arguments such as optimizer, loss and metrics. These are used to configure the model's training process.\n",
        "\n",
        "Adam Optimizer [Documentation](https://www.tensorflow.org/api_docs/python/tf/keras/optimizers/Adam)<br>\n",
        "MSE loss [Documentation](https://www.tensorflow.org/api_docs/python/tf/keras/losses/MeanSquaredError)\n",
        "\n",
        "**5. Compile the model by adding an optimizer, a loss and, optionally, a metric using the `model.compile()` method. <br>Set the learning_rate of the optimizer to 0.001**\n",
        "\n",
        "*Tips: You can use the Adam optimizer and the mean squared error loss.*"
      ]
    },
    {
      "cell_type": "code",
      "execution_count": null,
      "metadata": {
        "id": "0hdGkgbuIvJN"
      },
      "outputs": [],
      "source": [
        "# Choose the optimizer\n",
        "optimizer = tf.keras.optimizers.Adam(learning_rate=0.001)\n",
        "\n",
        "# Compile the model\n",
        "model.compile(optimizer=optimizer,\n",
        "              loss='mse')"
      ]
    },
    {
      "cell_type": "markdown",
      "metadata": {
        "id": "Oj1wV365qSeR"
      },
      "source": [
        "The `fit()` function is used to train a model. It is typically called after the model architecture has been defined and the model has been compiled with the optimizer, loss function, and metrics to be used during training. \n",
        "\n",
        "It returns a history object that contains the loss and metric values for each epoch of training.\n",
        "\n",
        "The fit() method in TensorFlow has several important parameters, including:\n",
        "\n",
        "* **x**: This is the input data for the model, typically a numpy array or a dataset.\n",
        "* **y**: This is the target data for the model, also typically a numpy array or a dataset. It contains the labels or values that the model should predict.\n",
        "* **batch_size**: This is the number of samples to use in each iteration of training. The model will update its weights after every batch.\n",
        "* **epochs**: This is the number of times the model will iterate over the entire dataset during training.\n",
        "* **validation_data** : This is used to monitor the training process, it can be a tuple of x and y validation data.\n",
        "* **validation_split** : This is used to monitor the training process, it is the ratio of the data that will be used as a validation set.\n",
        "* **verbose**: This is used to control how much output is printed during training. A value of 0 means no output is printed, while a value of 1 means progress bars and updates are printed.\n",
        "\n",
        "Other paramters exist. You can check the `fit()` [documentation](https://www.tensorflow.org/api_docs/python/tf/keras/Model#fit)\n",
        "\n",
        "**6. Train the model by using the `model.fit()` method.<br>Specify a value for the number of `epochs` and the `batch_size`, and set the validation_split hyperparameter to 0.1**\n",
        "\n",
        "*Tips: You can use an early stopping callback to avoir overfitting.*"
      ]
    },
    {
      "cell_type": "code",
      "execution_count": null,
      "metadata": {
        "colab": {
          "base_uri": "https://localhost:8080/"
        },
        "id": "wbZsMBneKHy9",
        "outputId": "d094ba38-32b5-40fa-a29a-a59f5734727b"
      },
      "outputs": [
        {
          "name": "stdout",
          "output_type": "stream",
          "text": [
            "Epoch 1/50\n",
            "23/23 [==============================] - 2s 34ms/step - loss: 0.2810 - val_loss: 0.4120\n",
            "Epoch 2/50\n",
            "23/23 [==============================] - 0s 19ms/step - loss: 0.1543 - val_loss: 0.3342\n",
            "Epoch 3/50\n",
            "23/23 [==============================] - 0s 19ms/step - loss: 0.1016 - val_loss: 0.2857\n",
            "Epoch 4/50\n",
            "23/23 [==============================] - 0s 19ms/step - loss: 0.0803 - val_loss: 0.2473\n",
            "Epoch 5/50\n",
            "23/23 [==============================] - 0s 19ms/step - loss: 0.0598 - val_loss: 0.2117\n",
            "Epoch 6/50\n",
            "23/23 [==============================] - 0s 19ms/step - loss: 0.0487 - val_loss: 0.1788\n",
            "Epoch 7/50\n",
            "23/23 [==============================] - 0s 19ms/step - loss: 0.0428 - val_loss: 0.1743\n",
            "Epoch 8/50\n",
            "23/23 [==============================] - 0s 20ms/step - loss: 0.0414 - val_loss: 0.1596\n",
            "Epoch 9/50\n",
            "23/23 [==============================] - 0s 19ms/step - loss: 0.0403 - val_loss: 0.1235\n",
            "Epoch 10/50\n",
            "23/23 [==============================] - 0s 19ms/step - loss: 0.0347 - val_loss: 0.1189\n",
            "Epoch 11/50\n",
            "23/23 [==============================] - 0s 20ms/step - loss: 0.0349 - val_loss: 0.1142\n",
            "Epoch 12/50\n",
            "23/23 [==============================] - 0s 19ms/step - loss: 0.0335 - val_loss: 0.1295\n",
            "Epoch 13/50\n",
            "23/23 [==============================] - 0s 20ms/step - loss: 0.0294 - val_loss: 0.0879\n",
            "Epoch 14/50\n",
            "23/23 [==============================] - 0s 18ms/step - loss: 0.0263 - val_loss: 0.0881\n",
            "Epoch 15/50\n",
            "23/23 [==============================] - 0s 19ms/step - loss: 0.0262 - val_loss: 0.0775\n",
            "Epoch 16/50\n",
            "23/23 [==============================] - 0s 19ms/step - loss: 0.0279 - val_loss: 0.0822\n",
            "Epoch 17/50\n",
            "23/23 [==============================] - 0s 18ms/step - loss: 0.0191 - val_loss: 0.0748\n",
            "Epoch 18/50\n",
            "23/23 [==============================] - 0s 19ms/step - loss: 0.0230 - val_loss: 0.0783\n",
            "Epoch 19/50\n",
            "23/23 [==============================] - 0s 20ms/step - loss: 0.0161 - val_loss: 0.0610\n",
            "Epoch 20/50\n",
            "23/23 [==============================] - 0s 20ms/step - loss: 0.0169 - val_loss: 0.0634\n",
            "Epoch 21/50\n",
            "23/23 [==============================] - 0s 19ms/step - loss: 0.0151 - val_loss: 0.0559\n",
            "Epoch 22/50\n",
            "23/23 [==============================] - 0s 18ms/step - loss: 0.0170 - val_loss: 0.0569\n",
            "Epoch 23/50\n",
            "23/23 [==============================] - 0s 20ms/step - loss: 0.0133 - val_loss: 0.0522\n",
            "Epoch 24/50\n",
            "23/23 [==============================] - 0s 19ms/step - loss: 0.0126 - val_loss: 0.0519\n",
            "Epoch 25/50\n",
            "23/23 [==============================] - 0s 19ms/step - loss: 0.0145 - val_loss: 0.0483\n",
            "Epoch 26/50\n",
            "23/23 [==============================] - 0s 20ms/step - loss: 0.0201 - val_loss: 0.0472\n",
            "Epoch 27/50\n",
            "23/23 [==============================] - 0s 19ms/step - loss: 0.0128 - val_loss: 0.0599\n",
            "Epoch 28/50\n",
            "23/23 [==============================] - 0s 19ms/step - loss: 0.0124 - val_loss: 0.0503\n",
            "Epoch 29/50\n",
            "23/23 [==============================] - 0s 19ms/step - loss: 0.0094 - val_loss: 0.0429\n",
            "Epoch 30/50\n",
            "23/23 [==============================] - 0s 19ms/step - loss: 0.0076 - val_loss: 0.0399\n",
            "Epoch 31/50\n",
            "23/23 [==============================] - 0s 20ms/step - loss: 0.0134 - val_loss: 0.0347\n",
            "Epoch 32/50\n",
            "23/23 [==============================] - 0s 19ms/step - loss: 0.0263 - val_loss: 0.0339\n",
            "Epoch 33/50\n",
            "23/23 [==============================] - 0s 20ms/step - loss: 0.0167 - val_loss: 0.0533\n",
            "Epoch 34/50\n",
            "23/23 [==============================] - 0s 20ms/step - loss: 0.0086 - val_loss: 0.0371\n",
            "Epoch 35/50\n",
            "23/23 [==============================] - 0s 20ms/step - loss: 0.0092 - val_loss: 0.0463\n",
            "Epoch 36/50\n",
            "23/23 [==============================] - 0s 20ms/step - loss: 0.0113 - val_loss: 0.0333\n",
            "Epoch 37/50\n",
            "23/23 [==============================] - 0s 20ms/step - loss: 0.0140 - val_loss: 0.0342\n",
            "Epoch 38/50\n",
            "23/23 [==============================] - 0s 19ms/step - loss: 0.0083 - val_loss: 0.0344\n",
            "Epoch 39/50\n",
            "23/23 [==============================] - 0s 19ms/step - loss: 0.0062 - val_loss: 0.0363\n",
            "Epoch 40/50\n",
            "23/23 [==============================] - 0s 19ms/step - loss: 0.0058 - val_loss: 0.0268\n",
            "Epoch 41/50\n",
            "23/23 [==============================] - 0s 19ms/step - loss: 0.0068 - val_loss: 0.0273\n",
            "Epoch 42/50\n",
            "23/23 [==============================] - 0s 19ms/step - loss: 0.0068 - val_loss: 0.0256\n",
            "Epoch 43/50\n",
            "23/23 [==============================] - 0s 20ms/step - loss: 0.0064 - val_loss: 0.0383\n",
            "Epoch 44/50\n",
            "23/23 [==============================] - 0s 19ms/step - loss: 0.0062 - val_loss: 0.0282\n",
            "Epoch 45/50\n",
            "23/23 [==============================] - 0s 18ms/step - loss: 0.0068 - val_loss: 0.0317\n",
            "Epoch 46/50\n",
            "23/23 [==============================] - 0s 19ms/step - loss: 0.0053 - val_loss: 0.0260\n",
            "Epoch 47/50\n",
            "23/23 [==============================] - 0s 20ms/step - loss: 0.0053 - val_loss: 0.0445\n"
          ]
        }
      ],
      "source": [
        "# This is a callback to avoid overfitting\n",
        "early = tf.keras.callbacks.EarlyStopping(patience=5, restore_best_weights=True)\n",
        "\n",
        "# Train the model\n",
        "history = model.fit(X_train_std, y_train_std,\n",
        "                    validation_split=0.1,\n",
        "                    epochs = 50,\n",
        "                    batch_size=4,\n",
        "                    callbacks=[early])"
      ]
    },
    {
      "cell_type": "markdown",
      "metadata": {
        "id": "BV_sGKTgq-jN"
      },
      "source": [
        "In TensorFlow, the `predict()` method is used to generate predictions for new data using a trained model. It is typically called after the model has been trained using the `fit()` method. \n",
        "\n",
        "The `predict()` method takes one or more input data and returns the model's predictions for each input. The input data should be in the same format as the input data used during training.\n",
        "\n",
        "predict() [Documentation](https://www.tensorflow.org/api_docs/python/tf/keras/Model#predict) \n",
        "\n",
        "**7.a. Predict the test set using the `model.predict()`.<br>7.b. Plot the predictions on a graph along with the true data.<br>7.c. Compute the RMSE.**"
      ]
    },
    {
      "cell_type": "code",
      "execution_count": null,
      "metadata": {
        "colab": {
          "base_uri": "https://localhost:8080/"
        },
        "id": "pUvy9DRFLQ03",
        "outputId": "9653f58e-51aa-446b-967d-1fb503b14a5c"
      },
      "outputs": [
        {
          "name": "stdout",
          "output_type": "stream",
          "text": [
            "1/1 [==============================] - 0s 292ms/step\n"
          ]
        }
      ],
      "source": [
        "y_pred = model.predict(X_test_std)"
      ]
    },
    {
      "cell_type": "code",
      "execution_count": null,
      "metadata": {
        "colab": {
          "base_uri": "https://localhost:8080/",
          "height": 483
        },
        "id": "RBsnHbHbN4Hj",
        "outputId": "a1f0b78f-dabe-43ad-f7e1-1509399f8ccb"
      },
      "outputs": [
        {
          "data": {
            "image/png": "[encoded data removed]",
            "text/plain": [
              "<Figure size 1080x576 with 1 Axes>"
            ]
          },
          "metadata": {
            "needs_background": "light"
          },
          "output_type": "display_data"
        }
      ],
      "source": [
        "# Inverse the Standard Scaler transformation\n",
        "inv_pred = (y_pred*si + mu).ravel()\n",
        "\n",
        "# Create a Pandas Series to plot the results\n",
        "pd.Series(inv_pred, \n",
        "          index= airp_test[win_length:].index).plot(figsize=(15,8), label='Predictions')\n",
        "\n",
        "# Plot the original data\n",
        "airp_df.plot(figsize=(15,8), label='Original Data')\n",
        "plt.legend()\n",
        "plt.show()"
      ]
    },
    {
      "cell_type": "code",
      "execution_count": null,
      "metadata": {
        "colab": {
          "base_uri": "https://localhost:8080/"
        },
        "id": "-fZPZ7kTyjBY",
        "outputId": "d75e2f1f-e17d-4514-d6eb-9282fa3b788a"
      },
      "outputs": [
        {
          "name": "stdout",
          "output_type": "stream",
          "text": [
            "RMSE : 78.83\n"
          ]
        }
      ],
      "source": [
        "rmse = np.sqrt(np.mean((inv_pred - y_test.ravel())**2))\n",
        "print(f\"RMSE : {rmse:.2f}\")"
      ]
    },
    {
      "cell_type": "markdown",
      "metadata": {
        "id": "wJIdza3NXuKy"
      },
      "source": [
        "## Multiple steps at a time"
      ]
    },
    {
      "cell_type": "markdown",
      "metadata": {
        "id": "uDSpfznEtBl6"
      },
      "source": [
        "In this exercise, we will predict the next n-th values based and the previous ones.\n",
        "\n",
        "Evertyhing is similar to the previous exercise but the the window creation is changed as follows:\n",
        "\n",
        "`[____XXXXXYYY____]`<br>\n",
        "`[_____XXXXXYYY___]`<br>\n",
        "`[______XXXXXYYY__]`<br>\n",
        "`[_______XXXXXYYY_]`<br>\n",
        "\n",
        "Additionally, the output layer should now contain n-th units: one for each value we want to forecast.\n",
        "\n",
        "**Do the same as the previous exercise.**"
      ]
    },
    {
      "cell_type": "code",
      "execution_count": null,
      "metadata": {
        "id": "E1E_K96_Xvou"
      },
      "outputs": [],
      "source": [
        "# Create the windows\n",
        "\n",
        "win_length = 12\n",
        "win_offset = 1\n",
        "target_length = 12\n",
        "\n",
        "X_train, y_train = create_windows(airp_train, \n",
        "                                  win_length = win_length,\n",
        "                                  win_offset = win_offset,\n",
        "                                  target_length = target_length)\n",
        "\n",
        "X_test, y_test = create_windows(airp_test, \n",
        "                                win_length = win_length,\n",
        "                                win_offset = win_offset,\n",
        "                                target_length = target_length)"
      ]
    },
    {
      "cell_type": "code",
      "execution_count": null,
      "metadata": {
        "id": "bVW_CX8vZNpf"
      },
      "outputs": [],
      "source": [
        "# Standardize the data\n",
        "\n",
        "mu = X_train.mean()\n",
        "si = X_train.std()\n",
        "\n",
        "X_train_std = (X_train - mu)/si\n",
        "y_train_std = (y_train - mu)/si\n",
        "\n",
        "X_test_std = (X_test - mu)/si"
      ]
    },
    {
      "cell_type": "code",
      "execution_count": null,
      "metadata": {
        "colab": {
          "base_uri": "https://localhost:8080/"
        },
        "id": "mEZMumKVZNpf",
        "outputId": "d25c8110-07e5-4159-ea5c-b6d82d1a8c62"
      },
      "outputs": [
        {
          "name": "stdout",
          "output_type": "stream",
          "text": [
            "Model: \"sequential\"\n",
            "_________________________________________________________________\n",
            " Layer (type)                Output Shape              Param #   \n",
            "=================================================================\n",
            " simple_rnn (SimpleRNN)      (None, 12, 20)            440       \n",
            "                                                                 \n",
            " simple_rnn_1 (SimpleRNN)    (None, 12, 20)            820       \n",
            "                                                                 \n",
            " simple_rnn_2 (SimpleRNN)    (None, 20)                820       \n",
            "                                                                 \n",
            " dense (Dense)               (None, 12)                252       \n",
            "                                                                 \n",
            "=================================================================\n",
            "Total params: 2,332\n",
            "Trainable params: 2,332\n",
            "Non-trainable params: 0\n",
            "_________________________________________________________________\n"
          ]
        }
      ],
      "source": [
        "import tensorflow as tf\n",
        "tf.keras.backend.clear_session()\n",
        "tf.random.set_seed(42)\n",
        "\n",
        "# Create a sequential model\n",
        "model = tf.keras.models.Sequential()\n",
        "\n",
        "# Add the input layer\n",
        "model.add(tf.keras.layers.Input(shape=(win_length, 1)))\n",
        "\n",
        "# Add the recurrent layer\n",
        "model.add(tf.keras.layers.SimpleRNN(units=20, activation='relu', return_sequences=True))\n",
        "model.add(tf.keras.layers.SimpleRNN(units=20, activation='relu', return_sequences=True))\n",
        "model.add(tf.keras.layers.SimpleRNN(units=20, activation='relu'))\n",
        "\n",
        "# Add the output layer with target_length units\n",
        "model.add(tf.keras.layers.Dense(units=target_length, activation=None))\n",
        "\n",
        "# Print the model architecture\n",
        "model.summary()"
      ]
    },
    {
      "cell_type": "code",
      "execution_count": null,
      "metadata": {
        "id": "rNuU-Fesaq6F"
      },
      "outputs": [],
      "source": [
        "# Choose the optimizer\n",
        "optimizer = tf.keras.optimizers.Adam(learning_rate=0.001)\n",
        "\n",
        "# Compile the model\n",
        "model.compile(optimizer=optimizer,\n",
        "              loss='mse')"
      ]
    },
    {
      "cell_type": "code",
      "execution_count": null,
      "metadata": {
        "colab": {
          "base_uri": "https://localhost:8080/"
        },
        "id": "X3J2VQn9aq6G",
        "outputId": "def30814-0978-4630-a1d3-e709501e5613"
      },
      "outputs": [
        {
          "name": "stdout",
          "output_type": "stream",
          "text": [
            "Epoch 1/50\n",
            "21/21 [==============================] - 3s 41ms/step - loss: 0.9583 - val_loss: 4.3819\n",
            "Epoch 2/50\n",
            "21/21 [==============================] - 1s 25ms/step - loss: 0.8389 - val_loss: 3.6143\n",
            "Epoch 3/50\n",
            "21/21 [==============================] - 1s 25ms/step - loss: 0.5963 - val_loss: 1.9064\n",
            "Epoch 4/50\n",
            "21/21 [==============================] - 1s 25ms/step - loss: 0.3485 - val_loss: 1.0512\n",
            "Epoch 5/50\n",
            "21/21 [==============================] - 1s 26ms/step - loss: 0.2580 - val_loss: 0.8602\n",
            "Epoch 6/50\n",
            "21/21 [==============================] - 1s 28ms/step - loss: 0.2258 - val_loss: 0.7743\n",
            "Epoch 7/50\n",
            "21/21 [==============================] - 1s 27ms/step - loss: 0.2074 - val_loss: 0.7383\n",
            "Epoch 8/50\n",
            "21/21 [==============================] - 1s 27ms/step - loss: 0.2027 - val_loss: 0.7809\n",
            "Epoch 9/50\n",
            "21/21 [==============================] - 1s 27ms/step - loss: 0.1993 - val_loss: 0.6636\n",
            "Epoch 10/50\n",
            "21/21 [==============================] - 1s 27ms/step - loss: 0.1916 - val_loss: 0.6814\n",
            "Epoch 11/50\n",
            "21/21 [==============================] - 1s 27ms/step - loss: 0.1870 - val_loss: 0.6379\n",
            "Epoch 12/50\n",
            "21/21 [==============================] - 1s 27ms/step - loss: 0.1829 - val_loss: 0.6280\n",
            "Epoch 13/50\n",
            "21/21 [==============================] - 1s 27ms/step - loss: 0.1759 - val_loss: 0.6441\n",
            "Epoch 14/50\n",
            "21/21 [==============================] - 1s 26ms/step - loss: 0.1705 - val_loss: 0.6741\n",
            "Epoch 15/50\n",
            "21/21 [==============================] - 1s 27ms/step - loss: 0.1643 - val_loss: 0.6033\n",
            "Epoch 16/50\n",
            "21/21 [==============================] - 1s 26ms/step - loss: 0.1569 - val_loss: 0.5772\n",
            "Epoch 17/50\n",
            "21/21 [==============================] - 1s 26ms/step - loss: 0.1522 - val_loss: 0.5938\n",
            "Epoch 18/50\n",
            "21/21 [==============================] - 1s 25ms/step - loss: 0.1433 - val_loss: 0.4908\n",
            "Epoch 19/50\n",
            "21/21 [==============================] - 1s 27ms/step - loss: 0.1355 - val_loss: 0.4606\n",
            "Epoch 20/50\n",
            "21/21 [==============================] - 1s 27ms/step - loss: 0.1301 - val_loss: 0.4563\n",
            "Epoch 21/50\n",
            "21/21 [==============================] - 1s 27ms/step - loss: 0.1263 - val_loss: 0.4329\n",
            "Epoch 22/50\n",
            "21/21 [==============================] - 1s 27ms/step - loss: 0.1171 - val_loss: 0.3783\n",
            "Epoch 23/50\n",
            "21/21 [==============================] - 1s 26ms/step - loss: 0.1098 - val_loss: 0.3648\n",
            "Epoch 24/50\n",
            "21/21 [==============================] - 1s 27ms/step - loss: 0.1057 - val_loss: 0.3571\n",
            "Epoch 25/50\n",
            "21/21 [==============================] - 1s 29ms/step - loss: 0.1033 - val_loss: 0.3176\n",
            "Epoch 26/50\n",
            "21/21 [==============================] - 1s 26ms/step - loss: 0.0992 - val_loss: 0.3133\n",
            "Epoch 27/50\n",
            "21/21 [==============================] - 1s 26ms/step - loss: 0.0957 - val_loss: 0.3375\n",
            "Epoch 28/50\n",
            "21/21 [==============================] - 1s 26ms/step - loss: 0.0925 - val_loss: 0.3661\n",
            "Epoch 29/50\n",
            "21/21 [==============================] - 1s 25ms/step - loss: 0.0907 - val_loss: 0.3137\n",
            "Epoch 30/50\n",
            "21/21 [==============================] - 1s 27ms/step - loss: 0.0955 - val_loss: 0.2418\n",
            "Epoch 31/50\n",
            "21/21 [==============================] - 1s 25ms/step - loss: 0.0863 - val_loss: 0.2667\n",
            "Epoch 32/50\n",
            "21/21 [==============================] - 1s 28ms/step - loss: 0.0833 - val_loss: 0.2742\n",
            "Epoch 33/50\n",
            "21/21 [==============================] - 1s 26ms/step - loss: 0.0780 - val_loss: 0.2280\n",
            "Epoch 34/50\n",
            "21/21 [==============================] - 1s 27ms/step - loss: 0.0771 - val_loss: 0.2404\n",
            "Epoch 35/50\n",
            "21/21 [==============================] - 1s 28ms/step - loss: 0.0748 - val_loss: 0.2448\n",
            "Epoch 36/50\n",
            "21/21 [==============================] - 1s 28ms/step - loss: 0.0741 - val_loss: 0.3049\n",
            "Epoch 37/50\n",
            "21/21 [==============================] - 1s 29ms/step - loss: 0.0719 - val_loss: 0.2158\n",
            "Epoch 38/50\n",
            "21/21 [==============================] - 1s 26ms/step - loss: 0.0693 - val_loss: 0.2264\n",
            "Epoch 39/50\n",
            "21/21 [==============================] - 1s 26ms/step - loss: 0.0720 - val_loss: 0.2949\n",
            "Epoch 40/50\n",
            "21/21 [==============================] - 1s 25ms/step - loss: 0.0724 - val_loss: 0.2020\n",
            "Epoch 41/50\n",
            "21/21 [==============================] - 1s 25ms/step - loss: 0.0761 - val_loss: 0.2499\n",
            "Epoch 42/50\n",
            "21/21 [==============================] - 1s 26ms/step - loss: 0.0660 - val_loss: 0.1895\n",
            "Epoch 43/50\n",
            "21/21 [==============================] - 1s 25ms/step - loss: 0.0673 - val_loss: 0.2657\n",
            "Epoch 44/50\n",
            "21/21 [==============================] - 1s 25ms/step - loss: 0.0691 - val_loss: 0.2171\n",
            "Epoch 45/50\n",
            "21/21 [==============================] - 1s 26ms/step - loss: 0.0627 - val_loss: 0.2236\n",
            "Epoch 46/50\n",
            "21/21 [==============================] - 1s 30ms/step - loss: 0.0619 - val_loss: 0.2245\n",
            "Epoch 47/50\n",
            "21/21 [==============================] - 1s 25ms/step - loss: 0.0608 - val_loss: 0.2261\n"
          ]
        }
      ],
      "source": [
        "# This is a callback to avoid overfitting\n",
        "early = tf.keras.callbacks.EarlyStopping(patience=5, restore_best_weights=True)\n",
        "\n",
        "# Train the model\n",
        "history = model.fit(X_train_std, y_train_std,\n",
        "                    validation_split=0.1,\n",
        "                    epochs = 50,\n",
        "                    batch_size=4,\n",
        "                    callbacks=[early])"
      ]
    },
    {
      "cell_type": "code",
      "execution_count": null,
      "metadata": {
        "colab": {
          "base_uri": "https://localhost:8080/",
          "height": 500
        },
        "id": "z7rGjZa3a0Ya",
        "outputId": "50040438-1903-4dbb-9655-3adc92906c3b"
      },
      "outputs": [
        {
          "name": "stdout",
          "output_type": "stream",
          "text": [
            "1/1 [==============================] - 0s 22ms/step\n"
          ]
        },
        {
          "data": {
            "image/png": "[encoded data removed]",
            "text/plain": [
              "<Figure size 1080x576 with 1 Axes>"
            ]
          },
          "metadata": {
            "needs_background": "light"
          },
          "output_type": "display_data"
        }
      ],
      "source": [
        "# Get the preds, transform them and plot them\n",
        "y_pred = model.predict(X_test_std)\n",
        "inv_pred = (y_pred*si + mu)\n",
        "\n",
        "pd.Series(inv_pred[-1].ravel(), \n",
        "          index= airp_df[-target_length:].index).plot(figsize=(15,8), label='Predictions')\n",
        "\n",
        "airp_df.plot(figsize=(15,8), label='Original Data')\n",
        "plt.legend()\n",
        "plt.show()"
      ]
    },
    {
      "cell_type": "code",
      "execution_count": null,
      "metadata": {
        "colab": {
          "base_uri": "https://localhost:8080/"
        },
        "id": "kEzjIYS60GNe",
        "outputId": "f7edf496-9a77-4b0b-b183-47ddec2bb842"
      },
      "outputs": [
        {
          "name": "stdout",
          "output_type": "stream",
          "text": [
            "RMSE : 37.04\n"
          ]
        }
      ],
      "source": [
        "rmse = np.sqrt(np.mean((inv_pred.ravel() - y_test.ravel())**2))\n",
        "print(f\"RMSE : {rmse:.2f}\")"
      ]
    },
    {
      "cell_type": "markdown",
      "metadata": {
        "id": "awVaxO0vztVe"
      },
      "source": [
        "# Bidirectionnal RNN"
      ]
    },
    {
      "cell_type": "markdown",
      "metadata": {
        "id": "MGN6dQ60w62H"
      },
      "source": [
        "In this exercise, we will use the bidirectional RNN.\n",
        "\n",
        "The `Bidirectional()` class is a wrapper layer that applies a recurrent layer to the input in both directions, processing the input forwards and backwards to get a full representation of the input sequence. The most important parameters of this class are:\n",
        "\n",
        "* **layer**: This is the recurrent layer instance to be wrapped. The layer should have a stateful=False.\n",
        "* **merge_mode**: This parameter controls how the forward and backward outputs are combined. There are four options: 'concat', 'sum', 'ave', 'mul'\n",
        "* **weights**: List of Numpy arrays to set as initial weights. The list should have 2 elements, of shape (input_dim, output_dim) and (output_dim,) for weights and biases respectively.\n",
        "* **backward_layer** : Instance of the recurrent layer to be used for the backward pass. If not provided, it will be created by cloning the layer.\n",
        "\n",
        "You can directly pass this layer around the `SimpleRNN` layer during the model architecture creation.\n",
        "\n",
        "`Bidirectional` [Documentation](https://www.tensorflow.org/api_docs/python/tf/keras/layers/Bidirectional)"
      ]
    },
    {
      "cell_type": "markdown",
      "metadata": {
        "id": "WALzrcPU3VC-"
      },
      "source": [
        "## One step at a time\n"
      ]
    },
    {
      "cell_type": "markdown",
      "metadata": {
        "id": "XFXzk4k5w1MV"
      },
      "source": [
        "**Follow the same guidelines as the first exercise.**"
      ]
    },
    {
      "cell_type": "code",
      "execution_count": null,
      "metadata": {
        "id": "65GEyZen7ffF"
      },
      "outputs": [],
      "source": [
        "# Create the windows\n",
        "\n",
        "win_length = 12\n",
        "win_offset = 1\n",
        "target_length = 1\n",
        "\n",
        "X_train, y_train = create_windows(airp_train, \n",
        "                                  win_length = win_length,\n",
        "                                  win_offset = win_offset,\n",
        "                                  target_length = target_length)\n",
        "\n",
        "X_test, y_test = create_windows(airp_test, \n",
        "                                win_length = win_length,\n",
        "                                win_offset = win_offset,\n",
        "                                target_length = target_length)"
      ]
    },
    {
      "cell_type": "code",
      "execution_count": null,
      "metadata": {
        "id": "Qkejg0_x15XC"
      },
      "outputs": [],
      "source": [
        "# Standardize the data\n",
        "\n",
        "mu = X_train.mean()\n",
        "si = X_train.std()\n",
        "\n",
        "X_train_std = (X_train - mu)/si\n",
        "y_train_std = (y_train - mu)/si\n",
        "\n",
        "X_test_std = (X_test - mu)/si"
      ]
    },
    {
      "cell_type": "code",
      "execution_count": null,
      "metadata": {
        "colab": {
          "base_uri": "https://localhost:8080/"
        },
        "id": "A5C72g_a15XC",
        "outputId": "268292d7-5689-4edd-f1e8-1309aff3be18"
      },
      "outputs": [
        {
          "name": "stdout",
          "output_type": "stream",
          "text": [
            "Model: \"sequential\"\n",
            "_________________________________________________________________\n",
            " Layer (type)                Output Shape              Param #   \n",
            "=================================================================\n",
            " bidirectional (Bidirectiona  (None, 12, 40)           880       \n",
            " l)                                                              \n",
            "                                                                 \n",
            " bidirectional_1 (Bidirectio  (None, 12, 40)           2440      \n",
            " nal)                                                            \n",
            "                                                                 \n",
            " bidirectional_2 (Bidirectio  (None, 40)               2440      \n",
            " nal)                                                            \n",
            "                                                                 \n",
            " dense (Dense)               (None, 1)                 41        \n",
            "                                                                 \n",
            "=================================================================\n",
            "Total params: 5,801\n",
            "Trainable params: 5,801\n",
            "Non-trainable params: 0\n",
            "_________________________________________________________________\n"
          ]
        }
      ],
      "source": [
        "import tensorflow as tf\n",
        "tf.keras.backend.clear_session()\n",
        "tf.random.set_seed(42)\n",
        "\n",
        "# Create a sequential model\n",
        "model = tf.keras.models.Sequential()\n",
        "\n",
        "# Add the input layer\n",
        "model.add(tf.keras.layers.Input(shape=(win_length, 1)))\n",
        "\n",
        "# Add the bidirectional recurrent layers\n",
        "model.add(tf.keras.layers.Bidirectional(tf.keras.layers.SimpleRNN(units=20, activation='relu', return_sequences=True)))\n",
        "model.add(tf.keras.layers.Bidirectional(tf.keras.layers.SimpleRNN(units=20, activation='relu', return_sequences=True)))\n",
        "model.add(tf.keras.layers.Bidirectional(tf.keras.layers.SimpleRNN(units=20, activation='relu')))\n",
        "\n",
        "# Add the output layer\n",
        "model.add(tf.keras.layers.Dense(units=target_length, activation=None))\n",
        "\n",
        "# Print the model architecture\n",
        "model.summary()"
      ]
    },
    {
      "cell_type": "code",
      "execution_count": null,
      "metadata": {
        "id": "AmLwTnpJ15XC"
      },
      "outputs": [],
      "source": [
        "# Choose the optimizer\n",
        "optimizer = tf.keras.optimizers.Adam(learning_rate=0.001)\n",
        "\n",
        "# Compile the model\n",
        "model.compile(optimizer=optimizer,\n",
        "              loss='mse')"
      ]
    },
    {
      "cell_type": "code",
      "execution_count": null,
      "metadata": {
        "colab": {
          "base_uri": "https://localhost:8080/"
        },
        "id": "tuoaXmLg15XC",
        "outputId": "b0976eff-b69f-4964-9001-0a1d14f57f64"
      },
      "outputs": [
        {
          "name": "stdout",
          "output_type": "stream",
          "text": [
            "Epoch 1/50\n",
            "23/23 [==============================] - 5s 66ms/step - loss: 0.3906 - val_loss: 0.6742\n",
            "Epoch 2/50\n",
            "23/23 [==============================] - 1s 35ms/step - loss: 0.0963 - val_loss: 0.3166\n",
            "Epoch 3/50\n",
            "23/23 [==============================] - 1s 36ms/step - loss: 0.0659 - val_loss: 0.2294\n",
            "Epoch 4/50\n",
            "23/23 [==============================] - 1s 35ms/step - loss: 0.0588 - val_loss: 0.0982\n",
            "Epoch 5/50\n",
            "23/23 [==============================] - 1s 36ms/step - loss: 0.0407 - val_loss: 0.0682\n",
            "Epoch 6/50\n",
            "23/23 [==============================] - 1s 36ms/step - loss: 0.0312 - val_loss: 0.1026\n",
            "Epoch 7/50\n",
            "23/23 [==============================] - 1s 37ms/step - loss: 0.0282 - val_loss: 0.0340\n",
            "Epoch 8/50\n",
            "23/23 [==============================] - 1s 37ms/step - loss: 0.0294 - val_loss: 0.0322\n",
            "Epoch 9/50\n",
            "23/23 [==============================] - 1s 35ms/step - loss: 0.0199 - val_loss: 0.0352\n",
            "Epoch 10/50\n",
            "23/23 [==============================] - 1s 36ms/step - loss: 0.0161 - val_loss: 0.0535\n",
            "Epoch 11/50\n",
            "23/23 [==============================] - 1s 36ms/step - loss: 0.0125 - val_loss: 0.1039\n",
            "Epoch 12/50\n",
            "23/23 [==============================] - 1s 34ms/step - loss: 0.0137 - val_loss: 0.0295\n",
            "Epoch 13/50\n",
            "23/23 [==============================] - 1s 36ms/step - loss: 0.0133 - val_loss: 0.0244\n",
            "Epoch 14/50\n",
            "23/23 [==============================] - 1s 36ms/step - loss: 0.0151 - val_loss: 0.0262\n",
            "Epoch 15/50\n",
            "23/23 [==============================] - 1s 35ms/step - loss: 0.0100 - val_loss: 0.0520\n",
            "Epoch 16/50\n",
            "23/23 [==============================] - 1s 35ms/step - loss: 0.0097 - val_loss: 0.0486\n",
            "Epoch 17/50\n",
            "23/23 [==============================] - 1s 35ms/step - loss: 0.0074 - val_loss: 0.0250\n",
            "Epoch 18/50\n",
            "23/23 [==============================] - 1s 35ms/step - loss: 0.0077 - val_loss: 0.0233\n",
            "Epoch 19/50\n",
            "23/23 [==============================] - 1s 37ms/step - loss: 0.0075 - val_loss: 0.0901\n",
            "Epoch 20/50\n",
            "23/23 [==============================] - 1s 36ms/step - loss: 0.0072 - val_loss: 0.0262\n",
            "Epoch 21/50\n",
            "23/23 [==============================] - 1s 37ms/step - loss: 0.0054 - val_loss: 0.0232\n",
            "Epoch 22/50\n",
            "23/23 [==============================] - 1s 36ms/step - loss: 0.0056 - val_loss: 0.0171\n",
            "Epoch 23/50\n",
            "23/23 [==============================] - 1s 36ms/step - loss: 0.0064 - val_loss: 0.0172\n",
            "Epoch 24/50\n",
            "23/23 [==============================] - 1s 36ms/step - loss: 0.0047 - val_loss: 0.0192\n",
            "Epoch 25/50\n",
            "23/23 [==============================] - 1s 37ms/step - loss: 0.0051 - val_loss: 0.0176\n",
            "Epoch 26/50\n",
            "23/23 [==============================] - 1s 36ms/step - loss: 0.0048 - val_loss: 0.0131\n",
            "Epoch 27/50\n",
            "23/23 [==============================] - 1s 36ms/step - loss: 0.0038 - val_loss: 0.0134\n",
            "Epoch 28/50\n",
            "23/23 [==============================] - 1s 35ms/step - loss: 0.0033 - val_loss: 0.0200\n",
            "Epoch 29/50\n",
            "23/23 [==============================] - 1s 36ms/step - loss: 0.0029 - val_loss: 0.0239\n",
            "Epoch 30/50\n",
            "23/23 [==============================] - 1s 36ms/step - loss: 0.0038 - val_loss: 0.0303\n",
            "Epoch 31/50\n",
            "23/23 [==============================] - 1s 35ms/step - loss: 0.0094 - val_loss: 0.0279\n"
          ]
        }
      ],
      "source": [
        "# This is a callback to avoid overfitting\n",
        "early = tf.keras.callbacks.EarlyStopping(patience=5, restore_best_weights=True)\n",
        "\n",
        "# Train the model\n",
        "history = model.fit(X_train_std, y_train_std,\n",
        "                    validation_split=0.1,\n",
        "                    epochs = 50,\n",
        "                    batch_size=4,\n",
        "                    callbacks=[early])"
      ]
    },
    {
      "cell_type": "code",
      "execution_count": null,
      "metadata": {
        "colab": {
          "base_uri": "https://localhost:8080/"
        },
        "id": "YJ1B1HfL15XD",
        "outputId": "9ba8dc10-1ae3-47a1-8198-22a63e0185f3"
      },
      "outputs": [
        {
          "name": "stdout",
          "output_type": "stream",
          "text": [
            "1/1 [==============================] - 1s 584ms/step\n"
          ]
        }
      ],
      "source": [
        "y_pred = model.predict(X_test_std)"
      ]
    },
    {
      "cell_type": "code",
      "execution_count": null,
      "metadata": {
        "colab": {
          "base_uri": "https://localhost:8080/",
          "height": 483
        },
        "id": "C7L82FAH15XD",
        "outputId": "5fe55f61-9ce5-4d13-a5cd-db16c26f158b"
      },
      "outputs": [
        {
          "data": {
            "image/png": "[encoded data removed]",
            "text/plain": [
              "<Figure size 1080x576 with 1 Axes>"
            ]
          },
          "metadata": {
            "needs_background": "light"
          },
          "output_type": "display_data"
        }
      ],
      "source": [
        "# Inverse the Standard Scaler transformation\n",
        "inv_pred = (y_pred*si + mu).ravel()\n",
        "\n",
        "# Create a Pandas Series to plot the results\n",
        "pd.Series(inv_pred, \n",
        "          index= airp_test[win_length:].index).plot(figsize=(15,8), label='Predictions')\n",
        "\n",
        "# Plot the original data\n",
        "airp_df.plot(figsize=(15,8), label='Original Data')\n",
        "plt.legend()\n",
        "plt.show()"
      ]
    },
    {
      "cell_type": "code",
      "execution_count": null,
      "metadata": {
        "colab": {
          "base_uri": "https://localhost:8080/"
        },
        "id": "p4ttMRh015XD",
        "outputId": "61631f20-acc4-4186-861d-1238fd9ed0b4"
      },
      "outputs": [
        {
          "name": "stdout",
          "output_type": "stream",
          "text": [
            "RMSE : 33.64\n"
          ]
        }
      ],
      "source": [
        "rmse = np.sqrt(np.mean((inv_pred - y_test.ravel())**2))\n",
        "print(f\"RMSE : {rmse:.2f}\")"
      ]
    },
    {
      "cell_type": "markdown",
      "metadata": {
        "id": "5_DtpxlV3bt0"
      },
      "source": [
        "## Multiple steps at a time"
      ]
    },
    {
      "cell_type": "markdown",
      "metadata": {
        "id": "P3dcaTnIwTJ4"
      },
      "source": [
        "**Follow the same guidelines as the second exercise with a Bidirectional method.**"
      ]
    },
    {
      "cell_type": "code",
      "execution_count": null,
      "metadata": {
        "id": "D4B2syML3bt0"
      },
      "outputs": [],
      "source": [
        "# Create the windows\n",
        "\n",
        "win_length = 12\n",
        "win_offset = 1\n",
        "target_length = 12\n",
        "\n",
        "X_train, y_train = create_windows(airp_train, \n",
        "                                  win_length = win_length,\n",
        "                                  win_offset = win_offset,\n",
        "                                  target_length = target_length)\n",
        "\n",
        "X_test, y_test = create_windows(airp_test, \n",
        "                                win_length = win_length,\n",
        "                                win_offset = win_offset,\n",
        "                                target_length = target_length)"
      ]
    },
    {
      "cell_type": "code",
      "execution_count": null,
      "metadata": {
        "id": "drCt5SzD3bt1"
      },
      "outputs": [],
      "source": [
        "# Standardize the data\n",
        "\n",
        "mu = X_train.mean()\n",
        "si = X_train.std()\n",
        "\n",
        "X_train_std = (X_train - mu)/si\n",
        "y_train_std = (y_train - mu)/si\n",
        "\n",
        "X_test_std = (X_test - mu)/si"
      ]
    },
    {
      "cell_type": "code",
      "execution_count": null,
      "metadata": {
        "colab": {
          "base_uri": "https://localhost:8080/"
        },
        "id": "G6aRNTXM3bt1",
        "outputId": "25188d6f-d586-4eba-a73b-ab37d154bb83"
      },
      "outputs": [
        {
          "name": "stdout",
          "output_type": "stream",
          "text": [
            "Model: \"sequential\"\n",
            "_________________________________________________________________\n",
            " Layer (type)                Output Shape              Param #   \n",
            "=================================================================\n",
            " bidirectional (Bidirectiona  (None, 12, 40)           880       \n",
            " l)                                                              \n",
            "                                                                 \n",
            " bidirectional_1 (Bidirectio  (None, 12, 40)           2440      \n",
            " nal)                                                            \n",
            "                                                                 \n",
            " bidirectional_2 (Bidirectio  (None, 40)               2440      \n",
            " nal)                                                            \n",
            "                                                                 \n",
            " dense (Dense)               (None, 12)                492       \n",
            "                                                                 \n",
            "=================================================================\n",
            "Total params: 6,252\n",
            "Trainable params: 6,252\n",
            "Non-trainable params: 0\n",
            "_________________________________________________________________\n"
          ]
        }
      ],
      "source": [
        "import tensorflow as tf\n",
        "tf.keras.backend.clear_session()\n",
        "tf.random.set_seed(42)\n",
        "\n",
        "# Create a sequential model\n",
        "model = tf.keras.models.Sequential()\n",
        "\n",
        "# Add the input layer\n",
        "model.add(tf.keras.layers.Input(shape=(win_length, 1)))\n",
        "\n",
        "# Add the bidirectional recurrent layer\n",
        "model.add(tf.keras.layers.Bidirectional(tf.keras.layers.SimpleRNN(units=20, activation='relu', return_sequences=True)))\n",
        "model.add(tf.keras.layers.Bidirectional(tf.keras.layers.SimpleRNN(units=20, activation='relu', return_sequences=True)))\n",
        "model.add(tf.keras.layers.Bidirectional(tf.keras.layers.SimpleRNN(units=20, activation='relu')))\n",
        "\n",
        "# Add the output layer\n",
        "model.add(tf.keras.layers.Dense(units=target_length, activation=None))\n",
        "\n",
        "# Print the model architecture\n",
        "model.summary()"
      ]
    },
    {
      "cell_type": "code",
      "execution_count": null,
      "metadata": {
        "id": "Dii3HlLz3bt1"
      },
      "outputs": [],
      "source": [
        "# Choose the optimizer\n",
        "optimizer = tf.keras.optimizers.Adam(learning_rate=0.001)\n",
        "\n",
        "# Compile the model\n",
        "model.compile(optimizer=optimizer,\n",
        "              loss='mse')"
      ]
    },
    {
      "cell_type": "code",
      "execution_count": null,
      "metadata": {
        "colab": {
          "base_uri": "https://localhost:8080/"
        },
        "id": "OrY6WGIK3bt1",
        "outputId": "925de6bf-0130-4fe9-e952-7f3a828731a0"
      },
      "outputs": [
        {
          "name": "stdout",
          "output_type": "stream",
          "text": [
            "Epoch 1/50\n",
            "21/21 [==============================] - 5s 79ms/step - loss: 0.9285 - val_loss: 4.3647\n",
            "Epoch 2/50\n",
            "21/21 [==============================] - 1s 49ms/step - loss: 0.6749 - val_loss: 2.5530\n",
            "Epoch 3/50\n",
            "21/21 [==============================] - 1s 50ms/step - loss: 0.3988 - val_loss: 1.4019\n",
            "Epoch 4/50\n",
            "21/21 [==============================] - 1s 47ms/step - loss: 0.2572 - val_loss: 0.8513\n",
            "Epoch 5/50\n",
            "21/21 [==============================] - 1s 47ms/step - loss: 0.1927 - val_loss: 0.7153\n",
            "Epoch 6/50\n",
            "21/21 [==============================] - 1s 46ms/step - loss: 0.1712 - val_loss: 0.5836\n",
            "Epoch 7/50\n",
            "21/21 [==============================] - 1s 48ms/step - loss: 0.1585 - val_loss: 0.5881\n",
            "Epoch 8/50\n",
            "21/21 [==============================] - 1s 48ms/step - loss: 0.1496 - val_loss: 0.5788\n",
            "Epoch 9/50\n",
            "21/21 [==============================] - 1s 45ms/step - loss: 0.1351 - val_loss: 0.5231\n",
            "Epoch 10/50\n",
            "21/21 [==============================] - 1s 47ms/step - loss: 0.1337 - val_loss: 0.4475\n",
            "Epoch 11/50\n",
            "21/21 [==============================] - 1s 46ms/step - loss: 0.1224 - val_loss: 0.3997\n",
            "Epoch 12/50\n",
            "21/21 [==============================] - 1s 48ms/step - loss: 0.1076 - val_loss: 0.3642\n",
            "Epoch 13/50\n",
            "21/21 [==============================] - 1s 45ms/step - loss: 0.1000 - val_loss: 0.3355\n",
            "Epoch 14/50\n",
            "21/21 [==============================] - 1s 50ms/step - loss: 0.0949 - val_loss: 0.2986\n",
            "Epoch 15/50\n",
            "21/21 [==============================] - 1s 50ms/step - loss: 0.0844 - val_loss: 0.3280\n",
            "Epoch 16/50\n",
            "21/21 [==============================] - 1s 49ms/step - loss: 0.0808 - val_loss: 0.2420\n",
            "Epoch 17/50\n",
            "21/21 [==============================] - 1s 46ms/step - loss: 0.0758 - val_loss: 0.2353\n",
            "Epoch 18/50\n",
            "21/21 [==============================] - 1s 47ms/step - loss: 0.0716 - val_loss: 0.2418\n",
            "Epoch 19/50\n",
            "21/21 [==============================] - 1s 47ms/step - loss: 0.0695 - val_loss: 0.3242\n",
            "Epoch 20/50\n",
            "21/21 [==============================] - 1s 44ms/step - loss: 0.0631 - val_loss: 0.2181\n",
            "Epoch 21/50\n",
            "21/21 [==============================] - 1s 46ms/step - loss: 0.0595 - val_loss: 0.2194\n",
            "Epoch 22/50\n",
            "21/21 [==============================] - 1s 46ms/step - loss: 0.0578 - val_loss: 0.1751\n",
            "Epoch 23/50\n",
            "21/21 [==============================] - 1s 48ms/step - loss: 0.0541 - val_loss: 0.1846\n",
            "Epoch 24/50\n",
            "21/21 [==============================] - 1s 46ms/step - loss: 0.0527 - val_loss: 0.1534\n",
            "Epoch 25/50\n",
            "21/21 [==============================] - 1s 48ms/step - loss: 0.0506 - val_loss: 0.1414\n",
            "Epoch 26/50\n",
            "21/21 [==============================] - 1s 46ms/step - loss: 0.0475 - val_loss: 0.1595\n",
            "Epoch 27/50\n",
            "21/21 [==============================] - 1s 47ms/step - loss: 0.0453 - val_loss: 0.1371\n",
            "Epoch 28/50\n",
            "21/21 [==============================] - 1s 48ms/step - loss: 0.0408 - val_loss: 0.1210\n",
            "Epoch 29/50\n",
            "21/21 [==============================] - 1s 46ms/step - loss: 0.0393 - val_loss: 0.1279\n",
            "Epoch 30/50\n",
            "21/21 [==============================] - 1s 48ms/step - loss: 0.0453 - val_loss: 0.1258\n",
            "Epoch 31/50\n",
            "21/21 [==============================] - 1s 49ms/step - loss: 0.0404 - val_loss: 0.1323\n",
            "Epoch 32/50\n",
            "21/21 [==============================] - 1s 49ms/step - loss: 0.0357 - val_loss: 0.1155\n",
            "Epoch 33/50\n",
            "21/21 [==============================] - 1s 50ms/step - loss: 0.0327 - val_loss: 0.1133\n",
            "Epoch 34/50\n",
            "21/21 [==============================] - 1s 47ms/step - loss: 0.0318 - val_loss: 0.1011\n",
            "Epoch 35/50\n",
            "21/21 [==============================] - 1s 49ms/step - loss: 0.0290 - val_loss: 0.0795\n",
            "Epoch 36/50\n",
            "21/21 [==============================] - 1s 47ms/step - loss: 0.0261 - val_loss: 0.1070\n",
            "Epoch 37/50\n",
            "21/21 [==============================] - 1s 48ms/step - loss: 0.0247 - val_loss: 0.0947\n",
            "Epoch 38/50\n",
            "21/21 [==============================] - 1s 47ms/step - loss: 0.0243 - val_loss: 0.1042\n",
            "Epoch 39/50\n",
            "21/21 [==============================] - 1s 44ms/step - loss: 0.0245 - val_loss: 0.0912\n",
            "Epoch 40/50\n",
            "21/21 [==============================] - 1s 47ms/step - loss: 0.0255 - val_loss: 0.0862\n"
          ]
        }
      ],
      "source": [
        "early = tf.keras.callbacks.EarlyStopping(patience=5, restore_best_weights=True)\n",
        "\n",
        "history = model.fit(X_train_std, y_train_std,\n",
        "                    validation_split=0.1,\n",
        "                    epochs = 50,\n",
        "                    batch_size=4,\n",
        "                    callbacks=[early])"
      ]
    },
    {
      "cell_type": "code",
      "execution_count": null,
      "metadata": {
        "colab": {
          "base_uri": "https://localhost:8080/"
        },
        "id": "WbqJvEeN3bt1",
        "outputId": "1aed8d82-e230-4d8e-d7b7-b9e123cf7f45"
      },
      "outputs": [
        {
          "name": "stdout",
          "output_type": "stream",
          "text": [
            "1/1 [==============================] - 1s 573ms/step\n"
          ]
        }
      ],
      "source": [
        "y_pred = model.predict(X_test_std)"
      ]
    },
    {
      "cell_type": "code",
      "execution_count": null,
      "metadata": {
        "colab": {
          "base_uri": "https://localhost:8080/",
          "height": 500
        },
        "id": "WoKkpcOa3bt1",
        "outputId": "6704cee3-b643-4c85-be81-e811474d97f2"
      },
      "outputs": [
        {
          "name": "stdout",
          "output_type": "stream",
          "text": [
            "1/1 [==============================] - 0s 30ms/step\n"
          ]
        },
        {
          "data": {
            "image/png": "[encoded data removed]",
            "text/plain": [
              "<Figure size 1080x576 with 1 Axes>"
            ]
          },
          "metadata": {
            "needs_background": "light"
          },
          "output_type": "display_data"
        }
      ],
      "source": [
        "# Get the preds, transform them and plot them\n",
        "y_pred = model.predict(X_test_std)\n",
        "inv_pred = (y_pred*si + mu)\n",
        "\n",
        "pd.Series(inv_pred[-1].ravel(), \n",
        "          index= airp_df[-target_length:].index).plot(figsize=(15,8), label='Predictions')\n",
        "\n",
        "airp_df.plot(figsize=(15,8), label='Original Data')\n",
        "plt.legend()\n",
        "plt.show()"
      ]
    },
    {
      "cell_type": "code",
      "execution_count": null,
      "metadata": {
        "colab": {
          "base_uri": "https://localhost:8080/"
        },
        "id": "kjVQPLpy3bt1",
        "outputId": "7119e589-07ba-4f64-f6a8-a4788f9f7778"
      },
      "outputs": [
        {
          "name": "stdout",
          "output_type": "stream",
          "text": [
            "RMSE : 40.31\n"
          ]
        }
      ],
      "source": [
        "rmse = np.sqrt(np.mean((inv_pred.ravel() - y_test.ravel())**2))\n",
        "print(f\"RMSE : {rmse:.2f}\")"
      ]
    },
    {
      "cell_type": "markdown",
      "metadata": {
        "id": "lCNYbxn-xEEU"
      },
      "source": [
        "# LSTM"
      ]
    },
    {
      "cell_type": "markdown",
      "metadata": {
        "id": "GOuHJvCcd2bA"
      },
      "source": [
        "In this exercise, we'll use the `LSTM` class on the msft_df Time Series.\n",
        "\n",
        "The most important parameters of this class are very similar to the SimpleRNN class, there are:\n",
        "\n",
        "* **units**: This is the number of hidden units in the LSTM layer. It controls the dimensionality of the output space.\n",
        "* **activation**: This is the activation function to use for the LSTM layer. Common options include 'tanh' and 'relu'.\n",
        "* **recurrent_activation**: This is the activation function to use for the recurrent step. Common options include 'sigmoid' and 'hard_sigmoid'\n",
        "* **return_sequences**: A boolean whether to return the last output in the output sequence, or the full sequence.\n",
        "* **return_state**: A boolean whether to return the last state in addition to the output.\n",
        "* **stateful** : A boolean, whether the last state for each sample at index i in a batch will be used as initial state for the sample of index i in the following batch.\n",
        "\n",
        "The LSTM layer is more complex than the SimpleRNN model, making it more difficult to train and more prone to errors. Additionally, it is more sensitive to the choice of hyperparameters, such as the learning rate, number of hidden units, and the number of layers.\n",
        "\n",
        "Thus, it is not always the best option especially for very simple Time Series.\n",
        "\n",
        "**1. Use the Close column as the main Time Series and discard the other columns. <br>Split the msft_df time series into a train and a test set without shuffling.**"
      ]
    },
    {
      "cell_type": "code",
      "execution_count": null,
      "metadata": {
        "id": "D_-oOEG7IulI"
      },
      "outputs": [],
      "source": [
        "from sklearn.model_selection import train_test_split\n",
        "msft_train, msft_test = train_test_split(msft_df, test_size=0.25, shuffle=False)"
      ]
    },
    {
      "cell_type": "markdown",
      "metadata": {
        "id": "pbTuYBTSx8ho"
      },
      "source": [
        "**2. Create the feature (X) set by using a sliding windows of size 20, with a step of 1 for both train and test sets.<br> Create the label (Y) set by using the next value i.e. the one after the window.**"
      ]
    },
    {
      "cell_type": "code",
      "execution_count": null,
      "metadata": {
        "id": "9e6hSpRlIulI"
      },
      "outputs": [],
      "source": [
        "def create_windows(data, win_length,win_offset,target_length):\n",
        "    X = []\n",
        "    y = []\n",
        "\n",
        "    max_length = len(data) - win_length - target_length  + 1\n",
        "    for i in range(0, max_length, win_offset):\n",
        "        X.append(data[i:i+win_length])\n",
        "        y.append(data[i+win_length:i+win_length+target_length])\n",
        "    \n",
        "    return np.array(X)[..., np.newaxis], np.array(y)"
      ]
    },
    {
      "cell_type": "code",
      "execution_count": null,
      "metadata": {
        "id": "8yQ61HzrIulI"
      },
      "outputs": [],
      "source": [
        "win_length = 20\n",
        "win_offset = 1\n",
        "target_length = 1\n",
        "\n",
        "X_train, y_train = create_windows(msft_train, \n",
        "                                  win_length = win_length,\n",
        "                                  win_offset = win_offset,\n",
        "                                  target_length = target_length)\n",
        "\n",
        "X_test, y_test = create_windows(msft_test, \n",
        "                                win_length = win_length,\n",
        "                                win_offset = win_offset,\n",
        "                                target_length = target_length)"
      ]
    },
    {
      "cell_type": "markdown",
      "metadata": {
        "id": "non3hYs3y9cj"
      },
      "source": [
        "**3. Standardize the values of the Time Series.**\n",
        "\n",
        "*Tips: Don't forget to only compute the calculations on the Train set but apply the standardization to every set.*"
      ]
    },
    {
      "cell_type": "code",
      "execution_count": null,
      "metadata": {
        "id": "iGbT1AL8IulI"
      },
      "outputs": [],
      "source": [
        "mu = X_train.mean()\n",
        "si = X_train.std()"
      ]
    },
    {
      "cell_type": "code",
      "execution_count": null,
      "metadata": {
        "id": "IA-zOB8SIulI"
      },
      "outputs": [],
      "source": [
        "X_train_std = (X_train - mu)/si\n",
        "y_train_std = (y_train - mu)/si\n",
        "\n",
        "X_test_std = (X_test - mu)/si"
      ]
    },
    {
      "cell_type": "markdown",
      "metadata": {
        "id": "Of_1fZkMzCAh"
      },
      "source": [
        "**4.a. Define a sequential deep learning model architecture that contains one input layer, some LSTM layers and one output layer.<br> 4.b. Show the architecture and the parameters of the model using the `model.summary()` method.**"
      ]
    },
    {
      "cell_type": "code",
      "execution_count": null,
      "metadata": {
        "colab": {
          "base_uri": "https://localhost:8080/"
        },
        "id": "Jso2ob19IulI",
        "outputId": "169a9bf9-8622-41b4-882c-fdd7609b3db2"
      },
      "outputs": [
        {
          "name": "stdout",
          "output_type": "stream",
          "text": [
            "Model: \"sequential\"\n",
            "_________________________________________________________________\n",
            " Layer (type)                Output Shape              Param #   \n",
            "=================================================================\n",
            " lstm (LSTM)                 (None, 20, 30)            3840      \n",
            "                                                                 \n",
            " lstm_1 (LSTM)               (None, 20, 30)            7320      \n",
            "                                                                 \n",
            " lstm_2 (LSTM)               (None, 30)                7320      \n",
            "                                                                 \n",
            " dense (Dense)               (None, 1)                 31        \n",
            "                                                                 \n",
            "=================================================================\n",
            "Total params: 18,511\n",
            "Trainable params: 18,511\n",
            "Non-trainable params: 0\n",
            "_________________________________________________________________\n"
          ]
        }
      ],
      "source": [
        "import tensorflow as tf\n",
        "tf.keras.backend.clear_session()\n",
        "tf.random.set_seed(42)\n",
        "\n",
        "# Create a sequential model\n",
        "model = tf.keras.models.Sequential()\n",
        "\n",
        "# Add the input layer\n",
        "model.add(tf.keras.layers.Input(shape=(win_length, 1)))\n",
        "\n",
        "# Add the recurrent layer\n",
        "model.add(tf.keras.layers.LSTM(units=30, return_sequences=True))\n",
        "model.add(tf.keras.layers.LSTM(units=30, return_sequences=True))\n",
        "model.add(tf.keras.layers.LSTM(units=30))\n",
        "\n",
        "\n",
        "# Add the output layer\n",
        "model.add(tf.keras.layers.Dense(units=target_length, activation=None))\n",
        "\n",
        "# Print the model architecture\n",
        "model.summary()"
      ]
    },
    {
      "cell_type": "markdown",
      "metadata": {
        "id": "rt-8Xlb6zKLS"
      },
      "source": [
        "**5. Compile the model by adding an optimizer, a loss and, optionally, a metric using the `model.compile()` method. <br>Set the learning_rate of the optimizer to 0.005**"
      ]
    },
    {
      "cell_type": "code",
      "execution_count": null,
      "metadata": {
        "id": "U2STYpOKIulI"
      },
      "outputs": [],
      "source": [
        "# Choose the optimizer\n",
        "optimizer = tf.keras.optimizers.Adam(learning_rate=0.005)\n",
        "\n",
        "# Compile the model\n",
        "model.compile(optimizer=optimizer,\n",
        "              loss='mse')"
      ]
    },
    {
      "cell_type": "markdown",
      "metadata": {
        "id": "z50youVjzPMK"
      },
      "source": [
        "**6. Train the model by using the `model.fit()` method.<br>Specify a value for the number of `epochs` and the `batch_size`, and set the validation_split hyperparameter to 0.1**"
      ]
    },
    {
      "cell_type": "code",
      "execution_count": null,
      "metadata": {
        "colab": {
          "base_uri": "https://localhost:8080/"
        },
        "id": "7ESis4uWIulJ",
        "outputId": "ab88eceb-657a-4933-d068-c55a2aaebfe4"
      },
      "outputs": [
        {
          "name": "stdout",
          "output_type": "stream",
          "text": [
            "Epoch 1/25\n",
            "168/168 [==============================] - 6s 14ms/step - loss: 0.0335 - val_loss: 0.0070\n",
            "Epoch 2/25\n",
            "168/168 [==============================] - 1s 8ms/step - loss: 0.0053 - val_loss: 0.0165\n",
            "Epoch 3/25\n",
            "168/168 [==============================] - 1s 8ms/step - loss: 0.0036 - val_loss: 0.0056\n",
            "Epoch 4/25\n",
            "168/168 [==============================] - 1s 8ms/step - loss: 0.0032 - val_loss: 0.0041\n",
            "Epoch 5/25\n",
            "168/168 [==============================] - 1s 8ms/step - loss: 0.0023 - val_loss: 0.0030\n",
            "Epoch 6/25\n",
            "168/168 [==============================] - 1s 8ms/step - loss: 0.0021 - val_loss: 0.0027\n",
            "Epoch 7/25\n",
            "168/168 [==============================] - 1s 8ms/step - loss: 0.0026 - val_loss: 0.0027\n",
            "Epoch 8/25\n",
            "168/168 [==============================] - 1s 8ms/step - loss: 0.0019 - val_loss: 0.0026\n",
            "Epoch 9/25\n",
            "168/168 [==============================] - 1s 8ms/step - loss: 0.0022 - val_loss: 0.0042\n",
            "Epoch 10/25\n",
            "168/168 [==============================] - 1s 9ms/step - loss: 0.0019 - val_loss: 0.0033\n",
            "Epoch 11/25\n",
            "168/168 [==============================] - 1s 8ms/step - loss: 0.0023 - val_loss: 0.0024\n",
            "Epoch 12/25\n",
            "168/168 [==============================] - 1s 8ms/step - loss: 0.0018 - val_loss: 0.0038\n",
            "Epoch 13/25\n",
            "168/168 [==============================] - 1s 9ms/step - loss: 0.0015 - val_loss: 0.0023\n",
            "Epoch 14/25\n",
            "168/168 [==============================] - 1s 9ms/step - loss: 0.0020 - val_loss: 0.0035\n",
            "Epoch 15/25\n",
            "168/168 [==============================] - 1s 9ms/step - loss: 0.0021 - val_loss: 0.0028\n",
            "Epoch 16/25\n",
            "168/168 [==============================] - 1s 8ms/step - loss: 0.0019 - val_loss: 0.0026\n"
          ]
        }
      ],
      "source": [
        "early = tf.keras.callbacks.EarlyStopping(patience=3, restore_best_weights=True)\n",
        "\n",
        "history = model.fit(X_train_std, y_train_std,\n",
        "                    validation_split=0.1,\n",
        "                    epochs = 25,\n",
        "                    batch_size=32,\n",
        "                    callbacks=[early])"
      ]
    },
    {
      "cell_type": "markdown",
      "metadata": {
        "id": "i4v412lezW3n"
      },
      "source": [
        "**7.a. Predict the test set using the `model.predict()`.<br>7.b. Plot the predictions on a graph along with the true data.<br>7.c. Compute the RMSE.**"
      ]
    },
    {
      "cell_type": "code",
      "execution_count": null,
      "metadata": {
        "colab": {
          "base_uri": "https://localhost:8080/"
        },
        "id": "Q4AiSubAIulJ",
        "outputId": "16ee1b34-2be2-427b-913c-6d95f36cd46e"
      },
      "outputs": [
        {
          "name": "stdout",
          "output_type": "stream",
          "text": [
            "62/62 [==============================] - 1s 3ms/step\n"
          ]
        }
      ],
      "source": [
        "y_pred = model.predict(X_test_std)"
      ]
    },
    {
      "cell_type": "code",
      "execution_count": null,
      "metadata": {
        "colab": {
          "base_uri": "https://localhost:8080/",
          "height": 269
        },
        "id": "koqRuyxLIulJ",
        "outputId": "b0496a0a-bff7-4418-8c15-ec1ff003c0ac"
      },
      "outputs": [
        {
          "data": {
            "image/png": "[encoded data removed]",
            "text/plain": [
              "<Figure size 432x288 with 1 Axes>"
            ]
          },
          "metadata": {
            "needs_background": "light"
          },
          "output_type": "display_data"
        }
      ],
      "source": [
        "# Inverse the Standard Scaler transformation\n",
        "inv_pred = (y_pred*si + mu).ravel()\n",
        "\n",
        "# Create a Pandas Series to plot the results\n",
        "pd.Series(inv_pred, \n",
        "          index= msft_test[win_length:].index).plot(figsize=(15,8), label='Predictions')\n",
        "\n",
        "# Plot the original data\n",
        "msft_test[win_length:].plot(figsize=(15,8), label='Original Data')\n",
        "plt.legend()\n",
        "plt.show()"
      ]
    },
    {
      "cell_type": "code",
      "execution_count": null,
      "metadata": {
        "colab": {
          "base_uri": "https://localhost:8080/"
        },
        "id": "dFnqXmW1IulJ",
        "outputId": "e97d58a3-3038-440e-e6ba-8494f12c2e15"
      },
      "outputs": [
        {
          "data": {
            "text/plain": [
              "4.956192515353867"
            ]
          },
          "execution_count": 95,
          "metadata": {},
          "output_type": "execute_result"
        }
      ],
      "source": [
        "rmse = np.sqrt(np.mean((inv_pred.ravel() - y_test.ravel())**2))\n",
        "print(f\"RMSE : {rmse:.2f}\")"
      ]
    },
    {
      "cell_type": "markdown",
      "metadata": {
        "id": "EUKb6luRflmt"
      },
      "source": [
        "# Exogenous features"
      ]
    },
    {
      "cell_type": "markdown",
      "metadata": {
        "id": "7R_NlcGuzsYt"
      },
      "source": [
        "In this last exercise, we will try to add an Exogenous feature to the msft_df Time Series.\n",
        "\n"
      ]
    },
    {
      "cell_type": "markdown",
      "metadata": {
        "id": "hJmFWPD-z7Ye"
      },
      "source": [
        "**1. Use the Close column as the main Time Series and the Open column as an exogenous variable. <br>Split the msft_df time series into a train and a test set without shuffling.**"
      ]
    },
    {
      "cell_type": "code",
      "execution_count": null,
      "metadata": {
        "id": "AuD2svr5f_fl"
      },
      "outputs": [],
      "source": [
        "from sklearn.model_selection import train_test_split\n",
        "msft_df_f = msft_df.to_frame()\n",
        "msft_df_f['Open'] = load_msft()['Open'].to_numpy()\n",
        "\n",
        "msft_train, msft_test = train_test_split(msft_df_f, test_size=0.25, shuffle=False)"
      ]
    },
    {
      "cell_type": "markdown",
      "metadata": {
        "id": "PKARGrrGz8wm"
      },
      "source": [
        "Now, the feature set contains two Time Series: the Open and the Close columns of the msft dataset.\n",
        "\n",
        "**2. Create the feature (X) set by using a sliding windows of size 20, with a step of 1 for both train and test sets.<br> Create the label (Y) set by using the next value i.e. the one after the window.**"
      ]
    },
    {
      "cell_type": "code",
      "execution_count": null,
      "metadata": {
        "id": "lG8l5XH4uvzs"
      },
      "outputs": [],
      "source": [
        "def create_windows_exog(data, exog, win_length, win_offset, target_length):\n",
        "    X = []\n",
        "    X_exog = []\n",
        "    y = []\n",
        "\n",
        "    max_length = len(data) - win_length - target_length  + 1\n",
        "    for i in range(0, max_length, win_offset):\n",
        "        X.append(data[i:i+win_length])\n",
        "        X_exog.append(exog[i:i+win_length])\n",
        "        y.append(data[i+win_length:i+win_length+target_length])\n",
        "    \n",
        "    return np.array(X)[..., np.newaxis], np.array(X_exog)[..., np.newaxis], np.array(y)"
      ]
    },
    {
      "cell_type": "code",
      "execution_count": null,
      "metadata": {
        "id": "RhuqyOjtY80a"
      },
      "outputs": [],
      "source": [
        "win_length = 20\n",
        "win_offset = 1\n",
        "target_length = 1\n",
        "\n",
        "X_train, X_train_exog, y_train = create_windows_exog(msft_train.iloc[:,0], \n",
        "                                                     msft_train.iloc[:,1],\n",
        "                                                     win_length = win_length,\n",
        "                                                     win_offset = win_offset,\n",
        "                                                     target_length = target_length)\n",
        "\n",
        "X_test, X_test_exog, y_test = create_windows_exog(msft_test.iloc[:,0], \n",
        "                                                  msft_test.iloc[:,1],\n",
        "                                                  win_length = win_length,\n",
        "                                                  win_offset = win_offset,\n",
        "                                                  target_length = target_length)"
      ]
    },
    {
      "cell_type": "code",
      "execution_count": null,
      "metadata": {
        "colab": {
          "base_uri": "https://localhost:8080/"
        },
        "id": "rwKESETmZiOU",
        "outputId": "ac487db6-49b7-41ca-ff00-b84633226eb1"
      },
      "outputs": [
        {
          "data": {
            "text/plain": [
              "((5967, 20, 1), (5967, 20, 1))"
            ]
          },
          "execution_count": 223,
          "metadata": {},
          "output_type": "execute_result"
        }
      ],
      "source": [
        "X_train.shape, X_train_exog.shape"
      ]
    },
    {
      "cell_type": "markdown",
      "metadata": {
        "id": "9oAylhGa0THi"
      },
      "source": [
        "**3. Standardize the values of the Time Series and the exogenous variable.**\n",
        "\n",
        "*Tips: Don't forget to only compute the calculations on the Train set but apply the standardization to every set.*"
      ]
    },
    {
      "cell_type": "code",
      "execution_count": null,
      "metadata": {
        "id": "zEM_PjSgZuMq"
      },
      "outputs": [],
      "source": [
        "mu = X_train.mean()\n",
        "si = X_train.std()\n",
        "\n",
        "X_train_std = (X_train - mu)/si\n",
        "y_train_std = (y_train - mu)/si\n",
        "\n",
        "X_test_std = (X_test - mu)/si"
      ]
    },
    {
      "cell_type": "code",
      "execution_count": null,
      "metadata": {
        "id": "AK-Ln3i1eThK"
      },
      "outputs": [],
      "source": [
        "mu = X_train_exog.mean()\n",
        "si = X_train_exog.std()\n",
        "\n",
        "X_train_std_exog = (X_train_exog - mu)/si\n",
        "y_train_std_exog = (X_train_exog - mu)/si\n",
        "\n",
        "X_test_std_exog = (X_test_exog - mu)/si"
      ]
    },
    {
      "cell_type": "code",
      "execution_count": null,
      "metadata": {
        "id": "d4Kd3zeXZ5bU"
      },
      "outputs": [],
      "source": [
        "X_train_std_full = np.concatenate([X_train_std, X_train_std_exog],axis=-1)\n",
        "X_test_std_full = np.concatenate([X_test_std, X_test_std_exog],axis=-1)"
      ]
    },
    {
      "cell_type": "markdown",
      "metadata": {
        "id": "r804Enyl0gB1"
      },
      "source": [
        "The following deep learning model should contain an input layer with a shape parameter equal to (window length, number of features).<br> In our case, it should be (20,2).\n",
        "\n",
        "**4.a. Define a sequential deep learning model architecture that contains one input layer, some LSTM layers and one output layer.<br> 4.b. Show the architecture and the parameters of the model using the `model.summary()` method.**"
      ]
    },
    {
      "cell_type": "code",
      "execution_count": null,
      "metadata": {
        "colab": {
          "base_uri": "https://localhost:8080/"
        },
        "id": "cId7MKZHZuMq",
        "outputId": "7d48a1a6-bc23-4beb-b139-14f857fbed10"
      },
      "outputs": [
        {
          "name": "stdout",
          "output_type": "stream",
          "text": [
            "Model: \"sequential\"\n",
            "_________________________________________________________________\n",
            " Layer (type)                Output Shape              Param #   \n",
            "=================================================================\n",
            " lstm (LSTM)                 (None, 20, 30)            3960      \n",
            "                                                                 \n",
            " lstm_1 (LSTM)               (None, 20, 30)            7320      \n",
            "                                                                 \n",
            " lstm_2 (LSTM)               (None, 30)                7320      \n",
            "                                                                 \n",
            " dense (Dense)               (None, 1)                 31        \n",
            "                                                                 \n",
            "=================================================================\n",
            "Total params: 18,631\n",
            "Trainable params: 18,631\n",
            "Non-trainable params: 0\n",
            "_________________________________________________________________\n"
          ]
        }
      ],
      "source": [
        "import tensorflow as tf\n",
        "tf.keras.backend.clear_session()\n",
        "tf.random.set_seed(42)\n",
        "\n",
        "# Create a sequential model\n",
        "model = tf.keras.models.Sequential()\n",
        "\n",
        "# Add the input layer\n",
        "model.add(tf.keras.layers.Input(shape=(win_length, X_train_std_full.shape[-1])))\n",
        "\n",
        "# Add the recurrent layer\n",
        "model.add(tf.keras.layers.LSTM(units=30, return_sequences=True))\n",
        "model.add(tf.keras.layers.LSTM(units=30, return_sequences=True))\n",
        "model.add(tf.keras.layers.LSTM(units=30))\n",
        "\n",
        "# Add the output layer\n",
        "model.add(tf.keras.layers.Dense(units=target_length, activation=None))\n",
        "\n",
        "# Print the model architecture\n",
        "model.summary()"
      ]
    },
    {
      "cell_type": "markdown",
      "metadata": {
        "id": "ZHp0k55h02Qb"
      },
      "source": [
        "**5. Compile the model, train it, predict and show the results.**"
      ]
    },
    {
      "cell_type": "code",
      "execution_count": null,
      "metadata": {
        "id": "sKhfyzKraX_4"
      },
      "outputs": [],
      "source": [
        "# Choose the optimizer\n",
        "optimizer = tf.keras.optimizers.Adam(learning_rate=0.005)\n",
        "\n",
        "# Compile the model\n",
        "model.compile(optimizer=optimizer,\n",
        "              loss='mse')"
      ]
    },
    {
      "cell_type": "code",
      "execution_count": null,
      "metadata": {
        "colab": {
          "base_uri": "https://localhost:8080/"
        },
        "id": "tGGZ2zryaX_5",
        "outputId": "9a79ca8d-a552-4edf-9d49-6dcfaa40235f"
      },
      "outputs": [
        {
          "name": "stdout",
          "output_type": "stream",
          "text": [
            "Epoch 1/25\n",
            "168/168 [==============================] - 6s 14ms/step - loss: 0.0271 - val_loss: 0.0077\n",
            "Epoch 2/25\n",
            "168/168 [==============================] - 1s 8ms/step - loss: 0.0054 - val_loss: 0.0127\n",
            "Epoch 3/25\n",
            "168/168 [==============================] - 1s 8ms/step - loss: 0.0040 - val_loss: 0.0061\n",
            "Epoch 4/25\n",
            "168/168 [==============================] - 1s 8ms/step - loss: 0.0035 - val_loss: 0.0048\n",
            "Epoch 5/25\n",
            "168/168 [==============================] - 1s 8ms/step - loss: 0.0025 - val_loss: 0.0031\n",
            "Epoch 6/25\n",
            "168/168 [==============================] - 1s 8ms/step - loss: 0.0024 - val_loss: 0.0027\n",
            "Epoch 7/25\n",
            "168/168 [==============================] - 1s 8ms/step - loss: 0.0025 - val_loss: 0.0025\n",
            "Epoch 8/25\n",
            "168/168 [==============================] - 1s 8ms/step - loss: 0.0019 - val_loss: 0.0025\n",
            "Epoch 9/25\n",
            "168/168 [==============================] - 1s 8ms/step - loss: 0.0020 - val_loss: 0.0030\n",
            "Epoch 10/25\n",
            "168/168 [==============================] - 1s 8ms/step - loss: 0.0018 - val_loss: 0.0048\n",
            "Epoch 11/25\n",
            "168/168 [==============================] - 1s 8ms/step - loss: 0.0020 - val_loss: 0.0023\n",
            "Epoch 12/25\n",
            "168/168 [==============================] - 1s 8ms/step - loss: 0.0018 - val_loss: 0.0032\n",
            "Epoch 13/25\n",
            "168/168 [==============================] - 1s 8ms/step - loss: 0.0016 - val_loss: 0.0023\n",
            "Epoch 14/25\n",
            "168/168 [==============================] - 1s 8ms/step - loss: 0.0021 - val_loss: 0.0043\n",
            "Epoch 15/25\n",
            "168/168 [==============================] - 1s 8ms/step - loss: 0.0023 - val_loss: 0.0030\n",
            "Epoch 16/25\n",
            "168/168 [==============================] - 1s 8ms/step - loss: 0.0019 - val_loss: 0.0027\n",
            "Epoch 17/25\n",
            "168/168 [==============================] - 1s 8ms/step - loss: 0.0019 - val_loss: 0.0025\n",
            "Epoch 18/25\n",
            "168/168 [==============================] - 1s 8ms/step - loss: 0.0016 - val_loss: 0.0029\n"
          ]
        }
      ],
      "source": [
        "early = tf.keras.callbacks.EarlyStopping(patience=5, restore_best_weights=True)\n",
        "\n",
        "history = model.fit(X_train_std_full, y_train_std,\n",
        "                    validation_split=0.1,\n",
        "                    epochs = 25,\n",
        "                    batch_size=32,\n",
        "                    callbacks=[early])"
      ]
    },
    {
      "cell_type": "code",
      "execution_count": null,
      "metadata": {
        "colab": {
          "base_uri": "https://localhost:8080/"
        },
        "id": "W8GG0jszaX_5",
        "outputId": "533c7456-d18a-4961-93a2-f673bdd9b6b0"
      },
      "outputs": [
        {
          "name": "stdout",
          "output_type": "stream",
          "text": [
            "62/62 [==============================] - 1s 3ms/step\n"
          ]
        }
      ],
      "source": [
        "y_pred = model.predict(X_test_std_full)"
      ]
    },
    {
      "cell_type": "code",
      "execution_count": null,
      "metadata": {
        "colab": {
          "base_uri": "https://localhost:8080/",
          "height": 269
        },
        "id": "xg9srBPvaX_5",
        "outputId": "61a544b7-c3c7-46c4-efb3-51dffeed85a3"
      },
      "outputs": [
        {
          "data": {
            "image/png": "[encoded data removed]",
            "text/plain": [
              "<Figure size 432x288 with 1 Axes>"
            ]
          },
          "metadata": {
            "needs_background": "light"
          },
          "output_type": "display_data"
        }
      ],
      "source": [
        "# Inverse the Standard Scaler transformation\n",
        "inv_pred = (y_pred*si + mu).ravel()\n",
        "\n",
        "# Create a Pandas Series to plot the results\n",
        "pd.Series(inv_pred, \n",
        "          index= msft_test[win_length:].index).plot(figsize=(15,8), label='Predictions')\n",
        "\n",
        "# Plot the original data\n",
        "msft_test[win_length:].plot(figsize=(15,8), label='Original Data')\n",
        "plt.legend()\n",
        "plt.show()"
      ]
    },
    {
      "cell_type": "code",
      "execution_count": null,
      "metadata": {
        "id": "fsNnYtPef77O"
      },
      "outputs": [],
      "source": [
        "rmse = np.sqrt(np.mean((inv_pred.ravel() - y_test.ravel())**2))\n",
        "print(f\"RMSE : {rmse:.2f}\")"
      ]
    },
    {
      "cell_type": "markdown",
      "metadata": {
        "id": "hbuwmA721Nya"
      },
      "source": [
        "# Bonus : Final Exercise"
      ]
    },
    {
      "cell_type": "markdown",
      "metadata": {
        "id": "wuB1CAIY1Qx5"
      },
      "source": [
        "Compare four models on the lynx Time Series (you can find it [here](https://alkaline-ml.com/pmdarima/_modules/pmdarima/datasets/lynx.html)):\n",
        "\n",
        "\n",
        "*   Exponential Smoothing\n",
        "*   (S)ARIMA(X)\n",
        "*   Machine Learning Model (LGBM)\n",
        "*   Deep Learning Model (LSTM)\n",
        "\n",
        "**1.Keep the last 25% of the Time Series for testing and use the remainder to train and validate.**<br>\n",
        "**2.Try to optimize these models as much as possible.**<br>\n",
        "**3.Find the best model.**"
      ]
    }
  ],
  "metadata": {
    "accelerator": "GPU",
    "colab": {
      "collapsed_sections": [
        "zjfXAJIpvwSf",
        "QSVh2_GEXm4I",
        "j5UO1dbYXpL_",
        "wJIdza3NXuKy",
        "awVaxO0vztVe",
        "WALzrcPU3VC-",
        "5_DtpxlV3bt0",
        "lCNYbxn-xEEU",
        "EUKb6luRflmt",
        "hbuwmA721Nya"
      ],
      "provenance": [],
      "toc_visible": true
    },
    "gpuClass": "premium",
    "kernelspec": {
      "display_name": "Python 3",
      "language": "python",
      "name": "python3"
    },
    "language_info": {
      "name": "python",
      "version": "3.11.0rc2 (main, Oct 29 2022, 22:29:24) [Clang 15.0.3 ]"
    },
    "vscode": {
      "interpreter": {
        "hash": "01f18956d372c8f0ead1e6a3c1d38e61305639cd7fc676ddc99a1532426ebc93"
      }
    }
  },
  "nbformat": 4,
  "nbformat_minor": 0
}
