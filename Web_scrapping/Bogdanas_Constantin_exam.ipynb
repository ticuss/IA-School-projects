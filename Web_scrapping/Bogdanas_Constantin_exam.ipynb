{
 "cells": [
  {
   "cell_type": "code",
   "execution_count": 274,
   "metadata": {},
   "outputs": [],
   "source": [
    "%matplotlib inline\n",
    "import matplotlib.pyplot as plt\n",
    "from bs4 import BeautifulSoup\n",
    "import requests\n",
    "import pandas as pd\n",
    "import re"
   ]
  },
  {
   "cell_type": "code",
   "execution_count": 275,
   "metadata": {},
   "outputs": [],
   "source": [
    "def get_url(page: int) -> str:\n",
    "    \"\"\"get_url returns the url for the given page\n",
    "\n",
    "    :param page: Page number that we want to get the url for\n",
    "    :type page: int\n",
    "    :return: formats the url for the given page\n",
    "    \"\"\"\n",
    "    url = f'https://www.celio.com/Nouvelle-collection/c/FR_NOUVELLECOLLECTION?q=%3Arelevance%3Adepartment%3A0310&page={page}'\n",
    "    return url\n",
    "\n"
   ]
  },
  {
   "cell_type": "markdown",
   "metadata": {},
   "source": [
    "1- Récupérer pour la première page la liste des produits , le nom, le prix ."
   ]
  },
  {
   "cell_type": "code",
   "execution_count": 276,
   "metadata": {},
   "outputs": [
    {
     "name": "stdout",
     "output_type": "stream",
     "text": [
      "70\n",
      "[' 25,99 € ', ' 25,99 € ', ' 25,99 € ', ' 25,99 € ', ' 25,99 € ', ' 29,99 € ', ' 29,99 € ', ' 39,99 € ', ' 25,99 € ', ' 29,99 € ', ' 29,99 € ', ' 29,99 € ', ' 39,99 € ', ' 39,99 € ', ' 25,99 € ', ' 35,99 € ', ' 39,99 € ', ' 39,99 € ', ' 39,99 € ', ' 29,99 € ', ' 39,99 € ', ' 29,99 € ', ' 29,99 € ', ' 39,99 € ', ' 29,99 € ', ' 29,99 € ', ' 29,99 € ', ' 39,99 € ', ' 39,99 € ', ' 29,99 € ', ' 29,99 € ', ' 29,99 € ', ' 39,99 € ', ' 39,99 € ', ' 25,99 € ', ' 29,99 € ', ' 35,99 € ', ' 29,99 € ', ' 39,99 € ', ' 29,99 € ', ' 25,99 € ', ' 29,99 € ', ' 25,99 € ', ' 25,99 € ', ' 35,99 € ', ' 29,99 € ', ' 39,99 € ', ' 35,99 € ', ' 35,99 € ', ' 45,99 € ', ' 29,99 € ', ' 29,99 € ', ' 29,99 € ', ' 29,99 € ', ' 49,99 € ', ' 49,99 € ', ' 39,99 € ', ' 29,99 € ', ' 39,99 € ', ' 29,99 € ', ' 29,99 € ', ' 39,99 € ', ' 29,99 € ', ' 29,99 € ', ' 29,99 € ', ' 39,99 € ', ' 29,99 € ', ' 25,99 € ', ' 29,99 € ', ' 29,99 € ']\n"
     ]
    }
   ],
   "source": [
    "\n",
    "item_names = []\n",
    "item_prices = []\n",
    "ratings = []\n",
    "for i in range(1,3):\n",
    "    url = get_url(i)\n",
    "    r = requests.get(url)\n",
    "    soup = BeautifulSoup(r.text, 'html.parser')\n",
    "    elements = soup.find_all(\"div\", {\"class\":  \"ec_card__description\"})\n",
    "    for item in elements:\n",
    "        item_name= item.find('div', {\"class\": \"ec_card__label\"}).text\n",
    "        item_names.append(item_name)\n",
    "        item_price = item.find('div', {\"class\": \"ec_card__price c-price c-product-v2_price\"}).text\n",
    "        item_prices.append(item_price)\n",
    "print(len(item_names))\n",
    "print(item_prices)"
   ]
  },
  {
   "cell_type": "markdown",
   "metadata": {},
   "source": [
    "Etendre la question 1 pour les 2 pages du site"
   ]
  },
  {
   "cell_type": "markdown",
   "metadata": {},
   "source": [
    "3- Suite à ce filtre (toutes les pages confondues) combien de produits affichants l’étiquette “meilleur\n",
    "prix” , afficher les triés par prix croissant."
   ]
  },
  {
   "cell_type": "code",
   "execution_count": 277,
   "metadata": {},
   "outputs": [],
   "source": [
    "\n",
    "def generate_item_url(item) -> str:\n",
    "    \"\"\"geerate_item_url returns the url for the item\"\"\"\n",
    "    \n",
    "    item_category= item['data-ota-productnavcategorylevel1']\n",
    "    item_id = item['data-ota-productlevel1id']\n",
    "    item_name = item['data-ota-productlevel2name']\n",
    "    for r in ((' ', '-'), (\"%\", \"\"), (\"/\", \"\"), (\".\", \"\"), (\"&\", \"\"), (\"é\", \"e\"), (\"è\", \"e\"), (\"à\", \"a\"), (\"ç\", \"c\"), (\"ê\", \"e\"), (\"î\", \"i\"), (\"ô\", \"o\"), (\"û\", \"u\"), (\"ù\", \"u\"), (\"ü\", \"u\"), (\"ÿ\", \"y\"), (\"ñ\", \"n\")):\n",
    "        item_name = item_name.replace(*r)\n",
    "        \n",
    "    url = f'https://www.celio.com/{item_category}/{item_name}/p/{item_id}'\n",
    "    return url "
   ]
  },
  {
   "cell_type": "code",
   "execution_count": 288,
   "metadata": {},
   "outputs": [],
   "source": [
    "DataFrame = pd.DataFrame\n",
    "\n",
    "def get_best_items() -> DataFrame:\n",
    "    \"\"\"get_best_items returns the items with the tag meilleur prix\n",
    "    :return: DataFrame with the best items\n",
    "    :rtype: DataFrame\n",
    "    \"\"\"\n",
    "    \n",
    "    items_names = []\n",
    "    items_prices = []\n",
    "    items_urls = []\n",
    "    items_ids = []\n",
    "    for i in range(1,3):\n",
    "        url = get_url(i)\n",
    "        r = requests.get(url)\n",
    "        soup = BeautifulSoup(r.text, 'html.parser')\n",
    "        elements = soup.find_all(\"div\", {\"class\":  \"ec_card c-product-v2 c-list-product-v2 c-js-click c-ota-product ec_single_card ec_is_single\"})\n",
    "        elements += soup.find_all('div', {\"class\": \"ec_card c-product-v2 c-list-product-v2 c-js-click c-ota-product ec_duo_card ec_is_single\"})\n",
    "        for item in elements:\n",
    "            if 'Meilleur prix' in item.text:\n",
    "                \n",
    "                url_item  = generate_item_url(item)\n",
    "                items_urls.append(url_item)\n",
    "                items_ids.append(item['data-ota-productlevel1id'])\n",
    "                item_name= item.find('div', {\"class\": \"ec_card__label\"}).text\n",
    "                items_names.append(item_name)\n",
    "                item_price = item.find('div', {\"class\": \"ec_card__price c-price c-product-v2_price\"}).text\n",
    "                items_prices.append(float(item_price.replace('€','').replace(' ','').replace(',','.')))\n",
    "\n",
    "            response = {\"ID\": items_ids, 'Product name': items_names, 'Price': items_prices, 'URL': items_urls}\n",
    "            df = pd.DataFrame(response)\n",
    "            df.sort_values(by='Price', ascending=True)\n",
    "            \n",
    "    return df\n"
   ]
  },
  {
   "cell_type": "code",
   "execution_count": 290,
   "metadata": {},
   "outputs": [
    {
     "data": {
      "text/html": [
       "<div>\n",
       "<style scoped>\n",
       "    .dataframe tbody tr th:only-of-type {\n",
       "        vertical-align: middle;\n",
       "    }\n",
       "\n",
       "    .dataframe tbody tr th {\n",
       "        vertical-align: top;\n",
       "    }\n",
       "\n",
       "    .dataframe thead th {\n",
       "        text-align: right;\n",
       "    }\n",
       "</style>\n",
       "<table border=\"1\" class=\"dataframe\">\n",
       "  <thead>\n",
       "    <tr style=\"text-align: right;\">\n",
       "      <th></th>\n",
       "      <th>ID</th>\n",
       "      <th>Product name</th>\n",
       "      <th>Price</th>\n",
       "      <th>URL</th>\n",
       "    </tr>\n",
       "  </thead>\n",
       "  <tbody>\n",
       "    <tr>\n",
       "      <th>0</th>\n",
       "      <td>1049665</td>\n",
       "      <td>Chemise slim coton stretch</td>\n",
       "      <td>25.99</td>\n",
       "      <td>https://www.celio.com/03-10-shirt/Chemise-slim...</td>\n",
       "    </tr>\n",
       "    <tr>\n",
       "      <th>1</th>\n",
       "      <td>1049388</td>\n",
       "      <td>Chemise slim coton stretch</td>\n",
       "      <td>25.99</td>\n",
       "      <td>https://www.celio.com/03-10-shirt/Chemise-slim...</td>\n",
       "    </tr>\n",
       "    <tr>\n",
       "      <th>2</th>\n",
       "      <td>1049770</td>\n",
       "      <td>Chemise slim coton stretch</td>\n",
       "      <td>25.99</td>\n",
       "      <td>https://www.celio.com/03-10-shirt/Chemise-slim...</td>\n",
       "    </tr>\n",
       "    <tr>\n",
       "      <th>3</th>\n",
       "      <td>1047257</td>\n",
       "      <td>Chemise slim coton stretch</td>\n",
       "      <td>25.99</td>\n",
       "      <td>https://www.celio.com/03-10-shirt/Chemise-slim...</td>\n",
       "    </tr>\n",
       "    <tr>\n",
       "      <th>4</th>\n",
       "      <td>1067751</td>\n",
       "      <td>Chemise slim coton stretch</td>\n",
       "      <td>25.99</td>\n",
       "      <td>https://www.celio.com/03-10-shirt/Chemise-slim...</td>\n",
       "    </tr>\n",
       "    <tr>\n",
       "      <th>5</th>\n",
       "      <td>1059935</td>\n",
       "      <td>Chemise slim coton stretch</td>\n",
       "      <td>25.99</td>\n",
       "      <td>https://www.celio.com/03-10-shirt/Chemise-slim...</td>\n",
       "    </tr>\n",
       "  </tbody>\n",
       "</table>\n",
       "</div>"
      ],
      "text/plain": [
       "        ID                Product name  Price  \\\n",
       "0  1049665  Chemise slim coton stretch  25.99   \n",
       "1  1049388  Chemise slim coton stretch  25.99   \n",
       "2  1049770  Chemise slim coton stretch  25.99   \n",
       "3  1047257  Chemise slim coton stretch  25.99   \n",
       "4  1067751  Chemise slim coton stretch  25.99   \n",
       "5  1059935  Chemise slim coton stretch  25.99   \n",
       "\n",
       "                                                 URL  \n",
       "0  https://www.celio.com/03-10-shirt/Chemise-slim...  \n",
       "1  https://www.celio.com/03-10-shirt/Chemise-slim...  \n",
       "2  https://www.celio.com/03-10-shirt/Chemise-slim...  \n",
       "3  https://www.celio.com/03-10-shirt/Chemise-slim...  \n",
       "4  https://www.celio.com/03-10-shirt/Chemise-slim...  \n",
       "5  https://www.celio.com/03-10-shirt/Chemise-slim...  "
      ]
     },
     "execution_count": 290,
     "metadata": {},
     "output_type": "execute_result"
    }
   ],
   "source": [
    "df = get_best_items()\n",
    "df"
   ]
  },
  {
   "cell_type": "markdown",
   "metadata": {},
   "source": [
    "4- Trouver pour ces articles ,meilleurs prix, les 5 les mieux notés , ayant le plus d’avis."
   ]
  },
  {
   "cell_type": "code",
   "execution_count": 282,
   "metadata": {},
   "outputs": [
    {
     "name": "stdout",
     "output_type": "stream",
     "text": [
      "https://www.celio.com/03-10-shirt/Chemise-slim-coton-stretch/p/1049665\n",
      "[]\n",
      "====================\n",
      "https://www.celio.com/03-10-shirt/Chemise-slim-coton-stretch/p/1049388\n",
      "[]\n",
      "====================\n",
      "https://www.celio.com/03-10-shirt/Chemise-slim-coton-stretch/p/1049770\n",
      "[]\n",
      "====================\n",
      "https://www.celio.com/03-10-shirt/Chemise-slim-coton-stretch/p/1047257\n",
      "[]\n",
      "====================\n",
      "https://www.celio.com/03-10-shirt/Chemise-slim-coton-stretch/p/1067751\n",
      "[]\n",
      "====================\n",
      "https://www.celio.com/03-10-shirt/Chemise-slim-coton-stretch/p/1059935\n",
      "[]\n",
      "====================\n"
     ]
    }
   ],
   "source": [
    "from requests_html import HTMLSession\n",
    "\n",
    "def get_note():\n",
    "    for url in df['URL']:\n",
    "        session = HTMLSession()\n",
    "        r = session.get(url)\n",
    "        print(url)\n",
    "        soup = BeautifulSoup(r.text, 'html.parser')\n",
    "        rating = soup.find_all('p', {\"class\": \"netreviews_note_generale\"})\n",
    "        #rating.find_all('netreviews_global_rating')\n",
    "        print(rating)\n",
    "        print('====================')\n",
    "get_note()"
   ]
  },
  {
   "cell_type": "code",
   "execution_count": 284,
   "metadata": {},
   "outputs": [],
   "source": [
    "def get_all_items() -> list: \n",
    "    item_names = []\n",
    "    item_prices = []\n",
    "    items_urls = []\n",
    "    items_ids = []\n",
    "    for i in range(1,3):\n",
    "        url = get_url(i)\n",
    "        r = requests.get(url)\n",
    "        soup = BeautifulSoup(r.text, 'html.parser')\n",
    "        elements = soup.find_all(\"div\", {\"class\":  \"ec_card c-product-v2 c-list-product-v2 c-js-click c-ota-product ec_single_card ec_is_single\"})\n",
    "        elements += soup.find_all('div', {\"class\": \"ec_card c-product-v2 c-list-product-v2 c-js-click c-ota-product ec_duo_card ec_is_single\"})\n",
    "        for item in elements:\n",
    "            items_ids.append(item['data-ota-productlevel1id'])\n",
    "            url_item  = generate_item_url(item)\n",
    "            items_urls.append(url_item)\n",
    "            item_name= item.find('div', {\"class\": \"ec_card__label\"}).text\n",
    "            item_names.append(item_name)\n",
    "            item_price = item.find('div', {\"class\": \"ec_card__price c-price c-product-v2_price\"}).text\n",
    "            item_prices.append(float(item_price.replace('€','').replace(' ','').replace(',','.')))\n",
    "            response = {\"ID\": items_ids,'Product name': item_names, 'Price': item_prices, 'URL': items_urls}\n",
    "            df = pd.DataFrame(response)\n",
    "            df.sort_values(by='Price', ascending=True)\n",
    "            \n",
    "    return df"
   ]
  },
  {
   "cell_type": "code",
   "execution_count": 285,
   "metadata": {},
   "outputs": [
    {
     "data": {
      "text/html": [
       "<div>\n",
       "<style scoped>\n",
       "    .dataframe tbody tr th:only-of-type {\n",
       "        vertical-align: middle;\n",
       "    }\n",
       "\n",
       "    .dataframe tbody tr th {\n",
       "        vertical-align: top;\n",
       "    }\n",
       "\n",
       "    .dataframe thead th {\n",
       "        text-align: right;\n",
       "    }\n",
       "</style>\n",
       "<table border=\"1\" class=\"dataframe\">\n",
       "  <thead>\n",
       "    <tr style=\"text-align: right;\">\n",
       "      <th></th>\n",
       "      <th>ID</th>\n",
       "      <th>Product name</th>\n",
       "      <th>Price</th>\n",
       "      <th>URL</th>\n",
       "    </tr>\n",
       "  </thead>\n",
       "  <tbody>\n",
       "    <tr>\n",
       "      <th>0</th>\n",
       "      <td>1049665</td>\n",
       "      <td>Chemise slim coton stretch</td>\n",
       "      <td>25.99</td>\n",
       "      <td>https://www.celio.com/03-10-shirt/Chemise-slim...</td>\n",
       "    </tr>\n",
       "    <tr>\n",
       "      <th>1</th>\n",
       "      <td>1049388</td>\n",
       "      <td>Chemise slim coton stretch</td>\n",
       "      <td>25.99</td>\n",
       "      <td>https://www.celio.com/03-10-shirt/Chemise-slim...</td>\n",
       "    </tr>\n",
       "    <tr>\n",
       "      <th>2</th>\n",
       "      <td>1049770</td>\n",
       "      <td>Chemise slim coton stretch</td>\n",
       "      <td>25.99</td>\n",
       "      <td>https://www.celio.com/03-10-shirt/Chemise-slim...</td>\n",
       "    </tr>\n",
       "    <tr>\n",
       "      <th>3</th>\n",
       "      <td>1047257</td>\n",
       "      <td>Chemise slim coton stretch</td>\n",
       "      <td>25.99</td>\n",
       "      <td>https://www.celio.com/03-10-shirt/Chemise-slim...</td>\n",
       "    </tr>\n",
       "    <tr>\n",
       "      <th>4</th>\n",
       "      <td>1106364</td>\n",
       "      <td>Chemise regular 100% lin</td>\n",
       "      <td>29.99</td>\n",
       "      <td>https://www.celio.com/03-10-shirt/Chemise-regu...</td>\n",
       "    </tr>\n",
       "    <tr>\n",
       "      <th>...</th>\n",
       "      <td>...</td>\n",
       "      <td>...</td>\n",
       "      <td>...</td>\n",
       "      <td>...</td>\n",
       "    </tr>\n",
       "    <tr>\n",
       "      <th>65</th>\n",
       "      <td>1060032</td>\n",
       "      <td>Chemise slim repassage facile</td>\n",
       "      <td>39.99</td>\n",
       "      <td>https://www.celio.com/03-10-shirt/Chemise-slim...</td>\n",
       "    </tr>\n",
       "    <tr>\n",
       "      <th>66</th>\n",
       "      <td>1104009</td>\n",
       "      <td>Chemise modern fit à carreaux 100% coton</td>\n",
       "      <td>29.99</td>\n",
       "      <td>https://www.celio.com/03-10-shirt/Chemise-mode...</td>\n",
       "    </tr>\n",
       "    <tr>\n",
       "      <th>67</th>\n",
       "      <td>1107069</td>\n",
       "      <td>Chemise regular 100% coton</td>\n",
       "      <td>29.99</td>\n",
       "      <td>https://www.celio.com/03-10-shirt/Chemise-regu...</td>\n",
       "    </tr>\n",
       "    <tr>\n",
       "      <th>68</th>\n",
       "      <td>1082092</td>\n",
       "      <td>Chemise slim repassage facile</td>\n",
       "      <td>39.99</td>\n",
       "      <td>https://www.celio.com/03-10-shirt/Chemise-slim...</td>\n",
       "    </tr>\n",
       "    <tr>\n",
       "      <th>69</th>\n",
       "      <td>1100595</td>\n",
       "      <td>Chemise modern fit denim</td>\n",
       "      <td>29.99</td>\n",
       "      <td>https://www.celio.com/03-10-shirt/Chemise-mode...</td>\n",
       "    </tr>\n",
       "  </tbody>\n",
       "</table>\n",
       "<p>70 rows × 4 columns</p>\n",
       "</div>"
      ],
      "text/plain": [
       "         ID                              Product name  Price  \\\n",
       "0   1049665                Chemise slim coton stretch  25.99   \n",
       "1   1049388                Chemise slim coton stretch  25.99   \n",
       "2   1049770                Chemise slim coton stretch  25.99   \n",
       "3   1047257                Chemise slim coton stretch  25.99   \n",
       "4   1106364                  Chemise regular 100% lin  29.99   \n",
       "..      ...                                       ...    ...   \n",
       "65  1060032             Chemise slim repassage facile  39.99   \n",
       "66  1104009  Chemise modern fit à carreaux 100% coton  29.99   \n",
       "67  1107069                Chemise regular 100% coton  29.99   \n",
       "68  1082092             Chemise slim repassage facile  39.99   \n",
       "69  1100595                  Chemise modern fit denim  29.99   \n",
       "\n",
       "                                                  URL  \n",
       "0   https://www.celio.com/03-10-shirt/Chemise-slim...  \n",
       "1   https://www.celio.com/03-10-shirt/Chemise-slim...  \n",
       "2   https://www.celio.com/03-10-shirt/Chemise-slim...  \n",
       "3   https://www.celio.com/03-10-shirt/Chemise-slim...  \n",
       "4   https://www.celio.com/03-10-shirt/Chemise-regu...  \n",
       "..                                                ...  \n",
       "65  https://www.celio.com/03-10-shirt/Chemise-slim...  \n",
       "66  https://www.celio.com/03-10-shirt/Chemise-mode...  \n",
       "67  https://www.celio.com/03-10-shirt/Chemise-regu...  \n",
       "68  https://www.celio.com/03-10-shirt/Chemise-slim...  \n",
       "69  https://www.celio.com/03-10-shirt/Chemise-mode...  \n",
       "\n",
       "[70 rows x 4 columns]"
      ]
     },
     "execution_count": 285,
     "metadata": {},
     "output_type": "execute_result"
    }
   ],
   "source": [
    "\n",
    "df_all = get_all_items()\n",
    "df_all"
   ]
  },
  {
   "cell_type": "code",
   "execution_count": 286,
   "metadata": {},
   "outputs": [
    {
     "data": {
      "text/plain": [
       "<AxesSubplot:xlabel='Price', ylabel='Product name'>"
      ]
     },
     "execution_count": 286,
     "metadata": {},
     "output_type": "execute_result"
    },
    {
     "data": {
      "image/png": "[encoded data removed]",
      "text/plain": [
       "<Figure size 432x288 with 1 Axes>"
      ]
     },
     "metadata": {
      "needs_background": "light"
     },
     "output_type": "display_data"
    }
   ],
   "source": [
    "import seaborn as sns\n",
    "sns.barplot(x='Price', y='Product name', data=df_all)"
   ]
  }
 ],
 "metadata": {
  "interpreter": {
   "hash": "1cd2e22a2735bc1e54b3db030ef4bd758bd7f3dbd182101d701803913275d8f7"
  },
  "kernelspec": {
   "display_name": "Python 3.8.10 64-bit",
   "language": "python",
   "name": "python3"
  },
  "language_info": {
   "codemirror_mode": {
    "name": "ipython",
    "version": 3
   },
   "file_extension": ".py",
   "mimetype": "text/x-python",
   "name": "python",
   "nbconvert_exporter": "python",
   "pygments_lexer": "ipython3",
   "version": "3.8.10"
  },
  "orig_nbformat": 4
 },
 "nbformat": 4,
 "nbformat_minor": 2
}
