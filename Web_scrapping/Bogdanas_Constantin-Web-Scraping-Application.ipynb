{
 "cells": [
  {
   "cell_type": "markdown",
   "metadata": {},
   "source": [
    "# Application Web Scraping \n",
    "\n",
    "Soit pour scrapping et analyse la série Game of Thrones à partir du site de la base de films imdb suivant : http://www.imdb.com/title/tt0944947/episodes    </div>  \n",
    "\n"
   ]
  },
  {
   "cell_type": "markdown",
   "metadata": {},
   "source": [
    "## Import Librairies"
   ]
  },
  {
   "cell_type": "code",
   "execution_count": 3,
   "metadata": {},
   "outputs": [],
   "source": [
    "import requests\n",
    "from bs4 import BeautifulSoup"
   ]
  },
  {
   "cell_type": "markdown",
   "metadata": {},
   "source": [
    "<div class=\"alert alert-success\">\n",
    "\n",
    "**1-**\n",
    "- Recupérer dans une liste les 8 saisons de  Game of Thrones\n",
    "    \n",
    "- Récupérer la liste des épisodes ainsi que le rating de chacune\n",
    "    \n",
    "    indications: voir les classes 'eplist' et 'ipl-rating-star__rating'\n",
    "\n",
    "</div>\n",
    "   "
   ]
  },
  {
   "cell_type": "code",
   "execution_count": 97,
   "metadata": {
    "slideshow": {
     "slide_type": "-"
    }
   },
   "outputs": [
    {
     "name": "stdout",
     "output_type": "stream",
     "text": [
      "[{'Winter Is Coming', '9.0'}, {'The Kingsroad', '8.7'}, {'8.6', 'Lord Snow'}, {'8.7', 'Cripples, Bastards, and Broken Things'}, {'9.0', 'The Wolf and the Lion'}, {'9.1', 'A Golden Crown'}, {'9.2', 'You Win or You Die'}, {'The Pointy End', '9.0'}, {'Baelor', '9.6'}, {'9.5', 'Fire and Blood'}]\n",
      "[{'Winter Is Coming', '9.0'}, {'The Kingsroad', '8.7'}, {'8.6', 'Lord Snow'}, {'8.7', 'Cripples, Bastards, and Broken Things'}, {'9.0', 'The Wolf and the Lion'}, {'9.1', 'A Golden Crown'}, {'9.2', 'You Win or You Die'}, {'The Pointy End', '9.0'}, {'Baelor', '9.6'}, {'9.5', 'Fire and Blood'}, {'The North Remembers', '8.7'}, {'8.5', 'The Night Lands'}, {'8.8', 'What Is Dead May Never Die'}, {'8.7', 'Garden of Bones'}, {'8.7', 'The Ghost of Harrenhal'}, {'The Old Gods and the New', '9.0'}, {'A Man Without Honor', '8.9'}, {'8.7', 'The Prince of Winterfell'}, {'9.7', 'Blackwater'}, {'9.4', 'Valar Morghulis'}]\n",
      "[{'Winter Is Coming', '9.0'}, {'The Kingsroad', '8.7'}, {'8.6', 'Lord Snow'}, {'8.7', 'Cripples, Bastards, and Broken Things'}, {'9.0', 'The Wolf and the Lion'}, {'9.1', 'A Golden Crown'}, {'9.2', 'You Win or You Die'}, {'The Pointy End', '9.0'}, {'Baelor', '9.6'}, {'9.5', 'Fire and Blood'}, {'The North Remembers', '8.7'}, {'8.5', 'The Night Lands'}, {'8.8', 'What Is Dead May Never Die'}, {'8.7', 'Garden of Bones'}, {'8.7', 'The Ghost of Harrenhal'}, {'The Old Gods and the New', '9.0'}, {'A Man Without Honor', '8.9'}, {'8.7', 'The Prince of Winterfell'}, {'9.7', 'Blackwater'}, {'9.4', 'Valar Morghulis'}, {'8.7', 'Valar Dohaeris'}, {'Dark Wings, Dark Words', '8.5'}, {'8.8', 'Walk of Punishment'}, {'And Now His Watch Is Ended', '9.5'}, {'9.0', 'Kissed by Fire'}, {'8.8', 'The Climb'}, {'8.7', 'The Bear and the Maiden Fair'}, {'Second Sons', '9.0'}, {'The Rains of Castamere', '9.9'}, {'9.1', 'Mhysa'}]\n",
      "[{'Winter Is Coming', '9.0'}, {'The Kingsroad', '8.7'}, {'8.6', 'Lord Snow'}, {'8.7', 'Cripples, Bastards, and Broken Things'}, {'9.0', 'The Wolf and the Lion'}, {'9.1', 'A Golden Crown'}, {'9.2', 'You Win or You Die'}, {'The Pointy End', '9.0'}, {'Baelor', '9.6'}, {'9.5', 'Fire and Blood'}, {'The North Remembers', '8.7'}, {'8.5', 'The Night Lands'}, {'8.8', 'What Is Dead May Never Die'}, {'8.7', 'Garden of Bones'}, {'8.7', 'The Ghost of Harrenhal'}, {'The Old Gods and the New', '9.0'}, {'A Man Without Honor', '8.9'}, {'8.7', 'The Prince of Winterfell'}, {'9.7', 'Blackwater'}, {'9.4', 'Valar Morghulis'}, {'8.7', 'Valar Dohaeris'}, {'Dark Wings, Dark Words', '8.5'}, {'8.8', 'Walk of Punishment'}, {'And Now His Watch Is Ended', '9.5'}, {'9.0', 'Kissed by Fire'}, {'8.8', 'The Climb'}, {'8.7', 'The Bear and the Maiden Fair'}, {'Second Sons', '9.0'}, {'The Rains of Castamere', '9.9'}, {'9.1', 'Mhysa'}, {'Two Swords', '9.0'}, {'9.7', 'The Lion and the Rose'}, {'8.8', 'Breaker of Chains'}, {'8.8', 'Oathkeeper'}, {'8.7', 'First of His Name'}, {'The Laws of Gods and Men', '9.7'}, {'9.1', 'Mockingbird'}, {'The Mountain and the Viper', '9.7'}, {'The Watchers on the Wall', '9.6'}, {'The Children', '9.7'}]\n",
      "[{'Winter Is Coming', '9.0'}, {'The Kingsroad', '8.7'}, {'8.6', 'Lord Snow'}, {'8.7', 'Cripples, Bastards, and Broken Things'}, {'9.0', 'The Wolf and the Lion'}, {'9.1', 'A Golden Crown'}, {'9.2', 'You Win or You Die'}, {'The Pointy End', '9.0'}, {'Baelor', '9.6'}, {'9.5', 'Fire and Blood'}, {'The North Remembers', '8.7'}, {'8.5', 'The Night Lands'}, {'8.8', 'What Is Dead May Never Die'}, {'8.7', 'Garden of Bones'}, {'8.7', 'The Ghost of Harrenhal'}, {'The Old Gods and the New', '9.0'}, {'A Man Without Honor', '8.9'}, {'8.7', 'The Prince of Winterfell'}, {'9.7', 'Blackwater'}, {'9.4', 'Valar Morghulis'}, {'8.7', 'Valar Dohaeris'}, {'Dark Wings, Dark Words', '8.5'}, {'8.8', 'Walk of Punishment'}, {'And Now His Watch Is Ended', '9.5'}, {'9.0', 'Kissed by Fire'}, {'8.8', 'The Climb'}, {'8.7', 'The Bear and the Maiden Fair'}, {'Second Sons', '9.0'}, {'The Rains of Castamere', '9.9'}, {'9.1', 'Mhysa'}, {'Two Swords', '9.0'}, {'9.7', 'The Lion and the Rose'}, {'8.8', 'Breaker of Chains'}, {'8.8', 'Oathkeeper'}, {'8.7', 'First of His Name'}, {'The Laws of Gods and Men', '9.7'}, {'9.1', 'Mockingbird'}, {'The Mountain and the Viper', '9.7'}, {'The Watchers on the Wall', '9.6'}, {'The Children', '9.7'}, {'8.4', 'The Wars to Come'}, {'The House of Black and White', '8.5'}, {'8.5', 'High Sparrow'}, {'8.6', 'Sons of the Harpy'}, {'8.6', 'Kill the Boy'}, {'Unbowed, Unbent, Unbroken', '8.0'}, {'The Gift', '8.9'}, {'9.8', 'Hardhome'}, {'The Dance of Dragons', '9.4'}, {\"Mother's Mercy\", '9.1'}]\n",
      "[{'Winter Is Coming', '9.0'}, {'The Kingsroad', '8.7'}, {'8.6', 'Lord Snow'}, {'8.7', 'Cripples, Bastards, and Broken Things'}, {'9.0', 'The Wolf and the Lion'}, {'9.1', 'A Golden Crown'}, {'9.2', 'You Win or You Die'}, {'The Pointy End', '9.0'}, {'Baelor', '9.6'}, {'9.5', 'Fire and Blood'}, {'The North Remembers', '8.7'}, {'8.5', 'The Night Lands'}, {'8.8', 'What Is Dead May Never Die'}, {'8.7', 'Garden of Bones'}, {'8.7', 'The Ghost of Harrenhal'}, {'The Old Gods and the New', '9.0'}, {'A Man Without Honor', '8.9'}, {'8.7', 'The Prince of Winterfell'}, {'9.7', 'Blackwater'}, {'9.4', 'Valar Morghulis'}, {'8.7', 'Valar Dohaeris'}, {'Dark Wings, Dark Words', '8.5'}, {'8.8', 'Walk of Punishment'}, {'And Now His Watch Is Ended', '9.5'}, {'9.0', 'Kissed by Fire'}, {'8.8', 'The Climb'}, {'8.7', 'The Bear and the Maiden Fair'}, {'Second Sons', '9.0'}, {'The Rains of Castamere', '9.9'}, {'9.1', 'Mhysa'}, {'Two Swords', '9.0'}, {'9.7', 'The Lion and the Rose'}, {'8.8', 'Breaker of Chains'}, {'8.8', 'Oathkeeper'}, {'8.7', 'First of His Name'}, {'The Laws of Gods and Men', '9.7'}, {'9.1', 'Mockingbird'}, {'The Mountain and the Viper', '9.7'}, {'The Watchers on the Wall', '9.6'}, {'The Children', '9.7'}, {'8.4', 'The Wars to Come'}, {'The House of Black and White', '8.5'}, {'8.5', 'High Sparrow'}, {'8.6', 'Sons of the Harpy'}, {'8.6', 'Kill the Boy'}, {'Unbowed, Unbent, Unbroken', '8.0'}, {'The Gift', '8.9'}, {'9.8', 'Hardhome'}, {'The Dance of Dragons', '9.4'}, {\"Mother's Mercy\", '9.1'}, {'8.5', 'The Red Woman'}, {'9.3', 'Home'}, {'8.7', 'Oathbreaker'}, {'Book of the Stranger', '9.1'}, {'The Door', '9.7'}, {'Blood of My Blood', '8.4'}, {'The Broken Man', '8.5'}, {'No One', '8.4'}, {'Battle of the Bastards', '9.9'}, {'The Winds of Winter', '9.9'}]\n",
      "[{'Winter Is Coming', '9.0'}, {'The Kingsroad', '8.7'}, {'8.6', 'Lord Snow'}, {'8.7', 'Cripples, Bastards, and Broken Things'}, {'9.0', 'The Wolf and the Lion'}, {'9.1', 'A Golden Crown'}, {'9.2', 'You Win or You Die'}, {'The Pointy End', '9.0'}, {'Baelor', '9.6'}, {'9.5', 'Fire and Blood'}, {'The North Remembers', '8.7'}, {'8.5', 'The Night Lands'}, {'8.8', 'What Is Dead May Never Die'}, {'8.7', 'Garden of Bones'}, {'8.7', 'The Ghost of Harrenhal'}, {'The Old Gods and the New', '9.0'}, {'A Man Without Honor', '8.9'}, {'8.7', 'The Prince of Winterfell'}, {'9.7', 'Blackwater'}, {'9.4', 'Valar Morghulis'}, {'8.7', 'Valar Dohaeris'}, {'Dark Wings, Dark Words', '8.5'}, {'8.8', 'Walk of Punishment'}, {'And Now His Watch Is Ended', '9.5'}, {'9.0', 'Kissed by Fire'}, {'8.8', 'The Climb'}, {'8.7', 'The Bear and the Maiden Fair'}, {'Second Sons', '9.0'}, {'The Rains of Castamere', '9.9'}, {'9.1', 'Mhysa'}, {'Two Swords', '9.0'}, {'9.7', 'The Lion and the Rose'}, {'8.8', 'Breaker of Chains'}, {'8.8', 'Oathkeeper'}, {'8.7', 'First of His Name'}, {'The Laws of Gods and Men', '9.7'}, {'9.1', 'Mockingbird'}, {'The Mountain and the Viper', '9.7'}, {'The Watchers on the Wall', '9.6'}, {'The Children', '9.7'}, {'8.4', 'The Wars to Come'}, {'The House of Black and White', '8.5'}, {'8.5', 'High Sparrow'}, {'8.6', 'Sons of the Harpy'}, {'8.6', 'Kill the Boy'}, {'Unbowed, Unbent, Unbroken', '8.0'}, {'The Gift', '8.9'}, {'9.8', 'Hardhome'}, {'The Dance of Dragons', '9.4'}, {\"Mother's Mercy\", '9.1'}, {'8.5', 'The Red Woman'}, {'9.3', 'Home'}, {'8.7', 'Oathbreaker'}, {'Book of the Stranger', '9.1'}, {'The Door', '9.7'}, {'Blood of My Blood', '8.4'}, {'The Broken Man', '8.5'}, {'No One', '8.4'}, {'Battle of the Bastards', '9.9'}, {'The Winds of Winter', '9.9'}, {'8.6', 'Dragonstone'}, {'8.9', 'Stormborn'}, {'9.2', \"The Queen's Justice\"}, {'9.7', 'The Spoils of War'}, {'8.8', 'Eastwatch'}, {'Beyond the Wall', '9.1'}, {'9.4', 'The Dragon and the Wolf'}]\n",
      "[{'Winter Is Coming', '9.0'}, {'The Kingsroad', '8.7'}, {'8.6', 'Lord Snow'}, {'8.7', 'Cripples, Bastards, and Broken Things'}, {'9.0', 'The Wolf and the Lion'}, {'9.1', 'A Golden Crown'}, {'9.2', 'You Win or You Die'}, {'The Pointy End', '9.0'}, {'Baelor', '9.6'}, {'9.5', 'Fire and Blood'}, {'The North Remembers', '8.7'}, {'8.5', 'The Night Lands'}, {'8.8', 'What Is Dead May Never Die'}, {'8.7', 'Garden of Bones'}, {'8.7', 'The Ghost of Harrenhal'}, {'The Old Gods and the New', '9.0'}, {'A Man Without Honor', '8.9'}, {'8.7', 'The Prince of Winterfell'}, {'9.7', 'Blackwater'}, {'9.4', 'Valar Morghulis'}, {'8.7', 'Valar Dohaeris'}, {'Dark Wings, Dark Words', '8.5'}, {'8.8', 'Walk of Punishment'}, {'And Now His Watch Is Ended', '9.5'}, {'9.0', 'Kissed by Fire'}, {'8.8', 'The Climb'}, {'8.7', 'The Bear and the Maiden Fair'}, {'Second Sons', '9.0'}, {'The Rains of Castamere', '9.9'}, {'9.1', 'Mhysa'}, {'Two Swords', '9.0'}, {'9.7', 'The Lion and the Rose'}, {'8.8', 'Breaker of Chains'}, {'8.8', 'Oathkeeper'}, {'8.7', 'First of His Name'}, {'The Laws of Gods and Men', '9.7'}, {'9.1', 'Mockingbird'}, {'The Mountain and the Viper', '9.7'}, {'The Watchers on the Wall', '9.6'}, {'The Children', '9.7'}, {'8.4', 'The Wars to Come'}, {'The House of Black and White', '8.5'}, {'8.5', 'High Sparrow'}, {'8.6', 'Sons of the Harpy'}, {'8.6', 'Kill the Boy'}, {'Unbowed, Unbent, Unbroken', '8.0'}, {'The Gift', '8.9'}, {'9.8', 'Hardhome'}, {'The Dance of Dragons', '9.4'}, {\"Mother's Mercy\", '9.1'}, {'8.5', 'The Red Woman'}, {'9.3', 'Home'}, {'8.7', 'Oathbreaker'}, {'Book of the Stranger', '9.1'}, {'The Door', '9.7'}, {'Blood of My Blood', '8.4'}, {'The Broken Man', '8.5'}, {'No One', '8.4'}, {'Battle of the Bastards', '9.9'}, {'The Winds of Winter', '9.9'}, {'8.6', 'Dragonstone'}, {'8.9', 'Stormborn'}, {'9.2', \"The Queen's Justice\"}, {'9.7', 'The Spoils of War'}, {'8.8', 'Eastwatch'}, {'Beyond the Wall', '9.1'}, {'9.4', 'The Dragon and the Wolf'}, {'7.6', 'Winterfell'}, {'A Knight of the Seven Kingdoms', '7.8'}, {'The Long Night', '7.5'}, {'5.5', 'The Last of the Starks'}, {'The Bells', '6.0'}, {'4.0', 'The Iron Throne'}]\n"
     ]
    }
   ],
   "source": [
    "url = 'http://www.imdb.com/title/tt0944947/episodes'\n",
    "\n",
    "details = {}\n",
    "episodes = []\n",
    "ratings = []\n",
    "\n",
    "# Go over seasons 1 to 8\n",
    "for season in range(1, 9):\n",
    "    r = requests.get(url,params={\"season\":season})\n",
    "    soup = BeautifulSoup(r.text, 'html.parser')\n",
    "    header = soup.find_all(\"div\", {\"class\":  \"info\"})\n",
    "    for info in header: \n",
    "        title = info.strong.a.text\n",
    "        ratings = info.find('span',{\"class\":\"ipl-rating-star__rating\"}).text\n",
    "        episodes.append({title, ratings  } )"
   ]
  },
  {
   "cell_type": "markdown",
   "metadata": {
    "slideshow": {
     "slide_type": "-"
    }
   },
   "source": [
    "<div class=\"alert alert-success\">\n",
    "\n",
    "**2-**\n",
    "- Représenter la meme liste d'épisodes précédente en affichant le title et le rating associé (rating des différentes épisodes des toutes les saisons)  \n",
    "</div>\n",
    "   "
   ]
  },
  {
   "cell_type": "markdown",
   "metadata": {},
   "source": [
    "<div class=\"alert alert-success\">\n",
    "\n",
    "**3-**\n",
    "- Représenter le récapitulatif du résultat précédent par un bar plot (rating des différentes épisodes des toutes les saisons)  \n",
    "</div>\n",
    "   "
   ]
  },
  {
   "cell_type": "code",
   "execution_count": 126,
   "metadata": {},
   "outputs": [
    {
     "name": "stdout",
     "output_type": "stream",
     "text": [
      "{'Winter Is Coming': 9.0, 'The Kingsroad': 8.7, 'Lord Snow': 8.6, 'Cripples, Bastards, and Broken Things': 8.7, 'The Wolf and the Lion': 9.0, 'A Golden Crown': 9.1, 'You Win or You Die': 9.2, 'The Pointy End': 9.0, 'Baelor': 9.6, 'Fire and Blood': 9.5, 'The North Remembers': 8.7, 'The Night Lands': 8.5, 'What Is Dead May Never Die': 8.8, 'Garden of Bones': 8.7, 'The Ghost of Harrenhal': 8.7, 'The Old Gods and the New': 9.0, 'A Man Without Honor': 8.9, 'The Prince of Winterfell': 8.7, 'Blackwater': 9.7, 'Valar Morghulis': 9.4, 'Valar Dohaeris': 8.7, 'Dark Wings, Dark Words': 8.5, 'Walk of Punishment': 8.8, 'And Now His Watch Is Ended': 9.5, 'Kissed by Fire': 9.0, 'The Climb': 8.8, 'The Bear and the Maiden Fair': 8.7, 'Second Sons': 9.0, 'The Rains of Castamere': 9.9, 'Mhysa': 9.1, 'Two Swords': 9.0, 'The Lion and the Rose': 9.7, 'Breaker of Chains': 8.8, 'Oathkeeper': 8.8, 'First of His Name': 8.7, 'The Laws of Gods and Men': 9.7, 'Mockingbird': 9.1, 'The Mountain and the Viper': 9.7, 'The Watchers on the Wall': 9.6, 'The Children': 9.7, 'The Wars to Come': 8.4, 'The House of Black and White': 8.5, 'High Sparrow': 8.5, 'Sons of the Harpy': 8.6, 'Kill the Boy': 8.6, 'Unbowed, Unbent, Unbroken': 8.0, 'The Gift': 8.9, 'Hardhome': 9.8, 'The Dance of Dragons': 9.4, \"Mother's Mercy\": 9.1, 'The Red Woman': 8.5, 'Home': 9.3, 'Oathbreaker': 8.7, 'Book of the Stranger': 9.1, 'The Door': 9.7, 'Blood of My Blood': 8.4, 'The Broken Man': 8.5, 'No One': 8.4, 'Battle of the Bastards': 9.9, 'The Winds of Winter': 9.9, 'Dragonstone': 8.6, 'Stormborn': 8.9, \"The Queen's Justice\": 9.2, 'The Spoils of War': 9.7, 'Eastwatch': 8.8, 'Beyond the Wall': 9.1, 'The Dragon and the Wolf': 9.4, 'Winterfell': 7.6, 'A Knight of the Seven Kingdoms': 7.8, 'The Long Night': 7.5, 'The Last of the Starks': 5.5, 'The Bells': 6.0, 'The Iron Throne': 4.0}\n"
     ]
    }
   ],
   "source": [
    "url = 'http://www.imdb.com/title/tt0944947/episodes'\n",
    "\n",
    "episodes = []\n",
    "ratings = []\n",
    "\n",
    "for season in range(1, 9):\n",
    "    r = requests.get(url,params={\"season\":season})\n",
    "    soup = BeautifulSoup(r.text, 'html.parser')\n",
    "    header = soup.find_all(\"div\", {\"class\":  \"info\"})\n",
    "    for info in header: \n",
    "        title = info.strong.a.text\n",
    "        rating = info.find('span',{\"class\":\"ipl-rating-star__rating\"}).text\n",
    "        ratings.append(float(rating))\n",
    "        episodes.append(title)\n",
    "    kek = dict(zip(episodes, ratings))\n",
    "print(kek)\n",
    "# print(\"###################################################################################\")"
   ]
  },
  {
   "cell_type": "code",
   "execution_count": 99,
   "metadata": {},
   "outputs": [
    {
     "data": {
      "text/plain": [
       "<BarContainer object of 73 artists>"
      ]
     },
     "execution_count": 99,
     "metadata": {},
     "output_type": "execute_result"
    },
    {
     "data": {
      "image/png": "[encoded data removed]",
      "text/plain": [
       "<Figure size 2160x720 with 1 Axes>"
      ]
     },
     "metadata": {
      "needs_background": "light"
     },
     "output_type": "display_data"
    }
   ],
   "source": [
    "import matplotlib.pyplot as plt\n",
    "#print(episodes, ratings)\n",
    "plt.rcParams[\"figure.figsize\"] = (30, 10)\n",
    "plt.title(\"GOT Ratings\")\n",
    "plt.xlabel('Episode number')\n",
    "plt.ylabel('Rating')\n",
    "\n",
    "plt.bar(range(0,len(episodes)), ratings)"
   ]
  },
  {
   "cell_type": "code",
   "execution_count": 2,
   "metadata": {},
   "outputs": [],
   "source": [
    "\n",
    "# from selenium import webdriver\n",
    "# from webdriver_manager.chrome import ChromeDriverManager\n",
    "# element_list = []\n",
    "# url = 'http://www.imdb.com/title/tt0944947/episodes'\n",
    "# driver = webdriver.Chrome(ChromeDriverManager().install())\n",
    "# driver.get(url)\n",
    "# title = driver.find_elements_by_class_name(\"info\")\n",
    "# for i in title: \n",
    "#     print(i.find_element_by_class_name(\"name\"))\n",
    "#     print(i.find_element_by_class_name(\"ipl-rating-star__rating\").text)"
   ]
  }
 ],
 "metadata": {
  "anaconda-cloud": {},
  "kernelspec": {
   "display_name": "Python 3",
   "language": "python",
   "name": "python3"
  },
  "language_info": {
   "codemirror_mode": {
    "name": "ipython",
    "version": 3
   },
   "file_extension": ".py",
   "mimetype": "text/x-python",
   "name": "python",
   "nbconvert_exporter": "python",
   "pygments_lexer": "ipython3",
   "version": "3.8.10"
  },
  "toc": {
   "base_numbering": 1,
   "nav_menu": {},
   "number_sections": true,
   "sideBar": true,
   "skip_h1_title": false,
   "title_cell": "Table of Contents",
   "title_sidebar": "Contents",
   "toc_cell": false,
   "toc_position": {},
   "toc_section_display": true,
   "toc_window_display": false
  }
 },
 "nbformat": 4,
 "nbformat_minor": 2
}
