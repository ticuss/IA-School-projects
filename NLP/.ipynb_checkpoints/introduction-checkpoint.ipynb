{
 "cells": [
  {
   "cell_type": "markdown",
   "metadata": {},
   "source": [
    "# S1 Introduction Traitement Automatique du Langage Naturel "
   ]
  },
  {
   "cell_type": "markdown",
   "metadata": {},
   "source": [
    "### A quoi sert le Traitement Automatique du Langage Naturel (TAL) ?"
   ]
  },
  {
   "cell_type": "markdown",
   "metadata": {},
   "source": [
    "I. A quoi sert le Traitement Automatique du Langage Naturel (TAL) ?\n",
    "Le traitement automatique du Langage Naturel est un des domaines de recherche les plus actifs en science des données actuellement. C’est un domaine à l’intersection du Machine Learning et de la linguistique. Il a pour but d’extraire des informations et une signification d’un contenu textuel.\n",
    "\n",
    "Le Traitement Automatique du Langage naturel (TAL) ou Natural Language Processing (NLP) en anglais trouve de nombreuses applications dans la vie de tous les jours:\n",
    "\n",
    "traduction de texte (DeepL par exemple)\n",
    "correcteur orthographique\n",
    "résumé automatique d’un contenu\n",
    "synthèse vocale\n",
    "classification de texte\n",
    "analyse d’opinion/sentiment\n",
    "prédiction du prochain mot sur smartphone\n",
    "extraction des entités nommées depuis un texte\n",
    "…\n",
    "La plupart des ressources disponibles actuellement sont en anglais, ce qui implique que la plupart des modèles pré-entraînés sont également spécifiques à la langue anglaise. Cependant, il existe des librairies et des outils en français pour accomplir les tâches mentionnées ci-dessus. Nous allons les voir dans cet article."
   ]
  },
  {
   "cell_type": "markdown",
   "metadata": {},
   "source": [
    "### Les grands principes"
   ]
  },
  {
   "cell_type": "markdown",
   "metadata": {},
   "source": [
    "II. Les grands principes\n",
    "Le TAL (traitement automatique du langage) est généralement composé de deux à trois grandes étapes:\n",
    "\n",
    "Pré-traitement : une étape qui cherche à standardiser du texte afin de rendre son usage plus facile\n",
    "Représentation du texte comme un vecteur : Cette étape peut être effectuée via des techniques de sac de mots (Bag of Words) ou Term Frequency-Inverse Document Frequency (Tf-IdF). On peut également apprendre des représentations vectorielles (embedding) par apprentissage profond.\n",
    "Classification, trouver la phrase la plus similaire… (optionnel).\n",
    "Dans cet article, nous allons couvrir les tâches de TAL les plus communes pour lesquelles des outils spécifiques au français existent.\n",
    "\n",
    "Nous utiliserons principalement SpaCy. SpaCy est une jeune librairie (2015) qui offre des modèles pré-entraînés pour diverses applications, y compris la reconnaissance d’entités nommées. SpaCy est la principale alternative à NLTK (Natural Language Tool Kit), la librairie historique pour le TAL avec Python, et propose de nombreuses innovations et options de visualisation qui sont très intéressantes.\n",
    "\n",
    "Après avoir installé la librairie SpaCy (pip install spacy), il faut télécharger les modèles français."
   ]
  },
  {
   "cell_type": "markdown",
   "metadata": {},
   "source": [
    "Ce modèle est un réseau convolutionnel entraîne sur deux corpus, WikiNER et Sequoia, ce qui représente de gros volumes de données en français (typiquement plusieurs dizaines de Go).\n",
    "\n",
    "Dans un notebook Jupyter, on peut alors importer SpaCy et charger le modèle français."
   ]
  },
  {
   "cell_type": "code",
   "execution_count": 4,
   "metadata": {
    "ExecuteTime": {
     "end_time": "2023-04-03T08:34:01.359784Z",
     "start_time": "2023-04-03T08:34:01.332031Z"
    }
   },
   "outputs": [],
   "source": [
    "#piop install spacy"
   ]
  },
  {
   "cell_type": "code",
   "execution_count": 2,
   "metadata": {
    "ExecuteTime": {
     "end_time": "2023-04-03T08:34:11.780881Z",
     "start_time": "2023-04-03T08:34:01.359784Z"
    }
   },
   "outputs": [
    {
     "name": "stdout",
     "output_type": "stream",
     "text": [
      "Collecting fr-core-news-sm==3.5.0\n",
      "  Downloading https://github.com/explosion/spacy-models/releases/download/fr_core_news_sm-3.5.0/fr_core_news_sm-3.5.0-py3-none-any.whl (16.3 MB)\n",
      "\u001b[2K     \u001b[38;2;114;156;31m━━━━━━━━━━━━━━━━━━━━━━━━━━━━━━━━━━━━━━━━\u001b[0m \u001b[32m16.3/16.3 MB\u001b[0m \u001b[31m2.8 MB/s\u001b[0m eta \u001b[36m0:00:00\u001b[0mm eta \u001b[36m0:00:01\u001b[0m0:01\u001b[0m:01\u001b[0mm\n",
      "\u001b[?25hRequirement already satisfied: spacy<3.6.0,>=3.5.0 in /Users/constantinbogdanas/.pyenv/versions/3.11.0rc2/lib/python3.11/site-packages (from fr-core-news-sm==3.5.0) (3.5.1)\n",
      "Requirement already satisfied: spacy-legacy<3.1.0,>=3.0.11 in /Users/constantinbogdanas/.pyenv/versions/3.11.0rc2/lib/python3.11/site-packages (from spacy<3.6.0,>=3.5.0->fr-core-news-sm==3.5.0) (3.0.12)\n",
      "Requirement already satisfied: spacy-loggers<2.0.0,>=1.0.0 in /Users/constantinbogdanas/.pyenv/versions/3.11.0rc2/lib/python3.11/site-packages (from spacy<3.6.0,>=3.5.0->fr-core-news-sm==3.5.0) (1.0.4)\n",
      "Requirement already satisfied: murmurhash<1.1.0,>=0.28.0 in /Users/constantinbogdanas/.pyenv/versions/3.11.0rc2/lib/python3.11/site-packages (from spacy<3.6.0,>=3.5.0->fr-core-news-sm==3.5.0) (1.0.9)\n",
      "Requirement already satisfied: cymem<2.1.0,>=2.0.2 in /Users/constantinbogdanas/.pyenv/versions/3.11.0rc2/lib/python3.11/site-packages (from spacy<3.6.0,>=3.5.0->fr-core-news-sm==3.5.0) (2.0.7)\n",
      "Requirement already satisfied: preshed<3.1.0,>=3.0.2 in /Users/constantinbogdanas/.pyenv/versions/3.11.0rc2/lib/python3.11/site-packages (from spacy<3.6.0,>=3.5.0->fr-core-news-sm==3.5.0) (3.0.8)\n",
      "Requirement already satisfied: thinc<8.2.0,>=8.1.8 in /Users/constantinbogdanas/.pyenv/versions/3.11.0rc2/lib/python3.11/site-packages (from spacy<3.6.0,>=3.5.0->fr-core-news-sm==3.5.0) (8.1.9)\n",
      "Requirement already satisfied: wasabi<1.2.0,>=0.9.1 in /Users/constantinbogdanas/.pyenv/versions/3.11.0rc2/lib/python3.11/site-packages (from spacy<3.6.0,>=3.5.0->fr-core-news-sm==3.5.0) (1.1.1)\n",
      "Requirement already satisfied: srsly<3.0.0,>=2.4.3 in /Users/constantinbogdanas/.pyenv/versions/3.11.0rc2/lib/python3.11/site-packages (from spacy<3.6.0,>=3.5.0->fr-core-news-sm==3.5.0) (2.4.6)\n",
      "Requirement already satisfied: catalogue<2.1.0,>=2.0.6 in /Users/constantinbogdanas/.pyenv/versions/3.11.0rc2/lib/python3.11/site-packages (from spacy<3.6.0,>=3.5.0->fr-core-news-sm==3.5.0) (2.0.8)\n",
      "Requirement already satisfied: typer<0.8.0,>=0.3.0 in /Users/constantinbogdanas/.pyenv/versions/3.11.0rc2/lib/python3.11/site-packages (from spacy<3.6.0,>=3.5.0->fr-core-news-sm==3.5.0) (0.7.0)\n",
      "Requirement already satisfied: pathy>=0.10.0 in /Users/constantinbogdanas/.pyenv/versions/3.11.0rc2/lib/python3.11/site-packages (from spacy<3.6.0,>=3.5.0->fr-core-news-sm==3.5.0) (0.10.1)\n",
      "Requirement already satisfied: smart-open<7.0.0,>=5.2.1 in /Users/constantinbogdanas/.pyenv/versions/3.11.0rc2/lib/python3.11/site-packages (from spacy<3.6.0,>=3.5.0->fr-core-news-sm==3.5.0) (6.3.0)\n",
      "Requirement already satisfied: tqdm<5.0.0,>=4.38.0 in /Users/constantinbogdanas/.pyenv/versions/3.11.0rc2/lib/python3.11/site-packages (from spacy<3.6.0,>=3.5.0->fr-core-news-sm==3.5.0) (4.65.0)\n",
      "Requirement already satisfied: numpy>=1.15.0 in /Users/constantinbogdanas/.pyenv/versions/3.11.0rc2/lib/python3.11/site-packages (from spacy<3.6.0,>=3.5.0->fr-core-news-sm==3.5.0) (1.23.4)\n",
      "Requirement already satisfied: requests<3.0.0,>=2.13.0 in /Users/constantinbogdanas/.pyenv/versions/3.11.0rc2/lib/python3.11/site-packages (from spacy<3.6.0,>=3.5.0->fr-core-news-sm==3.5.0) (2.28.2)\n",
      "Requirement already satisfied: pydantic!=1.8,!=1.8.1,<1.11.0,>=1.7.4 in /Users/constantinbogdanas/.pyenv/versions/3.11.0rc2/lib/python3.11/site-packages (from spacy<3.6.0,>=3.5.0->fr-core-news-sm==3.5.0) (1.10.7)\n",
      "Requirement already satisfied: jinja2 in /Users/constantinbogdanas/.pyenv/versions/3.11.0rc2/lib/python3.11/site-packages (from spacy<3.6.0,>=3.5.0->fr-core-news-sm==3.5.0) (3.1.2)\n",
      "Requirement already satisfied: setuptools in /Users/constantinbogdanas/.pyenv/versions/3.11.0rc2/lib/python3.11/site-packages (from spacy<3.6.0,>=3.5.0->fr-core-news-sm==3.5.0) (63.2.0)\n",
      "Requirement already satisfied: packaging>=20.0 in /Users/constantinbogdanas/.pyenv/versions/3.11.0rc2/lib/python3.11/site-packages (from spacy<3.6.0,>=3.5.0->fr-core-news-sm==3.5.0) (22.0)\n",
      "Requirement already satisfied: langcodes<4.0.0,>=3.2.0 in /Users/constantinbogdanas/.pyenv/versions/3.11.0rc2/lib/python3.11/site-packages (from spacy<3.6.0,>=3.5.0->fr-core-news-sm==3.5.0) (3.3.0)\n",
      "Requirement already satisfied: typing-extensions>=4.2.0 in /Users/constantinbogdanas/.pyenv/versions/3.11.0rc2/lib/python3.11/site-packages (from pydantic!=1.8,!=1.8.1,<1.11.0,>=1.7.4->spacy<3.6.0,>=3.5.0->fr-core-news-sm==3.5.0) (4.5.0)\n",
      "Requirement already satisfied: charset-normalizer<4,>=2 in /Users/constantinbogdanas/.pyenv/versions/3.11.0rc2/lib/python3.11/site-packages (from requests<3.0.0,>=2.13.0->spacy<3.6.0,>=3.5.0->fr-core-news-sm==3.5.0) (3.0.1)\n",
      "Requirement already satisfied: idna<4,>=2.5 in /Users/constantinbogdanas/.pyenv/versions/3.11.0rc2/lib/python3.11/site-packages (from requests<3.0.0,>=2.13.0->spacy<3.6.0,>=3.5.0->fr-core-news-sm==3.5.0) (3.4)\n",
      "Requirement already satisfied: urllib3<1.27,>=1.21.1 in /Users/constantinbogdanas/.pyenv/versions/3.11.0rc2/lib/python3.11/site-packages (from requests<3.0.0,>=2.13.0->spacy<3.6.0,>=3.5.0->fr-core-news-sm==3.5.0) (1.26.13)\n",
      "Requirement already satisfied: certifi>=2017.4.17 in /Users/constantinbogdanas/.pyenv/versions/3.11.0rc2/lib/python3.11/site-packages (from requests<3.0.0,>=2.13.0->spacy<3.6.0,>=3.5.0->fr-core-news-sm==3.5.0) (2022.12.7)\n",
      "Requirement already satisfied: blis<0.8.0,>=0.7.8 in /Users/constantinbogdanas/.pyenv/versions/3.11.0rc2/lib/python3.11/site-packages (from thinc<8.2.0,>=8.1.8->spacy<3.6.0,>=3.5.0->fr-core-news-sm==3.5.0) (0.7.9)\n",
      "Requirement already satisfied: confection<1.0.0,>=0.0.1 in /Users/constantinbogdanas/.pyenv/versions/3.11.0rc2/lib/python3.11/site-packages (from thinc<8.2.0,>=8.1.8->spacy<3.6.0,>=3.5.0->fr-core-news-sm==3.5.0) (0.0.4)\n",
      "Requirement already satisfied: click<9.0.0,>=7.1.1 in /Users/constantinbogdanas/.pyenv/versions/3.11.0rc2/lib/python3.11/site-packages (from typer<0.8.0,>=0.3.0->spacy<3.6.0,>=3.5.0->fr-core-news-sm==3.5.0) (8.1.3)\n",
      "Requirement already satisfied: MarkupSafe>=2.0 in /Users/constantinbogdanas/.pyenv/versions/3.11.0rc2/lib/python3.11/site-packages (from jinja2->spacy<3.6.0,>=3.5.0->fr-core-news-sm==3.5.0) (2.1.2)\n",
      "Installing collected packages: fr-core-news-sm\n",
      "Successfully installed fr-core-news-sm-3.5.0\n",
      "\u001b[38;5;2m✔ Download and installation successful\u001b[0m\n",
      "You can now load the package via spacy.load('fr_core_news_sm')\n"
     ]
    }
   ],
   "source": [
    "import spacy\n",
    "spacy.cli.download('fr_core_news_sm')"
   ]
  },
  {
   "cell_type": "code",
   "execution_count": 3,
   "metadata": {
    "ExecuteTime": {
     "end_time": "2023-04-03T08:34:13.371736Z",
     "start_time": "2023-04-03T08:34:11.780881Z"
    }
   },
   "outputs": [],
   "source": [
    "import spacy\n",
    "from spacy import displacy\n",
    "\n",
    "nlp = spacy.load(\"fr_core_news_sm\")"
   ]
  },
  {
   "cell_type": "code",
   "execution_count": 4,
   "metadata": {
    "ExecuteTime": {
     "end_time": "2023-04-03T08:34:13.387738Z",
     "start_time": "2023-04-03T08:34:13.371736Z"
    }
   },
   "outputs": [],
   "source": [
    "test = \"Bouygues a eu une coupure de réseau à Marseille.\""
   ]
  },
  {
   "cell_type": "markdown",
   "metadata": {},
   "source": [
    "### Tokenisation"
   ]
  },
  {
   "cell_type": "markdown",
   "metadata": {},
   "source": [
    "La tokenisation cherche à transformer un texte en une série de tokens individuels. Dans l’idée, chaque token représente un mot, et identifier des mots semble être une tâche relativement simple. Mais comment gérer en français des exemples tels que: « J’ai froid ». Il faut que le modèle de tokenisation sépare le « J' » comme étant un premier mot.\n",
    "\n",
    "SpaCy offre une fonctionnalité de tokenisation en utilisant la fonction nlp. Cette fonction est le point d’entrée vers toutes les fonctionnalités de SpaCy. Il sert à représenter le texte sous une forme interprétable par la librairie."
   ]
  },
  {
   "cell_type": "code",
   "execution_count": 5,
   "metadata": {
    "ExecuteTime": {
     "end_time": "2023-04-03T08:35:43.426790Z",
     "start_time": "2023-04-03T08:35:43.410446Z"
    }
   },
   "outputs": [],
   "source": [
    "def return_token(sentence):\n",
    "    doc = nlp(sentence)\n",
    "    return [X.text for X in doc]"
   ]
  },
  {
   "cell_type": "code",
   "execution_count": 6,
   "metadata": {
    "ExecuteTime": {
     "end_time": "2023-04-03T08:36:00.146847Z",
     "start_time": "2023-04-03T08:36:00.122840Z"
    },
    "scrolled": true
   },
   "outputs": [
    {
     "name": "stdout",
     "output_type": "stream",
     "text": [
      "Bouygues a eu une coupure de réseau à Marseille.\n",
      "['Bouygues', 'a', 'eu', 'une', 'coupure', 'de', 'réseau', 'à', 'Marseille', '.']\n"
     ]
    }
   ],
   "source": [
    "print(test)\n",
    "print(return_token(test))"
   ]
  },
  {
   "cell_type": "markdown",
   "metadata": {},
   "source": [
    "### Enlever les mots les plus fréquents"
   ]
  },
  {
   "cell_type": "markdown",
   "metadata": {},
   "source": [
    "Certains mots se retrouvent très fréquemment dans la langue française. En anglais, on les appelle les « stop words ». Ces mots, bien souvent, n’apportent pas d’information dans les tâches suivantes. Lorsque l’on effectue par exemple une classification par la méthode Tf-IdF, on souhaite limiter la quantité de mots dans les données d’entraînement.\n",
    "\n",
    "Les « stop words » sont établis comme des listes de mots. Ces listes sont généralement disponibles dans une librairie appelée NLTK (Natural Language Tool Kit), et dans beaucoup de langues différentes. On accède aux listes en français de cette manière:"
   ]
  },
  {
   "cell_type": "markdown",
   "metadata": {},
   "source": [
    "Pour filtrer le contenu de la phrase, on enlève tous les mots présents dans cette liste:"
   ]
  },
  {
   "cell_type": "code",
   "execution_count": 22,
   "metadata": {},
   "outputs": [
    {
     "name": "stdout",
     "output_type": "stream",
     "text": [
      "Python 3.11.0rc2\r\n"
     ]
    }
   ],
   "source": [
    "!python --version \n"
   ]
  },
  {
   "cell_type": "code",
   "execution_count": 23,
   "metadata": {
    "ExecuteTime": {
     "end_time": "2023-04-03T08:39:59.750300Z",
     "start_time": "2023-04-03T08:39:59.717774Z"
    }
   },
   "outputs": [
    {
     "data": {
      "text/plain": [
       "<WordListCorpusReader in '/Users/constantinbogdanas/nltk_data/corpora/stopwords'>"
      ]
     },
     "execution_count": 23,
     "metadata": {},
     "output_type": "execute_result"
    }
   ],
   "source": [
    "from nltk.corpus import stopwords\n",
    "#import nltk\n",
    "#nltk.download('stopwords')\n",
    "\n",
    "stopWords = set(stopwords.words('french'))\n",
    "stopwords"
   ]
  },
  {
   "cell_type": "code",
   "execution_count": 24,
   "metadata": {
    "ExecuteTime": {
     "end_time": "2023-04-03T08:40:09.080563Z",
     "start_time": "2023-04-03T08:40:09.039793Z"
    }
   },
   "outputs": [],
   "source": [
    "from nltk.corpus import stopwords\n",
    "stopWords = set(stopwords.words('french'))\n",
    "\n",
    "clean_words = []\n",
    "for token in return_token(test):\n",
    "    if token not in stopWords:\n",
    "        clean_words.append(token)"
   ]
  },
  {
   "cell_type": "code",
   "execution_count": 25,
   "metadata": {
    "ExecuteTime": {
     "end_time": "2023-04-03T08:40:16.911996Z",
     "start_time": "2023-04-03T08:40:16.904043Z"
    }
   },
   "outputs": [
    {
     "name": "stdout",
     "output_type": "stream",
     "text": [
      "{'en', 'que', 'serions', 'moi', 'fussiez', 'eussent', 'même', 'mais', 'as', 'aient', 'les', 'fus', 'eûmes', 'ai', 'la', 'ayons', 'on', 'seras', 'avait', 'auriez', 'lui', 'sur', 'aux', 'sera', 'dans', 'avions', 'ou', 'soyons', 'eus', 'aviez', 'qui', 'eusses', 'sois', 'notre', 'aura', 'n', 'ton', 'avec', 'étais', 'ayante', 'eux', 'ma', 'nous', 'étante', 'soient', 'te', 'par', 'à', 'mes', 'me', 'fûtes', 'ne', 'de', 'était', 'étée', 'aurai', 'eusse', 'soyez', 'fût', 'ayant', 'sommes', 'serez', 'tes', 'aurons', 'serons', 's', 'serait', 'avons', 'avez', 'le', 'nos', 'm', 'fusses', 'est', 'ayantes', 'auraient', 'aurez', 'ta', 'étés', 'eue', 'et', 't', 'ont', 'y', 'se', 'aies', 'eues', 'ils', 'votre', 'aie', 'ait', 'j', 'tu', 'étants', 'avaient', 'eussiez', 'leur', 'ses', 'étantes', 'auras', 'suis', 'étées', 'soit', 'du', 'il', 'toi', 'mon', 'c', 'étant', 'un', 'd', 'sont', 'vos', 'fussent', 'étions', 'ces', 'qu', 'avais', 'eussions', 'eurent', 'pas', 'été', 'eu', 'seront', 'seraient', 'pour', 'l', 'serais', 'sa', 'seriez', 'auront', 'fusse', 'eûtes', 'des', 'elle', 'aurions', 'eut', 'furent', 'aurait', 'fussions', 'étaient', 'ayants', 'vous', 'êtes', 'son', 'aurais', 'ce', 'fut', 'serai', 'au', 'eût', 'une', 'es', 'étiez', 'fûmes', 'je', 'ayez'}\n"
     ]
    }
   ],
   "source": [
    "print(stopWords)"
   ]
  },
  {
   "cell_type": "code",
   "execution_count": 10,
   "metadata": {
    "ExecuteTime": {
     "end_time": "2023-04-02T22:15:07.134574Z",
     "start_time": "2023-04-02T22:15:07.110513Z"
    }
   },
   "outputs": [
    {
     "data": {
      "text/plain": [
       "['Bouygues', 'a', 'coupure', 'réseau', 'Marseille', '.']"
      ]
     },
     "execution_count": 10,
     "metadata": {},
     "output_type": "execute_result"
    }
   ],
   "source": [
    "clean_words"
   ]
  },
  {
   "cell_type": "markdown",
   "metadata": {},
   "source": [
    "### Tokenisation de phrases"
   ]
  },
  {
   "cell_type": "markdown",
   "metadata": {},
   "source": [
    "On peut également appliquer une tokenisation par phrase afin d’identifier les différentes phrases d’un texte. Cette étape peut à nouveau sembler facile, puisque a priori, il suffit de couper chaque phrase lorsqu’un point est rencontré (ou un point d’exclamation ou d’interrogation).\n",
    "\n",
    "Mais que se passerait-t-il dans ce cas-là?\n",
    "\n",
    "Bouygues a eu une coupure de réseau à Marseille. La panne a affecté 300.000 utilisateurs.\n",
    "\n",
    "Il faut donc une compréhension du contexte afin d’effectuer une bonne tokenisation par phrase."
   ]
  },
  {
   "cell_type": "code",
   "execution_count": 27,
   "metadata": {
    "ExecuteTime": {
     "end_time": "2023-04-02T22:15:09.746152Z",
     "start_time": "2023-04-02T22:15:09.722270Z"
    }
   },
   "outputs": [],
   "source": [
    "def return_token_sent(sentence):\n",
    "    doc = nlp(sentence)\n",
    "    return [X.text for X in doc.sents]"
   ]
  },
  {
   "cell_type": "code",
   "execution_count": 28,
   "metadata": {
    "ExecuteTime": {
     "end_time": "2023-04-02T22:15:10.826575Z",
     "start_time": "2023-04-02T22:15:10.789474Z"
    }
   },
   "outputs": [
    {
     "data": {
      "text/plain": [
       "['Bouygues a eu une coupure de réseau à Marseille.',\n",
       " 'La panne a affecté 300.000 utilisateurs.']"
      ]
     },
     "execution_count": 28,
     "metadata": {},
     "output_type": "execute_result"
    }
   ],
   "source": [
    "return_token_sent(\"Bouygues a eu une coupure de réseau à Marseille. La panne a affecté 300.000 utilisateurs.\")"
   ]
  },
  {
   "cell_type": "markdown",
   "metadata": {},
   "source": [
    "### Lemmatisation et Stemming"
   ]
  },
  {
   "cell_type": "markdown",
   "metadata": {},
   "source": [
    "Le stemming et la lemmatisation sont des méthodes utilisées par les moteurs de recherche et les chatbots pour analyser le sens d'un mot. La radicalisation utilise la racine du mot, tandis que la lemmatisation utilise le contexte dans lequel le mot est utilisé. Nous reviendrons plus tard sur des explications et des exemples plus détaillés"
   ]
  },
  {
   "cell_type": "markdown",
   "metadata": {},
   "source": [
    "Le stemming consiste à réduire un mot dans sa forme « racine ». Le but du stemming est de regrouper de nombreuses variantes d’un mot comme un seul et même mot. Par exemple, une fois que l’on applique un stemming sur « Chiens » ou « Chien », le mot résultant est le même. Cela permet notamment de réduire la taille du vocabulaire dans les approches de type sac de mots ou Tf-IdF.\n",
    "\n",
    "Un des stemmers les plus connus est le Snowball Stemmer. Ce stemmer est disponible en français."
   ]
  },
  {
   "cell_type": "code",
   "execution_count": 31,
   "metadata": {
    "ExecuteTime": {
     "end_time": "2023-04-02T22:49:58.954404Z",
     "start_time": "2023-04-02T22:49:58.937968Z"
    }
   },
   "outputs": [
    {
     "name": "stderr",
     "output_type": "stream",
     "text": [
      "[nltk_data] Downloading package wordnet to\n",
      "[nltk_data]     /Users/constantinbogdanas/nltk_data...\n"
     ]
    },
    {
     "name": "stdout",
     "output_type": "stream",
     "text": [
      "--Word--            --Lemma--           --Stem--            \n",
      "program             program             program             \n",
      "programming         program             program             \n",
      "programer           programer           program             \n",
      "programs            program             program             \n",
      "programmed          program             program             \n"
     ]
    }
   ],
   "source": [
    "# Initialize wordnet lemmatizer\n",
    "#nltk.download('wordnet')\n",
    "wnl = nltk.WordNetLemmatizer()\n",
    "# Initialize Python porter stemmer\n",
    "ps = nltk.PorterStemmer()\n",
    "# Example inflections to reduce\n",
    "example_words = [\"program\",\"programming\",\"programer\",\"programs\",\"programmed\"]\n",
    "\n",
    "# Perform lemmatization\n",
    "print(\"{0:20}{1:20}{2:20}\".format(\"--Word--\",\"--Lemma--\",\"--Stem--\"))\n",
    "for word in example_words:\n",
    "   print (\"{0:20}{1:20}{2:20}\".format(word, wnl.lemmatize(word, pos=\"v\"),ps.stem(word)))"
   ]
  },
  {
   "cell_type": "code",
   "execution_count": 29,
   "metadata": {
    "ExecuteTime": {
     "end_time": "2023-04-02T22:31:34.576222Z",
     "start_time": "2023-04-02T22:31:34.513508Z"
    }
   },
   "outputs": [
    {
     "data": {
      "text/plain": [
       "['bouygu', 'a', 'eu', 'une', 'coupur', 'de', 'réseau', 'à', 'marseil', '.']"
      ]
     },
     "execution_count": 29,
     "metadata": {},
     "output_type": "execute_result"
    }
   ],
   "source": [
    "from nltk.stem.snowball import SnowballStemmer\n",
    "stemmer = SnowballStemmer(language='french')\n",
    "def return_stem(sentence):\n",
    "    doc = nlp(sentence)\n",
    "    return [stemmer.stem(X.text) for X in doc]\n",
    "\n",
    "return_stem(test)"
   ]
  },
  {
   "cell_type": "code",
   "execution_count": 49,
   "metadata": {
    "ExecuteTime": {
     "end_time": "2023-04-02T22:51:29.183939Z",
     "start_time": "2023-04-02T22:51:29.143629Z"
    },
    "scrolled": true
   },
   "outputs": [
    {
     "name": "stdout",
     "output_type": "stream",
     "text": [
      "['Bouygues', 'a', 'eu', 'une', 'coupure', 'de', 'réseau', 'à', 'Marseille', '.']\n"
     ]
    }
   ],
   "source": [
    "import nltk\n",
    "def return_lemm(sentence):\n",
    "    doc = nlp(sentence)\n",
    "    return [nltk.WordNetLemmatizer().lemmatize(X.text) for X in doc]\n",
    "\n",
    "print(return_lemm(test))"
   ]
  },
  {
   "cell_type": "markdown",
   "metadata": {},
   "source": [
    "### Reconnaissance d'entités nommées (NER)"
   ]
  },
  {
   "cell_type": "markdown",
   "metadata": {},
   "source": [
    "En traitement automatique du langage, la reconnaissance d’entités nommées cherche à détecter les entités telles que des personnes, des entreprises ou des lieux dans un texte. Cela s’effectue très facilement avec SpaCy."
   ]
  },
  {
   "cell_type": "code",
   "execution_count": 14,
   "metadata": {
    "ExecuteTime": {
     "end_time": "2023-04-02T22:15:21.382024Z",
     "start_time": "2023-04-02T22:15:21.374027Z"
    }
   },
   "outputs": [],
   "source": [
    "def return_NER(sentence):\n",
    "    doc = nlp(sentence)\n",
    "    return [(X.text, X.label_) for X in doc.ents]"
   ]
  },
  {
   "cell_type": "code",
   "execution_count": 15,
   "metadata": {
    "ExecuteTime": {
     "end_time": "2023-04-02T22:15:25.065616Z",
     "start_time": "2023-04-02T22:15:25.035039Z"
    }
   },
   "outputs": [
    {
     "data": {
      "text/plain": [
       "[('Bouygues', 'ORG'), ('Marseille', 'LOC')]"
      ]
     },
     "execution_count": 15,
     "metadata": {},
     "output_type": "execute_result"
    }
   ],
   "source": [
    "return_NER(test)"
   ]
  },
  {
   "cell_type": "markdown",
   "metadata": {},
   "source": [
    "### reconnaissances d’entités"
   ]
  },
  {
   "cell_type": "markdown",
   "metadata": {},
   "source": [
    "Spacy offre des « Visualizers », des outils graphiques qui permettent d’afficher les résultats de reconnaissances d’entités nommées ou d’étiquetage par exemple."
   ]
  },
  {
   "cell_type": "code",
   "execution_count": 16,
   "metadata": {
    "ExecuteTime": {
     "end_time": "2023-04-02T22:23:47.529184Z",
     "start_time": "2023-04-02T22:15:29.082532Z"
    }
   },
   "outputs": [
    {
     "name": "stderr",
     "output_type": "stream",
     "text": [
      "C:\\Users\\sambe\\anaconda3\\lib\\site-packages\\spacy\\displacy\\__init__.py:108: UserWarning: [W011] It looks like you're calling displacy.serve from within a Jupyter notebook or a similar environment. This likely means you're already running a local web server, so there's no need to make displaCy start another one. Instead, you should be able to replace displacy.serve with displacy.render to show the visualization.\n",
      "  warnings.warn(Warnings.W011)\n"
     ]
    },
    {
     "data": {
      "text/html": [
       "<span class=\"tex2jax_ignore\"><!DOCTYPE html>\n",
       "<html lang=\"fr\">\n",
       "    <head>\n",
       "        <title>displaCy</title>\n",
       "    </head>\n",
       "\n",
       "    <body style=\"font-size: 16px; font-family: -apple-system, BlinkMacSystemFont, 'Segoe UI', Helvetica, Arial, sans-serif, 'Apple Color Emoji', 'Segoe UI Emoji', 'Segoe UI Symbol'; padding: 4rem 2rem; direction: ltr\">\n",
       "<figure style=\"margin-bottom: 6rem\">\n",
       "<div class=\"entities\" style=\"line-height: 2.5; direction: ltr\">\n",
       "<mark class=\"entity\" style=\"background: linear-gradient(90deg, #aa9cfc, #fc9ce7); padding: 0.45em 0.6em; margin: 0 0.25em; line-height: 1; border-radius: 0.35em;\">\n",
       "    Bouygues\n",
       "    <span style=\"font-size: 0.8em; font-weight: bold; line-height: 1; border-radius: 0.35em; vertical-align: middle; margin-left: 0.5rem\">ORG</span>\n",
       "</mark>\n",
       " a eu une coupure de réseau à Marseille.</div>\n",
       "</figure>\n",
       "</body>\n",
       "</html></span>"
      ],
      "text/plain": [
       "<IPython.core.display.HTML object>"
      ]
     },
     "metadata": {},
     "output_type": "display_data"
    },
    {
     "name": "stdout",
     "output_type": "stream",
     "text": [
      "\n",
      "Using the 'ent' visualizer\n",
      "Serving on http://0.0.0.0:5000 ...\n",
      "\n",
      "Shutting down server on port 5000.\n"
     ]
    }
   ],
   "source": [
    "doc = nlp(test)\n",
    "colors = {\"ORG\": \"linear-gradient(90deg, #aa9cfc, #fc9ce7)\"}\n",
    "options = {\"ents\": [\"ORG\"], \"colors\": colors}\n",
    "\n",
    "displacy.serve(doc, style=\"ent\", options=options)"
   ]
  },
  {
   "cell_type": "markdown",
   "metadata": {},
   "source": [
    "### L’étiquetage morpho-syntaxique ou Part-of-Speech Tagging (POS)"
   ]
  },
  {
   "cell_type": "markdown",
   "metadata": {},
   "source": [
    "L’étiquetage morpho-syntaxique ou Part-of-Speech (POS) Tagging en anglais essaye d’attribuer une étiquette à chaque mot d’une phrase mentionnant la fonctionnalité grammaticale d’un mot (Nom propre, adjectif, déterminant…)."
   ]
  },
  {
   "cell_type": "code",
   "execution_count": 17,
   "metadata": {
    "ExecuteTime": {
     "end_time": "2023-04-02T22:23:47.544806Z",
     "start_time": "2023-04-02T22:23:47.529184Z"
    }
   },
   "outputs": [],
   "source": [
    "def return_POS(sentence):\n",
    "    doc = nlp(sentence)\n",
    "    return [(X, X.pos_) for X in doc]"
   ]
  },
  {
   "cell_type": "code",
   "execution_count": 18,
   "metadata": {
    "ExecuteTime": {
     "end_time": "2023-04-02T22:23:47.589195Z",
     "start_time": "2023-04-02T22:23:47.544806Z"
    },
    "scrolled": true
   },
   "outputs": [
    {
     "data": {
      "text/plain": [
       "[(Bouygues, 'PROPN'),\n",
       " (a, 'AUX'),\n",
       " (eu, 'VERB'),\n",
       " (une, 'DET'),\n",
       " (coupure, 'NOUN'),\n",
       " (de, 'ADP'),\n",
       " (réseau, 'NOUN'),\n",
       " (à, 'ADP'),\n",
       " (Marseille, 'PROPN'),\n",
       " (., 'PUNCT')]"
      ]
     },
     "execution_count": 18,
     "metadata": {},
     "output_type": "execute_result"
    }
   ],
   "source": [
    "return_POS(test)"
   ]
  },
  {
   "cell_type": "markdown",
   "metadata": {},
   "source": [
    "### dépendances entre ces étiquettes."
   ]
  },
  {
   "cell_type": "markdown",
   "metadata": {},
   "source": [
    "Spacy dispose également d’une option de visualisation qui nous permet simplement d’afficher les étiquettes identifiées ainsi que les dépendances entre ces étiquettes."
   ]
  },
  {
   "cell_type": "code",
   "execution_count": null,
   "metadata": {
    "ExecuteTime": {
     "start_time": "2023-04-02T22:52:08.499Z"
    }
   },
   "outputs": [
    {
     "name": "stderr",
     "output_type": "stream",
     "text": [
      "C:\\Users\\sambe\\anaconda3\\lib\\site-packages\\spacy\\displacy\\__init__.py:108: UserWarning: [W011] It looks like you're calling displacy.serve from within a Jupyter notebook or a similar environment. This likely means you're already running a local web server, so there's no need to make displaCy start another one. Instead, you should be able to replace displacy.serve with displacy.render to show the visualization.\n",
      "  warnings.warn(Warnings.W011)\n"
     ]
    },
    {
     "data": {
      "text/html": [
       "<span class=\"tex2jax_ignore\"><!DOCTYPE html>\n",
       "<html lang=\"fr\">\n",
       "    <head>\n",
       "        <title>displaCy</title>\n",
       "    </head>\n",
       "\n",
       "    <body style=\"font-size: 16px; font-family: -apple-system, BlinkMacSystemFont, 'Segoe UI', Helvetica, Arial, sans-serif, 'Apple Color Emoji', 'Segoe UI Emoji', 'Segoe UI Symbol'; padding: 4rem 2rem; direction: ltr\">\n",
       "<figure style=\"margin-bottom: 6rem\">\n",
       "<svg xmlns=\"http://www.w3.org/2000/svg\" xmlns:xlink=\"http://www.w3.org/1999/xlink\" xml:lang=\"fr\" id=\"f3a2e720d4dd4ec59f427558d5f32f41-0\" class=\"displacy\" width=\"1625\" height=\"312.0\" direction=\"ltr\" style=\"max-width: none; height: 312.0px; color: #000000; background: #ffffff; font-family: Arial; direction: ltr\">\n",
       "<text class=\"displacy-token\" fill=\"currentColor\" text-anchor=\"middle\" y=\"222.0\">\n",
       "    <tspan class=\"displacy-word\" fill=\"currentColor\" x=\"50\">Bouygues</tspan>\n",
       "    <tspan class=\"displacy-tag\" dy=\"2em\" fill=\"currentColor\" x=\"50\">PROPN</tspan>\n",
       "</text>\n",
       "\n",
       "<text class=\"displacy-token\" fill=\"currentColor\" text-anchor=\"middle\" y=\"222.0\">\n",
       "    <tspan class=\"displacy-word\" fill=\"currentColor\" x=\"225\">a</tspan>\n",
       "    <tspan class=\"displacy-tag\" dy=\"2em\" fill=\"currentColor\" x=\"225\">AUX</tspan>\n",
       "</text>\n",
       "\n",
       "<text class=\"displacy-token\" fill=\"currentColor\" text-anchor=\"middle\" y=\"222.0\">\n",
       "    <tspan class=\"displacy-word\" fill=\"currentColor\" x=\"400\">eu</tspan>\n",
       "    <tspan class=\"displacy-tag\" dy=\"2em\" fill=\"currentColor\" x=\"400\">VERB</tspan>\n",
       "</text>\n",
       "\n",
       "<text class=\"displacy-token\" fill=\"currentColor\" text-anchor=\"middle\" y=\"222.0\">\n",
       "    <tspan class=\"displacy-word\" fill=\"currentColor\" x=\"575\">une</tspan>\n",
       "    <tspan class=\"displacy-tag\" dy=\"2em\" fill=\"currentColor\" x=\"575\">DET</tspan>\n",
       "</text>\n",
       "\n",
       "<text class=\"displacy-token\" fill=\"currentColor\" text-anchor=\"middle\" y=\"222.0\">\n",
       "    <tspan class=\"displacy-word\" fill=\"currentColor\" x=\"750\">coupure</tspan>\n",
       "    <tspan class=\"displacy-tag\" dy=\"2em\" fill=\"currentColor\" x=\"750\">NOUN</tspan>\n",
       "</text>\n",
       "\n",
       "<text class=\"displacy-token\" fill=\"currentColor\" text-anchor=\"middle\" y=\"222.0\">\n",
       "    <tspan class=\"displacy-word\" fill=\"currentColor\" x=\"925\">de</tspan>\n",
       "    <tspan class=\"displacy-tag\" dy=\"2em\" fill=\"currentColor\" x=\"925\">ADP</tspan>\n",
       "</text>\n",
       "\n",
       "<text class=\"displacy-token\" fill=\"currentColor\" text-anchor=\"middle\" y=\"222.0\">\n",
       "    <tspan class=\"displacy-word\" fill=\"currentColor\" x=\"1100\">réseau</tspan>\n",
       "    <tspan class=\"displacy-tag\" dy=\"2em\" fill=\"currentColor\" x=\"1100\">NOUN</tspan>\n",
       "</text>\n",
       "\n",
       "<text class=\"displacy-token\" fill=\"currentColor\" text-anchor=\"middle\" y=\"222.0\">\n",
       "    <tspan class=\"displacy-word\" fill=\"currentColor\" x=\"1275\">à</tspan>\n",
       "    <tspan class=\"displacy-tag\" dy=\"2em\" fill=\"currentColor\" x=\"1275\">ADP</tspan>\n",
       "</text>\n",
       "\n",
       "<text class=\"displacy-token\" fill=\"currentColor\" text-anchor=\"middle\" y=\"222.0\">\n",
       "    <tspan class=\"displacy-word\" fill=\"currentColor\" x=\"1450\">Marseille.</tspan>\n",
       "    <tspan class=\"displacy-tag\" dy=\"2em\" fill=\"currentColor\" x=\"1450\">PROPN</tspan>\n",
       "</text>\n",
       "\n",
       "<g class=\"displacy-arrow\">\n",
       "    <path class=\"displacy-arc\" id=\"arrow-f3a2e720d4dd4ec59f427558d5f32f41-0-0\" stroke-width=\"2px\" d=\"M70,177.0 C70,2.0 400.0,2.0 400.0,177.0\" fill=\"none\" stroke=\"currentColor\"/>\n",
       "    <text dy=\"1.25em\" style=\"font-size: 0.8em; letter-spacing: 1px\">\n",
       "        <textPath xlink:href=\"#arrow-f3a2e720d4dd4ec59f427558d5f32f41-0-0\" class=\"displacy-label\" startOffset=\"50%\" side=\"left\" fill=\"currentColor\" text-anchor=\"middle\">nsubj</textPath>\n",
       "    </text>\n",
       "    <path class=\"displacy-arrowhead\" d=\"M70,179.0 L62,167.0 78,167.0\" fill=\"currentColor\"/>\n",
       "</g>\n",
       "\n",
       "<g class=\"displacy-arrow\">\n",
       "    <path class=\"displacy-arc\" id=\"arrow-f3a2e720d4dd4ec59f427558d5f32f41-0-1\" stroke-width=\"2px\" d=\"M245,177.0 C245,89.5 395.0,89.5 395.0,177.0\" fill=\"none\" stroke=\"currentColor\"/>\n",
       "    <text dy=\"1.25em\" style=\"font-size: 0.8em; letter-spacing: 1px\">\n",
       "        <textPath xlink:href=\"#arrow-f3a2e720d4dd4ec59f427558d5f32f41-0-1\" class=\"displacy-label\" startOffset=\"50%\" side=\"left\" fill=\"currentColor\" text-anchor=\"middle\">aux:tense</textPath>\n",
       "    </text>\n",
       "    <path class=\"displacy-arrowhead\" d=\"M245,179.0 L237,167.0 253,167.0\" fill=\"currentColor\"/>\n",
       "</g>\n",
       "\n",
       "<g class=\"displacy-arrow\">\n",
       "    <path class=\"displacy-arc\" id=\"arrow-f3a2e720d4dd4ec59f427558d5f32f41-0-2\" stroke-width=\"2px\" d=\"M595,177.0 C595,89.5 745.0,89.5 745.0,177.0\" fill=\"none\" stroke=\"currentColor\"/>\n",
       "    <text dy=\"1.25em\" style=\"font-size: 0.8em; letter-spacing: 1px\">\n",
       "        <textPath xlink:href=\"#arrow-f3a2e720d4dd4ec59f427558d5f32f41-0-2\" class=\"displacy-label\" startOffset=\"50%\" side=\"left\" fill=\"currentColor\" text-anchor=\"middle\">det</textPath>\n",
       "    </text>\n",
       "    <path class=\"displacy-arrowhead\" d=\"M595,179.0 L587,167.0 603,167.0\" fill=\"currentColor\"/>\n",
       "</g>\n",
       "\n",
       "<g class=\"displacy-arrow\">\n",
       "    <path class=\"displacy-arc\" id=\"arrow-f3a2e720d4dd4ec59f427558d5f32f41-0-3\" stroke-width=\"2px\" d=\"M420,177.0 C420,2.0 750.0,2.0 750.0,177.0\" fill=\"none\" stroke=\"currentColor\"/>\n",
       "    <text dy=\"1.25em\" style=\"font-size: 0.8em; letter-spacing: 1px\">\n",
       "        <textPath xlink:href=\"#arrow-f3a2e720d4dd4ec59f427558d5f32f41-0-3\" class=\"displacy-label\" startOffset=\"50%\" side=\"left\" fill=\"currentColor\" text-anchor=\"middle\">obj</textPath>\n",
       "    </text>\n",
       "    <path class=\"displacy-arrowhead\" d=\"M750.0,179.0 L758.0,167.0 742.0,167.0\" fill=\"currentColor\"/>\n",
       "</g>\n",
       "\n",
       "<g class=\"displacy-arrow\">\n",
       "    <path class=\"displacy-arc\" id=\"arrow-f3a2e720d4dd4ec59f427558d5f32f41-0-4\" stroke-width=\"2px\" d=\"M945,177.0 C945,89.5 1095.0,89.5 1095.0,177.0\" fill=\"none\" stroke=\"currentColor\"/>\n",
       "    <text dy=\"1.25em\" style=\"font-size: 0.8em; letter-spacing: 1px\">\n",
       "        <textPath xlink:href=\"#arrow-f3a2e720d4dd4ec59f427558d5f32f41-0-4\" class=\"displacy-label\" startOffset=\"50%\" side=\"left\" fill=\"currentColor\" text-anchor=\"middle\">case</textPath>\n",
       "    </text>\n",
       "    <path class=\"displacy-arrowhead\" d=\"M945,179.0 L937,167.0 953,167.0\" fill=\"currentColor\"/>\n",
       "</g>\n",
       "\n",
       "<g class=\"displacy-arrow\">\n",
       "    <path class=\"displacy-arc\" id=\"arrow-f3a2e720d4dd4ec59f427558d5f32f41-0-5\" stroke-width=\"2px\" d=\"M770,177.0 C770,2.0 1100.0,2.0 1100.0,177.0\" fill=\"none\" stroke=\"currentColor\"/>\n",
       "    <text dy=\"1.25em\" style=\"font-size: 0.8em; letter-spacing: 1px\">\n",
       "        <textPath xlink:href=\"#arrow-f3a2e720d4dd4ec59f427558d5f32f41-0-5\" class=\"displacy-label\" startOffset=\"50%\" side=\"left\" fill=\"currentColor\" text-anchor=\"middle\">nmod</textPath>\n",
       "    </text>\n",
       "    <path class=\"displacy-arrowhead\" d=\"M1100.0,179.0 L1108.0,167.0 1092.0,167.0\" fill=\"currentColor\"/>\n",
       "</g>\n",
       "\n",
       "<g class=\"displacy-arrow\">\n",
       "    <path class=\"displacy-arc\" id=\"arrow-f3a2e720d4dd4ec59f427558d5f32f41-0-6\" stroke-width=\"2px\" d=\"M1295,177.0 C1295,89.5 1445.0,89.5 1445.0,177.0\" fill=\"none\" stroke=\"currentColor\"/>\n",
       "    <text dy=\"1.25em\" style=\"font-size: 0.8em; letter-spacing: 1px\">\n",
       "        <textPath xlink:href=\"#arrow-f3a2e720d4dd4ec59f427558d5f32f41-0-6\" class=\"displacy-label\" startOffset=\"50%\" side=\"left\" fill=\"currentColor\" text-anchor=\"middle\">case</textPath>\n",
       "    </text>\n",
       "    <path class=\"displacy-arrowhead\" d=\"M1295,179.0 L1287,167.0 1303,167.0\" fill=\"currentColor\"/>\n",
       "</g>\n",
       "\n",
       "<g class=\"displacy-arrow\">\n",
       "    <path class=\"displacy-arc\" id=\"arrow-f3a2e720d4dd4ec59f427558d5f32f41-0-7\" stroke-width=\"2px\" d=\"M1120,177.0 C1120,2.0 1450.0,2.0 1450.0,177.0\" fill=\"none\" stroke=\"currentColor\"/>\n",
       "    <text dy=\"1.25em\" style=\"font-size: 0.8em; letter-spacing: 1px\">\n",
       "        <textPath xlink:href=\"#arrow-f3a2e720d4dd4ec59f427558d5f32f41-0-7\" class=\"displacy-label\" startOffset=\"50%\" side=\"left\" fill=\"currentColor\" text-anchor=\"middle\">nmod</textPath>\n",
       "    </text>\n",
       "    <path class=\"displacy-arrowhead\" d=\"M1450.0,179.0 L1458.0,167.0 1442.0,167.0\" fill=\"currentColor\"/>\n",
       "</g>\n",
       "</svg>\n",
       "</figure>\n",
       "</body>\n",
       "</html></span>"
      ],
      "text/plain": [
       "<IPython.core.display.HTML object>"
      ]
     },
     "metadata": {},
     "output_type": "display_data"
    },
    {
     "name": "stdout",
     "output_type": "stream",
     "text": [
      "\n",
      "Using the 'dep' visualizer\n",
      "Serving on http://0.0.0.0:5000 ...\n",
      "\n"
     ]
    }
   ],
   "source": [
    "from spacy import displacy\n",
    "\n",
    "doc = nlp(test)\n",
    "displacy.serve(doc, style=\"dep\")"
   ]
  },
  {
   "cell_type": "markdown",
   "metadata": {},
   "source": [
    "### Embedding par mot"
   ]
  },
  {
   "cell_type": "markdown",
   "metadata": {},
   "source": [
    "Avec SpaCy, on peut facilement récupérer le vecteur correspondant à chaque mot une fois passé dans le modèle pré-entraîné en français.\n",
    "\n",
    "Cela nous sert à représenter chaque mot comme étant un vecteur de taille 96."
   ]
  },
  {
   "cell_type": "code",
   "execution_count": 20,
   "metadata": {
    "ExecuteTime": {
     "end_time": "2023-04-02T22:25:31.594345Z",
     "start_time": "2023-04-02T22:25:31.578348Z"
    }
   },
   "outputs": [],
   "source": [
    "import numpy as np\n",
    "\n",
    "def return_word_embedding(sentence):\n",
    "    doc = nlp(sentence)\n",
    "    return [(X.tensor) for X in doc]"
   ]
  },
  {
   "cell_type": "code",
   "execution_count": 21,
   "metadata": {
    "ExecuteTime": {
     "end_time": "2023-04-02T22:25:31.690371Z",
     "start_time": "2023-04-02T22:25:31.594345Z"
    }
   },
   "outputs": [
    {
     "data": {
      "text/plain": [
       "[array([-1.6346102 , -0.5649558 , -1.9408696 , -2.8131487 , -0.10111871,\n",
       "        -3.5301733 ,  2.1561463 , -4.919578  ,  0.32698417,  1.0308661 ,\n",
       "         2.215307  ,  0.71723855, -8.715832  , -1.082229  , -0.29062694,\n",
       "        -1.5783454 , -2.3651774 , -2.7283564 , -0.8639682 ,  0.9259417 ,\n",
       "        -2.9402213 ,  9.62681   ,  3.6982558 ,  2.3619328 , -3.4923072 ,\n",
       "        -3.007491  ,  0.6268482 ,  0.7450175 ,  0.10165524, -2.0733776 ,\n",
       "        -6.0223136 , -3.26889   ,  1.3297346 , -0.02227801,  6.2106695 ,\n",
       "         5.510391  , -3.3060741 ,  6.059072  ,  8.359106  ,  1.266602  ,\n",
       "        -2.4710221 ,  1.2002273 , -2.1460962 ,  1.1080225 , -0.47597742,\n",
       "        -3.4814408 , -0.3286002 , -2.6209486 ,  2.7624931 , -3.1821756 ,\n",
       "         0.707623  , -5.4075885 , -0.43672788, -1.1972871 ,  1.9135549 ,\n",
       "        -4.791294  ,  1.8234224 ,  2.8430312 ,  2.9959369 , -3.0965557 ,\n",
       "        -0.8349135 ,  0.70729387, -3.1008258 ,  2.5546184 ,  5.942216  ,\n",
       "        -1.4530492 ,  2.4120178 , -2.190456  , -1.3141762 ,  2.962569  ,\n",
       "        -3.0723932 , -1.9993818 ,  2.669525  , -2.2199125 ,  6.6933637 ,\n",
       "         4.5680337 ,  1.7030717 ,  1.1185467 ,  3.690292  ,  0.20951895,\n",
       "         1.6912526 ,  1.8172803 ,  0.05466502, -5.0575686 , -2.3284261 ,\n",
       "         6.024373  , -4.705906  , -2.380598  ,  4.59919   ,  1.0277059 ,\n",
       "         0.35238478,  1.0811725 , -3.5578227 , -0.71166474,  1.4255056 ,\n",
       "        -0.29040962], dtype=float32),\n",
       " array([-3.446305  , -0.7990979 , -3.4154792 ,  1.2070838 , -0.6919847 ,\n",
       "        -0.9731169 ,  1.3672135 , -1.8531287 , -5.894887  ,  2.283146  ,\n",
       "         4.9857283 ,  4.868072  ,  2.3927827 , -1.9813961 ,  2.3972762 ,\n",
       "        -4.1008644 ,  6.589335  ,  0.28032944, -1.5125117 , -4.284287  ,\n",
       "        -3.8762722 ,  1.9325397 ,  0.11694825, -3.9106565 , 12.738054  ,\n",
       "         1.2966831 , -0.0127911 ,  1.992995  , -1.9252099 ,  3.0994434 ,\n",
       "        -3.9400706 , -1.6160688 , -4.137142  ,  3.5726933 , -0.63617104,\n",
       "         0.06652808, -2.7764647 , -0.02036315, -5.1495914 , -1.7645969 ,\n",
       "         4.1934137 , -1.5724784 , -5.103414  , -0.19620132,  2.5410585 ,\n",
       "        -6.268388  ,  2.094131  ,  6.4469805 ,  1.0461861 , -2.0273209 ,\n",
       "         2.796205  , -3.5149443 , -1.4691484 ,  1.0125772 ,  7.182619  ,\n",
       "        -0.50547075, -0.3189124 , -2.1238432 ,  3.1792622 , -1.5041814 ,\n",
       "         6.1768713 , -3.7185326 ,  6.171883  ,  0.53774863, -4.1476912 ,\n",
       "         3.017975  , -0.4927643 ,  5.1764555 ,  2.3834019 ,  1.240397  ,\n",
       "        -5.267914  , -4.264628  , -1.5016112 ,  1.0483615 , -0.867125  ,\n",
       "        -3.2692673 ,  3.9539566 , -3.054901  , -3.895178  ,  0.58887094,\n",
       "        -1.0624458 ,  2.315819  , -3.8538592 ,  3.3628445 ,  3.2578106 ,\n",
       "        -2.9574697 , -1.5970075 , -4.1696873 , -1.4782308 , -1.1335423 ,\n",
       "        -0.1431436 , -5.2106314 ,  1.6701648 ,  3.6012952 ,  5.66516   ,\n",
       "         2.6053748 ], dtype=float32),\n",
       " array([ 3.6990778 ,  3.856174  , -2.1181107 ,  0.6779074 , -1.0960742 ,\n",
       "        -2.0374296 , -1.1378956 , -1.4005847 ,  0.7364903 ,  2.1221235 ,\n",
       "         5.5364575 , -4.2395105 ,  0.38929355,  7.9566383 , -2.46958   ,\n",
       "        -0.5245467 ,  0.94175684, -3.7067945 , -5.1579556 , -4.7325177 ,\n",
       "        -2.6813078 , -2.062476  , -8.939566  ,  0.02065009, -2.6285315 ,\n",
       "        -2.106134  , -3.5901556 ,  8.811838  ,  1.4581082 ,  0.9407896 ,\n",
       "        -3.8533225 ,  5.488432  ,  5.368439  , -0.3092494 , -1.1633197 ,\n",
       "         0.932968  , -1.4564788 , -3.816989  ,  0.8694304 , -0.64289093,\n",
       "        -0.81139064, -6.007786  ,  1.4261637 , -5.506783  ,  0.17544156,\n",
       "         1.5624584 ,  1.1056366 , -0.5282993 , -1.5959412 , -4.6374164 ,\n",
       "        -1.251196  , -2.0724733 , -2.6776404 ,  2.0384898 , -6.8998003 ,\n",
       "         3.2755706 , -3.6275234 , -1.1473224 ,  2.090321  ,  4.119931  ,\n",
       "         1.3297925 ,  8.228799  , -2.6104186 ,  3.5182755 ,  6.781274  ,\n",
       "         1.7338818 , -1.2199438 ,  4.9691315 ,  6.8776035 ,  3.3657808 ,\n",
       "         4.479544  ,  6.68405   ,  1.1967318 ,  0.10995966,  3.5541961 ,\n",
       "        -5.001694  , -3.2588322 ,  2.8553772 , -1.9229151 ,  3.5114627 ,\n",
       "        -1.7918878 , -2.154997  ,  0.42152584,  0.92481494, -1.266445  ,\n",
       "         1.1551888 , -0.77588487, -2.8805206 , -4.438018  , -1.7678593 ,\n",
       "        -1.8017546 , -1.238381  ,  2.8813152 , -0.62055075, -1.0536782 ,\n",
       "         2.0686977 ], dtype=float32),\n",
       " array([ 4.671945  , -3.0020952 ,  6.079048  ,  6.858698  , -4.7666006 ,\n",
       "         0.6180485 ,  3.2676873 ,  1.9539198 , -3.9539697 ,  3.2784615 ,\n",
       "        -1.2397029 ,  0.16048533, -0.9431626 , -0.06638432,  1.901264  ,\n",
       "        -2.5592551 ,  1.9572848 ,  3.894996  , -1.6643422 ,  4.002309  ,\n",
       "        -3.4512432 , -1.0303526 ,  0.56368405, -6.1958494 , -0.4563396 ,\n",
       "        -0.6065277 , -1.5407784 , -3.915786  , -3.5041475 , -0.08424589,\n",
       "        -0.701656  , -0.8810739 , -6.2204137 , -7.456559  ,  0.23610497,\n",
       "         0.01204333, -4.303653  , -1.4589748 ,  3.8458438 ,  5.6628833 ,\n",
       "        -3.595253  ,  7.04984   ,  0.11172321, -2.015828  ,  3.1432323 ,\n",
       "         0.04785466, -4.1773705 ,  2.7092578 , -3.9351172 ,  6.09267   ,\n",
       "         3.5943525 ,  2.7311563 , -4.054099  ,  1.7976472 , -3.7978563 ,\n",
       "         0.17951095, -3.819013  ,  2.9479387 , -1.6733215 , -4.643231  ,\n",
       "        -6.5848045 , -2.7129629 ,  1.0220318 , -0.97972876, -3.2616549 ,\n",
       "        -2.0167253 , -0.30287382,  0.3824973 , -0.8650161 ,  4.5674915 ,\n",
       "        -3.8226843 ,  0.74184877, -1.4217848 ,  6.171267  , -1.099263  ,\n",
       "        -1.1473447 ,  0.3018087 ,  1.8801696 ,  2.734511  ,  6.960847  ,\n",
       "         4.32947   , 10.56227   ,  3.4227412 , -0.62918955,  1.9293609 ,\n",
       "        -0.6755456 , -3.0847185 ,  0.51869404,  3.1033065 , -0.41827112,\n",
       "         1.1435198 ,  4.48458   , -4.083664  ,  0.47389138, -1.8039762 ,\n",
       "        -5.860313  ], dtype=float32),\n",
       " array([ 3.8844385 ,  0.06867814, -1.5262839 , -1.132229  , -0.43493518,\n",
       "        -1.7605916 , -6.659835  , -2.4842021 , -2.0439641 , -1.1893747 ,\n",
       "        -0.4388878 , -0.09201121, -0.87102616,  4.8512044 , -0.4647708 ,\n",
       "         0.8844689 , -0.48043174, -2.5257506 , -3.5051112 ,  5.1575136 ,\n",
       "        -5.6580505 ,  4.988199  ,  0.39158657, -0.5735906 ,  0.49901962,\n",
       "        -5.027753  , -2.5623124 ,  1.2769841 ,  5.271267  , -3.0088367 ,\n",
       "         0.12507975, -1.9428087 ,  1.9582934 , -0.76194966,  3.6641955 ,\n",
       "         2.0623057 , -5.4035096 , -1.9068804 , -2.3916028 , -3.807015  ,\n",
       "        -0.95562357,  1.9685    , -0.7190697 ,  4.219961  , -0.35706663,\n",
       "        -2.1038482 , -5.29832   , -4.252282  , -2.4776418 , -2.6689117 ,\n",
       "         0.35011244,  0.35189486,  2.199948  , -5.319023  ,  5.843369  ,\n",
       "        -1.5004162 , -1.4879129 , -0.43013853,  1.5443943 ,  4.543645  ,\n",
       "         0.40314007, -2.735705  , -3.57029   , -0.65642834,  8.736289  ,\n",
       "         2.2171192 ,  3.5573962 ,  3.0448961 , -2.0463574 ,  2.6682658 ,\n",
       "         3.8991709 , -0.07781409,  1.4745042 , -0.19803637,  2.7829933 ,\n",
       "        -0.3179848 , -1.2695746 ,  0.60842645,  6.4774857 ,  1.3599739 ,\n",
       "        -0.5586387 ,  6.787566  , -1.6447316 , -1.5415605 ,  2.0962224 ,\n",
       "         3.9576194 ,  5.9389863 , -1.2269154 , -3.1881576 , -0.11780232,\n",
       "        -8.0676365 , -0.30742592,  5.3563604 ,  0.9338722 , -3.571734  ,\n",
       "        -2.548287  ], dtype=float32),\n",
       " array([ 2.4326563 , -1.4224203 , -1.9689518 , -2.7529783 ,  3.2244241 ,\n",
       "         2.9046497 ,  4.698098  ,  4.1286974 ,  3.009498  ,  7.602722  ,\n",
       "        -4.138436  ,  1.1155071 ,  1.0706389 ,  1.1596248 , -1.697475  ,\n",
       "        -3.466365  ,  0.7345416 ,  1.6666944 ,  1.2505324 ,  0.5754509 ,\n",
       "        -3.0037453 ,  0.6862375 ,  5.311622  , -4.054074  ,  1.191919  ,\n",
       "         1.8694661 ,  4.1653633 ,  1.0401778 ,  1.923844  ,  6.043617  ,\n",
       "        -1.9307294 , -5.312231  ,  0.18703818, -2.5821934 , -1.447423  ,\n",
       "        -1.0511204 , -2.0666416 , -1.905923  , -5.0839744 , -4.46939   ,\n",
       "        -2.9872804 , -3.425784  , -2.5486    , -3.225178  ,  3.302152  ,\n",
       "        -1.2419082 , -2.743736  ,  1.2980777 ,  0.6168077 ,  3.3933663 ,\n",
       "        -4.817273  ,  1.1891776 , -3.1356864 ,  1.9706831 ,  0.36343753,\n",
       "        -2.202368  ,  0.08615029,  0.33835796, -5.0897183 ,  0.9181856 ,\n",
       "         2.3562107 , -4.2388353 , -3.201509  , -3.1027837 , -1.0326538 ,\n",
       "        -1.3014647 ,  6.162923  , -0.9284203 ,  4.3146954 , -1.5902672 ,\n",
       "        -0.68121713, -3.7917957 , -2.8989482 ,  1.7899365 ,  0.9081842 ,\n",
       "         1.3681196 ,  2.9651136 , -7.041772  , -6.6733055 , -0.7982549 ,\n",
       "         4.2128515 ,  6.8694415 , -1.9913203 , -0.63244224, -0.46890455,\n",
       "        -4.0279393 ,  3.0790913 , -2.6043801 ,  0.9213148 ,  2.4903855 ,\n",
       "         7.2472515 , -2.6779127 ,  6.4720335 , -1.2172313 ,  6.802691  ,\n",
       "        -0.7384156 ], dtype=float32),\n",
       " array([-6.6611779e-01,  1.3596841e+00,  4.8691788e+00,  5.9225821e+00,\n",
       "         3.1470618e+00,  4.2494750e+00, -1.0062214e+00,  5.1818295e+00,\n",
       "         4.9357456e-01, -3.8614202e+00, -5.4153502e-03, -6.1190901e+00,\n",
       "        -1.1963096e+00,  1.5511751e+00, -3.7031913e-01,  1.8087828e+00,\n",
       "        -3.7359598e+00, -5.2004490e+00, -3.8120773e+00,  4.7621017e+00,\n",
       "         4.2272954e+00,  3.4990352e-01, -2.7179508e+00, -1.3859105e+00,\n",
       "        -1.8807058e+00, -3.5679059e+00, -8.0164093e-01,  9.8594522e-01,\n",
       "         1.4871289e+00, -5.5180120e+00,  1.1680081e+00, -5.9191400e-01,\n",
       "         1.9417078e+00, -3.4179916e+00,  7.1324067e+00,  3.6712484e+00,\n",
       "        -3.4843175e+00, -2.9911747e+00, -5.8423805e-01,  5.2266711e-01,\n",
       "        -6.5939636e+00,  9.4792128e-01, -5.9027296e-01,  7.7973878e-01,\n",
       "        -4.0138844e-01,  5.7368646e+00, -6.8201721e-01, -3.6600268e+00,\n",
       "        -5.4475956e+00,  2.2091052e-01,  1.4430491e+00, -6.8401527e-01,\n",
       "         8.9382029e-01, -3.4126780e+00,  5.5044351e+00, -1.8742137e+00,\n",
       "        -1.8617902e+00, -2.4764824e-01,  2.8612618e+00,  3.8337233e+00,\n",
       "         5.1095390e-01, -8.0919814e-01, -3.4441791e+00, -4.2987552e+00,\n",
       "         4.1470590e+00,  1.7888696e+00, -7.8543603e-01, -3.1357315e-01,\n",
       "        -1.0321860e+00,  2.1166916e+00, -1.0724497e+00,  1.2660675e+00,\n",
       "         1.4329047e+00,  2.0564801e-01,  4.8022437e+00, -1.0420206e+00,\n",
       "        -1.8853414e+00, -3.2357340e+00,  3.2419989e+00, -1.2726301e+00,\n",
       "        -3.7996082e+00,  5.6957263e-01,  6.4133415e+00, -3.2563734e+00,\n",
       "         5.3885281e-01,  5.1511259e+00, -1.9295063e+00, -8.1731635e-01,\n",
       "        -1.8545951e+00,  2.3927084e-01,  1.7747035e+00, -3.3464637e+00,\n",
       "         4.0316763e+00,  2.4016504e+00, -7.2652960e-01, -3.5788782e+00],\n",
       "       dtype=float32),\n",
       " array([ 2.9245229 , -0.46855307,  6.4825425 , -1.2615514 ,  1.90538   ,\n",
       "        -0.98088264,  2.5835676 ,  6.0700455 ,  2.2775285 ,  4.359928  ,\n",
       "        -0.18253607, -1.4621533 ,  0.64088845, -4.493325  , -6.2238727 ,\n",
       "        -4.3416677 ,  4.567895  ,  2.4904735 ,  6.0851674 , -0.8022604 ,\n",
       "        -3.528113  ,  7.791255  ,  1.8761455 , -4.495505  ,  0.8217729 ,\n",
       "        -0.27793574,  2.1669424 , -2.0618818 ,  1.4526281 ,  2.865116  ,\n",
       "        -2.8595235 , -2.875357  , -0.04949474, -1.672706  ,  3.592894  ,\n",
       "        -1.927322  , -2.699831  , -2.45062   , -1.6692884 ,  0.21760201,\n",
       "        -2.1624537 , -1.4339154 , -2.290997  , -5.755949  ,  2.1903315 ,\n",
       "         4.4554653 , -4.4535894 ,  1.3793752 , -1.4659927 ,  3.1345248 ,\n",
       "        -6.8819532 ,  2.9652758 , -4.1645336 ,  3.5209074 ,  3.5594418 ,\n",
       "        -2.406991  , -2.0756238 , -1.5024273 ,  1.067909  , -1.7662793 ,\n",
       "         2.3419511 , -1.2440033 , -5.0065913 , -2.6334422 , -3.9015214 ,\n",
       "         2.3334076 ,  6.551007  , -0.76679075,  3.4177403 , -2.883037  ,\n",
       "        -4.2765045 , -0.5595946 , -1.8782015 , -2.4424264 , -0.23063472,\n",
       "         2.4678655 ,  2.0396993 , -5.3637033 , -0.46987867, -3.2224944 ,\n",
       "         3.7677846 ,  3.710027  , -1.2029446 ,  0.8815921 ,  1.6171038 ,\n",
       "        -4.208091  ,  2.6477876 , -0.9158559 , -1.9168824 ,  6.317034  ,\n",
       "        -1.3908217 , -2.2214565 ,  6.671108  , -0.10788985,  2.1874127 ,\n",
       "        -1.9994245 ], dtype=float32),\n",
       " array([-5.084694  ,  4.2632637 , -1.1150707 ,  2.4559746 ,  1.7654277 ,\n",
       "         2.6694484 ,  5.3994675 ,  2.0831795 , -3.768532  ,  1.3095784 ,\n",
       "        -0.10404766, -5.063535  , -1.7367567 ,  2.632769  , -3.793399  ,\n",
       "         1.7956746 , -1.7739774 , -0.21050608, -3.1864998 , -0.9757356 ,\n",
       "        -3.665807  ,  4.8081546 ,  1.3833987 , -1.1607093 , -3.1577039 ,\n",
       "        -5.301842  ,  2.2237005 , -0.2043966 , -2.1513562 , -3.096066  ,\n",
       "        -2.0409186 ,  1.4212651 , -4.1248198 , -2.9904323 ,  6.554662  ,\n",
       "         8.021503  ,  0.30590403,  6.9253216 , -2.296058  , -1.1780169 ,\n",
       "         0.22651705,  6.843161  ,  1.9353695 , -1.4680498 , -4.1123815 ,\n",
       "         4.1357546 , -0.9591305 , -4.1136236 ,  0.8899783 , -0.06262499,\n",
       "        -4.0045605 ,  2.0576608 , -2.653184  , -2.986155  ,  6.3259535 ,\n",
       "        -2.646006  , -2.8988118 ,  4.557493  ,  2.8200538 , -1.3943396 ,\n",
       "        -1.3604958 , -1.6922057 , -2.3823884 ,  0.39561582,  8.9180355 ,\n",
       "         0.73911697,  3.8114169 , -0.4661221 , -1.0421063 ,  0.27342713,\n",
       "        -1.188229  ,  0.51121044,  2.5578766 , -4.9804196 ,  3.1742868 ,\n",
       "         0.1531288 , -2.8039525 , -1.2457483 ,  1.8030615 , -3.3490357 ,\n",
       "         1.5248139 ,  0.5215788 ,  0.26250607, -6.024251  , -1.9374405 ,\n",
       "         2.778102  , -6.6000943 ,  3.726616  , -0.5174818 ,  3.8397439 ,\n",
       "        -1.5853273 , -3.7090425 , -3.1067433 ,  0.4215586 ,  2.912151  ,\n",
       "         2.939691  ], dtype=float32),\n",
       " array([-1.918966  , -1.7362822 , -0.6927216 , -2.7103627 ,  1.4591377 ,\n",
       "         3.776223  , -1.3639464 , -2.9865727 ,  2.7225893 ,  1.4419091 ,\n",
       "         0.03745338, -2.670113  , -1.3230368 ,  4.041131  , -2.720021  ,\n",
       "        -3.9149334 ,  0.66315836, -5.2065916 , -3.0396981 , -3.0858727 ,\n",
       "         9.955432  ,  3.1925611 ,  0.05523956,  4.0794563 , -2.752714  ,\n",
       "         1.4348707 ,  5.8618317 , -0.14671886, -1.1405833 ,  0.15393558,\n",
       "         5.9306912 , -4.72393   ,  1.2232755 ,  1.5697774 ,  1.7766784 ,\n",
       "        -1.3265295 ,  0.5247527 ,  2.5397758 , -1.6789937 ,  4.009415  ,\n",
       "         4.2152743 ,  0.63186765,  1.3151288 ,  8.142808  ,  2.126964  ,\n",
       "        -3.4275234 ,  7.155492  ,  4.784133  ,  0.5546723 , -1.3588567 ,\n",
       "         2.5241516 ,  1.6506323 ,  4.4354978 ,  1.3678201 ,  1.590859  ,\n",
       "        -1.0111842 ,  1.4004663 ,  1.2460823 , -3.983701  , -0.41448748,\n",
       "        -1.8294666 ,  0.8875092 , -6.1367087 , -1.7163777 , -4.1880603 ,\n",
       "        -0.6140228 , -2.7756178 , -0.68414783, -0.34813666, -4.169576  ,\n",
       "         1.8523831 , -1.9228063 , -0.3898096 , -3.5410213 , -2.5729165 ,\n",
       "        -4.3189325 , -2.8669546 ,  6.0047193 ,  1.3298354 ,  1.06536   ,\n",
       "        -3.5214956 , -2.597704  , -7.006049  , -0.34776223, -0.46942875,\n",
       "         3.4808073 ,  2.51579   ,  5.512137  , -6.3020625 , -0.25228804,\n",
       "        -0.5545086 , -5.747756  ,  0.9527286 , -2.8497283 , -0.6098324 ,\n",
       "        -1.1767058 ], dtype=float32)]"
      ]
     },
     "execution_count": 21,
     "metadata": {},
     "output_type": "execute_result"
    }
   ],
   "source": [
    "return_word_embedding(test)"
   ]
  },
  {
   "cell_type": "markdown",
   "metadata": {
    "ExecuteTime": {
     "end_time": "2023-04-02T22:25:31.706374Z",
     "start_time": "2023-04-02T22:25:31.690371Z"
    }
   },
   "source": [
    "Cette information nous sert notamment lorsque l’on cherche à caractériser la similarité entre deux mots ou deux phrases."
   ]
  },
  {
   "cell_type": "markdown",
   "metadata": {},
   "source": [
    "### Similarités entre phrases"
   ]
  },
  {
   "cell_type": "markdown",
   "metadata": {},
   "source": [
    "Afin de déterminer la similarité entre deux phrases, nous allons opter pour une méthode très simple :\n",
    "\n",
    "déterminer l’embedding moyen d’une phrase en moyennant l’embedding de tous les mots de la phrase\n",
    "calculer la distance entre deux phrases par simple distance euclidienne\n",
    "Cela s’effectue très facilement avec SpaCy !"
   ]
  },
  {
   "cell_type": "code",
   "execution_count": null,
   "metadata": {
    "ExecuteTime": {
     "end_time": "2023-04-02T22:25:31.706374Z",
     "start_time": "2023-04-02T22:25:31.706374Z"
    }
   },
   "outputs": [],
   "source": [
    "def return_mean_embedding(sentence):\n",
    "    doc = nlp(sentence)\n",
    "    return np.mean([(X.vector) for X in doc], axis=0)"
   ]
  },
  {
   "cell_type": "code",
   "execution_count": null,
   "metadata": {
    "ExecuteTime": {
     "end_time": "2023-04-02T22:25:31.714385Z",
     "start_time": "2023-04-02T22:25:31.714385Z"
    }
   },
   "outputs": [],
   "source": [
    "test_2 = \"Le réseau sera bientot rétabli à Marseille\"\n",
    "test_3 = \"La panne réseau affecte plusieurs utilisateurs de l'opérateur\"\n",
    "test_4 = \"Il fait 18 degrés ici\""
   ]
  },
  {
   "cell_type": "markdown",
   "metadata": {},
   "source": [
    "Ici, on s’attend à ce que la phrase 2 soit la plus proche de la phrase test, puis la phrase 3 et 4.\n",
    "\n",
    "Avec Numpy, la distance euclidienne se calcule simplement :"
   ]
  },
  {
   "cell_type": "code",
   "execution_count": null,
   "metadata": {
    "ExecuteTime": {
     "end_time": "2023-04-02T22:25:31.718403Z",
     "start_time": "2023-04-02T22:25:31.718403Z"
    }
   },
   "outputs": [],
   "source": [
    "return_mean_embedding(test)"
   ]
  },
  {
   "cell_type": "code",
   "execution_count": null,
   "metadata": {
    "ExecuteTime": {
     "end_time": "2023-04-02T22:25:31.722416Z",
     "start_time": "2023-04-02T22:25:31.722416Z"
    }
   },
   "outputs": [],
   "source": [
    "np.linalg.norm(return_mean_embedding(test)-return_mean_embedding(test_2))"
   ]
  },
  {
   "cell_type": "code",
   "execution_count": null,
   "metadata": {
    "ExecuteTime": {
     "end_time": "2023-04-02T22:25:31.722416Z",
     "start_time": "2023-04-02T22:25:31.722416Z"
    }
   },
   "outputs": [],
   "source": [
    "np.linalg.norm(return_mean_embedding(test)-return_mean_embedding(test_3))"
   ]
  },
  {
   "cell_type": "code",
   "execution_count": null,
   "metadata": {
    "ExecuteTime": {
     "end_time": "2023-04-02T22:25:31.730426Z",
     "start_time": "2023-04-02T22:25:31.730426Z"
    }
   },
   "outputs": [],
   "source": [
    "np.linalg.norm(return_mean_embedding(test)-return_mean_embedding(test_4))"
   ]
  },
  {
   "cell_type": "markdown",
   "metadata": {},
   "source": [
    "La phrase 2 est bien identifiée comme la plus proche, puis la phrase 3 et 4. On peut également utiliser cette approche pour classifier si une phrase appartient à une classe ou à une autre."
   ]
  },
  {
   "cell_type": "code",
   "execution_count": null,
   "metadata": {},
   "outputs": [],
   "source": []
  }
 ],
 "metadata": {
  "kernelspec": {
   "display_name": "Python 3 (ipykernel)",
   "language": "python",
   "name": "python3"
  },
  "language_info": {
   "codemirror_mode": {
    "name": "ipython",
    "version": 3
   },
   "file_extension": ".py",
   "mimetype": "text/x-python",
   "name": "python",
   "nbconvert_exporter": "python",
   "pygments_lexer": "ipython3",
   "version": "3.11.0rc2"
  },
  "toc": {
   "base_numbering": 1,
   "nav_menu": {},
   "number_sections": true,
   "sideBar": true,
   "skip_h1_title": false,
   "title_cell": "Table of Contents",
   "title_sidebar": "Contents",
   "toc_cell": false,
   "toc_position": {},
   "toc_section_display": true,
   "toc_window_display": false
  }
 },
 "nbformat": 4,
 "nbformat_minor": 2
}
