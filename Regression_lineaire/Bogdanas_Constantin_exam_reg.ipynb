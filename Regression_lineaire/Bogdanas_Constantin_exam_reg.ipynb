{
 "cells": [
  {
   "cell_type": "markdown",
   "metadata": {},
   "source": [
    "# Probabilités et statistiques Domaine: Regression lineaire et non lineaire "
   ]
  },
  {
   "cell_type": "markdown",
   "metadata": {},
   "source": [
    "### 1 STATISTIQUE DESCRIPTIVE UNIVARIEE\n"
   ]
  },
  {
   "cell_type": "markdown",
   "metadata": {},
   "source": [
    "##### 1.1 NOMBRE D’ENFANTS PAR FEMME"
   ]
  },
  {
   "cell_type": "code",
   "execution_count": 21,
   "metadata": {},
   "outputs": [
    {
     "data": {
      "image/png": "[encoded data removed]",
      "text/plain": [
       "<Figure size 432x288 with 1 Axes>"
      ]
     },
     "metadata": {
      "needs_background": "light"
     },
     "output_type": "display_data"
    }
   ],
   "source": [
    "import matplotlib.pyplot as plt\n",
    "import numpy as np\n",
    "import pandas as pd\n",
    "\n",
    "fig = plt.figure()\n",
    "\n",
    "nb_enfants = [0,1,2,3,4,5,6,7,15]\n",
    "nb_femmes = [3,4,14,10,9,8,5,4,1]\n",
    "width = 0.5\n",
    "\n",
    "\n",
    "plt.bar(nb_enfants, nb_femmes, width, color='b' )\n",
    "\n",
    "plt.savefig('SimpleBar.png')\n",
    "plt.show()"
   ]
  },
  {
   "cell_type": "code",
   "execution_count": 9,
   "metadata": {},
   "outputs": [],
   "source": [
    "\n",
    "    \n",
    "    \n",
    "def effectif_to_frequence(effectifs):\n",
    "    \"\"\"list(int)->list(float)\n",
    "        A partir d’une liste d’effectifs\n",
    "        retourne la liste des fr´equences\"\"\"\n",
    "    n = len(effectifs)\n",
    "    frequences = []\n",
    "    S = sum(effectifs)\n",
    "    for k in range(n):\n",
    "        frequences += [ effectifs[k]/S ]\n",
    "    return frequences\n",
    "\n",
    "def frequence_to_frequence_cumule(F):\n",
    "    \"\"\"list(float)->list(float)\"\"\"\n",
    "    C = [F[0]]\n",
    "    for i in range(1,len(F)):\n",
    "        C += [ C[-1] + F[i] ]\n",
    "    return C"
   ]
  },
  {
   "cell_type": "code",
   "execution_count": 19,
   "metadata": {},
   "outputs": [
    {
     "data": {
      "text/plain": [
       "[0.05172413793103448,\n",
       " 0.12068965517241378,\n",
       " 0.3620689655172414,\n",
       " 0.5344827586206897,\n",
       " 0.6896551724137931,\n",
       " 0.8275862068965518,\n",
       " 0.913793103448276,\n",
       " 0.9827586206896554,\n",
       " 1.0000000000000002]"
      ]
     },
     "execution_count": 19,
     "metadata": {},
     "output_type": "execute_result"
    }
   ],
   "source": [
    "frequences = effectif_to_frequence(nb_femmes)\n",
    "frequencs_cumules = frequence_to_frequence_cumule(frequences)\n",
    "frequencs_cumules"
   ]
  },
  {
   "cell_type": "code",
   "execution_count": 26,
   "metadata": {},
   "outputs": [
    {
     "data": {
      "image/png": "[encoded data removed]",
      "text/plain": [
       "<Figure size 432x288 with 1 Axes>"
      ]
     },
     "metadata": {
      "needs_background": "light"
     },
     "output_type": "display_data"
    }
   ],
   "source": [
    "def courbes_freq_cumul(X,F):\n",
    "    \"\"\"list(float),list(float)->list(float)\n",
    "        les deux listes X et E sont de m^eme longueur\n",
    "        trace une courbe\"\"\"\n",
    "    n = len(X)\n",
    "    S = 0\n",
    "    for i in range(n-1):\n",
    "        S = S + F[i]\n",
    "        plt.plot([X[i],X[i+1]],[S,S], color='r')\n",
    "    plt.plot([X[n-1],X[n-1]+3],[1,1], color='r')\n",
    "    \n",
    "courbes_freq_cumul(nb_enfants,frequencs_cumules)\n"
   ]
  },
  {
   "cell_type": "code",
   "execution_count": 36,
   "metadata": {},
   "outputs": [
    {
     "name": "stdout",
     "output_type": "stream",
     "text": [
      "      \n",
      "      La moyenne des femmes est de 6.444444444444445. \n",
      "      La moyenne des enfants est de 4.777777777777778.\n",
      "      la mediane des femmes est de 9.\n",
      "      La mediane des enfants est de 4. \n",
      "      Le mode est de [2]\n"
     ]
    },
    {
     "data": {
      "text/plain": [
       "[2]"
      ]
     },
     "execution_count": 36,
     "metadata": {},
     "output_type": "execute_result"
    }
   ],
   "source": [
    "def moyenne(X):\n",
    "    \"\"\"list(float)->float\"\"\"\n",
    "    n = len(X)\n",
    "    m = X[0]\n",
    "    for i in range(1,n):\n",
    "        m += X[i]\n",
    "    return m/n\n",
    "\n",
    "moyenne_femmes = moyenne(nb_femmes)\n",
    "moyenne_enfants = moyenne(nb_enfants)\n",
    "\n",
    "\n",
    "def mediane(X):\n",
    "    n = len(X)\n",
    "    if n%2 == 1:\n",
    "       return X[(n-1)//2]\n",
    "    else:\n",
    "        return (X[(n-2)//2]+X[n//2])/2 \n",
    "mediane_femmes = mediane(nb_femmes)\n",
    "mediane_enfants = mediane(nb_enfants)\n",
    "\n",
    "\n",
    "def mode(X,E):\n",
    "    n = len(X)\n",
    "    M = E[0]\n",
    "    S = [X[0]]\n",
    "    for i in range(1,n):\n",
    "        if M < E[i]:\n",
    "            M = E[i]\n",
    "            S = [X[i]]\n",
    "        elif M == E[i]:\n",
    "            S += [X[i]]\n",
    "    return S\n",
    "\n",
    "mode_val = mode(nb_enfants,nb_femmes)\n",
    "\n",
    "\n",
    "print(f\"\"\"      \n",
    "      La moyenne des femmes est de {moyenne_femmes}. \n",
    "      La moyenne des enfants est de {moyenne_enfants}.\n",
    "      la mediane des femmes est de {mediane_femmes}.\n",
    "      La mediane des enfants est de {mediane_enfants}. \n",
    "      Le mode est de {mode_val}\"\"\")\n"
   ]
  },
  {
   "cell_type": "code",
   "execution_count": 47,
   "metadata": {},
   "outputs": [
    {
     "name": "stdout",
     "output_type": "stream",
     "text": [
      " \n",
      "        L'entendue est de 10.222222222222221.\n",
      "        l'espace interquartile est de 5.0\n",
      "        l'écart type est de 3.8618104882183926\n",
      "        l'écart moyen absolu est de 3.382716049382716\n",
      "    \n"
     ]
    }
   ],
   "source": [
    "\n",
    "\n",
    "\n",
    "#calculate interquartile range \n",
    "q3, q1 = np.percentile(nb_femmes, [75 ,25])\n",
    "iqr = q3 - q1\n",
    "iqr\n",
    "\n",
    "entendue = 15 -np.mean(nb_enfants)\n",
    "\n",
    "print(f\"\"\" \n",
    "        L'entendue est de {entendue}.\n",
    "        l'espace interquartile est de {iqr}\n",
    "        l'écart type est de {np.std(nb_femmes)}\n",
    "        l'écart moyen absolu est de {np.mean(np.absolute(nb_femmes - np.mean(nb_femmes)))}\n",
    "    \"\"\")\n",
    "\n"
   ]
  },
  {
   "cell_type": "code",
   "execution_count": 56,
   "metadata": {},
   "outputs": [
    {
     "data": {
      "image/png": "[encoded data removed]",
      "text/plain": [
       "<Figure size 432x288 with 1 Axes>"
      ]
     },
     "metadata": {
      "needs_background": "light"
     },
     "output_type": "display_data"
    },
    {
     "name": "stdout",
     "output_type": "stream",
     "text": [
      "\n",
      "95.0 % intervalle de confience 3.0 et 10.0\n"
     ]
    }
   ],
   "source": [
    "import numpy \n",
    "from sklearn.utils import resample \n",
    "  \n",
    "x = numpy.array(nb_femmes) \n",
    "  \n",
    "n_iterations = 1000\n",
    "n_size = int(len(x)) \n",
    "  \n",
    "medians = list() \n",
    "for i in range(n_iterations): \n",
    "   s = resample(x, n_samples=n_size); \n",
    "   m = numpy.median(s); \n",
    "   medians.append(m) \n",
    "  \n",
    "plt.hist(medians) \n",
    "plt.show() \n",
    "  \n",
    "alpha = 0.95\n",
    "p = ((1.0-alpha)/2.0) * 100\n",
    "lower =  numpy.percentile(medians, p) \n",
    "p = (alpha+((1.0-alpha)/2.0)) * 100\n",
    "upper =  numpy.percentile(medians, p) \n",
    "  \n",
    "print(f\"\\n{alpha*100} % intervalle de confience {lower} et {upper}\")\n"
   ]
  },
  {
   "cell_type": "code",
   "execution_count": 48,
   "metadata": {},
   "outputs": [
    {
     "data": {
      "text/plain": [
       "{'whiskers': [<matplotlib.lines.Line2D at 0x11d8c1100>,\n",
       "  <matplotlib.lines.Line2D at 0x11d8c13d0>],\n",
       " 'caps': [<matplotlib.lines.Line2D at 0x11d8c1760>,\n",
       "  <matplotlib.lines.Line2D at 0x11d8c1af0>],\n",
       " 'boxes': [<matplotlib.lines.Line2D at 0x11d8b6d90>],\n",
       " 'medians': [<matplotlib.lines.Line2D at 0x11d8c1e80>],\n",
       " 'fliers': [<matplotlib.lines.Line2D at 0x11d8c9250>],\n",
       " 'means': []}"
      ]
     },
     "execution_count": 48,
     "metadata": {},
     "output_type": "execute_result"
    },
    {
     "data": {
      "image/png": "[encoded data removed]",
      "text/plain": [
       "<Figure size 432x288 with 1 Axes>"
      ]
     },
     "metadata": {
      "needs_background": "light"
     },
     "output_type": "display_data"
    }
   ],
   "source": [
    "plt.boxplot(nb_femmes)"
   ]
  },
  {
   "cell_type": "code",
   "execution_count": 63,
   "metadata": {},
   "outputs": [
    {
     "name": "stdout",
     "output_type": "stream",
     "text": [
      "\n",
      "-4.0 et 12.0,\n",
      "      toutes les valeurs qui ne sont pas comprises dans cet intervalle sont des outliers,\n",
      "      par cosequent on obtient un outlier qui est 15\n"
     ]
    }
   ],
   "source": [
    "#  Find the outliers \n",
    "q3, q1 = np.percentile(nb_enfants, [75 ,25])\n",
    "iqr = q3 - q1\n",
    "iqr\n",
    "lower_bound = q1 -(1.5 * iqr) \n",
    "upper_bound = q3 +(1.5 * iqr) \n",
    "\n",
    "print(f\"\"\"\\n{lower_bound} et {upper_bound},\n",
    "      toutes les valeurs qui ne sont pas comprises dans cet intervalle sont des outliers,\n",
    "      par cosequent on obtient un outlier qui est {nb_enfants[-1]}\"\"\")"
   ]
  },
  {
   "cell_type": "code",
   "execution_count": null,
   "metadata": {},
   "outputs": [],
   "source": [
    "df = DataFrame(nb_femmes)"
   ]
  }
 ],
 "metadata": {
  "interpreter": {
   "hash": "aee8b7b246df8f9039afb4144a1f6fd8d2ca17a180786b69acc140d282b71a49"
  },
  "kernelspec": {
   "display_name": "Python 3.9.10 64-bit",
   "language": "python",
   "name": "python3"
  },
  "language_info": {
   "codemirror_mode": {
    "name": "ipython",
    "version": 3
   },
   "file_extension": ".py",
   "mimetype": "text/x-python",
   "name": "python",
   "nbconvert_exporter": "python",
   "pygments_lexer": "ipython3",
   "version": "3.8.10"
  },
  "orig_nbformat": 4
 },
 "nbformat": 4,
 "nbformat_minor": 2
}
