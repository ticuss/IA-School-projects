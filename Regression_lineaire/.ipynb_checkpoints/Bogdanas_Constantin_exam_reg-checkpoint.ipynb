{
 "cells": [
  {
   "cell_type": "markdown",
   "metadata": {},
   "source": [
    "# Probabilités et statistiques Domaine: Regression lineaire et non lineaire "
   ]
  },
  {
   "cell_type": "markdown",
   "metadata": {},
   "source": [
    "### 1 STATISTIQUE DESCRIPTIVE UNIVARIEE\n"
   ]
  },
  {
   "cell_type": "markdown",
   "metadata": {},
   "source": [
    "##### 1.1 NOMBRE D’ENFANTS PAR FEMME"
   ]
  },
  {
   "cell_type": "code",
   "execution_count": 368,
   "metadata": {},
   "outputs": [
    {
     "data": {
      "image/png": "[encoded data removed]",
      "text/plain": [
       "<Figure size 432x288 with 1 Axes>"
      ]
     },
     "metadata": {
      "needs_background": "light"
     },
     "output_type": "display_data"
    }
   ],
   "source": [
    "import matplotlib.pyplot as plt\n",
    "import numpy as np\n",
    "import pandas as pd\n",
    "\n",
    "fig = plt.figure()\n",
    "\n",
    "nb_enfants = [0,1,2,3,4,5,6,7,15]\n",
    "nb_femmes = [3,4,14,10,9,8,5,4,1]\n",
    "width = 0.5\n",
    "\n",
    "\n",
    "plt.bar(nb_enfants, nb_femmes, width, color='b' )\n",
    "\n",
    "plt.savefig('SimpleBar.png')\n",
    "plt.show()"
   ]
  },
  {
   "cell_type": "code",
   "execution_count": 369,
   "metadata": {},
   "outputs": [],
   "source": [
    "\n",
    "\n",
    "# Pour trouver les frequences \n",
    "# on a besoin de la somme des effectifs\n",
    "# comme on a déja les effectifs qui est le array (nb_femmes), on peut les calculer\n",
    "# on prends chaque element de l'array et on le divise à la somme des effectifs\n",
    "# et on ajoute le resultat à la liste frequences\n",
    "\n",
    "# On va faire le calcul pour le premier élément de la liste \n",
    "# 3/58 = 0.05172413793103448 pour les restes c'est le meme principe.\n",
    "    \n",
    "def effectif_to_frequence(effectifs: list) -> list:\n",
    "    \"\"\"A partir d’une liste d’effectifs\n",
    "        retourne la liste des fréquences\"\"\"\n",
    "    n = len(effectifs)\n",
    "    frequences = []\n",
    "    S = sum(effectifs)\n",
    "    for k in range(n):\n",
    "        frequences += [ effectifs[k]/S ]\n",
    "    return frequences\n",
    "\n",
    "\n",
    "# Pour trouver les frequences cumules\n",
    "# on prends le premier element de la liste frequences et on l'ajout dans la liste des frequences cumulés \n",
    "# le deuxième element de la liste frequences cumules est le premier element + le deuxième element de la liste frequences\n",
    "# le troixième element de la liste frequences cumules est le premier element + le deuxième element de la liste frequences + le troisième element de la liste frequences\n",
    "# ainsi de suite ... \n",
    "\n",
    "def frequence_to_frequence_cumule(F):\n",
    "    C = [F[0]]\n",
    "    for i in range(1,len(F)):\n",
    "        C += [ C[-1] + F[i] ]\n",
    "    return C"
   ]
  },
  {
   "cell_type": "code",
   "execution_count": 370,
   "metadata": {},
   "outputs": [
    {
     "name": "stdout",
     "output_type": "stream",
     "text": [
      "\n",
      "freq = [0.05172413793103448, 0.06896551724137931, 0.2413793103448276, 0.1724137931034483, 0.15517241379310345, 0.13793103448275862, 0.08620689655172414, 0.06896551724137931, 0.017241379310344827]\n",
      "freq_cumule = [0.05172413793103448, 0.12068965517241378, 0.3620689655172414, 0.5344827586206897, 0.6896551724137931, 0.8275862068965518, 0.913793103448276, 0.9827586206896554, 1.0000000000000002],\n"
     ]
    }
   ],
   "source": [
    "frequences = effectif_to_frequence(nb_femmes)\n",
    "frequencs_cumules = frequence_to_frequence_cumule(frequences)\n",
    "\n",
    "print(f\"\"\"\n",
    "freq = {frequences}\n",
    "freq_cumule = {frequencs_cumules},\"\"\")"
   ]
  },
  {
   "cell_type": "code",
   "execution_count": 371,
   "metadata": {},
   "outputs": [
    {
     "data": {
      "image/png": "[encoded data removed]",
      "text/plain": [
       "<Figure size 432x288 with 1 Axes>"
      ]
     },
     "metadata": {
      "needs_background": "light"
     },
     "output_type": "display_data"
    }
   ],
   "source": [
    "def courbes_freq_cumul(X,F):\n",
    "    \"\"\"list(float),list(float)->list(float)\n",
    "        les deux listes X et E sont de m^eme longueur\n",
    "        trace une courbe\"\"\"\n",
    "    n = len(X)\n",
    "    S = 0\n",
    "    for i in range(n-1):\n",
    "        S = S + F[i]\n",
    "        plt.plot([X[i],X[i+1]],[S,S], color='r')\n",
    "    plt.plot([X[n-1],X[n-1]+3],[1,1], color='r')\n",
    "    \n",
    "courbes_freq_cumul(nb_enfants,frequencs_cumules)\n"
   ]
  },
  {
   "cell_type": "code",
   "execution_count": 372,
   "metadata": {},
   "outputs": [
    {
     "name": "stdout",
     "output_type": "stream",
     "text": [
      "      \n",
      "      La moyenne des femmes est de 6.444444444444445. \n",
      "      La moyenne des enfants est de 4.777777777777778.\n",
      "      la mediane des femmes est de 9.\n",
      "      La mediane des enfants est de 4. \n",
      "      Le mode est de 2.\n"
     ]
    }
   ],
   "source": [
    "# Pour trouver la moyenne on fait la somme des éléments de la liste et on divise par le nombre d'éléments\n",
    "\n",
    "def moyenne(X):\n",
    "    \"\"\"list(float)->float\"\"\"\n",
    "    n = len(X)\n",
    "    m = X[0]\n",
    "    for i in range(1,n):\n",
    "        m += X[i]\n",
    "    return m/n\n",
    "\n",
    "moyenne_femmes = moyenne(sorted(nb_femmes))\n",
    "moyenne_enfants = moyenne(sorted(nb_enfants))\n",
    "\n",
    "# pour trouver la mediane \n",
    "# si le nombre des elements est impair alors med = X[N+1/2]\n",
    "# si le nombre des elements est pair on a la formule 1/2(X[n/2] + X[(n/2)+1])/2 \n",
    "\n",
    "def mediane(liste):\n",
    "    length = len(liste)\n",
    "    if length%2 == 1:\n",
    "       return liste[(length-1)//2]\n",
    "    else:\n",
    "        return (liste[(length-2)//2]+liste[length//2])/2 \n",
    "mediane_femmes = mediane(nb_femmes)\n",
    "mediane_enfants = mediane(nb_enfants)\n",
    "\n",
    "# Mode : La valeur la plus fréquente d'une série statistique — C'est la (ou les) valeur(s) du caractère dont l’effectif est le plus grand.\n",
    "# il y a plusieurs facon de trouver le mode le plus simple ca sera juste de regarder la liste des effectifs et de regarder quel est le plus grand effectif\n",
    "# On observe bien que c'est le numéro 2 qui a le plus grand effectif\n",
    "\n",
    "\n",
    "\n",
    "print(f\"\"\"      \n",
    "      La moyenne des femmes est de {moyenne_femmes}. \n",
    "      La moyenne des enfants est de {moyenne_enfants}.\n",
    "      la mediane des femmes est de {mediane_femmes}.\n",
    "      La mediane des enfants est de {mediane_enfants}. \n",
    "      Le mode est de 2.\"\"\")\n"
   ]
  },
  {
   "cell_type": "code",
   "execution_count": 373,
   "metadata": {},
   "outputs": [
    {
     "data": {
      "image/png": "[encoded data removed]",
      "text/plain": [
       "<Figure size 432x288 with 1 Axes>"
      ]
     },
     "metadata": {
      "needs_background": "light"
     },
     "output_type": "display_data"
    },
    {
     "name": "stdout",
     "output_type": "stream",
     "text": [
      "\n",
      "      algorithme 95.0 % intervalle de confience 3.225 et 8.0\n",
      "      T distribution intervalle de confience 3.4759994491672406 et 9.41288943972165\n",
      "       \n"
     ]
    }
   ],
   "source": [
    "# intervalle de confience \n",
    "# Premièrement on va calculer la moyenne = 6.444444444444445. et l'écart type = 3.8618104882183926 de cet échantillon.\n",
    "# Choisissez votre degré de confiance = 95%\n",
    "# On a 9 elements donc on a 9-1 = 8 degree of freedom \n",
    "# (1 – 0.95) / 2 = 0.025\n",
    "# avec le degree of freedom de 8 et alpha =0.025 on peut trouver dans le tablea de distribution T = 2.306\n",
    "# On divise l'ecart type = 3.8618104882183926 avec le sqrt(9) = 3  1,287270162739464e16\n",
    "# on multiplie 2.306 par 1,287270162739464e16 = 2,968444995277204\n",
    "# lower bond = 6.444444444444445 - 2.968444995277204 = 3.4759994491672406\n",
    "# upper bond = 6.444444444444445 + 2.968444995277204 = 9.41288943972165\n",
    "\n",
    "import numpy \n",
    "from sklearn.utils import resample \n",
    "  \n",
    "x = numpy.array(nb_femmes) \n",
    "  \n",
    "n_iterations = 10\n",
    "n_size = int(len(x)) \n",
    "  \n",
    "medians = list() \n",
    "for i in range(n_iterations): \n",
    "   s = resample(x, n_samples=n_size); \n",
    "   m = numpy.median(s); \n",
    "   medians.append(m) \n",
    "  \n",
    "plt.hist(medians) \n",
    "plt.show() \n",
    "  \n",
    "alpha = 0.95\n",
    "p = ((1.0-alpha)/2.0) * 100\n",
    "lower =  numpy.percentile(medians, p) \n",
    "p = (alpha+((1.0-alpha)/2.0)) * 100\n",
    "upper =  numpy.percentile(medians, p) \n",
    "  \n",
    "print(f\"\"\"\n",
    "      algorithme {alpha*100} % intervalle de confience {lower} et {upper}\n",
    "      T distribution intervalle de confience { 3.4759994491672406} et {9.41288943972165}\n",
    "       \"\"\")\n"
   ]
  },
  {
   "cell_type": "code",
   "execution_count": 374,
   "metadata": {},
   "outputs": [
    {
     "name": "stdout",
     "output_type": "stream",
     "text": [
      " \n",
      "        L'entendue est de 10.222222222222221.\n",
      "        Q3 est de 9.0.\n",
      "        q1 est de 4.0.\n",
      "        l'espace interquartile est de 5.0\n",
      "        l'écart type est de 3.8618104882183926\n",
      "        l'écart moyen absolu est de 3.382716049382716\n",
      "    \n"
     ]
    }
   ],
   "source": [
    "# pour trouver le interquartile on a besoin de quartile 3 et quartile 1 \n",
    "# Le troisième quartile Q3 est la plus petite valeur de la série telle qu'au moins 75% des\n",
    "# valeurs sont inférieures ou égales à Q3.\n",
    "# Le premier quartile Q1 est la plus grande valeur de la série telle qu'au moins 25% des\n",
    "# Donc Q1 = 1/4 * (effectif total) = 4 \n",
    "# Q3 = 3/4 * (effectif total)= 9\n",
    "# L' interquartile = Q3 - Q1 = 9 - 4 = 5\n",
    "\n",
    "q3, q1 = np.percentile(nb_femmes, [75 ,25])\n",
    "iqr = q3 - q1\n",
    "iqr\n",
    "\n",
    "# L’étendue est la différence entre la plus grande valeur et la plus petite valeur\n",
    "entendue = 15 -np.mean(nb_enfants)\n",
    "\n",
    "print(f\"\"\" \n",
    "        L'entendue est de {entendue}.\n",
    "        Q3 est de {q3}.\n",
    "        q1 est de {q1}.\n",
    "        l'espace interquartile est de {iqr}\n",
    "        l'écart type est de {np.std(nb_femmes)}\n",
    "        l'écart moyen absolu est de {np.mean(np.absolute(nb_femmes - np.mean(nb_femmes)))}\n",
    "    \"\"\")\n",
    "\n"
   ]
  },
  {
   "cell_type": "code",
   "execution_count": 375,
   "metadata": {},
   "outputs": [
    {
     "data": {
      "text/plain": [
       "{'whiskers': [<matplotlib.lines.Line2D at 0x1331af2e0>,\n",
       "  <matplotlib.lines.Line2D at 0x1331af400>],\n",
       " 'caps': [<matplotlib.lines.Line2D at 0x1331af100>,\n",
       "  <matplotlib.lines.Line2D at 0x13318e3d0>],\n",
       " 'boxes': [<matplotlib.lines.Line2D at 0x1331af970>],\n",
       " 'medians': [<matplotlib.lines.Line2D at 0x13318e610>],\n",
       " 'fliers': [<matplotlib.lines.Line2D at 0x1330a3760>],\n",
       " 'means': []}"
      ]
     },
     "execution_count": 375,
     "metadata": {},
     "output_type": "execute_result"
    },
    {
     "data": {
      "image/png": "[encoded data removed]",
      "text/plain": [
       "<Figure size 432x288 with 1 Axes>"
      ]
     },
     "metadata": {
      "needs_background": "light"
     },
     "output_type": "display_data"
    }
   ],
   "source": [
    "# Boite a moustache \n",
    "plt.boxplot(nb_femmes)"
   ]
  },
  {
   "cell_type": "code",
   "execution_count": 376,
   "metadata": {},
   "outputs": [
    {
     "name": "stdout",
     "output_type": "stream",
     "text": [
      "\n",
      "      lower_bound = -4.0 et upper_bound = 12.0,\n",
      "      toutes les valeurs qui ne sont pas comprises dans cet \n",
      "      intervalle sont des outliers,par cosequent on obtient\n",
      "      un outlier qui est 15\n"
     ]
    }
   ],
   "source": [
    "#  Find the outliers \n",
    "q3, q1 = np.percentile(nb_enfants, [75 ,25])\n",
    "iqr = q3 - q1\n",
    "iqr\n",
    "lower_bound = q1 -(1.5 * iqr) \n",
    "upper_bound = q3 +(1.5 * iqr) \n",
    "\n",
    "print(f\"\"\"\n",
    "      lower_bound = {lower_bound} et upper_bound = {upper_bound},\n",
    "      toutes les valeurs qui ne sont pas comprises dans cet \n",
    "      intervalle sont des outliers,par cosequent on obtient\n",
    "      un outlier qui est {nb_enfants[-1]}\"\"\")"
   ]
  },
  {
   "cell_type": "code",
   "execution_count": 377,
   "metadata": {},
   "outputs": [
    {
     "name": "stdout",
     "output_type": "stream",
     "text": [
      "Pearson’s premier coefficient d’asymétrie est de 1.150870675296872,\n",
      "      pearson’s second coefficient d’asymétrie est de -1.9852519148871042 \n",
      "      On peut donc déduire que les données sont très asymétriques.\n",
      "2.2792010218850045\n",
      "Algorithm skewness = 0.6132862266278487 et kurtosis = -0.23009329164761017\n",
      "kurtosis est -0.23009329164761017 Platykurtic Distribution\n"
     ]
    }
   ],
   "source": [
    "# Pearson’s premier coefficient d'asymetrie est un indicateur de la dispersion des données.\n",
    "# Pour le calculer, on doit faire le calcul (moyenne - mode) / écart-type.\n",
    "pearson_coef = (np.mean(nb_femmes) - 2) / np.std(nb_femmes)\n",
    "\n",
    "pearson_second_coef = 3*(moyenne_femmes - mediane_femmes) / np.std(nb_femmes)\n",
    "\n",
    "print(f\"\"\"Pearson’s premier coefficient d’asymétrie est de {pearson_coef},\n",
    "      pearson’s second coefficient d’asymétrie est de {pearson_second_coef} \n",
    "      On peut donc déduire que les données sont très asymétriques.\"\"\")\n",
    "\n",
    "# Pour calculer le coefficient kurtosis, on doit faire plusieurs calculs. \n",
    "# Étape 1 : Tout d'abord, après avoir formé la distribution des données, on détérmine le nombre de variables dans la distribution, désigné par \"n\".\n",
    "\n",
    "# Étape 2 : Ensuite, calculer la moyenne de la distribution, qui est l'agrégat de toutes les variables (Yi) de la distribution divisé par le\n",
    "# nombre de variables de la distribution (n). Elle est désignée par Ȳ.\n",
    "# Ȳ = ΣYi / n\n",
    "#\n",
    "\n",
    "# Étape 3 : Ensuite, on détérmine le quatrième moment de la distribution en additionnant la puissance quatrième de l'écart entre chaque variable\n",
    "# et la moyenne (étape 2) qui est ensuite divisée par le nombre de variables dans la distribution (étape 1).\n",
    "\n",
    "#Quatrième moment = Σ(Yi - Ȳ)^4 / n\n",
    "\n",
    "#Étape 4 : Ensuite, on détérmine la variance (s2) ou deuxième moment de la distribution en additionnant le carré de l'écart entre chaque variable et \n",
    "# la moyenne (étape 2) qui est ensuite divisé par le nombre de variables dans la distribution (étape 1).\n",
    "\n",
    "##s2 = Σ(Yi - Ȳ)2 / n\n",
    "\n",
    "#Étape 5 : Enfin, la formule du kurtosis peut être dérivée en divisant le quatrième moment (étape 3) par le deuxième moment au carré de la distribution \n",
    "# (étape 4), comme indiqué ci-dessous.\n",
    "\n",
    "#Kurtosis = Σi(Yi - Ȳ)^4 / (Σi(Yi - Ȳ)^2)^2\n",
    "\n",
    "n = len(nb_femmes)\n",
    "moyenne_distribution = np.mean(nb_femmes)\n",
    "std_by_variable = [nb_femmes[0] - moyenne_distribution, nb_femmes[1] - moyenne_distribution, nb_femmes[2] - moyenne_distribution, nb_femmes[3] - moyenne_distribution,\n",
    "                                  nb_femmes[4] - moyenne_distribution, nb_femmes[5] - moyenne_distribution, nb_femmes[6] - moyenne_distribution, nb_femmes[7] - moyenne_distribution,\n",
    "                                  nb_femmes[8] - moyenne_distribution\n",
    "                                 ]\n",
    "std_second = np.array([std_by_variable]) **2\n",
    "second_moment = np.sum(std_second)/n\n",
    "std_fourth = np.array([std_by_variable]) **4\n",
    "fourth_moment = np.sum(std_fourth)/ n\n",
    "kurtosis = ( fourth_moment) / (second_moment )**2\n",
    "\n",
    "\n",
    "print(kurtosis)\n",
    "f\"\"\"\n",
    "kurtosis = {kurtosis}\n",
    "Puisque le kurtosis de la distribution est inférieur à 3, cela signifie qu'il s'agit d'une distribution platykurtique.\n",
    "\"\"\"\n",
    "# On peut aussi utiliser la fonction skew() qui renvoie le coefficient de la symétrie de la série.\n",
    "# Cette fonction renvoie un nombre entre -1 et 1.\n",
    "# Si le coefficient est négatif, les données sont asymétriques vers la gauche.\n",
    "# Si le coefficient est positif, les données sont asymétriques vers la droite.\n",
    "# Si le coefficient est nul, les données sont symétriques.\n",
    "# On peut aussi utiliser la fonction kurtosis() qui renvoie le coefficient de la kurtosis de la série.\n",
    "# Cette fonction renvoie un nombre entre -3 et 3.\n",
    "# Si le coefficient est < 3 , les données sont platykurtic.\n",
    "# Si le coefficient est > 3  , les données sont Leptokurtiques.\n",
    "# Si le coefficient est = 3 , les données sont Mesokurtique.\n",
    "\n",
    "\n",
    "df = pd.DataFrame(nb_femmes, columns=['femmes'], index=nb_enfants)\n",
    "skew = df.skew(axis = 0, skipna = True)\n",
    "kurt = df.kurtosis(axis = 0, skipna = True)\n",
    "\n",
    "print(f\"Algorithm skewness = {skew[0]} et kurtosis = {kurt[0]}\")\n",
    "print(f\"kurtosis est -0.23009329164761017 Platykurtic Distribution\")\n"
   ]
  },
  {
   "cell_type": "markdown",
   "metadata": {},
   "source": [
    "1) Le nombre de nombre d 'enfants par femme suit elle la loi normale de moyenne m et d'écart type std ?\n",
    "\n",
    "    Oui elle suit la loi normale \n",
    "\n",
    "2) Le nombre de nombre d 'enfants par femme suit elle la loi de poisson de moyenne 1/m? \n",
    "\n",
    "    Non elle ne suit pas une loi de poisson de moyenne 1/m loi de poisson s'utilise plutot pour les événements rares\n",
    "\n",
    "3) Le nombre de nombre d 'enfants par femme suit elle la loi exponentielle?\n",
    "  \n",
    "   None dans notre cas on ne suit pas une loi exponentielle\n",
    "   "
   ]
  },
  {
   "cell_type": "markdown",
   "metadata": {},
   "source": [
    "### 2 PARAMETRIQUE "
   ]
  },
  {
   "cell_type": "markdown",
   "metadata": {},
   "source": [
    "#### 2.1 CINEMA "
   ]
  },
  {
   "cell_type": "code",
   "execution_count": 378,
   "metadata": {},
   "outputs": [],
   "source": [
    "\n",
    "# Pour calculer l'intervalle de confience d'une proportion, on doit faire plusieurs calculs.\n",
    "# n = 144\n",
    "# x = nombre des clients qui sont interessé 144* 0.54 = 77,8\n",
    "# p = 77,8/144 = 0,54 est la proportion de l'échantillon ; c'est l'estimation ponctuelle de la proportion de la population.\n",
    "# q = 1- p = 1 - 0,54 = 0,46\n",
    "# Puisque le niveau de confiance demandé est CL = 0.90 ou 0.80  on a Z[a/2] = 1.96 ou 1.64 respectivement.\n",
    "# On peut donc déduire que l'intervalle de confiance de 90% de la proportion est donc [p - Z[a/2]sqrt(p*q/n), p + Z[a/2]sqrt(p*q/n)] = [0,54 - 1,96*((0,54*0,46)/144),0,54 + 1,96*((0,54*0,46)/144)]\n",
    "# upper_bond = 0.536619 lower_bond = 0.543381\n",
    "# on fait le meme calcul pout un intervalle de confiance de 80% donc : [p - Z[a/2]sqrt(p*q/n), p + Z[a/2]sqrt(p*q/n)] = [0,54 - 1,64*((0,54*0,46)/144),0,54 + 1,64*((0,54*0,46)/144)]\n",
    "# lower_bond = 0.537171 upper_bond = 0.542829\n",
    "\n",
    "\n",
    "from scipy.stats import norm\n",
    "def intervalle_confience(proportion: float, echantillon :int, conf_pourcentage:float ) -> list :\n",
    "\n",
    "    # Il faut donner une proportion entre 0 et 1 et une taille d'échantillon \n",
    "    # proportion peut aussi correspondre à une liste de proportions\n",
    "    proba = (1-((1-conf_pourcentage)/2))\n",
    "    intervalle_confience  = (norm.ppf(proba)*((proportion*(1-proportion)/echantillon)**0.5) )\n",
    "    return(intervalle_confience)"
   ]
  },
  {
   "cell_type": "code",
   "execution_count": 379,
   "metadata": {},
   "outputs": [
    {
     "data": {
      "text/plain": [
       "'\\nAlgorithme: intervalle de confiance 80% = +- 0.053226834079563974 et intervalle de confiance 90% = +- 0.06831590194321221\\nCalcul manuel : intervalle de confiance 80% lower_bond = 0.537171 upper_bond = 0.542829\\ncalcul manuel : intervalle de confiance 90% lower_bond = 0.536619 upper_bond = 0.543381\\n'"
      ]
     },
     "execution_count": 379,
     "metadata": {},
     "output_type": "execute_result"
    }
   ],
   "source": [
    "inteval_80= intervalle_confience(0.54, 144, 0.80)\n",
    "inteval_90 = intervalle_confience(0.54, 144, 0.90)\n",
    "\n",
    "f\"\"\"\n",
    "Algorithme: intervalle de confiance 80% = +- {inteval_80} et intervalle de confiance 90% = +- {inteval_90}\n",
    "Calcul manuel : intervalle de confiance 80% lower_bond = 0.537171 upper_bond = 0.542829\n",
    "calcul manuel : intervalle de confiance 90% lower_bond = 0.536619 upper_bond = 0.543381\n",
    "\"\"\"\n"
   ]
  },
  {
   "cell_type": "markdown",
   "metadata": {},
   "source": [
    "### 3 TESTS PARAMETRIQUES"
   ]
  },
  {
   "cell_type": "markdown",
   "metadata": {},
   "source": [
    "#### 3.1 INTOXICATIONS "
   ]
  },
  {
   "cell_type": "code",
   "execution_count": 380,
   "metadata": {},
   "outputs": [],
   "source": [
    "# estimations: 123 / 276 = 0,445652173913043 Milieu urbain\n",
    "# 145/295 = 0,491525423728814 Milieu rural \n",
    "# on va calculer la la marge d'erreur \n",
    "# qui est de alpha = 5% \n",
    "# et alpha = 10%\n",
    "# +- 1,96*((sqrt(0,491525423728814*(1-0,491525423728814))/sqrt(295)))) = +-0.0570496 = 5,7% (Rural, 5%)\n",
    "# +- 1,96*((sqrt(0,445652173913043*(1-0,445652173913043))/sqrt(276)))) = +-0.0586396 = 5,86% (Urbain, 5%)\n",
    "# +- 1,64*((sqrt(0,491525423728814*(1-0,491525423728814))/sqrt(295)))) = +-0.0477354 = 4,77% (Rural, 10%)\n",
    "# +- 1,64*((sqrt(0,445652173913043*(1-0,445652173913043))/sqrt(276)))) = +-0.0474594 = 4,74% (Urbain, 10%)\n",
    "\n",
    "# Donc pour Milieu urbain alpha = 5% on a ±16.2 [ 106.8 , 139.2 ] en pourcentage ±5.86% [ 38.70% , 50.43% ]\n",
    "# Donc pour Milieu rural alpha = 5% on a ±16.8 [ 128.2 , 161.8 ] en pourcentage ±5.70% [ 43.45% , 54.86% ]\n",
    "#... \n",
    "\n",
    "# Les differences ne sont pas très significatives pour les deux milieux.\n",
    "# Comme notre echantillon est de 295 personnes, ~5 pourcent c'est ~ 16 personnes et c'est pas beaucoup. \n",
    "# Si on compare ls deux milieux on peut voir que leur difference est très faible.\n",
    "# Aussi en comparant on observe que les deux milieux ont presque les memes proportions de personnes infectes.\n",
    "\n",
    "\n"
   ]
  },
  {
   "cell_type": "markdown",
   "metadata": {},
   "source": [
    "### 4 STATISTIQUE BIVARIEE/ REGRESSION (NON) LINEAIRE"
   ]
  },
  {
   "cell_type": "markdown",
   "metadata": {},
   "source": [
    "#### 4.1 COUT DE PRODUCTION"
   ]
  },
  {
   "cell_type": "code",
   "execution_count": 381,
   "metadata": {},
   "outputs": [
    {
     "data": {
      "image/png": "[encoded data removed]",
      "text/plain": [
       "<Figure size 432x288 with 1 Axes>"
      ]
     },
     "metadata": {
      "needs_background": "light"
     },
     "output_type": "display_data"
    }
   ],
   "source": [
    "masse = [1,2,4,6,8,10]\n",
    "cout = [32.5, 38.5, 44.6, 48.8, 51.1, 53.3] \n",
    "N = 6\n",
    "area = (30 * np.random.rand(N))**2\n",
    "colors = np.random.rand(N)\n",
    "plt.scatter(masse, cout, s=100, alpha=1)\n",
    "plt.show()"
   ]
  },
  {
   "cell_type": "code",
   "execution_count": 382,
   "metadata": {},
   "outputs": [
    {
     "name": "stdout",
     "output_type": "stream",
     "text": [
      "\n",
      "      On obtient un coefficient de correlation de 0.9598259532969325\n",
      "      Les calculs sont detailles au maximum pour vous montrer que j'ai compris le calcul.\n",
      "      \n",
      "\n",
      "      covariance = 22.28333333333333\n",
      "      variance = 5.1388888888888875\n",
      "      BONUS On obtient une droite de regression classique de y en x de la forme y = 0.84x + 40.44\n",
      "      \n",
      "\n",
      "      La droite de regression de moindres carrés  x en y a donc pour équation\n",
      "      BONUS x - 5.17 = 0.0000180439*(y-44.80)\n",
      "      Ce qui donne y = -472.2 + 100 x\n",
      "      \n",
      "\n",
      "      Calculons maintenant la droite y/x des moindres carrés \n",
      "      y - 44.80 = 0.84*(x-5.17)\n",
      "      ce qui nous donne y = 440.4572 + 0.84 x\n",
      "      \n"
     ]
    },
    {
     "data": {
      "image/png": "[encoded data removed]",
      "text/plain": [
       "<Figure size 432x288 with 1 Axes>"
      ]
     },
     "metadata": {
      "needs_background": "light"
     },
     "output_type": "display_data"
    }
   ],
   "source": [
    "# On va commencer par trouver les moyennes d'échantillon \n",
    "masse = [1,2,4,6,8,10]\n",
    "count = [32.5, 38.5, 44.6, 48.8, 51.1, 53.3]\n",
    "moyenne_cout = (32.5 + 38.5 + 44.6 + 48.8 + 51.1 + 53.3)/6 \n",
    "moyenne_masse = (1 + 2 + 4 + 6 + 8 + 10)/6 \n",
    "distance_cout = [32.5 - moyenne_cout, 38.5 - moyenne_cout, 44.6 - moyenne_cout, 48.8 - moyenne_cout, 51.1 - moyenne_cout, 53.3 - moyenne_cout]\n",
    "distance_masse = [1 - moyenne_masse, 2 - moyenne_masse, 4 - moyenne_masse, 6 - moyenne_masse, 8 - moyenne_masse, 10 - moyenne_masse]\n",
    "\n",
    "somme_des_produits = (distance_masse[0]* distance_cout[0]) + (distance_cout[1]* distance_masse[1])  \\\n",
    "                    + (distance_cout[2]* distance_masse[2]) + (distance_cout[3]* distance_masse[3])  \\\n",
    "                    + (distance_cout[4]* distance_masse[4]) + (distance_cout[5]* distance_masse[5]) \\\n",
    "\n",
    "\n",
    "somme_des_produits_carre= ((distance_cout[0]**2) + (distance_cout[1]**2) + \\\n",
    "                                  (distance_cout[2]**2) + (distance_cout[3]**2) + \\\n",
    "                                  (distance_cout[4]**2) + (distance_cout[5]**2))* \\\n",
    "                                    ((distance_masse[0]**2) + (distance_masse[1]**2) +\\\n",
    "                                     (distance_masse[2]**2) + (distance_masse[3]**2) + \\\n",
    "                                     (distance_masse[4]**2) + (distance_masse[5]**2))\n",
    "\n",
    "\n",
    "sqrt_somme_des_produits_carres = (somme_des_produits_carre)**0.5\n",
    "    \n",
    "coefficient = (somme_des_produits)/(sqrt_somme_des_produits_carres)\n",
    "print(f\"\"\"\n",
    "      On obtient un coefficient de correlation de {coefficient}\n",
    "      Les calculs sont detailles au maximum pour vous montrer que j'ai compris le calcul.\n",
    "      \"\"\")\n",
    "\n",
    "\n",
    "# La droite de regression de y en x a pour équation y = ax + b avec a = cov(x,y)/(var(x))^2 et b = moyenne(y) - a*moyenne(x)\n",
    "\n",
    "# One va commencer par la coviariance cov(x,y) = 1/n *sum(x,y) - moyenne(x)*moyenne(y)\n",
    "\n",
    "cov= 1/6 * somme_des_produits\n",
    "\n",
    "# variance^2 = 1/n (sum x^2 - moyenne(x)^2)\n",
    "\n",
    "var_x = 1/6 * ((1**2 - moyenne_masse**2)+ (2**2 - moyenne_masse**2) + (4**2 - moyenne_masse**2) + (6 - moyenne_masse**2) + (8**2 - moyenne_masse**2) + (10**2 - moyenne_masse**2))\n",
    "\n",
    "a = cov/var_x**2\n",
    "b = moyenne_cout - a*moyenne_masse\n",
    "\n",
    "print(f\"\"\"\n",
    "      covariance = {cov}\n",
    "      variance = {var_x}\n",
    "      BONUS On obtient une droite de regression classique de y en x de la forme y = {\"%.2f\" % a}x + {\"%.2f\" % b}\n",
    "      \"\"\")\n",
    "\n",
    "\n",
    "# La droite de regression de x en y a donc pour équation x - moyenne_masse = a(cout - moyenne_cout)\n",
    "\n",
    "var_y = 1/6 * (32.5**2 - moyenne_cout**2) + (38.5**2 - moyenne_cout**2) + (44.6**2 - moyenne_cout**2) + (48.8**2 - moyenne_cout**2) + (51.1**2 - moyenne_cout**2) + (53.3**2 - moyenne_cout**2)\n",
    "\n",
    "print(f\"\"\"\n",
    "      La droite de regression de moindres carrés  x en y a donc pour équation\n",
    "      BONUS x - {\"%.2f\" % moyenne_masse} = {\"%.10f\" % (cov/(var_y)**2)}*(y-{\"%.2f\" % moyenne_cout})\n",
    "      Ce qui donne y = -472.2 + 100 x\n",
    "      \"\"\")\n",
    "\n",
    "print(f\"\"\"\n",
    "      Calculons maintenant la droite y/x des moindres carrés \n",
    "      y - {\"%.2f\" % moyenne_cout} = {\"%.2f\" % (cov/(var_x)**2)}*(x-{\"%.2f\" % moyenne_masse})\n",
    "      ce qui nous donne y = 440.4572 + 0.84 x\n",
    "      \"\"\")\n",
    "\n",
    "x = np.linspace(0,5,50)\n",
    "\n",
    "y_en_x = 440.4572 + 0.84*x\n",
    "\n",
    "plt.plot(x, y_en_x, '-r', label='y = 440.4572+ 0.84x')\n",
    "plt.title('Graph of 440.4572 + 0.84*x')\n",
    "plt.xlabel('x', color='#1C2833')\n",
    "plt.ylabel('y', color='#1C2833')    \n",
    "plt.legend(loc='upper left')\n",
    "plt.grid()\n",
    "plt.show()\n"
   ]
  },
  {
   "cell_type": "markdown",
   "metadata": {},
   "source": [
    "#### Ajustement NON linéaire 1: régression exponentielle \n",
    "\n",
    "\n",
    "La forme du nuage suggère cependant une régression exponentielle.\n",
    " \n",
    " • Poser Y = ln(y). Calculer le coefficient de corrélation de x et Y.\n",
    "  \n",
    "  • Donner une équation de la droite de régression (D) de Y en x, obtenue par la méthode des moindres carrés.\n",
    "   \n",
    "   • En déduire l’expression de la régression exponentielle de y en x. \n",
    "   \n",
    "   • Quelle serait avec cet ajustement exponentiel la valeur de la population en 2017 ?"
   ]
  },
  {
   "cell_type": "code",
   "execution_count": 383,
   "metadata": {},
   "outputs": [
    {
     "name": "stdout",
     "output_type": "stream",
     "text": [
      "\n",
      "      On obtient un coefficient de correlation de 0.9398067024322149\n",
      "      j'ai utlise des liste comprehension pour faire faire les calculs plus rapidement \n",
      "      \n"
     ]
    }
   ],
   "source": [
    "moyenne_x = moyenne_masse \n",
    "y = [np.log(i) for i in cout]\n",
    "\n",
    "moyenne_y = (sum(y))/6\n",
    "\n",
    "\n",
    "distance_y = [ i - moyenne_y for i in y]\n",
    "distance_x = distance_masse\n",
    "\n",
    "somme_des_produits = (distance_y[0]* distance_x[0]) + (distance_y[1]* distance_x[1])  \\\n",
    "                    + (distance_y[2]* distance_x[2]) + (distance_y[3]* distance_x[3])  \\\n",
    "                    + (distance_y[4]* distance_x[4]) + (distance_y[5]* distance_x[5]) \\\n",
    "\n",
    "somme_des_produits_carre= ((distance_y[0]**2) + (distance_y[1]**2) + \\\n",
    "                          (distance_y[2]**2) + (distance_y[3]**2) + \\\n",
    "                          (distance_y[4]**2) + (distance_y[5]**2))* \\\n",
    "                          ((distance_x[0]**2) + (distance_x[1]**2) +\\\n",
    "                          (distance_x[2]**2) + (distance_x[3]**2) + \\\n",
    "                          (distance_x[4]**2) + (distance_x[5]**2))\n",
    "\n",
    "sqrt_somme_des_produits_carres = (somme_des_produits_carre)**0.5\n",
    "    \n",
    "coefficient = (somme_des_produits)/(sqrt_somme_des_produits_carres)\n",
    "print(f\"\"\"\n",
    "      On obtient un coefficient de correlation de {coefficient}\n",
    "      j'ai utlise des liste comprehension pour faire faire les calculs plus rapidement \n",
    "      \"\"\")"
   ]
  },
  {
   "cell_type": "code",
   "execution_count": 384,
   "metadata": {},
   "outputs": [
    {
     "name": "stdout",
     "output_type": "stream",
     "text": [
      "\n",
      "      Calculons maintenant la droite y/x \n",
      "      y - 3.79 = 0.0196x*5.17)\n",
      "      ce qui nous donne y = 3.79 + 0.101332 x\n",
      "      \n"
     ]
    }
   ],
   "source": [
    "y = [3.48, 3.65, 3.79, 3.88, 3.93, 3.97]\n",
    "\n",
    "cov= 1/6 * somme_des_produits\n",
    "\n",
    "var_x = 1/6 * ((1**2 - moyenne_x**2)+ (2**2 - moyenne_x**2) + (4**2 - moyenne_x**2) + (6 - moyenne_x**2) + (8**2 - moyenne_x**2) + (10**2 - moyenne_x**2))\n",
    "\n",
    "\n",
    "b = moyenne_cout - a*moyenne_x\n",
    "\n",
    "print(f\"\"\"\n",
    "      Calculons maintenant la droite y/x \n",
    "      y - {\"%.2f\" % moyenne_y} = {\"%.4f\" % (cov/(var_x)**2)}x*{\"%.2f\" % moyenne_x})\n",
    "      ce qui nous donne y = 3.79 + 0.101332 x\n",
    "      \"\"\")\n",
    "\n",
    "# Pour ajuster un nuage de points à une courbe exponentielle , il suffit de faire le changement de variable Y = ln y , X = x , A = ln a , B = ln b. \n",
    "# ln(y)=ln(a)+ln(b)* x\n",
    "\n",
    "# ln(y) = ln(0.101332)x + ln(3.79)\n",
    "\n"
   ]
  },
  {
   "cell_type": "markdown",
   "metadata": {},
   "source": [
    "#### Ajustement NON linéaire 2: régression puissance\n",
    "\n",
    "• On suppose que le nuage suggère un ajustement puissance. Poser X = ln(x) et Y = ln(y). Calculer le coefficient de corrélation de Y et X.\n",
    "\n",
    "• Déterminer l’équation de la droite de régression de Y en X par la méthode des moindres carrés. \n",
    "\n",
    "• En déduire l’expression de la régression puissance de y en x. \n",
    "\n",
    "• Quelle serait avec cet ajustement exponentiel la valeur de la population en 2017 ?"
   ]
  },
  {
   "cell_type": "code",
   "execution_count": 385,
   "metadata": {},
   "outputs": [
    {
     "name": "stdout",
     "output_type": "stream",
     "text": [
      "\n",
      "      On obtient un coefficient de correlation de 0.9985260985056079\n",
      "      j'ai utlise des liste comprehension pour faire faire les calculs plus rapidement \n",
      "      \n",
      "\n",
      "      Calculons maintenant la droite y/x \n",
      "      y - 3.79 = 0.0048x*1.38\n",
      "      ce qui nous donne y = 3.79 + 0.006624 x\n",
      "      \n"
     ]
    }
   ],
   "source": [
    "x =[np.log(i) for i in masse]\n",
    "y = [np.log(i) for i in cout]\n",
    "\n",
    "moyenne_y = (sum(y))/6\n",
    "moyenne_x = (sum(x))/6\n",
    "\n",
    "distance_y = [ i - moyenne_y for i in y]\n",
    "distance_x = [ i - moyenne_x for i in x]\n",
    "\n",
    "somme_des_produits = (distance_y[0]* distance_x[0]) + (distance_y[1]* distance_x[1])  \\\n",
    "                    + (distance_y[2]* distance_x[2]) + (distance_y[3]* distance_x[3])  \\\n",
    "                    + (distance_y[4]* distance_x[4]) + (distance_y[5]* distance_x[5]) \\\n",
    "\n",
    "somme_des_produits_carre= ((distance_y[0]**2) + (distance_y[1]**2) + \\\n",
    "                              (distance_y[2]**2) + (distance_y[3]**2) + \\\n",
    "                              (distance_y[4]**2) + (distance_y[5]**2))* \\\n",
    "                              ((distance_x[0]**2) + (distance_x[1]**2) +\\\n",
    "                              (distance_x[2]**2) + (distance_x[3]**2) + \\\n",
    "                              (distance_x[4]**2) + (distance_x[5]**2))\n",
    "\n",
    "sqrt_somme_des_produits_carres = (somme_des_produits_carre)**0.5\n",
    "    \n",
    "coefficient = (somme_des_produits)/(sqrt_somme_des_produits_carres)\n",
    "print(f\"\"\"\n",
    "      On obtient un coefficient de correlation de {coefficient}\n",
    "      j'ai utlise des liste comprehension pour faire faire les calculs plus rapidement \n",
    "      \"\"\")\n",
    "\n",
    "##########################################################################################\n",
    "\n",
    "y = [3.48, 3.65, 3.79, 3.88, 3.93, 3.97]\n",
    "x = [0.0, 0.69, 1.38, 1.79, 2.07, 2.30]\n",
    "\n",
    "cov= 1/6 * somme_des_produits\n",
    "\n",
    "var_x = 1/6 * (0.0**2 - moyenne_x**2)+ (0.69**2 - moyenne_x**2) + (1.38**2 - moyenne_x**2) + (1.79**2 - moyenne_x**2) + (2.07**2 - moyenne_x**2) + (2.30**2 - moyenne_x**2)\n",
    "\n",
    "\n",
    "print(f\"\"\"\n",
    "      Calculons maintenant la droite y/x \n",
    "      y - {\"%.2f\" % moyenne_y} = {\"%.4f\" % (cov/(var_x)**2)}x*{\"%.2f\" % moyenne_x}\n",
    "      ce qui nous donne y = 3.79 + 0.006624 x\n",
    "      \"\"\")\n",
    "\n",
    "# Pour ajuster un nuage de points à une courbe puissance, il suffit de faire le changement de variable Y = ln y , X = lnx , A = a , B = ln b ,\n",
    "# ln(y)=a*x + ln(b) \n",
    "\n",
    "# ln(y) = 0.006624x + ln(3.79)\n",
    "# y = 3.79 e^(0.006624 x)\n",
    "\n"
   ]
  },
  {
   "cell_type": "markdown",
   "metadata": {},
   "source": [
    "#### Ajustement NON linéaire 3: régression logarithmique\n",
    "• On suppose que le nuage suggère un ajustement logarithmique. Poser X = ln(x). Calculer le coefficient de corrélation de y et X. \n",
    "\n",
    "• Déterminer l’équation de la droite de régression de y en X par la méthode des moindres carrés. \n",
    "\n",
    "• En déduire l’expression de la régression logarithmique de y en x. \n",
    "\n",
    "• Quel serait avec cet ajustement logarithmique la valeur de la population en 2017 ?"
   ]
  },
  {
   "cell_type": "code",
   "execution_count": 386,
   "metadata": {},
   "outputs": [
    {
     "name": "stdout",
     "output_type": "stream",
     "text": [
      "\n",
      "      On obtient un coefficient de correlation de 0.9996907347038261\n",
      "      j'ai utlise des liste comprehension pour faire faire les calculs plus rapidement \n",
      "      \n",
      "\n",
      "      Calculons maintenant la droite y/x \n",
      "      y - 44.80 = 14.5714x*1.38\n",
      "      ce qui nous donne y =44.8 + 20.1085 x\n",
      "      \n"
     ]
    }
   ],
   "source": [
    "x =[np.log(i) for i in masse]\n",
    "y = count \n",
    "\n",
    "moyenne_y = (sum(y))/6\n",
    "moyenne_x = (sum(x))/6\n",
    "\n",
    "distance_y = [ i - moyenne_y for i in y]\n",
    "distance_x = [ i - moyenne_x for i in x]\n",
    "\n",
    "somme_des_produits = (distance_y[0]* distance_x[0]) + (distance_y[1]* distance_x[1])  \\\n",
    "                    + (distance_y[2]* distance_x[2]) + (distance_y[3]* distance_x[3])  \\\n",
    "                    + (distance_y[4]* distance_x[4]) + (distance_y[5]* distance_x[5]) \\\n",
    "\n",
    "somme_des_produits_carre= ((distance_y[0]**2) + (distance_y[1]**2) + \\\n",
    "                              (distance_y[2]**2) + (distance_y[3]**2) + \\\n",
    "                              (distance_y[4]**2) + (distance_y[5]**2))* \\\n",
    "                              ((distance_x[0]**2) + (distance_x[1]**2) +\\\n",
    "                              (distance_x[2]**2) + (distance_x[3]**2) + \\\n",
    "                              (distance_x[4]**2) + (distance_x[5]**2))\n",
    "\n",
    "sqrt_somme_des_produits_carres = (somme_des_produits_carre)**0.5\n",
    "    \n",
    "coefficient = (somme_des_produits)/(sqrt_somme_des_produits_carres)\n",
    "print(f\"\"\"\n",
    "      On obtient un coefficient de correlation de {coefficient}\n",
    "      j'ai utlise des liste comprehension pour faire faire les calculs plus rapidement \n",
    "      \"\"\")\n",
    "\n",
    "##########################################################################################\n",
    "\n",
    "y = [3.48, 3.65, 3.79, 3.88, 3.93, 3.97]\n",
    "x = [0.0, 0.69, 1.38, 1.79, 2.07, 2.30]\n",
    "\n",
    "cov= 1/6 * somme_des_produits\n",
    "\n",
    "var_x = 1/6 * (0.0**2 - moyenne_x **2) + 1/6 * (0.69**2 - moyenne_x**2) + 1/6 * (1.38**2 - moyenne_x**2) + 1/6 * (1.79**2 - moyenne_x**2) + 1/6 * (2.07**2 - moyenne_x**2) + 1/6 * (2.30**2 - moyenne_x**2)\n",
    "\n",
    "\n",
    "print(f\"\"\"\n",
    "      Calculons maintenant la droite y/x \n",
    "      y - {\"%.2f\" % moyenne_y} = {\"%.4f\" % (cov/(var_x)**2)}x*{\"%.2f\" % moyenne_x}\n",
    "      ce qui nous donne y =44.8 + 20.1085 x\n",
    "      \"\"\")\n",
    "\n",
    "# Pour ajuster un nuage de points à une courbe puissance, il suffit de faire le changement de variable Y = ln y , X = lnx , A = a , B = ln b ,\n",
    "# ln(y)=a*x + ln(b) \n",
    "\n",
    "# ln(y) = 20.1085 x + ln(4.8)\n",
    "# y = 4.8 exp(20.1085 x)"
   ]
  },
  {
   "cell_type": "markdown",
   "metadata": {},
   "source": [
    "### Conclusion \n",
    "\n",
    "Un Tp volumineux, pas très compliqué, beaucoup des petits calculs je sais que je me suis trompé quelque part mais je n'arrive pas à trouver à cause de la complexité des calculs... \n",
    "La plus grande difficulté est de gérer toutes les calculs. Il ne faut pas se tromper... \n",
    "\n",
    "Une question bizarre toujours aux exercices 3  : Quel serait avec cet ajustement logarithmique la valeur de la population en 2017 ? je ne vois pas une liaison avec l'exercice. \n",
    "\n",
    "Il fallait nous donner le projet plutôt car avec un rythme en alternance c'est compliqué au niveau du temps ! \n",
    "\n"
   ]
  },
  {
   "cell_type": "markdown",
   "metadata": {},
   "source": [
    "### Webographie: "
   ]
  },
  {
   "cell_type": "markdown",
   "metadata": {},
   "source": [
    "\n",
    "https://fr.khanacademy.org/math/be-4eme-secondaire2/x213a6fc6f6c9e122:statistiques-1/x213a6fc6f6c9e122:valeurs-centrales/a/mean-median-and-mode-review\n",
    "\n",
    "https://www.statisticshowto.com/tables/t-distribution-table/\n",
    "\n",
    "https://www.statisticshowto.com/probability-and-statistics/confidence-interval/\n",
    "\n",
    "https://www.maths-et-tiques.fr/telech/StatGM.pdf\n",
    "\n",
    "https://www150.statcan.gc.ca/n1/edu/power-pouvoir/ch10/5214862-fra.html\n",
    "\n",
    "https://www.analyticsvidhya.com/blog/2021/05/shape-of-data-skewness-and-kurtosis/\n",
    "\n",
    "https://www.educba.com/kurtosis-formula/\n",
    "\n",
    "https://www.eirinichavli.com/files/probastat2.pdf\n",
    "\n",
    "https://www.iutbayonne.univ-pau.fr/~grau/1A/cadre8.html"
   ]
  }
 ],
 "metadata": {
  "interpreter": {
   "hash": "aee8b7b246df8f9039afb4144a1f6fd8d2ca17a180786b69acc140d282b71a49"
  },
  "kernelspec": {
   "display_name": "Python 3 (ipykernel)",
   "language": "python",
   "name": "python3"
  },
  "language_info": {
   "codemirror_mode": {
    "name": "ipython",
    "version": 3
   },
   "file_extension": ".py",
   "mimetype": "text/x-python",
   "name": "python",
   "nbconvert_exporter": "python",
   "pygments_lexer": "ipython3",
   "version": "3.8.10"
  }
 },
 "nbformat": 4,
 "nbformat_minor": 2
}
